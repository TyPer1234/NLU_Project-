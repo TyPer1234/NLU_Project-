{
 "cells": [
  {
   "cell_type": "code",
   "execution_count": 1,
   "metadata": {},
   "outputs": [
    {
     "name": "stdout",
     "output_type": "stream",
     "text": [
      "PyTorch version: 2.2.2\n",
      "Is PyTorch available?: True\n"
     ]
    }
   ],
   "source": [
    "import torch\n",
    "print(\"PyTorch version:\", torch.__version__)\n",
    "print(\"Is PyTorch available?:\", torch.cuda.is_available() or torch.backends.mps.is_available())"
   ]
  },
  {
   "cell_type": "code",
   "execution_count": 2,
   "metadata": {},
   "outputs": [
    {
     "name": "stdout",
     "output_type": "stream",
     "text": [
      "MPS (Apple GPU) is available!\n"
     ]
    }
   ],
   "source": [
    "import torch\n",
    "\n",
    "if torch.backends.mps.is_available():\n",
    "    device = torch.device(\"mps\")  # Use Apple GPU\n",
    "    print(\"MPS (Apple GPU) is available!\")\n",
    "else:\n",
    "    device = torch.device(\"cpu\")  # Default to CPU\n",
    "    print(\"Using CPU\")"
   ]
  },
  {
   "cell_type": "markdown",
   "metadata": {},
   "source": [
    "# Model 1: unitary/unbiased-toxic-roberta\n",
    "You need transformers, and torch"
   ]
  },
  {
   "cell_type": "code",
   "execution_count": 3,
   "metadata": {},
   "outputs": [
    {
     "name": "stderr",
     "output_type": "stream",
     "text": [
      "/opt/anaconda3/envs/newspring/lib/python3.11/site-packages/tqdm/auto.py:21: TqdmWarning: IProgress not found. Please update jupyter and ipywidgets. See https://ipywidgets.readthedocs.io/en/stable/user_install.html\n",
      "  from .autonotebook import tqdm as notebook_tqdm\n",
      "Device set to use mps:0\n"
     ]
    }
   ],
   "source": [
    "import re\n",
    "import pandas as pd\n",
    "from transformers import pipeline\n",
    "\n",
    "# Load Jigsaw Toxic RoBERTa model\n",
    "model_name = \"unitary/unbiased-toxic-roberta\"\n",
    "toxicity_pipeline = pipeline(\"text-classification\", model=model_name)\n",
    "\n",
    "# Load the debate transcript from a .txt file\n",
    "with open(\"debate_2020.txt\", \"r\", encoding=\"utf-8\") as f:\n",
    "    debate_text = f.read()\n",
    "\n",
    "# Regex pattern to extract speaker names and their statements\n",
    "pattern = r\"([A-Z]+): (.+)\"\n",
    "\n",
    "# Find all matches\n",
    "matches = re.findall(pattern, debate_text)\n",
    "\n",
    "# Convert to DataFrame\n",
    "df = pd.DataFrame(matches, columns=[\"Speaker\", \"Statement\"])\n",
    "\n",
    "# Apply toxicity model to each statement\n",
    "df[\"Hostility_Score\"] = df[\"Statement\"].apply(lambda x: toxicity_pipeline(x)[0][\"score\"])"
   ]
  },
  {
   "cell_type": "code",
   "execution_count": null,
   "metadata": {},
   "outputs": [
    {
     "data": {
      "application/vnd.microsoft.datawrangler.viewer.v0+json": {
       "columns": [
        {
         "name": "index",
         "rawType": "int64",
         "type": "integer"
        },
        {
         "name": "Speaker",
         "rawType": "object",
         "type": "string"
        },
        {
         "name": "Statement",
         "rawType": "object",
         "type": "string"
        },
        {
         "name": "Hostility_Score",
         "rawType": "float64",
         "type": "float"
        }
       ],
       "conversionMethod": "pd.DataFrame",
       "ref": "1a914104-cdbe-450b-8e8f-10a9c9012a88",
       "rows": [
        [
         "0",
         "WELKER",
         "A very good evening to both of you. This debate will cover six major topics. At the beginning of each section, each candidate will have two minutes, uninterrupted, to answer my first question. The debate commission will then turn on their microphone only when it is their turn to answer, and the commission will turn it off exactly when the two minutes have expired. After that, both microphones will remain on, but on behalf of the voters, I'm going to ask you to please speak one at a time. The goal is for you to hear each other and for the American people to hear every word of what you both have to say. And so with that, if you're ready, let's start.",
         "0.00034348806366324425"
        ],
        [
         "1",
         "TRUMP",
         "So, as you know, more 2.2 million people, modeled out, were expected to die. We closed up the greatest economy in the world in order to fight this horrible disease that came from China. It's a worldwide pandemic. It's all over the world. You see the spikes in Europe and many other places right now. If you notice, the mortality rate is down, 85%. The excess mortality rate is way down, and much lower than almost any other country. And we're fighting it and we're fighting it hard. There is a spike. There was a spike in Florida, and it's now gone. There was a very big spike in Texas, it's now gone. There was a very big spike in Arizona, it's now gone. And there were some spikes and surges in other places. They will soon be gone. We have a vaccine that's coming, it's ready. It's going to be announced within weeks, and it's going to be delivered. We have Operation Warp Speed, which is the military, is going to distribute the vaccine. I can tell you from personal experience that I was in the hospital, I had it. And I got better and I will tell you that I had something that they gave me — a therapeutic, I guess they would call it. Some people could say it was a cure. But I was in for a short period of time and I got better very fast or I wouldn't be here tonight. And now they say I'm immune. Whether it's four months or a lifetime, nobody's been able to say that, but I'm immune. More and more people are getting better. We have a problem that's a worldwide problem. This is a worldwide problem, but I've been congratulated by the heads of many countries on what we've been able to do with the — if you take a look at what we've done in terms of goggles and masks and gowns and everything else, and in particular, ventilators. We're now making ventilators. All over the world, thousands and thousands a month, distributing them all over the world, it will go away and as I say, we're rounding the turn, we're rounding the corner, it's going away.",
         "0.00234121922403574"
        ],
        [
         "2",
         "WELKER",
         "OK, former Vice President Biden, to you, how would you lead the country out of this crisis? You have two minutes uninterrupted.",
         "0.00040447473293170333"
        ],
        [
         "3",
         "BIDEN",
         "220,000 Americans dead. If you hear nothing else I say tonight, hear this. Anyone who's responsible for not taking control — in fact, not saying, I take no responsibility, initially — anyone who is responsible for that many deaths should not remain as President of the United States of America. We're in a situation where there are thousands of deaths a day, a thousand deaths a day. And there are over 70,000 new cases per day. Compared to what's going on in Europe, as the New England Medical Journal said, they're starting from a very low rate. We're starting from a very high rate. The expectation is we'll have another 200,000 Americans dead by the time, between now and the end of the year. If we just wore these masks — the President's own advisors told them — we could save 100,000 lives. And we're in a circumstance where the President, thus far, still has no plan. No comprehensive plan. What I would do is make sure we have everyone encouraged to wear a mask, all the time. I would make sure we move in the direction of rapid testing, investing in rapid testing. I would make sure that we set up national standards as to how to open up schools and open up businesses so they can be safe, and give them the wherewithal and financial resources to be able to do that. We're in a situation now where the New England Medical Journal — one of the serious, most serious journals in the whole world — said for the first time ever that this, the way this President has responded to this crisis has been absolutely tragic. And so folks, I will take care of this, I will end this, I will make sure we have a plan.",
         "0.0010679765837267041"
        ],
        [
         "4",
         "WELKER",
         "President Trump, I'd like to follow up with you and your comments. You talked about taking a therapeutic. I assume you're referencing Regeneron. You also said a vaccine will be coming within weeks. Is that a guarantee?",
         "0.0004207895544823259"
        ],
        [
         "5",
         "TRUMP",
         "It is not a guarantee but it will be by the end of the year, but I think it has a good chance. One or two companies, I think, within a matter of weeks, and it will be distributed very quickly.",
         "0.0003358566027600318"
        ],
        [
         "6",
         "WELKER",
         "Can you tell us what companies?",
         "0.00044802293996326625"
        ],
        [
         "7",
         "TRUMP",
         "Johnson and Johnson is doing very well. Moderna is doing very well. Pfizer is doing very well, and we have numerous others. And then we also have others that we're working on very closely with other countries, in particular Europe.",
         "0.0003659120120573789"
        ],
        [
         "8",
         "WELKER",
         "Let me follow up with you, and because this is new information — You have said a vaccine is coming soon, within weeks now. Your own officials say it could take well into 2021 at the earliest for enough Americans to get vaccinated, and even then they say the country will be wearing masks and distancing into 2022. Is your timeline realistic?",
         "0.00035559519892558455"
        ],
        [
         "9",
         "TRUMP",
         "No, I think my timeline is going to be more accurate. I don't know that they're counting on the military the way I do, but we have our generals lined up, one in particular, that's the head of logistics. And this is a very easy distribution for him. He's ready to go as soon as we have the vaccine, and we expect to have 100 million vials as soon as we have the vaccine, he's ready to go.",
         "0.00040054923738352954"
        ]
       ],
       "shape": {
        "columns": 3,
        "rows": 10
       }
      },
      "text/html": [
       "<div>\n",
       "<style scoped>\n",
       "    .dataframe tbody tr th:only-of-type {\n",
       "        vertical-align: middle;\n",
       "    }\n",
       "\n",
       "    .dataframe tbody tr th {\n",
       "        vertical-align: top;\n",
       "    }\n",
       "\n",
       "    .dataframe thead th {\n",
       "        text-align: right;\n",
       "    }\n",
       "</style>\n",
       "<table border=\"1\" class=\"dataframe\">\n",
       "  <thead>\n",
       "    <tr style=\"text-align: right;\">\n",
       "      <th></th>\n",
       "      <th>Speaker</th>\n",
       "      <th>Statement</th>\n",
       "      <th>Hostility_Score</th>\n",
       "    </tr>\n",
       "  </thead>\n",
       "  <tbody>\n",
       "    <tr>\n",
       "      <th>0</th>\n",
       "      <td>WELKER</td>\n",
       "      <td>A very good evening to both of you. This debat...</td>\n",
       "      <td>0.000343</td>\n",
       "    </tr>\n",
       "    <tr>\n",
       "      <th>1</th>\n",
       "      <td>TRUMP</td>\n",
       "      <td>So, as you know, more 2.2 million people, mode...</td>\n",
       "      <td>0.002341</td>\n",
       "    </tr>\n",
       "    <tr>\n",
       "      <th>2</th>\n",
       "      <td>WELKER</td>\n",
       "      <td>OK, former Vice President Biden, to you, how w...</td>\n",
       "      <td>0.000404</td>\n",
       "    </tr>\n",
       "    <tr>\n",
       "      <th>3</th>\n",
       "      <td>BIDEN</td>\n",
       "      <td>220,000 Americans dead. If you hear nothing el...</td>\n",
       "      <td>0.001068</td>\n",
       "    </tr>\n",
       "    <tr>\n",
       "      <th>4</th>\n",
       "      <td>WELKER</td>\n",
       "      <td>President Trump, I'd like to follow up with yo...</td>\n",
       "      <td>0.000421</td>\n",
       "    </tr>\n",
       "    <tr>\n",
       "      <th>5</th>\n",
       "      <td>TRUMP</td>\n",
       "      <td>It is not a guarantee but it will be by the en...</td>\n",
       "      <td>0.000336</td>\n",
       "    </tr>\n",
       "    <tr>\n",
       "      <th>6</th>\n",
       "      <td>WELKER</td>\n",
       "      <td>Can you tell us what companies?</td>\n",
       "      <td>0.000448</td>\n",
       "    </tr>\n",
       "    <tr>\n",
       "      <th>7</th>\n",
       "      <td>TRUMP</td>\n",
       "      <td>Johnson and Johnson is doing very well. Modern...</td>\n",
       "      <td>0.000366</td>\n",
       "    </tr>\n",
       "    <tr>\n",
       "      <th>8</th>\n",
       "      <td>WELKER</td>\n",
       "      <td>Let me follow up with you, and because this is...</td>\n",
       "      <td>0.000356</td>\n",
       "    </tr>\n",
       "    <tr>\n",
       "      <th>9</th>\n",
       "      <td>TRUMP</td>\n",
       "      <td>No, I think my timeline is going to be more ac...</td>\n",
       "      <td>0.000401</td>\n",
       "    </tr>\n",
       "  </tbody>\n",
       "</table>\n",
       "</div>"
      ],
      "text/plain": [
       "  Speaker                                          Statement  Hostility_Score\n",
       "0  WELKER  A very good evening to both of you. This debat...         0.000343\n",
       "1   TRUMP  So, as you know, more 2.2 million people, mode...         0.002341\n",
       "2  WELKER  OK, former Vice President Biden, to you, how w...         0.000404\n",
       "3   BIDEN  220,000 Americans dead. If you hear nothing el...         0.001068\n",
       "4  WELKER  President Trump, I'd like to follow up with yo...         0.000421\n",
       "5   TRUMP  It is not a guarantee but it will be by the en...         0.000336\n",
       "6  WELKER                    Can you tell us what companies?         0.000448\n",
       "7   TRUMP  Johnson and Johnson is doing very well. Modern...         0.000366\n",
       "8  WELKER  Let me follow up with you, and because this is...         0.000356\n",
       "9   TRUMP  No, I think my timeline is going to be more ac...         0.000401"
      ]
     },
     "execution_count": 4,
     "metadata": {},
     "output_type": "execute_result"
    }
   ],
   "source": [
    "# Display first 10 rows of the DataFrame\n",
    "df.head(10)  # Text-based output\n"
   ]
  },
  {
   "cell_type": "code",
   "execution_count": 7,
   "metadata": {},
   "outputs": [
    {
     "name": "stdout",
     "output_type": "stream",
     "text": [
      "Speaker\n",
      "BIDEN     0.075330\n",
      "TRUMP     0.090486\n",
      "WELKER    0.053226\n",
      "Name: Hostility_Score, dtype: float64\n"
     ]
    }
   ],
   "source": [
    "# Group by Speaker and calculate the mean hostility score\n",
    "avg_hostility = df.groupby(\"Speaker\")[\"Hostility_Score\"].mean()\n",
    "\n",
    "# Display the results\n",
    "print(avg_hostility)"
   ]
  },
  {
   "cell_type": "markdown",
   "metadata": {},
   "source": [
    "## Sama analysis but different tokenization"
   ]
  },
  {
   "cell_type": "code",
   "execution_count": 10,
   "metadata": {},
   "outputs": [
    {
     "name": "stderr",
     "output_type": "stream",
     "text": [
      "Device set to use mps:0\n"
     ]
    }
   ],
   "source": [
    "import re\n",
    "import pandas as pd\n",
    "from transformers import pipeline\n",
    "\n",
    "# Load Jigsaw Toxic RoBERTa model\n",
    "model_name = \"unitary/unbiased-toxic-roberta\"\n",
    "# model_name = \"GroNLP/hateBERT\"\n",
    "toxicity_pipeline = pipeline(\"text-classification\", model=model_name)\n",
    "\n",
    "# Load the debate transcript from a .txt file\n",
    "with open(\"debate_2020.txt\", \"r\", encoding=\"utf-8\") as f:\n",
    "    debate_text = f.read()\n",
    "\n",
    "# Regex pattern to extract speakers and their statements\n",
    "pattern = r\"([A-Z]+): (.+)\"\n",
    "matches = re.findall(pattern, debate_text)\n",
    "\n",
    "# Function to split text into sentences using regex\n",
    "def split_into_sentences(text):\n",
    "    return re.split(r'(?<=[.!?])\\s+', text)  # Splits sentences based on punctuation\n",
    "\n",
    "# Convert to a list of (Speaker, Sentence) pairs\n",
    "sentences = []\n",
    "for speaker, statement in matches:\n",
    "    for sentence in split_into_sentences(statement):\n",
    "        sentences.append((speaker.lower(), sentence.lower().strip()))  # Convert to lowercase\n",
    "\n",
    "# Convert to DataFrame\n",
    "df = pd.DataFrame(sentences, columns=[\"Speaker\", \"Statement\"])\n",
    "\n",
    "# **Fix 1: Remove empty statements**\n",
    "df = df[df[\"Statement\"].str.strip() != \"\"]\n",
    "\n",
    "# **Fix 2: Use Batch Processing (Faster & More Stable)**\n",
    "batch_size = 8\n",
    "statements_list = df[\"Statement\"].tolist()\n",
    "hostility_scores = toxicity_pipeline(statements_list, batch_size=batch_size, truncation=True, max_length=512)\n",
    "\n",
    "# Assign scores to DataFrame\n",
    "df[\"Hostility_Score\"] = [result[\"score\"] for result in hostility_scores]"
   ]
  },
  {
   "cell_type": "code",
   "execution_count": 11,
   "metadata": {},
   "outputs": [
    {
     "data": {
      "application/vnd.microsoft.datawrangler.viewer.v0+json": {
       "columns": [
        {
         "name": "index",
         "rawType": "int64",
         "type": "integer"
        },
        {
         "name": "Speaker",
         "rawType": "object",
         "type": "string"
        },
        {
         "name": "Statement",
         "rawType": "object",
         "type": "string"
        },
        {
         "name": "Hostility_Score",
         "rawType": "float64",
         "type": "float"
        }
       ],
       "conversionMethod": "pd.DataFrame",
       "ref": "824a09a8-2aec-4946-8863-917c7b182905",
       "rows": [
        [
         "0",
         "welker",
         "a very good evening to both of you.",
         "0.0004912568838335574"
        ],
        [
         "1",
         "welker",
         "this debate will cover six major topics.",
         "0.0004160183307249099"
        ],
        [
         "2",
         "welker",
         "at the beginning of each section, each candidate will have two minutes, uninterrupted, to answer my first question.",
         "0.0003738034574780613"
        ],
        [
         "3",
         "welker",
         "the debate commission will then turn on their microphone only when it is their turn to answer, and the commission will turn it off exactly when the two minutes have expired.",
         "0.000369936489732936"
        ],
        [
         "4",
         "welker",
         "after that, both microphones will remain on, but on behalf of the voters, i'm going to ask you to please speak one at a time.",
         "0.0003654627944342792"
        ],
        [
         "5",
         "welker",
         "the goal is for you to hear each other and for the american people to hear every word of what you both have to say.",
         "0.00046498121810145676"
        ],
        [
         "6",
         "welker",
         "and so with that, if you're ready, let's start.",
         "0.0004995962372049689"
        ],
        [
         "7",
         "trump",
         "so, as you know, more 2.2 million people, modeled out, were expected to die.",
         "0.20724861323833466"
        ],
        [
         "8",
         "trump",
         "we closed up the greatest economy in the world in order to fight this horrible disease that came from china.",
         "0.0600300170481205"
        ],
        [
         "9",
         "trump",
         "it's a worldwide pandemic.",
         "0.10674946010112762"
        ]
       ],
       "shape": {
        "columns": 3,
        "rows": 10
       }
      },
      "text/html": [
       "<div>\n",
       "<style scoped>\n",
       "    .dataframe tbody tr th:only-of-type {\n",
       "        vertical-align: middle;\n",
       "    }\n",
       "\n",
       "    .dataframe tbody tr th {\n",
       "        vertical-align: top;\n",
       "    }\n",
       "\n",
       "    .dataframe thead th {\n",
       "        text-align: right;\n",
       "    }\n",
       "</style>\n",
       "<table border=\"1\" class=\"dataframe\">\n",
       "  <thead>\n",
       "    <tr style=\"text-align: right;\">\n",
       "      <th></th>\n",
       "      <th>Speaker</th>\n",
       "      <th>Statement</th>\n",
       "      <th>Hostility_Score</th>\n",
       "    </tr>\n",
       "  </thead>\n",
       "  <tbody>\n",
       "    <tr>\n",
       "      <th>0</th>\n",
       "      <td>welker</td>\n",
       "      <td>a very good evening to both of you.</td>\n",
       "      <td>0.000491</td>\n",
       "    </tr>\n",
       "    <tr>\n",
       "      <th>1</th>\n",
       "      <td>welker</td>\n",
       "      <td>this debate will cover six major topics.</td>\n",
       "      <td>0.000416</td>\n",
       "    </tr>\n",
       "    <tr>\n",
       "      <th>2</th>\n",
       "      <td>welker</td>\n",
       "      <td>at the beginning of each section, each candida...</td>\n",
       "      <td>0.000374</td>\n",
       "    </tr>\n",
       "    <tr>\n",
       "      <th>3</th>\n",
       "      <td>welker</td>\n",
       "      <td>the debate commission will then turn on their ...</td>\n",
       "      <td>0.000370</td>\n",
       "    </tr>\n",
       "    <tr>\n",
       "      <th>4</th>\n",
       "      <td>welker</td>\n",
       "      <td>after that, both microphones will remain on, b...</td>\n",
       "      <td>0.000365</td>\n",
       "    </tr>\n",
       "    <tr>\n",
       "      <th>5</th>\n",
       "      <td>welker</td>\n",
       "      <td>the goal is for you to hear each other and for...</td>\n",
       "      <td>0.000465</td>\n",
       "    </tr>\n",
       "    <tr>\n",
       "      <th>6</th>\n",
       "      <td>welker</td>\n",
       "      <td>and so with that, if you're ready, let's start.</td>\n",
       "      <td>0.000500</td>\n",
       "    </tr>\n",
       "    <tr>\n",
       "      <th>7</th>\n",
       "      <td>trump</td>\n",
       "      <td>so, as you know, more 2.2 million people, mode...</td>\n",
       "      <td>0.207249</td>\n",
       "    </tr>\n",
       "    <tr>\n",
       "      <th>8</th>\n",
       "      <td>trump</td>\n",
       "      <td>we closed up the greatest economy in the world...</td>\n",
       "      <td>0.060030</td>\n",
       "    </tr>\n",
       "    <tr>\n",
       "      <th>9</th>\n",
       "      <td>trump</td>\n",
       "      <td>it's a worldwide pandemic.</td>\n",
       "      <td>0.106749</td>\n",
       "    </tr>\n",
       "  </tbody>\n",
       "</table>\n",
       "</div>"
      ],
      "text/plain": [
       "  Speaker                                          Statement  Hostility_Score\n",
       "0  welker                a very good evening to both of you.         0.000491\n",
       "1  welker           this debate will cover six major topics.         0.000416\n",
       "2  welker  at the beginning of each section, each candida...         0.000374\n",
       "3  welker  the debate commission will then turn on their ...         0.000370\n",
       "4  welker  after that, both microphones will remain on, b...         0.000365\n",
       "5  welker  the goal is for you to hear each other and for...         0.000465\n",
       "6  welker    and so with that, if you're ready, let's start.         0.000500\n",
       "7   trump  so, as you know, more 2.2 million people, mode...         0.207249\n",
       "8   trump  we closed up the greatest economy in the world...         0.060030\n",
       "9   trump                         it's a worldwide pandemic.         0.106749"
      ]
     },
     "metadata": {},
     "output_type": "display_data"
    }
   ],
   "source": [
    "# Display results\n",
    "from IPython.display import display\n",
    "display(df.head(10))"
   ]
  },
  {
   "cell_type": "code",
   "execution_count": 9,
   "metadata": {},
   "outputs": [
    {
     "name": "stdout",
     "output_type": "stream",
     "text": [
      "Speaker\n",
      "biden     0.612428\n",
      "trump     0.613642\n",
      "welker    0.604616\n",
      "Name: Hostility_Score, dtype: float64\n"
     ]
    }
   ],
   "source": [
    "# Group by Speaker and calculate the mean hostility score\n",
    "avg_hostility = df.groupby(\"Speaker\")[\"Hostility_Score\"].mean()\n",
    "\n",
    "# Display the results\n",
    "print(avg_hostility)"
   ]
  },
  {
   "cell_type": "markdown",
   "metadata": {},
   "source": [
    "# Model 2: HateBERT\n",
    "Trained on data from banned Reddit communities"
   ]
  },
  {
   "cell_type": "code",
   "execution_count": 9,
   "metadata": {},
   "outputs": [
    {
     "name": "stderr",
     "output_type": "stream",
     "text": [
      "Some weights of BertForSequenceClassification were not initialized from the model checkpoint at GroNLP/hateBERT and are newly initialized: ['classifier.bias', 'classifier.weight']\n",
      "You should probably TRAIN this model on a down-stream task to be able to use it for predictions and inference.\n",
      "Device set to use mps:0\n"
     ]
    }
   ],
   "source": [
    "import re\n",
    "import pandas as pd\n",
    "from transformers import pipeline\n",
    "\n",
    "# Load HateBERT model\n",
    "model_name = \"GroNLP/hateBERT\"\n",
    "toxicity_pipeline = pipeline(\"text-classification\", model=model_name)\n",
    "\n",
    "# Load debate transcript\n",
    "with open(\"debate_2020.txt\", \"r\", encoding=\"utf-8\") as f:\n",
    "    debate_text = f.read()\n",
    "\n",
    "# Regex pattern to extract speakers and their statements\n",
    "pattern = r\"([A-Z]+): (.+)\"\n",
    "matches = re.findall(pattern, debate_text)\n",
    "\n",
    "# Convert to DataFrame\n",
    "df = pd.DataFrame(matches, columns=[\"Speaker\", \"Statement\"])\n",
    "\n",
    "# Apply HateBERT to detect hostility\n",
    "df[\"Hostility_Score\"] = df[\"Statement\"].apply(lambda x: toxicity_pipeline(x)[0][\"score\"])"
   ]
  },
  {
   "cell_type": "code",
   "execution_count": 10,
   "metadata": {},
   "outputs": [
    {
     "data": {
      "application/vnd.microsoft.datawrangler.viewer.v0+json": {
       "columns": [
        {
         "name": "index",
         "rawType": "int64",
         "type": "integer"
        },
        {
         "name": "Speaker",
         "rawType": "object",
         "type": "string"
        },
        {
         "name": "Statement",
         "rawType": "object",
         "type": "string"
        },
        {
         "name": "Hostility_Score",
         "rawType": "float64",
         "type": "float"
        }
       ],
       "conversionMethod": "pd.DataFrame",
       "ref": "925081b6-a082-4749-9785-900d9ce3e89c",
       "rows": [
        [
         "0",
         "WELKER",
         "A very good evening to both of you. This debate will cover six major topics. At the beginning of each section, each candidate will have two minutes, uninterrupted, to answer my first question. The debate commission will then turn on their microphone only when it is their turn to answer, and the commission will turn it off exactly when the two minutes have expired. After that, both microphones will remain on, but on behalf of the voters, I'm going to ask you to please speak one at a time. The goal is for you to hear each other and for the American people to hear every word of what you both have to say. And so with that, if you're ready, let's start.",
         "0.5892688035964966"
        ],
        [
         "1",
         "TRUMP",
         "So, as you know, more 2.2 million people, modeled out, were expected to die. We closed up the greatest economy in the world in order to fight this horrible disease that came from China. It's a worldwide pandemic. It's all over the world. You see the spikes in Europe and many other places right now. If you notice, the mortality rate is down, 85%. The excess mortality rate is way down, and much lower than almost any other country. And we're fighting it and we're fighting it hard. There is a spike. There was a spike in Florida, and it's now gone. There was a very big spike in Texas, it's now gone. There was a very big spike in Arizona, it's now gone. And there were some spikes and surges in other places. They will soon be gone. We have a vaccine that's coming, it's ready. It's going to be announced within weeks, and it's going to be delivered. We have Operation Warp Speed, which is the military, is going to distribute the vaccine. I can tell you from personal experience that I was in the hospital, I had it. And I got better and I will tell you that I had something that they gave me — a therapeutic, I guess they would call it. Some people could say it was a cure. But I was in for a short period of time and I got better very fast or I wouldn't be here tonight. And now they say I'm immune. Whether it's four months or a lifetime, nobody's been able to say that, but I'm immune. More and more people are getting better. We have a problem that's a worldwide problem. This is a worldwide problem, but I've been congratulated by the heads of many countries on what we've been able to do with the — if you take a look at what we've done in terms of goggles and masks and gowns and everything else, and in particular, ventilators. We're now making ventilators. All over the world, thousands and thousands a month, distributing them all over the world, it will go away and as I say, we're rounding the turn, we're rounding the corner, it's going away.",
         "0.6127009987831116"
        ],
        [
         "2",
         "WELKER",
         "OK, former Vice President Biden, to you, how would you lead the country out of this crisis? You have two minutes uninterrupted.",
         "0.5909891724586487"
        ],
        [
         "3",
         "BIDEN",
         "220,000 Americans dead. If you hear nothing else I say tonight, hear this. Anyone who's responsible for not taking control — in fact, not saying, I take no responsibility, initially — anyone who is responsible for that many deaths should not remain as President of the United States of America. We're in a situation where there are thousands of deaths a day, a thousand deaths a day. And there are over 70,000 new cases per day. Compared to what's going on in Europe, as the New England Medical Journal said, they're starting from a very low rate. We're starting from a very high rate. The expectation is we'll have another 200,000 Americans dead by the time, between now and the end of the year. If we just wore these masks — the President's own advisors told them — we could save 100,000 lives. And we're in a circumstance where the President, thus far, still has no plan. No comprehensive plan. What I would do is make sure we have everyone encouraged to wear a mask, all the time. I would make sure we move in the direction of rapid testing, investing in rapid testing. I would make sure that we set up national standards as to how to open up schools and open up businesses so they can be safe, and give them the wherewithal and financial resources to be able to do that. We're in a situation now where the New England Medical Journal — one of the serious, most serious journals in the whole world — said for the first time ever that this, the way this President has responded to this crisis has been absolutely tragic. And so folks, I will take care of this, I will end this, I will make sure we have a plan.",
         "0.6038012504577637"
        ],
        [
         "4",
         "WELKER",
         "President Trump, I'd like to follow up with you and your comments. You talked about taking a therapeutic. I assume you're referencing Regeneron. You also said a vaccine will be coming within weeks. Is that a guarantee?",
         "0.6047214269638062"
        ],
        [
         "5",
         "TRUMP",
         "It is not a guarantee but it will be by the end of the year, but I think it has a good chance. One or two companies, I think, within a matter of weeks, and it will be distributed very quickly.",
         "0.5556353330612183"
        ],
        [
         "6",
         "WELKER",
         "Can you tell us what companies?",
         "0.5800864100456238"
        ],
        [
         "7",
         "TRUMP",
         "Johnson and Johnson is doing very well. Moderna is doing very well. Pfizer is doing very well, and we have numerous others. And then we also have others that we're working on very closely with other countries, in particular Europe.",
         "0.5572364926338196"
        ],
        [
         "8",
         "WELKER",
         "Let me follow up with you, and because this is new information — You have said a vaccine is coming soon, within weeks now. Your own officials say it could take well into 2021 at the earliest for enough Americans to get vaccinated, and even then they say the country will be wearing masks and distancing into 2022. Is your timeline realistic?",
         "0.60281902551651"
        ],
        [
         "9",
         "TRUMP",
         "No, I think my timeline is going to be more accurate. I don't know that they're counting on the military the way I do, but we have our generals lined up, one in particular, that's the head of logistics. And this is a very easy distribution for him. He's ready to go as soon as we have the vaccine, and we expect to have 100 million vials as soon as we have the vaccine, he's ready to go.",
         "0.5849635601043701"
        ]
       ],
       "shape": {
        "columns": 3,
        "rows": 10
       }
      },
      "text/html": [
       "<div>\n",
       "<style scoped>\n",
       "    .dataframe tbody tr th:only-of-type {\n",
       "        vertical-align: middle;\n",
       "    }\n",
       "\n",
       "    .dataframe tbody tr th {\n",
       "        vertical-align: top;\n",
       "    }\n",
       "\n",
       "    .dataframe thead th {\n",
       "        text-align: right;\n",
       "    }\n",
       "</style>\n",
       "<table border=\"1\" class=\"dataframe\">\n",
       "  <thead>\n",
       "    <tr style=\"text-align: right;\">\n",
       "      <th></th>\n",
       "      <th>Speaker</th>\n",
       "      <th>Statement</th>\n",
       "      <th>Hostility_Score</th>\n",
       "    </tr>\n",
       "  </thead>\n",
       "  <tbody>\n",
       "    <tr>\n",
       "      <th>0</th>\n",
       "      <td>WELKER</td>\n",
       "      <td>A very good evening to both of you. This debat...</td>\n",
       "      <td>0.589269</td>\n",
       "    </tr>\n",
       "    <tr>\n",
       "      <th>1</th>\n",
       "      <td>TRUMP</td>\n",
       "      <td>So, as you know, more 2.2 million people, mode...</td>\n",
       "      <td>0.612701</td>\n",
       "    </tr>\n",
       "    <tr>\n",
       "      <th>2</th>\n",
       "      <td>WELKER</td>\n",
       "      <td>OK, former Vice President Biden, to you, how w...</td>\n",
       "      <td>0.590989</td>\n",
       "    </tr>\n",
       "    <tr>\n",
       "      <th>3</th>\n",
       "      <td>BIDEN</td>\n",
       "      <td>220,000 Americans dead. If you hear nothing el...</td>\n",
       "      <td>0.603801</td>\n",
       "    </tr>\n",
       "    <tr>\n",
       "      <th>4</th>\n",
       "      <td>WELKER</td>\n",
       "      <td>President Trump, I'd like to follow up with yo...</td>\n",
       "      <td>0.604721</td>\n",
       "    </tr>\n",
       "    <tr>\n",
       "      <th>5</th>\n",
       "      <td>TRUMP</td>\n",
       "      <td>It is not a guarantee but it will be by the en...</td>\n",
       "      <td>0.555635</td>\n",
       "    </tr>\n",
       "    <tr>\n",
       "      <th>6</th>\n",
       "      <td>WELKER</td>\n",
       "      <td>Can you tell us what companies?</td>\n",
       "      <td>0.580086</td>\n",
       "    </tr>\n",
       "    <tr>\n",
       "      <th>7</th>\n",
       "      <td>TRUMP</td>\n",
       "      <td>Johnson and Johnson is doing very well. Modern...</td>\n",
       "      <td>0.557236</td>\n",
       "    </tr>\n",
       "    <tr>\n",
       "      <th>8</th>\n",
       "      <td>WELKER</td>\n",
       "      <td>Let me follow up with you, and because this is...</td>\n",
       "      <td>0.602819</td>\n",
       "    </tr>\n",
       "    <tr>\n",
       "      <th>9</th>\n",
       "      <td>TRUMP</td>\n",
       "      <td>No, I think my timeline is going to be more ac...</td>\n",
       "      <td>0.584964</td>\n",
       "    </tr>\n",
       "  </tbody>\n",
       "</table>\n",
       "</div>"
      ],
      "text/plain": [
       "  Speaker                                          Statement  Hostility_Score\n",
       "0  WELKER  A very good evening to both of you. This debat...         0.589269\n",
       "1   TRUMP  So, as you know, more 2.2 million people, mode...         0.612701\n",
       "2  WELKER  OK, former Vice President Biden, to you, how w...         0.590989\n",
       "3   BIDEN  220,000 Americans dead. If you hear nothing el...         0.603801\n",
       "4  WELKER  President Trump, I'd like to follow up with yo...         0.604721\n",
       "5   TRUMP  It is not a guarantee but it will be by the en...         0.555635\n",
       "6  WELKER                    Can you tell us what companies?         0.580086\n",
       "7   TRUMP  Johnson and Johnson is doing very well. Modern...         0.557236\n",
       "8  WELKER  Let me follow up with you, and because this is...         0.602819\n",
       "9   TRUMP  No, I think my timeline is going to be more ac...         0.584964"
      ]
     },
     "metadata": {},
     "output_type": "display_data"
    }
   ],
   "source": [
    "# Display first few results\n",
    "from IPython.display import display\n",
    "display(df.head(10))"
   ]
  },
  {
   "cell_type": "markdown",
   "metadata": {},
   "source": [
    "calculating average hostility per speaker"
   ]
  },
  {
   "cell_type": "code",
   "execution_count": 11,
   "metadata": {},
   "outputs": [
    {
     "name": "stdout",
     "output_type": "stream",
     "text": [
      "Speaker\n",
      "BIDEN     0.590998\n",
      "TRUMP     0.591169\n",
      "WELKER    0.593719\n",
      "Name: Hostility_Score, dtype: float64\n"
     ]
    }
   ],
   "source": [
    "# Group by Speaker and calculate average hostility score\n",
    "avg_hostility = df.groupby(\"Speaker\")[\"Hostility_Score\"].mean()\n",
    "\n",
    "# Display results\n",
    "print(avg_hostility)"
   ]
  },
  {
   "cell_type": "code",
   "execution_count": 14,
   "metadata": {},
   "outputs": [
    {
     "data": {
      "image/png": "[encoded data removed]",
      "text/plain": [
       "<Figure size 800x500 with 1 Axes>"
      ]
     },
     "metadata": {},
     "output_type": "display_data"
    }
   ],
   "source": [
    "import matplotlib.pyplot as plt\n",
    "\n",
    "# Plot hostility levels per speaker\n",
    "plt.figure(figsize=(8, 5))\n",
    "avg_hostility.sort_values().plot(kind=\"bar\", color=[\"blue\", \"red\", \"gray\"])\n",
    "\n",
    "# Customize plot\n",
    "plt.xlabel(\"Speaker\")\n",
    "plt.ylabel(\"Average Hostility Score\")\n",
    "plt.title(\"Hostility Levels in the 2020 Presidential Debate (HateBERT)\")\n",
    "plt.xticks(rotation=45)\n",
    "plt.show()"
   ]
  },
  {
   "cell_type": "markdown",
   "metadata": {},
   "source": [
    "# 1960 Debate"
   ]
  },
  {
   "cell_type": "code",
   "execution_count": 18,
   "metadata": {},
   "outputs": [
    {
     "name": "stderr",
     "output_type": "stream",
     "text": [
      "Some weights of BertForSequenceClassification were not initialized from the model checkpoint at GroNLP/hateBERT and are newly initialized: ['classifier.bias', 'classifier.weight']\n",
      "You should probably TRAIN this model on a down-stream task to be able to use it for predictions and inference.\n",
      "Device set to use mps:0\n"
     ]
    }
   ],
   "source": [
    "# Load HateBERT model\n",
    "model_name = \"GroNLP/hateBERT\"\n",
    "toxicity_pipeline = pipeline(\"text-classification\", model=model_name)\n",
    "\n",
    "# Load debate transcript\n",
    "with open(\"debate_1960.txt\", \"r\", encoding=\"utf-8\") as f:\n",
    "    debate_text = f.read()\n",
    "\n",
    "# Regex pattern to extract speakers and their statements\n",
    "pattern = r\"([A-Z]+): (.+)\"\n",
    "matches = re.findall(pattern, debate_text)\n",
    "\n",
    "# Convert to DataFrame\n",
    "df = pd.DataFrame(matches, columns=[\"Speaker\", \"Statement\"])\n",
    "\n",
    "# Apply HateBERT to detect hostility\n",
    "df[\"Hostility_Score\"] = df[\"Statement\"].apply(\n",
    "    lambda x: toxicity_pipeline(x, truncation=True, max_length=512)[0][\"score\"]\n",
    ")"
   ]
  },
  {
   "cell_type": "code",
   "execution_count": 19,
   "metadata": {},
   "outputs": [
    {
     "data": {
      "application/vnd.microsoft.datawrangler.viewer.v0+json": {
       "columns": [
        {
         "name": "index",
         "rawType": "int64",
         "type": "integer"
        },
        {
         "name": "Speaker",
         "rawType": "object",
         "type": "string"
        },
        {
         "name": "Statement",
         "rawType": "object",
         "type": "string"
        },
        {
         "name": "Hostility_Score",
         "rawType": "float64",
         "type": "float"
        }
       ],
       "conversionMethod": "pd.DataFrame",
       "ref": "28fc7007-a84a-45e8-90ec-8a994daeb47d",
       "rows": [
        [
         "0",
         "NIVEN",
         "Mr. Vice President, Senator Kennedy said last night that the Administration must take responsibility for the loss of Cuba. Would you compare the validity of that statement with the validity of your own statements in previous campaigns that the Truman Administration was responsible for the loss of China to the Communists?",
         "0.5428892970085144"
        ],
        [
         "1",
         "NIXON",
         "Well first of all, I don't agree with Senator Kennedy that Cuba is lost and certainly China was lost when this Administration came into power in 1953. As I look at Cuba today, I believe that we are following the right course, a course which is difficult but a course which under the circumstance is the only proper one which will see that the Cuban people get a chance to realize their aspirations of progress through freedom and that they get that with our cooperation with the other organi- of the states in the Organization of American States. Now Senator Kennedy has made some very strong criticisms of my part - or alleged part - in what has happened in Cuba. He points to the fact that I visited Cuba while Mr. Batista was in power there. I can only point out that if we are going to judge the Administrations in terms of our attitude toward dictators, we're glad to have a comparison with the previous administration. There were eleven dictators in South America and in Central America when we came in, in 1953. Today there are only three left including the one in Cuba. We think that's pretty good progress. Senator Kennedy also indicated with regard to Cuba that he thought that I had made a mistake when I was in Cuba in not calling for free elections in that country. Now I'm very surprised that Senator Kennedy, who is on the Foreign Relations Committee, would have made such a statement as this kind. As a matter of fact in his book, The Strategy for Peace, he took the right position. And that position is that the United States has a treaty - a treaty with all of the Organization of American States - which prohibits us from interfering in the internal affairs of any other state and prohibits them as well. For me to have made such a statement would been in direct uh - opposition to that treaty. Now with regard to Cuba, let me make one thing clear. There isn't any question but that we will defend our rights there. There isn't any question but that we will defend Guantanamo if it's attacked. There also isn't any question but that the free people of Cuba - the people who want to be free - are going to be supported and that they will attain their freedom. No, Cuba is not lost, and I don't think this kind of defeatist talk by Senator Kennedy helps the situation one bit.",
         "0.5306140780448914"
        ],
        [
         "2",
         "GEE",
         "Senator Kennedy, would you care to comment?",
         "0.5293979048728943"
        ],
        [
         "3",
         "KENNEDY",
         "In the first place I've never suggested that Cuba was lost except for the present. In my speech last night I indicated that I thought that Cuba one day again would be free. Where I've been critical of the Administration's policy, and where I criticized Mr. Nixon, was because in his press conference in Havana in 1955, he praised the competence and stability of the bicta- bict- Batista dictatorship - that dictatorship had killed over twenty thousand Cubans in seven years. Secondly, I did not criticize him for not calling for free elections. What I criticized was the failure of the Administration to use its great influence to persuade the Cuban government to hold free elections, particularly in 1957 and 1958. Thirdly, Arthur Gardner, a Republican Ambassador, Earl Smith, a Republican Ambassador, in succession - both have indicated in the past six weeks that they reported to Washington that Castro was a Marxist, that Raul Castro was a Communist, and that they got no effective results. Instead our aid continued to Batista, which was ineffective; we never were on the side of freedom; we never used our influence when we could have used it most effectively - and today Cuba is lost for freedom. I hope some day it will rise; but I don't think it will rise if we continue the same policies toward Cuba that we did in recent years, and in fact towards all of Latin America - when we've almost ignored the needs of Latin America; we've beamed not a single Voice of America program in Spanish to all of Latin America in the last eight years, except for the three months of the Hungarian uh - revolution.",
         "0.5316450595855713"
        ],
        [
         "4",
         "GEE",
         "Mr. Morgan, with a question for Senator Kennedy.",
         "0.5337488055229187"
        ],
        [
         "5",
         "MORGAN",
         "Senator, last May, in Oregon, you discussed the possibilities of sending apologies or regrets to Khrushchev over the U-2 incident. Do you think now that that would have done any good? Did you think so then?",
         "0.5199771523475647"
        ],
        [
         "6",
         "KENNEDY",
         "Mr. Morgan, I suggested that if the United States felt that it could save the summit conference that it would have been proper for us to have expressed regrets. In my judgment that statement has been distorted uh - by Mr. Nixon and others in their debates around the country and in their discussions. Mr. Lodge, on \"Meet the Press\" a month ago, said if there was ever a case when we did not have law an our side it was in the U-2 incident. The U-2 flights were proper from the point of view of protecting our security. But they were not in accordance with international law. And I said that I felt that rather than tell the lie which we told, rather than indicate that the flights would continue - in fact, I believe Mr. Nixon himself said on May fifteenth that the flights would continue even though Mr. Herter testified before the Senate Foreign Relations Committee that they had been canceled as of May twelfth - that it would have been far better that if we had expressed regrets, if that would have saved the summit, and if the summit is useful - and I believe it is. The point that is always left out is the fact that we expressed regrets to Castro this winter; that we expressed regrets - the Eisenhower Administration expressed regrets - for a flight over Southern Russia in 1958. We expressed regrets for a flight over Eastern Germany under this Administration. The Soviet Union in 1955 expressed regrets to us over the Bering Sea incident. The Chinese Communists expressed regrets to us over a plane incident in 1956. That is the accepted procedure between nations; and my judgment is that we should follow the advice of Theodore Roosevelt: Be strong; maintain a strong position; but also speak softly. I believe that in those cases where international custom calls for the expression of a regret, if that would have kept the summit going, in my judgment it was a proper action. It's not appeasement. It's not soft. I believe we should be stronger than we now are. I believe we should have a stronger military force. I believe we should increase our strength all over the world. But I don't confuse words with strength; and in my judgment if the summit was useful, if it would have brought us closer to peace, that rather than the lie that we told - which has been criticized by all responsible people afterwards - it would have been far better for us to follow the common diplomatic procedure of expressing regrets and then try to move on.",
         "0.5225498080253601"
        ],
        [
         "7",
         "GEE",
         "Mr. Vice President.",
         "0.5358642339706421"
        ],
        [
         "8",
         "NIXON",
         "I think Kenne- Senator Kennedy is wrong on three counts. First of all, he's wrong in thinking th- er- even suggesting that Mr. Khrushchev might have continued the conference if we had expressed regrets. He knew these flights were going on long before and that wasn't the reason that he broke up the conference. Second, he's wrong in the analogies that he makes. The United States is a strong country. Whenever we do anything that's wrong, we can express regrets. But when the president of the United States is doing something that's right, something that is for the purpose of defending the security of this country against surprise attack, he can never express regrets or apologize to anybody, including Mr. Khrushchev. Now in that connection Senator Kennedy has criticized the President on the ground not only of not expressing regrets, but because he allowed this flight to take place while the summit conference - or immediately before the summit conference occurred. This seems to me is criticism that again is wrong on his part. We all remember Pearl Harbor. We lost three thousand American lives. We cannot afford an intelligence gap. And I just want to make my position absolutely clear with regard to getting intelligence information. I don't intend to see to it that the United States is ever in a position where, while we're negotiating with the Soviet Union, that we discontinue our intelligence effort. And I don't intend ever to express regrets to Mr. Khrushchev or anybody else if I'm doing something that has the support of the Congress and that is right for the purpose of protecting the security of the United States.",
         "0.5041093826293945"
        ],
        [
         "9",
         "GEE",
         "Mr. Spivak with a question for Vice President Nixon.",
         "0.5302397608757019"
        ]
       ],
       "shape": {
        "columns": 3,
        "rows": 10
       }
      },
      "text/html": [
       "<div>\n",
       "<style scoped>\n",
       "    .dataframe tbody tr th:only-of-type {\n",
       "        vertical-align: middle;\n",
       "    }\n",
       "\n",
       "    .dataframe tbody tr th {\n",
       "        vertical-align: top;\n",
       "    }\n",
       "\n",
       "    .dataframe thead th {\n",
       "        text-align: right;\n",
       "    }\n",
       "</style>\n",
       "<table border=\"1\" class=\"dataframe\">\n",
       "  <thead>\n",
       "    <tr style=\"text-align: right;\">\n",
       "      <th></th>\n",
       "      <th>Speaker</th>\n",
       "      <th>Statement</th>\n",
       "      <th>Hostility_Score</th>\n",
       "    </tr>\n",
       "  </thead>\n",
       "  <tbody>\n",
       "    <tr>\n",
       "      <th>0</th>\n",
       "      <td>NIVEN</td>\n",
       "      <td>Mr. Vice President, Senator Kennedy said last ...</td>\n",
       "      <td>0.542889</td>\n",
       "    </tr>\n",
       "    <tr>\n",
       "      <th>1</th>\n",
       "      <td>NIXON</td>\n",
       "      <td>Well first of all, I don't agree with Senator ...</td>\n",
       "      <td>0.530614</td>\n",
       "    </tr>\n",
       "    <tr>\n",
       "      <th>2</th>\n",
       "      <td>GEE</td>\n",
       "      <td>Senator Kennedy, would you care to comment?</td>\n",
       "      <td>0.529398</td>\n",
       "    </tr>\n",
       "    <tr>\n",
       "      <th>3</th>\n",
       "      <td>KENNEDY</td>\n",
       "      <td>In the first place I've never suggested that C...</td>\n",
       "      <td>0.531645</td>\n",
       "    </tr>\n",
       "    <tr>\n",
       "      <th>4</th>\n",
       "      <td>GEE</td>\n",
       "      <td>Mr. Morgan, with a question for Senator Kennedy.</td>\n",
       "      <td>0.533749</td>\n",
       "    </tr>\n",
       "    <tr>\n",
       "      <th>5</th>\n",
       "      <td>MORGAN</td>\n",
       "      <td>Senator, last May, in Oregon, you discussed th...</td>\n",
       "      <td>0.519977</td>\n",
       "    </tr>\n",
       "    <tr>\n",
       "      <th>6</th>\n",
       "      <td>KENNEDY</td>\n",
       "      <td>Mr. Morgan, I suggested that if the United Sta...</td>\n",
       "      <td>0.522550</td>\n",
       "    </tr>\n",
       "    <tr>\n",
       "      <th>7</th>\n",
       "      <td>GEE</td>\n",
       "      <td>Mr. Vice President.</td>\n",
       "      <td>0.535864</td>\n",
       "    </tr>\n",
       "    <tr>\n",
       "      <th>8</th>\n",
       "      <td>NIXON</td>\n",
       "      <td>I think Kenne- Senator Kennedy is wrong on thr...</td>\n",
       "      <td>0.504109</td>\n",
       "    </tr>\n",
       "    <tr>\n",
       "      <th>9</th>\n",
       "      <td>GEE</td>\n",
       "      <td>Mr. Spivak with a question for Vice President ...</td>\n",
       "      <td>0.530240</td>\n",
       "    </tr>\n",
       "  </tbody>\n",
       "</table>\n",
       "</div>"
      ],
      "text/plain": [
       "   Speaker                                          Statement  Hostility_Score\n",
       "0    NIVEN  Mr. Vice President, Senator Kennedy said last ...         0.542889\n",
       "1    NIXON  Well first of all, I don't agree with Senator ...         0.530614\n",
       "2      GEE        Senator Kennedy, would you care to comment?         0.529398\n",
       "3  KENNEDY  In the first place I've never suggested that C...         0.531645\n",
       "4      GEE   Mr. Morgan, with a question for Senator Kennedy.         0.533749\n",
       "5   MORGAN  Senator, last May, in Oregon, you discussed th...         0.519977\n",
       "6  KENNEDY  Mr. Morgan, I suggested that if the United Sta...         0.522550\n",
       "7      GEE                                Mr. Vice President.         0.535864\n",
       "8    NIXON  I think Kenne- Senator Kennedy is wrong on thr...         0.504109\n",
       "9      GEE  Mr. Spivak with a question for Vice President ...         0.530240"
      ]
     },
     "metadata": {},
     "output_type": "display_data"
    }
   ],
   "source": [
    "# Display first few results\n",
    "from IPython.display import display\n",
    "display(df.head(10))"
   ]
  },
  {
   "cell_type": "code",
   "execution_count": 20,
   "metadata": {},
   "outputs": [
    {
     "name": "stdout",
     "output_type": "stream",
     "text": [
      "Speaker\n",
      "GEE        0.537711\n",
      "KENNEDY    0.521706\n",
      "LEVY       0.506102\n",
      "MORGAN     0.517299\n",
      "NIVEN      0.522135\n",
      "NIXON      0.519576\n",
      "SPIVAK     0.520748\n",
      "Name: Hostility_Score, dtype: float64\n"
     ]
    }
   ],
   "source": [
    "# Group by Speaker and calculate average hostility score\n",
    "avg_hostility = df.groupby(\"Speaker\")[\"Hostility_Score\"].mean()\n",
    "\n",
    "# Display results\n",
    "print(avg_hostility)"
   ]
  },
  {
   "cell_type": "markdown",
   "metadata": {},
   "source": [
    "# 2000 Debate"
   ]
  },
  {
   "cell_type": "code",
   "execution_count": 21,
   "metadata": {},
   "outputs": [
    {
     "name": "stderr",
     "output_type": "stream",
     "text": [
      "Some weights of BertForSequenceClassification were not initialized from the model checkpoint at GroNLP/hateBERT and are newly initialized: ['classifier.bias', 'classifier.weight']\n",
      "You should probably TRAIN this model on a down-stream task to be able to use it for predictions and inference.\n",
      "Device set to use mps:0\n"
     ]
    }
   ],
   "source": [
    "# Load HateBERT model\n",
    "model_name = \"GroNLP/hateBERT\"\n",
    "toxicity_pipeline = pipeline(\"text-classification\", model=model_name)\n",
    "\n",
    "# Load debate transcript\n",
    "with open(\"debate_2000.txt\", \"r\", encoding=\"utf-8\") as f:\n",
    "    debate_text = f.read()\n",
    "\n",
    "# Regex pattern to extract speakers and their statements\n",
    "pattern = r\"([A-Z]+): (.+)\"\n",
    "matches = re.findall(pattern, debate_text)\n",
    "\n",
    "# Convert to DataFrame\n",
    "df = pd.DataFrame(matches, columns=[\"Speaker\", \"Statement\"])\n",
    "\n",
    "# Apply HateBERT to detect hostility\n",
    "df[\"Hostility_Score\"] = df[\"Statement\"].apply(\n",
    "    lambda x: toxicity_pipeline(x, truncation=True, max_length=512)[0][\"score\"]\n",
    ")"
   ]
  },
  {
   "cell_type": "code",
   "execution_count": 22,
   "metadata": {},
   "outputs": [
    {
     "data": {
      "application/vnd.microsoft.datawrangler.viewer.v0+json": {
       "columns": [
        {
         "name": "index",
         "rawType": "int64",
         "type": "integer"
        },
        {
         "name": "Speaker",
         "rawType": "object",
         "type": "string"
        },
        {
         "name": "Statement",
         "rawType": "object",
         "type": "string"
        },
        {
         "name": "Hostility_Score",
         "rawType": "float64",
         "type": "float"
        }
       ],
       "conversionMethod": "pd.DataFrame",
       "ref": "642ca233-5775-4fff-9bf8-1cc6d64fe3c9",
       "rows": [
        [
         "0",
         "MODERATOR",
         "Good evening from the Field House at Washington University in St. Louis. I'm Jim Lehrer of the News Hour on PBS. And I welcome you to this third and final Campaign 2000 debate between the Democratic candidate for president, Vice President Al Gore, and the Republican candidate, Governor George W. Bush of Texas. Let's welcome the candidates now. Before proceeding tonight we would like to observe a moment of silence in memory of Governor Mel Carnahan of Missouri, who along with his son and his former chief of staff, died in a private plane crash last night near St. Louis. A reminder, as we continue now, that these debates are sponsored by the Commission on Presidential Debates. The formats and the rules were worked out by the commission and the two campaigns. Tonight's questions will be asked by St. Louis area voters who were identified as being uncommitted by the Gallup organization. Earlier today each of them wrote a question on a small card like this. Those cards were collected and then given to me this afternoon. My job, under the rules of the evening, was to decide the order the questions will be asked and to call on the questioners accordingly. I also have the option of asking follow-ups which -- in order to get to more of the panel's questions. For the record, I plan to do sparingly and mostly for clarifications. The audience participants are bound by the following rule. They shall not ask follow-up questions or otherwise participate in the extended discussion. And the questioner's microphone will be turned off after he or she completes asking the question. Those are the rules. As in Winston-Salem last week, no single answer or response from a candidate can exceed two minutes. There is an audience here in the hall and they have promised to remain absolutely quiet, as did their predecessors this year in Boston, Danville, and Winston-Salem. Before we begin, a correction from last week's debate. I was wrong when I said Vice President Gore's campaign commercials had called Governor Bush a bumbler. That specific charge was made in a press statement by Gore campaign spokesman Mark Fabiani, not in a TV Guide.",
         "0.5082863569259644"
        ],
        [
         "1",
         "GORE",
         "I'm glad you clarified that.",
         "0.5043531656265259"
        ],
        [
         "2",
         "MODERATOR",
         "Now, let's go to the first question. Of over the 130 questions we received from this panel, we will begin with one of the 19 on health issues, and it goes to you, Mr. Vice President, and it will be asked by James Hankin. Mr. Hankin?",
         "0.5018752813339233"
        ],
        [
         "3",
         "AUDIENCE",
         "How do you feel about HMOs and insurance companies making the critical decisions that affect people's lives instead of the medical professionals, and why are the HMOs and insurance companies not held accountable for their decisions?",
         "0.5117233395576477"
        ],
        [
         "4",
         "GORE",
         "Mr. Hankins, I don't feel good about it, and I think we ought to have a patient's bill of rights to take the medical decisions away from the HMOs and give them back to the doctors and nurses. I want to come back and tell you why, but if you will forgive me, I would like to say something right now at the beginning of this debate following on the moment of silence for Mel Carnahan and Randy Carnahan and Chris Sifford. Tipper and I were good friends with Mel and Randy, and I know that all of us here want to extend our sympathy and condolences to Jean and the family and to the Sifford family. And I would just like to say that this debate in a way is a living tribute to Mel Carnahan because he loved the vigorous discussion of ideas in our democracy. He was a fantastic governor of Missouri. This state became one of the top five in the nation for health care coverage for children under his leadership. One of the best in advancing all kinds of benefits for children to grow up healthy and strong. And of course, this debate also takes place at a time when the tragedy of the USS Cole is on our minds and hearts and insofar as the memorial services tomorrow, I would like to also extend sympathy to the families of those who have died and those who are still missing, and the injured. Now, Mr. Hankins, I think that the situation that you describe has gotten completely out of hand. Doctors are giving prescriptions, they're recommending treatments, and then their recommendations are being overruled by HMOs and insurance companies. That is unacceptable. I support a strong national patient's bill of rights. It is actually a disagreement between us, a national law that is pending on this, the Dingle-Norwood bill, a bipartisan bill, is one that I support and that the governor does not.",
         "0.5130212306976318"
        ],
        [
         "5",
         "MODERATOR",
         "Two minutes response, Governor Bush.",
         "0.5006778240203857"
        ],
        [
         "6",
         "BUSH",
         "I, too, want to extend my prayers and blessings, God's blessings on the families whose lives were overturned yes -- tod -- last night. It's a tragic moment. Actually, Mr. Vice President, it's not true. I do support a national patient's bill of rights. As a matter of fact, I brought Republicans and Democrats together to do just that in the State of Texas to get a patient's bill of rights through. It requires a different kind of leadership style to do it, though. You see, in order to get something done on behalf of the people, you have to put partisanship aside, and that's what we did in my state. We have one of the most advanced patient's bill of rights. It says, for example, that a woman doesn't have to go through a gate keeper to go to her gynecologist. It says that you can't gag a doctor, doctor can advise you. The HMO, the insurance company, can't gag that doctor from giving you full advice. And this particular bill, it allows patients to choose a doctor, their own doctor if they want to. But we did something else that was interesting. We're one of the first states that said you can sue an HMO for denying you proper coverage. Now there's what's called an Independent Review Organization that you have to go through first. It says you have a complaint with your insurance company, you can take your complaint to an objective body. If the objective body rules on your behalf, the insurance company must follow those rules. However, if the insurance company doesn't follow the findings of the IRO, then that becomes a cause of action in a court of law. It's time for our nation to come together and do what's right for the people, and I think this is right for the people. You know, I support a national patient's bill of rights, Mr. Vice President, and I want all people covered. I don't want the law to supersede good law like we've got in Texas. I think --",
         "0.5182650089263916"
        ],
        [
         "7",
         "MODERATOR",
         "Governor, time is up, sir.",
         "0.5443657636642456"
        ],
        [
         "8",
         "GORE",
         "Jim, we have a direct disagreement on this.",
         "0.5095845460891724"
        ],
        [
         "9",
         "MODERATOR",
         "Just a minute, Mr. Vice President. I want to -- the way the rules go here now, two minutes, two minutes, and then I'll decide whether we go on. Okay. So what I want to make sure is we understand here is before we go on to another question in the health area, would you agree that you two agree on a national patient's bill of rights?",
         "0.5103095769882202"
        ]
       ],
       "shape": {
        "columns": 3,
        "rows": 10
       }
      },
      "text/html": [
       "<div>\n",
       "<style scoped>\n",
       "    .dataframe tbody tr th:only-of-type {\n",
       "        vertical-align: middle;\n",
       "    }\n",
       "\n",
       "    .dataframe tbody tr th {\n",
       "        vertical-align: top;\n",
       "    }\n",
       "\n",
       "    .dataframe thead th {\n",
       "        text-align: right;\n",
       "    }\n",
       "</style>\n",
       "<table border=\"1\" class=\"dataframe\">\n",
       "  <thead>\n",
       "    <tr style=\"text-align: right;\">\n",
       "      <th></th>\n",
       "      <th>Speaker</th>\n",
       "      <th>Statement</th>\n",
       "      <th>Hostility_Score</th>\n",
       "    </tr>\n",
       "  </thead>\n",
       "  <tbody>\n",
       "    <tr>\n",
       "      <th>0</th>\n",
       "      <td>MODERATOR</td>\n",
       "      <td>Good evening from the Field House at Washingto...</td>\n",
       "      <td>0.508286</td>\n",
       "    </tr>\n",
       "    <tr>\n",
       "      <th>1</th>\n",
       "      <td>GORE</td>\n",
       "      <td>I'm glad you clarified that.</td>\n",
       "      <td>0.504353</td>\n",
       "    </tr>\n",
       "    <tr>\n",
       "      <th>2</th>\n",
       "      <td>MODERATOR</td>\n",
       "      <td>Now, let's go to the first question. Of over t...</td>\n",
       "      <td>0.501875</td>\n",
       "    </tr>\n",
       "    <tr>\n",
       "      <th>3</th>\n",
       "      <td>AUDIENCE</td>\n",
       "      <td>How do you feel about HMOs and insurance compa...</td>\n",
       "      <td>0.511723</td>\n",
       "    </tr>\n",
       "    <tr>\n",
       "      <th>4</th>\n",
       "      <td>GORE</td>\n",
       "      <td>Mr. Hankins, I don't feel good about it, and I...</td>\n",
       "      <td>0.513021</td>\n",
       "    </tr>\n",
       "    <tr>\n",
       "      <th>5</th>\n",
       "      <td>MODERATOR</td>\n",
       "      <td>Two minutes response, Governor Bush.</td>\n",
       "      <td>0.500678</td>\n",
       "    </tr>\n",
       "    <tr>\n",
       "      <th>6</th>\n",
       "      <td>BUSH</td>\n",
       "      <td>I, too, want to extend my prayers and blessing...</td>\n",
       "      <td>0.518265</td>\n",
       "    </tr>\n",
       "    <tr>\n",
       "      <th>7</th>\n",
       "      <td>MODERATOR</td>\n",
       "      <td>Governor, time is up, sir.</td>\n",
       "      <td>0.544366</td>\n",
       "    </tr>\n",
       "    <tr>\n",
       "      <th>8</th>\n",
       "      <td>GORE</td>\n",
       "      <td>Jim, we have a direct disagreement on this.</td>\n",
       "      <td>0.509585</td>\n",
       "    </tr>\n",
       "    <tr>\n",
       "      <th>9</th>\n",
       "      <td>MODERATOR</td>\n",
       "      <td>Just a minute, Mr. Vice President. I want to -...</td>\n",
       "      <td>0.510310</td>\n",
       "    </tr>\n",
       "  </tbody>\n",
       "</table>\n",
       "</div>"
      ],
      "text/plain": [
       "     Speaker                                          Statement  \\\n",
       "0  MODERATOR  Good evening from the Field House at Washingto...   \n",
       "1       GORE                       I'm glad you clarified that.   \n",
       "2  MODERATOR  Now, let's go to the first question. Of over t...   \n",
       "3   AUDIENCE  How do you feel about HMOs and insurance compa...   \n",
       "4       GORE  Mr. Hankins, I don't feel good about it, and I...   \n",
       "5  MODERATOR               Two minutes response, Governor Bush.   \n",
       "6       BUSH  I, too, want to extend my prayers and blessing...   \n",
       "7  MODERATOR                         Governor, time is up, sir.   \n",
       "8       GORE        Jim, we have a direct disagreement on this.   \n",
       "9  MODERATOR  Just a minute, Mr. Vice President. I want to -...   \n",
       "\n",
       "   Hostility_Score  \n",
       "0         0.508286  \n",
       "1         0.504353  \n",
       "2         0.501875  \n",
       "3         0.511723  \n",
       "4         0.513021  \n",
       "5         0.500678  \n",
       "6         0.518265  \n",
       "7         0.544366  \n",
       "8         0.509585  \n",
       "9         0.510310  "
      ]
     },
     "metadata": {},
     "output_type": "display_data"
    }
   ],
   "source": [
    "# Display first few results\n",
    "from IPython.display import display\n",
    "display(df.head(10))"
   ]
  },
  {
   "cell_type": "code",
   "execution_count": 23,
   "metadata": {},
   "outputs": [
    {
     "name": "stdout",
     "output_type": "stream",
     "text": [
      "Speaker\n",
      "AUDIENCE     0.532857\n",
      "BUSH         0.522929\n",
      "GORE         0.524430\n",
      "MODERATOR    0.518136\n",
      "Name: Hostility_Score, dtype: float64\n"
     ]
    }
   ],
   "source": [
    "# Group by Speaker and calculate average hostility score\n",
    "avg_hostility = df.groupby(\"Speaker\")[\"Hostility_Score\"].mean()\n",
    "\n",
    "# Display results\n",
    "print(avg_hostility)"
   ]
  },
  {
   "cell_type": "markdown",
   "metadata": {},
   "source": [
    "# 2024 Debate (Trump and Biden)"
   ]
  },
  {
   "cell_type": "code",
   "execution_count": 26,
   "metadata": {},
   "outputs": [
    {
     "name": "stderr",
     "output_type": "stream",
     "text": [
      "Some weights of BertForSequenceClassification were not initialized from the model checkpoint at GroNLP/hateBERT and are newly initialized: ['classifier.bias', 'classifier.weight']\n",
      "You should probably TRAIN this model on a down-stream task to be able to use it for predictions and inference.\n",
      "Device set to use mps:0\n"
     ]
    }
   ],
   "source": [
    "# Load HateBERT model\n",
    "model_name = \"GroNLP/hateBERT\"\n",
    "toxicity_pipeline = pipeline(\"text-classification\", model=model_name)\n",
    "\n",
    "# Load debate transcript\n",
    "with open(\"Debate 2024 (Biden-Trump).txt\", \"r\", encoding=\"utf-8\") as f:\n",
    "    debate_text = f.read()\n",
    "\n",
    "# Regex pattern to extract speakers and their statements\n",
    "pattern = r\"([A-Z]+): (.+)\"\n",
    "matches = re.findall(pattern, debate_text)\n",
    "\n",
    "# Convert to DataFrame\n",
    "df = pd.DataFrame(matches, columns=[\"Speaker\", \"Statement\"])\n",
    "\n",
    "# Apply HateBERT to detect hostility\n",
    "df[\"Hostility_Score\"] = df[\"Statement\"].apply(\n",
    "    lambda x: toxicity_pipeline(x, truncation=True, max_length=512)[0][\"score\"]\n",
    ")"
   ]
  },
  {
   "cell_type": "code",
   "execution_count": 27,
   "metadata": {},
   "outputs": [
    {
     "data": {
      "application/vnd.microsoft.datawrangler.viewer.v0+json": {
       "columns": [
        {
         "name": "index",
         "rawType": "int64",
         "type": "integer"
        },
        {
         "name": "Speaker",
         "rawType": "object",
         "type": "string"
        },
        {
         "name": "Statement",
         "rawType": "object",
         "type": "string"
        },
        {
         "name": "Hostility_Score",
         "rawType": "float64",
         "type": "float"
        }
       ],
       "conversionMethod": "pd.DataFrame",
       "ref": "1829de79-1c3f-4b67-ae72-59b04daed112",
       "rows": [
        [
         "0",
         "TAPPER",
         "We're live from Georgia, a key battleground state in the race for the White House. In just moments, the current U.S. president will debate the former U.S. president as their parties' presumptive nominees, a first in American history.",
         "0.5145409107208252"
        ],
        [
         "1",
         "BASH",
         "This debate is being produced by CNN and it's coming to you live on CNN, CNN International, CNN.com, CNN Max, and CNN Espanol.",
         "0.5544055104255676"
        ],
        [
         "2",
         "TAPPER",
         "I'm Jake Tapper, anchor of CNN's \"THE LEAD\" and co-anchor of \"STATE OF THE UNION\".",
         "0.5556995272636414"
        ],
        [
         "3",
         "BASH",
         "When it's time for our candidate to speak, his microphone will be turned on and his opponent's microphone will be turned off. Should a candidate interrupt when his microphone is muted, he will be difficult to understand for viewers at home.",
         "0.5050966143608093"
        ],
        [
         "4",
         "TAPPER",
         "Now, please welcome the 46th of the United States, Joe Biden.",
         "0.5348431468009949"
        ],
        [
         "5",
         "BIDEN",
         "Folks, how are you? Good to be here. Thank you.",
         "0.5108185410499573"
        ],
        [
         "6",
         "TAPPER",
         "And please welcome the 45th president of the United States, Donald Trump.",
         "0.5389200448989868"
        ],
        [
         "7",
         "BIDEN",
         "We've got to take a look at what I was left when I became president, what Mr. Trump left me.",
         "0.5420550107955933"
        ],
        [
         "8",
         "TAPPER",
         "Thank you.",
         "0.50423264503479"
        ],
        [
         "9",
         "TRUMP",
         "We had the greatest economy in the history of our country. We have never done so well. Every – everybody was amazed by it. Other countries were copying us.",
         "0.549412727355957"
        ]
       ],
       "shape": {
        "columns": 3,
        "rows": 10
       }
      },
      "text/html": [
       "<div>\n",
       "<style scoped>\n",
       "    .dataframe tbody tr th:only-of-type {\n",
       "        vertical-align: middle;\n",
       "    }\n",
       "\n",
       "    .dataframe tbody tr th {\n",
       "        vertical-align: top;\n",
       "    }\n",
       "\n",
       "    .dataframe thead th {\n",
       "        text-align: right;\n",
       "    }\n",
       "</style>\n",
       "<table border=\"1\" class=\"dataframe\">\n",
       "  <thead>\n",
       "    <tr style=\"text-align: right;\">\n",
       "      <th></th>\n",
       "      <th>Speaker</th>\n",
       "      <th>Statement</th>\n",
       "      <th>Hostility_Score</th>\n",
       "    </tr>\n",
       "  </thead>\n",
       "  <tbody>\n",
       "    <tr>\n",
       "      <th>0</th>\n",
       "      <td>TAPPER</td>\n",
       "      <td>We're live from Georgia, a key battleground st...</td>\n",
       "      <td>0.514541</td>\n",
       "    </tr>\n",
       "    <tr>\n",
       "      <th>1</th>\n",
       "      <td>BASH</td>\n",
       "      <td>This debate is being produced by CNN and it's ...</td>\n",
       "      <td>0.554406</td>\n",
       "    </tr>\n",
       "    <tr>\n",
       "      <th>2</th>\n",
       "      <td>TAPPER</td>\n",
       "      <td>I'm Jake Tapper, anchor of CNN's \"THE LEAD\" an...</td>\n",
       "      <td>0.555700</td>\n",
       "    </tr>\n",
       "    <tr>\n",
       "      <th>3</th>\n",
       "      <td>BASH</td>\n",
       "      <td>When it's time for our candidate to speak, his...</td>\n",
       "      <td>0.505097</td>\n",
       "    </tr>\n",
       "    <tr>\n",
       "      <th>4</th>\n",
       "      <td>TAPPER</td>\n",
       "      <td>Now, please welcome the 46th of the United Sta...</td>\n",
       "      <td>0.534843</td>\n",
       "    </tr>\n",
       "    <tr>\n",
       "      <th>5</th>\n",
       "      <td>BIDEN</td>\n",
       "      <td>Folks, how are you? Good to be here. Thank you.</td>\n",
       "      <td>0.510819</td>\n",
       "    </tr>\n",
       "    <tr>\n",
       "      <th>6</th>\n",
       "      <td>TAPPER</td>\n",
       "      <td>And please welcome the 45th president of the U...</td>\n",
       "      <td>0.538920</td>\n",
       "    </tr>\n",
       "    <tr>\n",
       "      <th>7</th>\n",
       "      <td>BIDEN</td>\n",
       "      <td>We've got to take a look at what I was left wh...</td>\n",
       "      <td>0.542055</td>\n",
       "    </tr>\n",
       "    <tr>\n",
       "      <th>8</th>\n",
       "      <td>TAPPER</td>\n",
       "      <td>Thank you.</td>\n",
       "      <td>0.504233</td>\n",
       "    </tr>\n",
       "    <tr>\n",
       "      <th>9</th>\n",
       "      <td>TRUMP</td>\n",
       "      <td>We had the greatest economy in the history of ...</td>\n",
       "      <td>0.549413</td>\n",
       "    </tr>\n",
       "  </tbody>\n",
       "</table>\n",
       "</div>"
      ],
      "text/plain": [
       "  Speaker                                          Statement  Hostility_Score\n",
       "0  TAPPER  We're live from Georgia, a key battleground st...         0.514541\n",
       "1    BASH  This debate is being produced by CNN and it's ...         0.554406\n",
       "2  TAPPER  I'm Jake Tapper, anchor of CNN's \"THE LEAD\" an...         0.555700\n",
       "3    BASH  When it's time for our candidate to speak, his...         0.505097\n",
       "4  TAPPER  Now, please welcome the 46th of the United Sta...         0.534843\n",
       "5   BIDEN    Folks, how are you? Good to be here. Thank you.         0.510819\n",
       "6  TAPPER  And please welcome the 45th president of the U...         0.538920\n",
       "7   BIDEN  We've got to take a look at what I was left wh...         0.542055\n",
       "8  TAPPER                                         Thank you.         0.504233\n",
       "9   TRUMP  We had the greatest economy in the history of ...         0.549413"
      ]
     },
     "metadata": {},
     "output_type": "display_data"
    }
   ],
   "source": [
    "# Display first few results\n",
    "from IPython.display import display\n",
    "display(df.head(10))"
   ]
  },
  {
   "cell_type": "code",
   "execution_count": 28,
   "metadata": {},
   "outputs": [
    {
     "name": "stdout",
     "output_type": "stream",
     "text": [
      "Speaker\n",
      "BASH      0.534971\n",
      "BIDEN     0.531242\n",
      "TAPPER    0.533231\n",
      "TRUMP     0.532989\n",
      "Name: Hostility_Score, dtype: float64\n"
     ]
    }
   ],
   "source": [
    "# Group by Speaker and calculate average hostility score\n",
    "avg_hostility = df.groupby(\"Speaker\")[\"Hostility_Score\"].mean()\n",
    "\n",
    "# Display results\n",
    "print(avg_hostility)"
   ]
  }
 ],
 "metadata": {
  "kernelspec": {
   "display_name": "newspring",
   "language": "python",
   "name": "python3"
  },
  "language_info": {
   "codemirror_mode": {
    "name": "ipython",
    "version": 3
   },
   "file_extension": ".py",
   "mimetype": "text/x-python",
   "name": "python",
   "nbconvert_exporter": "python",
   "pygments_lexer": "ipython3",
   "version": "3.11.11"
  }
 },
 "nbformat": 4,
 "nbformat_minor": 2
}
