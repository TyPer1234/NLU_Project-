{
  "nbformat": 4,
  "nbformat_minor": 0,
  "metadata": {
    "colab": {
      "provenance": [],
      "gpuType": "T4"
    },
    "kernelspec": {
      "name": "python3",
      "display_name": "Python 3"
    },
    "language_info": {
      "name": "python"
    },
    "accelerator": "GPU",
    "widgets": {
      "application/vnd.jupyter.widget-state+json": {
        "639fc0dab51f4499aa0a65f7b03a0057": {
          "model_module": "@jupyter-widgets/controls",
          "model_name": "HBoxModel",
          "model_module_version": "1.5.0",
          "state": {
            "_dom_classes": [],
            "_model_module": "@jupyter-widgets/controls",
            "_model_module_version": "1.5.0",
            "_model_name": "HBoxModel",
            "_view_count": null,
            "_view_module": "@jupyter-widgets/controls",
            "_view_module_version": "1.5.0",
            "_view_name": "HBoxView",
            "box_style": "",
            "children": [
              "IPY_MODEL_92fd798165e240888522ef26f2ae4e73",
              "IPY_MODEL_46616a05dcc648678be89ab0547197fc",
              "IPY_MODEL_eead8445857e445c9d198fc5374380a0"
            ],
            "layout": "IPY_MODEL_a8e5fadbd0c2491ea08f92cc77aa41d1"
          }
        },
        "92fd798165e240888522ef26f2ae4e73": {
          "model_module": "@jupyter-widgets/controls",
          "model_name": "HTMLModel",
          "model_module_version": "1.5.0",
          "state": {
            "_dom_classes": [],
            "_model_module": "@jupyter-widgets/controls",
            "_model_module_version": "1.5.0",
            "_model_name": "HTMLModel",
            "_view_count": null,
            "_view_module": "@jupyter-widgets/controls",
            "_view_module_version": "1.5.0",
            "_view_name": "HTMLView",
            "description": "",
            "description_tooltip": null,
            "layout": "IPY_MODEL_befaeb49f76c4d1780d0d88e739e8e93",
            "placeholder": "​",
            "style": "IPY_MODEL_5043a9f0b51d47309923825f5a11e74e",
            "value": "Labeling statements: 100%"
          }
        },
        "46616a05dcc648678be89ab0547197fc": {
          "model_module": "@jupyter-widgets/controls",
          "model_name": "FloatProgressModel",
          "model_module_version": "1.5.0",
          "state": {
            "_dom_classes": [],
            "_model_module": "@jupyter-widgets/controls",
            "_model_module_version": "1.5.0",
            "_model_name": "FloatProgressModel",
            "_view_count": null,
            "_view_module": "@jupyter-widgets/controls",
            "_view_module_version": "1.5.0",
            "_view_name": "ProgressView",
            "bar_style": "success",
            "description": "",
            "description_tooltip": null,
            "layout": "IPY_MODEL_08a5b1b47cfd4607836c884ba4e6a0db",
            "max": 5000,
            "min": 0,
            "orientation": "horizontal",
            "style": "IPY_MODEL_8e3a1e0c57e74d2092afcb22b6282589",
            "value": 5000
          }
        },
        "eead8445857e445c9d198fc5374380a0": {
          "model_module": "@jupyter-widgets/controls",
          "model_name": "HTMLModel",
          "model_module_version": "1.5.0",
          "state": {
            "_dom_classes": [],
            "_model_module": "@jupyter-widgets/controls",
            "_model_module_version": "1.5.0",
            "_model_name": "HTMLModel",
            "_view_count": null,
            "_view_module": "@jupyter-widgets/controls",
            "_view_module_version": "1.5.0",
            "_view_name": "HTMLView",
            "description": "",
            "description_tooltip": null,
            "layout": "IPY_MODEL_bbf42338410247ba9e1be49ea2ce3870",
            "placeholder": "​",
            "style": "IPY_MODEL_43df665a1e2747c3b74f0802efb943cb",
            "value": " 5000/5000 [09:48&lt;00:00,  6.98it/s]"
          }
        },
        "a8e5fadbd0c2491ea08f92cc77aa41d1": {
          "model_module": "@jupyter-widgets/base",
          "model_name": "LayoutModel",
          "model_module_version": "1.2.0",
          "state": {
            "_model_module": "@jupyter-widgets/base",
            "_model_module_version": "1.2.0",
            "_model_name": "LayoutModel",
            "_view_count": null,
            "_view_module": "@jupyter-widgets/base",
            "_view_module_version": "1.2.0",
            "_view_name": "LayoutView",
            "align_content": null,
            "align_items": null,
            "align_self": null,
            "border": null,
            "bottom": null,
            "display": null,
            "flex": null,
            "flex_flow": null,
            "grid_area": null,
            "grid_auto_columns": null,
            "grid_auto_flow": null,
            "grid_auto_rows": null,
            "grid_column": null,
            "grid_gap": null,
            "grid_row": null,
            "grid_template_areas": null,
            "grid_template_columns": null,
            "grid_template_rows": null,
            "height": null,
            "justify_content": null,
            "justify_items": null,
            "left": null,
            "margin": null,
            "max_height": null,
            "max_width": null,
            "min_height": null,
            "min_width": null,
            "object_fit": null,
            "object_position": null,
            "order": null,
            "overflow": null,
            "overflow_x": null,
            "overflow_y": null,
            "padding": null,
            "right": null,
            "top": null,
            "visibility": null,
            "width": null
          }
        },
        "befaeb49f76c4d1780d0d88e739e8e93": {
          "model_module": "@jupyter-widgets/base",
          "model_name": "LayoutModel",
          "model_module_version": "1.2.0",
          "state": {
            "_model_module": "@jupyter-widgets/base",
            "_model_module_version": "1.2.0",
            "_model_name": "LayoutModel",
            "_view_count": null,
            "_view_module": "@jupyter-widgets/base",
            "_view_module_version": "1.2.0",
            "_view_name": "LayoutView",
            "align_content": null,
            "align_items": null,
            "align_self": null,
            "border": null,
            "bottom": null,
            "display": null,
            "flex": null,
            "flex_flow": null,
            "grid_area": null,
            "grid_auto_columns": null,
            "grid_auto_flow": null,
            "grid_auto_rows": null,
            "grid_column": null,
            "grid_gap": null,
            "grid_row": null,
            "grid_template_areas": null,
            "grid_template_columns": null,
            "grid_template_rows": null,
            "height": null,
            "justify_content": null,
            "justify_items": null,
            "left": null,
            "margin": null,
            "max_height": null,
            "max_width": null,
            "min_height": null,
            "min_width": null,
            "object_fit": null,
            "object_position": null,
            "order": null,
            "overflow": null,
            "overflow_x": null,
            "overflow_y": null,
            "padding": null,
            "right": null,
            "top": null,
            "visibility": null,
            "width": null
          }
        },
        "5043a9f0b51d47309923825f5a11e74e": {
          "model_module": "@jupyter-widgets/controls",
          "model_name": "DescriptionStyleModel",
          "model_module_version": "1.5.0",
          "state": {
            "_model_module": "@jupyter-widgets/controls",
            "_model_module_version": "1.5.0",
            "_model_name": "DescriptionStyleModel",
            "_view_count": null,
            "_view_module": "@jupyter-widgets/base",
            "_view_module_version": "1.2.0",
            "_view_name": "StyleView",
            "description_width": ""
          }
        },
        "08a5b1b47cfd4607836c884ba4e6a0db": {
          "model_module": "@jupyter-widgets/base",
          "model_name": "LayoutModel",
          "model_module_version": "1.2.0",
          "state": {
            "_model_module": "@jupyter-widgets/base",
            "_model_module_version": "1.2.0",
            "_model_name": "LayoutModel",
            "_view_count": null,
            "_view_module": "@jupyter-widgets/base",
            "_view_module_version": "1.2.0",
            "_view_name": "LayoutView",
            "align_content": null,
            "align_items": null,
            "align_self": null,
            "border": null,
            "bottom": null,
            "display": null,
            "flex": null,
            "flex_flow": null,
            "grid_area": null,
            "grid_auto_columns": null,
            "grid_auto_flow": null,
            "grid_auto_rows": null,
            "grid_column": null,
            "grid_gap": null,
            "grid_row": null,
            "grid_template_areas": null,
            "grid_template_columns": null,
            "grid_template_rows": null,
            "height": null,
            "justify_content": null,
            "justify_items": null,
            "left": null,
            "margin": null,
            "max_height": null,
            "max_width": null,
            "min_height": null,
            "min_width": null,
            "object_fit": null,
            "object_position": null,
            "order": null,
            "overflow": null,
            "overflow_x": null,
            "overflow_y": null,
            "padding": null,
            "right": null,
            "top": null,
            "visibility": null,
            "width": null
          }
        },
        "8e3a1e0c57e74d2092afcb22b6282589": {
          "model_module": "@jupyter-widgets/controls",
          "model_name": "ProgressStyleModel",
          "model_module_version": "1.5.0",
          "state": {
            "_model_module": "@jupyter-widgets/controls",
            "_model_module_version": "1.5.0",
            "_model_name": "ProgressStyleModel",
            "_view_count": null,
            "_view_module": "@jupyter-widgets/base",
            "_view_module_version": "1.2.0",
            "_view_name": "StyleView",
            "bar_color": null,
            "description_width": ""
          }
        },
        "bbf42338410247ba9e1be49ea2ce3870": {
          "model_module": "@jupyter-widgets/base",
          "model_name": "LayoutModel",
          "model_module_version": "1.2.0",
          "state": {
            "_model_module": "@jupyter-widgets/base",
            "_model_module_version": "1.2.0",
            "_model_name": "LayoutModel",
            "_view_count": null,
            "_view_module": "@jupyter-widgets/base",
            "_view_module_version": "1.2.0",
            "_view_name": "LayoutView",
            "align_content": null,
            "align_items": null,
            "align_self": null,
            "border": null,
            "bottom": null,
            "display": null,
            "flex": null,
            "flex_flow": null,
            "grid_area": null,
            "grid_auto_columns": null,
            "grid_auto_flow": null,
            "grid_auto_rows": null,
            "grid_column": null,
            "grid_gap": null,
            "grid_row": null,
            "grid_template_areas": null,
            "grid_template_columns": null,
            "grid_template_rows": null,
            "height": null,
            "justify_content": null,
            "justify_items": null,
            "left": null,
            "margin": null,
            "max_height": null,
            "max_width": null,
            "min_height": null,
            "min_width": null,
            "object_fit": null,
            "object_position": null,
            "order": null,
            "overflow": null,
            "overflow_x": null,
            "overflow_y": null,
            "padding": null,
            "right": null,
            "top": null,
            "visibility": null,
            "width": null
          }
        },
        "43df665a1e2747c3b74f0802efb943cb": {
          "model_module": "@jupyter-widgets/controls",
          "model_name": "DescriptionStyleModel",
          "model_module_version": "1.5.0",
          "state": {
            "_model_module": "@jupyter-widgets/controls",
            "_model_module_version": "1.5.0",
            "_model_name": "DescriptionStyleModel",
            "_view_count": null,
            "_view_module": "@jupyter-widgets/base",
            "_view_module_version": "1.2.0",
            "_view_name": "StyleView",
            "description_width": ""
          }
        }
      }
    }
  },
  "cells": [
    {
      "cell_type": "code",
      "execution_count": 3,
      "metadata": {
        "colab": {
          "base_uri": "https://localhost:8080/",
          "height": 1000,
          "referenced_widgets": [
            "639fc0dab51f4499aa0a65f7b03a0057",
            "92fd798165e240888522ef26f2ae4e73",
            "46616a05dcc648678be89ab0547197fc",
            "eead8445857e445c9d198fc5374380a0",
            "a8e5fadbd0c2491ea08f92cc77aa41d1",
            "befaeb49f76c4d1780d0d88e739e8e93",
            "5043a9f0b51d47309923825f5a11e74e",
            "08a5b1b47cfd4607836c884ba4e6a0db",
            "8e3a1e0c57e74d2092afcb22b6282589",
            "bbf42338410247ba9e1be49ea2ce3870",
            "43df665a1e2747c3b74f0802efb943cb"
          ]
        },
        "id": "CaqG0GGo3vgb",
        "outputId": "f3ed76cf-089e-45e2-b2d9-f07bbc443bae"
      },
      "outputs": [
        {
          "output_type": "stream",
          "name": "stdout",
          "text": [
            "Enter your OpenAI API key: ··········\n",
            "Loading dataset from vp_primary_debates_with_hostility.csv...\n",
            "Loaded 45009 statements.\n",
            "Extracting manual demonstrations...\n",
            "Found 10 manual demonstrations\n",
            "\n",
            "Demonstrations that will be used:\n",
            "1. Statement: 'You've already made two comments, John. It's my tu...' Label: 1\n",
            "2. Statement: 'Oh, come on, Bernie....' Label: 1\n",
            "3. Statement: 'Did -- Joe, wait a minute. I'll answer your questi...' Label: 1\n",
            "4. Statement: 'Well, Wolf, I've just been personally attacked aga...' Label: 1\n",
            "5. Statement: 'I don't know if you can hear. I can hear. But anyw...' Label: 1\n",
            "6. Statement: '... You lose by [inaudible] points. She will wipe ...' Label: 1\n",
            "7. Statement: 'Trump Steaks is gone. You have ruined these compan...' Label: 2\n",
            "8. Statement: 'Lyin' Ted....' Label: 2\n",
            "9. Statement: 'I will, and the wall just got 10 feet taller, beli...' Label: 2\n",
            "10. Statement: 'You're losing so badly you — I want to......' Label: 2\n",
            "\n",
            "Testing API connection...\n",
            "API test successful. Result: 0\n",
            "Starting fresh annotation\n",
            "Randomly sampling 5000 statements from 40997 completely unlabeled statements\n",
            "Created 100 batches of up to 50 statements each\n"
          ]
        },
        {
          "output_type": "display_data",
          "data": {
            "text/plain": [
              "Labeling statements:   0%|          | 0/5000 [00:00<?, ?it/s]"
            ],
            "application/vnd.jupyter.widget-view+json": {
              "version_major": 2,
              "version_minor": 0,
              "model_id": "639fc0dab51f4499aa0a65f7b03a0057"
            }
          },
          "metadata": {}
        },
        {
          "output_type": "stream",
          "name": "stdout",
          "text": [
            "\n",
            "Batch 1/100 complete. Speed: 10.43 statements/sec. Est. remaining time: 0.0 minutes.\n",
            "\n",
            "Batch 2/100 complete. Speed: 11.86 statements/sec. Est. remaining time: 6.9 minutes.\n",
            "\n",
            "Batch 3/100 complete. Speed: 11.24 statements/sec. Est. remaining time: 7.2 minutes.\n",
            "\n",
            "Batch 4/100 complete. Speed: 11.97 statements/sec. Est. remaining time: 6.7 minutes.\n",
            "\n",
            "Batch 5/100 complete. Speed: 11.28 statements/sec. Est. remaining time: 7.0 minutes.\n",
            "\n",
            "Batch 6/100 complete. Speed: 10.47 statements/sec. Est. remaining time: 7.5 minutes.\n",
            "\n",
            "Batch 7/100 complete. Speed: 10.79 statements/sec. Est. remaining time: 7.2 minutes.\n",
            "\n",
            "Batch 8/100 complete. Speed: 11.21 statements/sec. Est. remaining time: 6.8 minutes.\n",
            "\n",
            "Batch 9/100 complete. Speed: 11.22 statements/sec. Est. remaining time: 6.8 minutes.\n",
            "\n",
            "Batch 10/100 complete. Speed: 11.61 statements/sec. Est. remaining time: 6.5 minutes.\n",
            "\n",
            "Batch 11/100 complete. Speed: 10.53 statements/sec. Est. remaining time: 7.0 minutes.\n",
            "\n",
            "Batch 12/100 complete. Speed: 10.87 statements/sec. Est. remaining time: 6.7 minutes.\n",
            "\n",
            "Batch 13/100 complete. Speed: 11.08 statements/sec. Est. remaining time: 6.5 minutes.\n",
            "\n",
            "Batch 14/100 complete. Speed: 11.39 statements/sec. Est. remaining time: 6.3 minutes.\n",
            "\n",
            "Batch 15/100 complete. Speed: 11.14 statements/sec. Est. remaining time: 6.4 minutes.\n",
            "\n",
            "Batch 16/100 complete. Speed: 11.32 statements/sec. Est. remaining time: 6.2 minutes.\n",
            "\n",
            "Batch 17/100 complete. Speed: 11.50 statements/sec. Est. remaining time: 6.0 minutes.\n",
            "\n",
            "Batch 18/100 complete. Speed: 11.63 statements/sec. Est. remaining time: 5.9 minutes.\n",
            "\n",
            "Batch 19/100 complete. Speed: 11.61 statements/sec. Est. remaining time: 5.8 minutes.\n",
            "\n",
            "Batch 20/100 complete. Speed: 11.70 statements/sec. Est. remaining time: 5.7 minutes.\n",
            "\n",
            "Batch 21/100 complete. Speed: 11.88 statements/sec. Est. remaining time: 5.5 minutes.\n",
            "\n",
            "Batch 22/100 complete. Speed: 12.00 statements/sec. Est. remaining time: 5.4 minutes.\n",
            "\n",
            "Batch 23/100 complete. Speed: 11.96 statements/sec. Est. remaining time: 5.4 minutes.\n",
            "\n",
            "Batch 24/100 complete. Speed: 12.10 statements/sec. Est. remaining time: 5.2 minutes.\n",
            "\n",
            "Batch 25/100 complete. Speed: 12.18 statements/sec. Est. remaining time: 5.1 minutes.\n",
            "\n",
            "Batch 26/100 complete. Speed: 12.28 statements/sec. Est. remaining time: 5.0 minutes.\n",
            "\n",
            "Batch 27/100 complete. Speed: 12.42 statements/sec. Est. remaining time: 4.9 minutes.\n",
            "\n",
            "Batch 28/100 complete. Speed: 12.51 statements/sec. Est. remaining time: 4.8 minutes.\n",
            "\n",
            "Batch 29/100 complete. Speed: 12.56 statements/sec. Est. remaining time: 4.7 minutes.\n"
          ]
        },
        {
          "output_type": "stream",
          "name": "stderr",
          "text": [
            "INFO:backoff:Backing off classify_hostility(...) for 1.2s (openai.RateLimitError: Error code: 429 - {'error': {'message': 'Rate limit reached for gpt-3.5-turbo in organization org-zq7Modopi4RhdMcJDgnrgDbv on requests per min (RPM): Limit 500, Used 500, Requested 1. Please try again in 120ms. Visit https://platform.openai.com/account/rate-limits to learn more.', 'type': 'requests', 'param': None, 'code': 'rate_limit_exceeded'}})\n",
            "INFO:backoff:Backing off classify_hostility(...) for 0.9s (openai.RateLimitError: Error code: 429 - {'error': {'message': 'Rate limit reached for gpt-3.5-turbo in organization org-zq7Modopi4RhdMcJDgnrgDbv on requests per min (RPM): Limit 500, Used 500, Requested 1. Please try again in 120ms. Visit https://platform.openai.com/account/rate-limits to learn more.', 'type': 'requests', 'param': None, 'code': 'rate_limit_exceeded'}})\n",
            "INFO:backoff:Backing off classify_hostility(...) for 0.7s (openai.RateLimitError: Error code: 429 - {'error': {'message': 'Rate limit reached for gpt-3.5-turbo in organization org-zq7Modopi4RhdMcJDgnrgDbv on requests per min (RPM): Limit 500, Used 500, Requested 1. Please try again in 120ms. Visit https://platform.openai.com/account/rate-limits to learn more.', 'type': 'requests', 'param': None, 'code': 'rate_limit_exceeded'}})\n",
            "INFO:backoff:Backing off classify_hostility(...) for 0.3s (openai.RateLimitError: Error code: 429 - {'error': {'message': 'Rate limit reached for gpt-3.5-turbo in organization org-zq7Modopi4RhdMcJDgnrgDbv on requests per min (RPM): Limit 500, Used 500, Requested 1. Please try again in 120ms. Visit https://platform.openai.com/account/rate-limits to learn more.', 'type': 'requests', 'param': None, 'code': 'rate_limit_exceeded'}})\n",
            "INFO:backoff:Backing off classify_hostility(...) for 1.7s (openai.RateLimitError: Error code: 429 - {'error': {'message': 'Rate limit reached for gpt-3.5-turbo in organization org-zq7Modopi4RhdMcJDgnrgDbv on requests per min (RPM): Limit 500, Used 500, Requested 1. Please try again in 120ms. Visit https://platform.openai.com/account/rate-limits to learn more.', 'type': 'requests', 'param': None, 'code': 'rate_limit_exceeded'}})\n",
            "INFO:backoff:Backing off classify_hostility(...) for 2.8s (openai.RateLimitError: Error code: 429 - {'error': {'message': 'Rate limit reached for gpt-3.5-turbo in organization org-zq7Modopi4RhdMcJDgnrgDbv on requests per min (RPM): Limit 500, Used 500, Requested 1. Please try again in 120ms. Visit https://platform.openai.com/account/rate-limits to learn more.', 'type': 'requests', 'param': None, 'code': 'rate_limit_exceeded'}})\n",
            "INFO:backoff:Backing off classify_hostility(...) for 2.7s (openai.RateLimitError: Error code: 429 - {'error': {'message': 'Rate limit reached for gpt-3.5-turbo in organization org-zq7Modopi4RhdMcJDgnrgDbv on requests per min (RPM): Limit 500, Used 500, Requested 1. Please try again in 120ms. Visit https://platform.openai.com/account/rate-limits to learn more.', 'type': 'requests', 'param': None, 'code': 'rate_limit_exceeded'}})\n",
            "INFO:backoff:Backing off classify_hostility(...) for 1.4s (openai.RateLimitError: Error code: 429 - {'error': {'message': 'Rate limit reached for gpt-3.5-turbo in organization org-zq7Modopi4RhdMcJDgnrgDbv on requests per min (RPM): Limit 500, Used 500, Requested 1. Please try again in 120ms. Visit https://platform.openai.com/account/rate-limits to learn more.', 'type': 'requests', 'param': None, 'code': 'rate_limit_exceeded'}})\n"
          ]
        },
        {
          "output_type": "stream",
          "name": "stdout",
          "text": [
            "\n",
            "Batch 30/100 complete. Speed: 12.18 statements/sec. Est. remaining time: 4.8 minutes.\n"
          ]
        },
        {
          "output_type": "stream",
          "name": "stderr",
          "text": [
            "INFO:backoff:Backing off classify_hostility(...) for 1.2s (openai.RateLimitError: Error code: 429 - {'error': {'message': 'Rate limit reached for gpt-3.5-turbo in organization org-zq7Modopi4RhdMcJDgnrgDbv on requests per min (RPM): Limit 500, Used 500, Requested 1. Please try again in 120ms. Visit https://platform.openai.com/account/rate-limits to learn more.', 'type': 'requests', 'param': None, 'code': 'rate_limit_exceeded'}})\n",
            "INFO:backoff:Backing off classify_hostility(...) for 0.8s (openai.RateLimitError: Error code: 429 - {'error': {'message': 'Rate limit reached for gpt-3.5-turbo in organization org-zq7Modopi4RhdMcJDgnrgDbv on requests per min (RPM): Limit 500, Used 500, Requested 1. Please try again in 120ms. Visit https://platform.openai.com/account/rate-limits to learn more.', 'type': 'requests', 'param': None, 'code': 'rate_limit_exceeded'}})\n",
            "INFO:backoff:Backing off classify_hostility(...) for 0.6s (openai.RateLimitError: Error code: 429 - {'error': {'message': 'Rate limit reached for gpt-3.5-turbo in organization org-zq7Modopi4RhdMcJDgnrgDbv on requests per min (RPM): Limit 500, Used 500, Requested 1. Please try again in 120ms. Visit https://platform.openai.com/account/rate-limits to learn more.', 'type': 'requests', 'param': None, 'code': 'rate_limit_exceeded'}})\n"
          ]
        },
        {
          "output_type": "stream",
          "name": "stdout",
          "text": [
            "\n",
            "Batch 31/100 complete. Speed: 12.11 statements/sec. Est. remaining time: 4.7 minutes.\n"
          ]
        },
        {
          "output_type": "stream",
          "name": "stderr",
          "text": [
            "INFO:backoff:Backing off classify_hostility(...) for 0.4s (openai.RateLimitError: Error code: 429 - {'error': {'message': 'Rate limit reached for gpt-3.5-turbo in organization org-zq7Modopi4RhdMcJDgnrgDbv on requests per min (RPM): Limit 500, Used 500, Requested 1. Please try again in 120ms. Visit https://platform.openai.com/account/rate-limits to learn more.', 'type': 'requests', 'param': None, 'code': 'rate_limit_exceeded'}})\n",
            "INFO:backoff:Backing off classify_hostility(...) for 0.1s (openai.RateLimitError: Error code: 429 - {'error': {'message': 'Rate limit reached for gpt-3.5-turbo in organization org-zq7Modopi4RhdMcJDgnrgDbv on requests per min (RPM): Limit 500, Used 500, Requested 1. Please try again in 120ms. Visit https://platform.openai.com/account/rate-limits to learn more.', 'type': 'requests', 'param': None, 'code': 'rate_limit_exceeded'}})\n",
            "INFO:backoff:Backing off classify_hostility(...) for 0.3s (openai.RateLimitError: Error code: 429 - {'error': {'message': 'Rate limit reached for gpt-3.5-turbo in organization org-zq7Modopi4RhdMcJDgnrgDbv on requests per min (RPM): Limit 500, Used 500, Requested 1. Please try again in 120ms. Visit https://platform.openai.com/account/rate-limits to learn more.', 'type': 'requests', 'param': None, 'code': 'rate_limit_exceeded'}})\n",
            "INFO:backoff:Backing off classify_hostility(...) for 1.0s (openai.RateLimitError: Error code: 429 - {'error': {'message': 'Rate limit reached for gpt-3.5-turbo in organization org-zq7Modopi4RhdMcJDgnrgDbv on requests per min (RPM): Limit 500, Used 500, Requested 1. Please try again in 120ms. Visit https://platform.openai.com/account/rate-limits to learn more.', 'type': 'requests', 'param': None, 'code': 'rate_limit_exceeded'}})\n",
            "INFO:backoff:Backing off classify_hostility(...) for 1.5s (openai.RateLimitError: Error code: 429 - {'error': {'message': 'Rate limit reached for gpt-3.5-turbo in organization org-zq7Modopi4RhdMcJDgnrgDbv on requests per min (RPM): Limit 500, Used 500, Requested 1. Please try again in 120ms. Visit https://platform.openai.com/account/rate-limits to learn more.', 'type': 'requests', 'param': None, 'code': 'rate_limit_exceeded'}})\n",
            "INFO:backoff:Backing off classify_hostility(...) for 0.7s (openai.RateLimitError: Error code: 429 - {'error': {'message': 'Rate limit reached for gpt-3.5-turbo in organization org-zq7Modopi4RhdMcJDgnrgDbv on requests per min (RPM): Limit 500, Used 500, Requested 1. Please try again in 120ms. Visit https://platform.openai.com/account/rate-limits to learn more.', 'type': 'requests', 'param': None, 'code': 'rate_limit_exceeded'}})\n",
            "INFO:backoff:Backing off classify_hostility(...) for 1.7s (openai.RateLimitError: Error code: 429 - {'error': {'message': 'Rate limit reached for gpt-3.5-turbo in organization org-zq7Modopi4RhdMcJDgnrgDbv on requests per min (RPM): Limit 500, Used 500, Requested 1. Please try again in 120ms. Visit https://platform.openai.com/account/rate-limits to learn more.', 'type': 'requests', 'param': None, 'code': 'rate_limit_exceeded'}})\n",
            "INFO:backoff:Backing off classify_hostility(...) for 1.3s (openai.RateLimitError: Error code: 429 - {'error': {'message': 'Rate limit reached for gpt-3.5-turbo in organization org-zq7Modopi4RhdMcJDgnrgDbv on requests per min (RPM): Limit 500, Used 500, Requested 1. Please try again in 120ms. Visit https://platform.openai.com/account/rate-limits to learn more.', 'type': 'requests', 'param': None, 'code': 'rate_limit_exceeded'}})\n"
          ]
        },
        {
          "output_type": "stream",
          "name": "stdout",
          "text": [
            "\n",
            "Batch 32/100 complete. Speed: 11.97 statements/sec. Est. remaining time: 4.7 minutes.\n"
          ]
        },
        {
          "output_type": "stream",
          "name": "stderr",
          "text": [
            "INFO:backoff:Backing off classify_hostility(...) for 0.7s (openai.RateLimitError: Error code: 429 - {'error': {'message': 'Rate limit reached for gpt-3.5-turbo in organization org-zq7Modopi4RhdMcJDgnrgDbv on tokens per min (TPM): Limit 200000, Used 199691, Requested 350. Please try again in 12ms. Visit https://platform.openai.com/account/rate-limits to learn more.', 'type': 'tokens', 'param': None, 'code': 'rate_limit_exceeded'}})\n",
            "INFO:backoff:Backing off classify_hostility(...) for 0.5s (openai.RateLimitError: Error code: 429 - {'error': {'message': 'Rate limit reached for gpt-3.5-turbo in organization org-zq7Modopi4RhdMcJDgnrgDbv on requests per min (RPM): Limit 500, Used 500, Requested 1. Please try again in 120ms. Visit https://platform.openai.com/account/rate-limits to learn more.', 'type': 'requests', 'param': None, 'code': 'rate_limit_exceeded'}})\n",
            "INFO:backoff:Backing off classify_hostility(...) for 1.7s (openai.RateLimitError: Error code: 429 - {'error': {'message': 'Rate limit reached for gpt-3.5-turbo in organization org-zq7Modopi4RhdMcJDgnrgDbv on tokens per min (TPM): Limit 200000, Used 199852, Requested 362. Please try again in 64ms. Visit https://platform.openai.com/account/rate-limits to learn more.', 'type': 'tokens', 'param': None, 'code': 'rate_limit_exceeded'}})\n",
            "INFO:backoff:Backing off classify_hostility(...) for 1.3s (openai.RateLimitError: Error code: 429 - {'error': {'message': 'Rate limit reached for gpt-3.5-turbo in organization org-zq7Modopi4RhdMcJDgnrgDbv on tokens per min (TPM): Limit 200000, Used 199719, Requested 368. Please try again in 26ms. Visit https://platform.openai.com/account/rate-limits to learn more.', 'type': 'tokens', 'param': None, 'code': 'rate_limit_exceeded'}})\n",
            "INFO:backoff:Backing off classify_hostility(...) for 1.2s (openai.RateLimitError: Error code: 429 - {'error': {'message': 'Rate limit reached for gpt-3.5-turbo in organization org-zq7Modopi4RhdMcJDgnrgDbv on tokens per min (TPM): Limit 200000, Used 199753, Requested 321. Please try again in 22ms. Visit https://platform.openai.com/account/rate-limits to learn more.', 'type': 'tokens', 'param': None, 'code': 'rate_limit_exceeded'}})\n",
            "INFO:backoff:Backing off classify_hostility(...) for 0.9s (openai.RateLimitError: Error code: 429 - {'error': {'message': 'Rate limit reached for gpt-3.5-turbo in organization org-zq7Modopi4RhdMcJDgnrgDbv on requests per min (RPM): Limit 500, Used 500, Requested 1. Please try again in 120ms. Visit https://platform.openai.com/account/rate-limits to learn more.', 'type': 'requests', 'param': None, 'code': 'rate_limit_exceeded'}})\n",
            "INFO:backoff:Backing off classify_hostility(...) for 0.5s (openai.RateLimitError: Error code: 429 - {'error': {'message': 'Rate limit reached for gpt-3.5-turbo in organization org-zq7Modopi4RhdMcJDgnrgDbv on tokens per min (TPM): Limit 200000, Used 199738, Requested 324. Please try again in 18ms. Visit https://platform.openai.com/account/rate-limits to learn more.', 'type': 'tokens', 'param': None, 'code': 'rate_limit_exceeded'}})\n",
            "INFO:backoff:Backing off classify_hostility(...) for 2.7s (openai.RateLimitError: Error code: 429 - {'error': {'message': 'Rate limit reached for gpt-3.5-turbo in organization org-zq7Modopi4RhdMcJDgnrgDbv on requests per min (RPM): Limit 500, Used 500, Requested 1. Please try again in 120ms. Visit https://platform.openai.com/account/rate-limits to learn more.', 'type': 'requests', 'param': None, 'code': 'rate_limit_exceeded'}})\n"
          ]
        },
        {
          "output_type": "stream",
          "name": "stdout",
          "text": [
            "\n",
            "Batch 33/100 complete. Speed: 11.66 statements/sec. Est. remaining time: 4.8 minutes.\n"
          ]
        },
        {
          "output_type": "stream",
          "name": "stderr",
          "text": [
            "INFO:backoff:Backing off classify_hostility(...) for 0.1s (openai.RateLimitError: Error code: 429 - {'error': {'message': 'Rate limit reached for gpt-3.5-turbo in organization org-zq7Modopi4RhdMcJDgnrgDbv on tokens per min (TPM): Limit 200000, Used 199676, Requested 377. Please try again in 15ms. Visit https://platform.openai.com/account/rate-limits to learn more.', 'type': 'tokens', 'param': None, 'code': 'rate_limit_exceeded'}})\n",
            "INFO:backoff:Backing off classify_hostility(...) for 1.4s (openai.RateLimitError: Error code: 429 - {'error': {'message': 'Rate limit reached for gpt-3.5-turbo in organization org-zq7Modopi4RhdMcJDgnrgDbv on requests per min (RPM): Limit 500, Used 500, Requested 1. Please try again in 120ms. Visit https://platform.openai.com/account/rate-limits to learn more.', 'type': 'requests', 'param': None, 'code': 'rate_limit_exceeded'}})\n",
            "INFO:backoff:Backing off classify_hostility(...) for 1.3s (openai.RateLimitError: Error code: 429 - {'error': {'message': 'Rate limit reached for gpt-3.5-turbo in organization org-zq7Modopi4RhdMcJDgnrgDbv on requests per min (RPM): Limit 500, Used 500, Requested 1. Please try again in 120ms. Visit https://platform.openai.com/account/rate-limits to learn more.', 'type': 'requests', 'param': None, 'code': 'rate_limit_exceeded'}})\n",
            "INFO:backoff:Backing off classify_hostility(...) for 1.6s (openai.RateLimitError: Error code: 429 - {'error': {'message': 'Rate limit reached for gpt-3.5-turbo in organization org-zq7Modopi4RhdMcJDgnrgDbv on tokens per min (TPM): Limit 200000, Used 199664, Requested 362. Please try again in 7ms. Visit https://platform.openai.com/account/rate-limits to learn more.', 'type': 'tokens', 'param': None, 'code': 'rate_limit_exceeded'}})\n",
            "INFO:backoff:Backing off classify_hostility(...) for 0.8s (openai.RateLimitError: Error code: 429 - {'error': {'message': 'Request too large for gpt-3.5-turbo in organization org-zq7Modopi4RhdMcJDgnrgDbv on tokens per min (TPM): Limit 200000, Requested 392. The input or output tokens must be reduced in order to run successfully. Visit https://platform.openai.com/account/rate-limits to learn more.', 'type': 'tokens', 'param': None, 'code': 'rate_limit_exceeded'}})\n",
            "INFO:backoff:Backing off classify_hostility(...) for 1.3s (openai.RateLimitError: Error code: 429 - {'error': {'message': 'Rate limit reached for gpt-3.5-turbo in organization org-zq7Modopi4RhdMcJDgnrgDbv on requests per min (RPM): Limit 500, Used 500, Requested 1. Please try again in 120ms. Visit https://platform.openai.com/account/rate-limits to learn more.', 'type': 'requests', 'param': None, 'code': 'rate_limit_exceeded'}})\n"
          ]
        },
        {
          "output_type": "stream",
          "name": "stdout",
          "text": [
            "\n",
            "Batch 34/100 complete. Speed: 11.52 statements/sec. Est. remaining time: 4.8 minutes.\n"
          ]
        },
        {
          "output_type": "stream",
          "name": "stderr",
          "text": [
            "INFO:backoff:Backing off classify_hostility(...) for 1.0s (openai.RateLimitError: Error code: 429 - {'error': {'message': 'Rate limit reached for gpt-3.5-turbo in organization org-zq7Modopi4RhdMcJDgnrgDbv on tokens per min (TPM): Limit 200000, Used 199699, Requested 321. Please try again in 6ms. Visit https://platform.openai.com/account/rate-limits to learn more.', 'type': 'tokens', 'param': None, 'code': 'rate_limit_exceeded'}})\n",
            "INFO:backoff:Backing off classify_hostility(...) for 1.6s (openai.RateLimitError: Error code: 429 - {'error': {'message': 'Rate limit reached for gpt-3.5-turbo in organization org-zq7Modopi4RhdMcJDgnrgDbv on requests per min (RPM): Limit 500, Used 500, Requested 1. Please try again in 120ms. Visit https://platform.openai.com/account/rate-limits to learn more.', 'type': 'requests', 'param': None, 'code': 'rate_limit_exceeded'}})\n",
            "INFO:backoff:Backing off classify_hostility(...) for 1.4s (openai.RateLimitError: Error code: 429 - {'error': {'message': 'Rate limit reached for gpt-3.5-turbo in organization org-zq7Modopi4RhdMcJDgnrgDbv on tokens per min (TPM): Limit 200000, Used 199709, Requested 326. Please try again in 10ms. Visit https://platform.openai.com/account/rate-limits to learn more.', 'type': 'tokens', 'param': None, 'code': 'rate_limit_exceeded'}})\n",
            "INFO:backoff:Backing off classify_hostility(...) for 0.2s (openai.RateLimitError: Error code: 429 - {'error': {'message': 'Rate limit reached for gpt-3.5-turbo in organization org-zq7Modopi4RhdMcJDgnrgDbv on tokens per min (TPM): Limit 200000, Used 199716, Requested 396. Please try again in 33ms. Visit https://platform.openai.com/account/rate-limits to learn more.', 'type': 'tokens', 'param': None, 'code': 'rate_limit_exceeded'}})\n",
            "INFO:backoff:Backing off classify_hostility(...) for 1.3s (openai.RateLimitError: Error code: 429 - {'error': {'message': 'Rate limit reached for gpt-3.5-turbo in organization org-zq7Modopi4RhdMcJDgnrgDbv on requests per min (RPM): Limit 500, Used 500, Requested 1. Please try again in 120ms. Visit https://platform.openai.com/account/rate-limits to learn more.', 'type': 'requests', 'param': None, 'code': 'rate_limit_exceeded'}})\n",
            "INFO:backoff:Backing off classify_hostility(...) for 1.8s (openai.RateLimitError: Error code: 429 - {'error': {'message': 'Rate limit reached for gpt-3.5-turbo in organization org-zq7Modopi4RhdMcJDgnrgDbv on requests per min (RPM): Limit 500, Used 500, Requested 1. Please try again in 120ms. Visit https://platform.openai.com/account/rate-limits to learn more.', 'type': 'requests', 'param': None, 'code': 'rate_limit_exceeded'}})\n",
            "INFO:backoff:Backing off classify_hostility(...) for 1.3s (openai.RateLimitError: Error code: 429 - {'error': {'message': 'Rate limit reached for gpt-3.5-turbo in organization org-zq7Modopi4RhdMcJDgnrgDbv on tokens per min (TPM): Limit 200000, Used 199653, Requested 351. Please try again in 1ms. Visit https://platform.openai.com/account/rate-limits to learn more.', 'type': 'tokens', 'param': None, 'code': 'rate_limit_exceeded'}})\n"
          ]
        },
        {
          "output_type": "stream",
          "name": "stdout",
          "text": [
            "\n",
            "Batch 35/100 complete. Speed: 11.40 statements/sec. Est. remaining time: 4.8 minutes.\n"
          ]
        },
        {
          "output_type": "stream",
          "name": "stderr",
          "text": [
            "INFO:backoff:Backing off classify_hostility(...) for 0.2s (openai.RateLimitError: Error code: 429 - {'error': {'message': 'Rate limit reached for gpt-3.5-turbo in organization org-zq7Modopi4RhdMcJDgnrgDbv on tokens per min (TPM): Limit 200000, Used 199678, Requested 356. Please try again in 10ms. Visit https://platform.openai.com/account/rate-limits to learn more.', 'type': 'tokens', 'param': None, 'code': 'rate_limit_exceeded'}})\n",
            "INFO:backoff:Backing off classify_hostility(...) for 0.1s (openai.RateLimitError: Error code: 429 - {'error': {'message': 'Rate limit reached for gpt-3.5-turbo in organization org-zq7Modopi4RhdMcJDgnrgDbv on tokens per min (TPM): Limit 200000, Used 199626, Requested 387. Please try again in 3ms. Visit https://platform.openai.com/account/rate-limits to learn more.', 'type': 'tokens', 'param': None, 'code': 'rate_limit_exceeded'}})\n",
            "INFO:backoff:Backing off classify_hostility(...) for 0.7s (openai.RateLimitError: Error code: 429 - {'error': {'message': 'Rate limit reached for gpt-3.5-turbo in organization org-zq7Modopi4RhdMcJDgnrgDbv on tokens per min (TPM): Limit 200000, Used 199693, Requested 324. Please try again in 5ms. Visit https://platform.openai.com/account/rate-limits to learn more.', 'type': 'tokens', 'param': None, 'code': 'rate_limit_exceeded'}})\n",
            "INFO:backoff:Backing off classify_hostility(...) for 0.6s (openai.RateLimitError: Error code: 429 - {'error': {'message': 'Rate limit reached for gpt-3.5-turbo in organization org-zq7Modopi4RhdMcJDgnrgDbv on requests per min (RPM): Limit 500, Used 500, Requested 1. Please try again in 120ms. Visit https://platform.openai.com/account/rate-limits to learn more.', 'type': 'requests', 'param': None, 'code': 'rate_limit_exceeded'}})\n",
            "INFO:backoff:Backing off classify_hostility(...) for 0.8s (openai.RateLimitError: Error code: 429 - {'error': {'message': 'Rate limit reached for gpt-3.5-turbo in organization org-zq7Modopi4RhdMcJDgnrgDbv on tokens per min (TPM): Limit 200000, Used 199678, Requested 397. Please try again in 22ms. Visit https://platform.openai.com/account/rate-limits to learn more.', 'type': 'tokens', 'param': None, 'code': 'rate_limit_exceeded'}})\n",
            "INFO:backoff:Backing off classify_hostility(...) for 1.8s (openai.RateLimitError: Error code: 429 - {'error': {'message': 'Rate limit reached for gpt-3.5-turbo in organization org-zq7Modopi4RhdMcJDgnrgDbv on requests per min (RPM): Limit 500, Used 500, Requested 1. Please try again in 120ms. Visit https://platform.openai.com/account/rate-limits to learn more.', 'type': 'requests', 'param': None, 'code': 'rate_limit_exceeded'}})\n",
            "INFO:backoff:Backing off classify_hostility(...) for 1.7s (openai.RateLimitError: Error code: 429 - {'error': {'message': 'Rate limit reached for gpt-3.5-turbo in organization org-zq7Modopi4RhdMcJDgnrgDbv on requests per min (RPM): Limit 500, Used 500, Requested 1. Please try again in 120ms. Visit https://platform.openai.com/account/rate-limits to learn more.', 'type': 'requests', 'param': None, 'code': 'rate_limit_exceeded'}})\n",
            "INFO:backoff:Backing off classify_hostility(...) for 0.4s (openai.RateLimitError: Error code: 429 - {'error': {'message': 'Rate limit reached for gpt-3.5-turbo in organization org-zq7Modopi4RhdMcJDgnrgDbv on tokens per min (TPM): Limit 200000, Used 199756, Requested 318. Please try again in 22ms. Visit https://platform.openai.com/account/rate-limits to learn more.', 'type': 'tokens', 'param': None, 'code': 'rate_limit_exceeded'}})\n",
            "INFO:backoff:Backing off classify_hostility(...) for 1.1s (openai.RateLimitError: Error code: 429 - {'error': {'message': 'Rate limit reached for gpt-3.5-turbo in organization org-zq7Modopi4RhdMcJDgnrgDbv on tokens per min (TPM): Limit 200000, Used 199669, Requested 386. Please try again in 16ms. Visit https://platform.openai.com/account/rate-limits to learn more.', 'type': 'tokens', 'param': None, 'code': 'rate_limit_exceeded'}})\n",
            "INFO:backoff:Backing off classify_hostility(...) for 1.8s (openai.RateLimitError: Error code: 429 - {'error': {'message': 'Rate limit reached for gpt-3.5-turbo in organization org-zq7Modopi4RhdMcJDgnrgDbv on tokens per min (TPM): Limit 200000, Used 199700, Requested 327. Please try again in 8ms. Visit https://platform.openai.com/account/rate-limits to learn more.', 'type': 'tokens', 'param': None, 'code': 'rate_limit_exceeded'}})\n",
            "INFO:backoff:Backing off classify_hostility(...) for 2.5s (openai.RateLimitError: Error code: 429 - {'error': {'message': 'Rate limit reached for gpt-3.5-turbo in organization org-zq7Modopi4RhdMcJDgnrgDbv on requests per min (RPM): Limit 500, Used 500, Requested 1. Please try again in 120ms. Visit https://platform.openai.com/account/rate-limits to learn more.', 'type': 'requests', 'param': None, 'code': 'rate_limit_exceeded'}})\n",
            "INFO:backoff:Backing off classify_hostility(...) for 3.3s (openai.RateLimitError: Error code: 429 - {'error': {'message': 'Rate limit reached for gpt-3.5-turbo in organization org-zq7Modopi4RhdMcJDgnrgDbv on requests per min (RPM): Limit 500, Used 500, Requested 1. Please try again in 120ms. Visit https://platform.openai.com/account/rate-limits to learn more.', 'type': 'requests', 'param': None, 'code': 'rate_limit_exceeded'}})\n",
            "INFO:backoff:Backing off classify_hostility(...) for 1.9s (openai.RateLimitError: Error code: 429 - {'error': {'message': 'Rate limit reached for gpt-3.5-turbo in organization org-zq7Modopi4RhdMcJDgnrgDbv on tokens per min (TPM): Limit 200000, Used 199785, Requested 364. Please try again in 44ms. Visit https://platform.openai.com/account/rate-limits to learn more.', 'type': 'tokens', 'param': None, 'code': 'rate_limit_exceeded'}})\n",
            "INFO:backoff:Backing off classify_hostility(...) for 1.9s (openai.RateLimitError: Error code: 429 - {'error': {'message': 'Rate limit reached for gpt-3.5-turbo in organization org-zq7Modopi4RhdMcJDgnrgDbv on requests per min (RPM): Limit 500, Used 500, Requested 1. Please try again in 120ms. Visit https://platform.openai.com/account/rate-limits to learn more.', 'type': 'requests', 'param': None, 'code': 'rate_limit_exceeded'}})\n"
          ]
        },
        {
          "output_type": "stream",
          "name": "stdout",
          "text": [
            "\n",
            "Batch 36/100 complete. Speed: 11.13 statements/sec. Est. remaining time: 4.8 minutes.\n"
          ]
        },
        {
          "output_type": "stream",
          "name": "stderr",
          "text": [
            "INFO:backoff:Backing off classify_hostility(...) for 1.2s (openai.RateLimitError: Error code: 429 - {'error': {'message': 'Rate limit reached for gpt-3.5-turbo in organization org-zq7Modopi4RhdMcJDgnrgDbv on requests per min (RPM): Limit 500, Used 500, Requested 1. Please try again in 120ms. Visit https://platform.openai.com/account/rate-limits to learn more.', 'type': 'requests', 'param': None, 'code': 'rate_limit_exceeded'}})\n",
            "INFO:backoff:Backing off classify_hostility(...) for 0.6s (openai.RateLimitError: Error code: 429 - {'error': {'message': 'Rate limit reached for gpt-3.5-turbo in organization org-zq7Modopi4RhdMcJDgnrgDbv on tokens per min (TPM): Limit 200000, Used 199633, Requested 375. Please try again in 2ms. Visit https://platform.openai.com/account/rate-limits to learn more.', 'type': 'tokens', 'param': None, 'code': 'rate_limit_exceeded'}})\n",
            "INFO:backoff:Backing off classify_hostility(...) for 0.1s (openai.RateLimitError: Error code: 429 - {'error': {'message': 'Rate limit reached for gpt-3.5-turbo in organization org-zq7Modopi4RhdMcJDgnrgDbv on requests per min (RPM): Limit 500, Used 500, Requested 1. Please try again in 120ms. Visit https://platform.openai.com/account/rate-limits to learn more.', 'type': 'requests', 'param': None, 'code': 'rate_limit_exceeded'}})\n",
            "INFO:backoff:Backing off classify_hostility(...) for 0.5s (openai.RateLimitError: Error code: 429 - {'error': {'message': 'Rate limit reached for gpt-3.5-turbo in organization org-zq7Modopi4RhdMcJDgnrgDbv on tokens per min (TPM): Limit 200000, Used 199674, Requested 356. Please try again in 9ms. Visit https://platform.openai.com/account/rate-limits to learn more.', 'type': 'tokens', 'param': None, 'code': 'rate_limit_exceeded'}})\n",
            "INFO:backoff:Backing off classify_hostility(...) for 0.5s (openai.RateLimitError: Error code: 429 - {'error': {'message': 'Rate limit reached for gpt-3.5-turbo in organization org-zq7Modopi4RhdMcJDgnrgDbv on requests per min (RPM): Limit 500, Used 500, Requested 1. Please try again in 120ms. Visit https://platform.openai.com/account/rate-limits to learn more.', 'type': 'requests', 'param': None, 'code': 'rate_limit_exceeded'}})\n",
            "INFO:backoff:Backing off classify_hostility(...) for 1.1s (openai.RateLimitError: Error code: 429 - {'error': {'message': 'Rate limit reached for gpt-3.5-turbo in organization org-zq7Modopi4RhdMcJDgnrgDbv on requests per min (RPM): Limit 500, Used 500, Requested 1. Please try again in 120ms. Visit https://platform.openai.com/account/rate-limits to learn more.', 'type': 'requests', 'param': None, 'code': 'rate_limit_exceeded'}})\n"
          ]
        },
        {
          "output_type": "stream",
          "name": "stdout",
          "text": [
            "\n",
            "Batch 37/100 complete. Speed: 11.02 statements/sec. Est. remaining time: 4.8 minutes.\n"
          ]
        },
        {
          "output_type": "stream",
          "name": "stderr",
          "text": [
            "INFO:backoff:Backing off classify_hostility(...) for 1.5s (openai.RateLimitError: Error code: 429 - {'error': {'message': 'Rate limit reached for gpt-3.5-turbo in organization org-zq7Modopi4RhdMcJDgnrgDbv on requests per min (RPM): Limit 500, Used 500, Requested 1. Please try again in 120ms. Visit https://platform.openai.com/account/rate-limits to learn more.', 'type': 'requests', 'param': None, 'code': 'rate_limit_exceeded'}})\n",
            "INFO:backoff:Backing off classify_hostility(...) for 1.0s (openai.RateLimitError: Error code: 429 - {'error': {'message': 'Rate limit reached for gpt-3.5-turbo in organization org-zq7Modopi4RhdMcJDgnrgDbv on tokens per min (TPM): Limit 200000, Used 199716, Requested 323. Please try again in 11ms. Visit https://platform.openai.com/account/rate-limits to learn more.', 'type': 'tokens', 'param': None, 'code': 'rate_limit_exceeded'}})\n",
            "INFO:backoff:Backing off classify_hostility(...) for 1.3s (openai.RateLimitError: Error code: 429 - {'error': {'message': 'Rate limit reached for gpt-3.5-turbo in organization org-zq7Modopi4RhdMcJDgnrgDbv on tokens per min (TPM): Limit 200000, Used 199706, Requested 368. Please try again in 22ms. Visit https://platform.openai.com/account/rate-limits to learn more.', 'type': 'tokens', 'param': None, 'code': 'rate_limit_exceeded'}})\n",
            "INFO:backoff:Backing off classify_hostility(...) for 0.1s (openai.RateLimitError: Error code: 429 - {'error': {'message': 'Request too large for gpt-3.5-turbo in organization org-zq7Modopi4RhdMcJDgnrgDbv on tokens per min (TPM): Limit 200000, Requested 325. The input or output tokens must be reduced in order to run successfully. Visit https://platform.openai.com/account/rate-limits to learn more.', 'type': 'tokens', 'param': None, 'code': 'rate_limit_exceeded'}})\n",
            "INFO:backoff:Backing off classify_hostility(...) for 1.4s (openai.RateLimitError: Error code: 429 - {'error': {'message': 'Rate limit reached for gpt-3.5-turbo in organization org-zq7Modopi4RhdMcJDgnrgDbv on tokens per min (TPM): Limit 200000, Used 199762, Requested 359. Please try again in 36ms. Visit https://platform.openai.com/account/rate-limits to learn more.', 'type': 'tokens', 'param': None, 'code': 'rate_limit_exceeded'}})\n",
            "INFO:backoff:Backing off classify_hostility(...) for 0.8s (openai.RateLimitError: Error code: 429 - {'error': {'message': 'Rate limit reached for gpt-3.5-turbo in organization org-zq7Modopi4RhdMcJDgnrgDbv on requests per min (RPM): Limit 500, Used 500, Requested 1. Please try again in 120ms. Visit https://platform.openai.com/account/rate-limits to learn more.', 'type': 'requests', 'param': None, 'code': 'rate_limit_exceeded'}})\n",
            "INFO:backoff:Backing off classify_hostility(...) for 1.7s (openai.RateLimitError: Error code: 429 - {'error': {'message': 'Rate limit reached for gpt-3.5-turbo in organization org-zq7Modopi4RhdMcJDgnrgDbv on tokens per min (TPM): Limit 200000, Used 199685, Requested 322. Please try again in 2ms. Visit https://platform.openai.com/account/rate-limits to learn more.', 'type': 'tokens', 'param': None, 'code': 'rate_limit_exceeded'}})\n"
          ]
        },
        {
          "output_type": "stream",
          "name": "stdout",
          "text": [
            "\n",
            "Batch 38/100 complete. Speed: 10.94 statements/sec. Est. remaining time: 4.7 minutes.\n"
          ]
        },
        {
          "output_type": "stream",
          "name": "stderr",
          "text": [
            "INFO:backoff:Backing off classify_hostility(...) for 1.2s (openai.RateLimitError: Error code: 429 - {'error': {'message': 'Rate limit reached for gpt-3.5-turbo in organization org-zq7Modopi4RhdMcJDgnrgDbv on tokens per min (TPM): Limit 200000, Used 199990, Requested 445. Please try again in 130ms. Visit https://platform.openai.com/account/rate-limits to learn more.', 'type': 'tokens', 'param': None, 'code': 'rate_limit_exceeded'}})\n",
            "INFO:backoff:Backing off classify_hostility(...) for 1.6s (openai.RateLimitError: Error code: 429 - {'error': {'message': 'Rate limit reached for gpt-3.5-turbo in organization org-zq7Modopi4RhdMcJDgnrgDbv on requests per min (RPM): Limit 500, Used 500, Requested 1. Please try again in 120ms. Visit https://platform.openai.com/account/rate-limits to learn more.', 'type': 'requests', 'param': None, 'code': 'rate_limit_exceeded'}})\n",
            "INFO:backoff:Backing off classify_hostility(...) for 1.8s (openai.RateLimitError: Error code: 429 - {'error': {'message': 'Rate limit reached for gpt-3.5-turbo in organization org-zq7Modopi4RhdMcJDgnrgDbv on requests per min (RPM): Limit 500, Used 500, Requested 1. Please try again in 120ms. Visit https://platform.openai.com/account/rate-limits to learn more.', 'type': 'requests', 'param': None, 'code': 'rate_limit_exceeded'}})\n",
            "INFO:backoff:Backing off classify_hostility(...) for 1.4s (openai.RateLimitError: Error code: 429 - {'error': {'message': 'Rate limit reached for gpt-3.5-turbo in organization org-zq7Modopi4RhdMcJDgnrgDbv on tokens per min (TPM): Limit 200000, Used 199936, Requested 350. Please try again in 85ms. Visit https://platform.openai.com/account/rate-limits to learn more.', 'type': 'tokens', 'param': None, 'code': 'rate_limit_exceeded'}})\n",
            "INFO:backoff:Backing off classify_hostility(...) for 0.9s (openai.RateLimitError: Error code: 429 - {'error': {'message': 'Rate limit reached for gpt-3.5-turbo in organization org-zq7Modopi4RhdMcJDgnrgDbv on requests per min (RPM): Limit 500, Used 500, Requested 1. Please try again in 120ms. Visit https://platform.openai.com/account/rate-limits to learn more.', 'type': 'requests', 'param': None, 'code': 'rate_limit_exceeded'}})\n",
            "INFO:backoff:Backing off classify_hostility(...) for 1.3s (openai.RateLimitError: Error code: 429 - {'error': {'message': 'Rate limit reached for gpt-3.5-turbo in organization org-zq7Modopi4RhdMcJDgnrgDbv on requests per min (RPM): Limit 500, Used 500, Requested 1. Please try again in 120ms. Visit https://platform.openai.com/account/rate-limits to learn more.', 'type': 'requests', 'param': None, 'code': 'rate_limit_exceeded'}})\n",
            "INFO:backoff:Backing off classify_hostility(...) for 0.8s (openai.RateLimitError: Error code: 429 - {'error': {'message': 'Rate limit reached for gpt-3.5-turbo in organization org-zq7Modopi4RhdMcJDgnrgDbv on tokens per min (TPM): Limit 200000, Used 199904, Requested 403. Please try again in 92ms. Visit https://platform.openai.com/account/rate-limits to learn more.', 'type': 'tokens', 'param': None, 'code': 'rate_limit_exceeded'}})\n"
          ]
        },
        {
          "output_type": "stream",
          "name": "stdout",
          "text": [
            "\n",
            "Batch 39/100 complete. Speed: 10.72 statements/sec. Est. remaining time: 4.7 minutes.\n"
          ]
        },
        {
          "output_type": "stream",
          "name": "stderr",
          "text": [
            "INFO:backoff:Backing off classify_hostility(...) for 0.1s (openai.RateLimitError: Error code: 429 - {'error': {'message': 'Rate limit reached for gpt-3.5-turbo in organization org-zq7Modopi4RhdMcJDgnrgDbv on tokens per min (TPM): Limit 200000, Used 199817, Requested 375. Please try again in 57ms. Visit https://platform.openai.com/account/rate-limits to learn more.', 'type': 'tokens', 'param': None, 'code': 'rate_limit_exceeded'}})\n",
            "INFO:backoff:Backing off classify_hostility(...) for 0.6s (openai.RateLimitError: Error code: 429 - {'error': {'message': 'Rate limit reached for gpt-3.5-turbo in organization org-zq7Modopi4RhdMcJDgnrgDbv on tokens per min (TPM): Limit 200000, Used 199638, Requested 389. Please try again in 8ms. Visit https://platform.openai.com/account/rate-limits to learn more.', 'type': 'tokens', 'param': None, 'code': 'rate_limit_exceeded'}})\n"
          ]
        },
        {
          "output_type": "stream",
          "name": "stdout",
          "text": [
            "\n",
            "Batch 40/100 complete. Speed: 10.69 statements/sec. Est. remaining time: 4.7 minutes.\n"
          ]
        },
        {
          "output_type": "stream",
          "name": "stderr",
          "text": [
            "INFO:backoff:Backing off classify_hostility(...) for 0.4s (openai.RateLimitError: Error code: 429 - {'error': {'message': 'Rate limit reached for gpt-3.5-turbo in organization org-zq7Modopi4RhdMcJDgnrgDbv on tokens per min (TPM): Limit 200000, Used 199696, Requested 366. Please try again in 18ms. Visit https://platform.openai.com/account/rate-limits to learn more.', 'type': 'tokens', 'param': None, 'code': 'rate_limit_exceeded'}})\n",
            "INFO:backoff:Backing off classify_hostility(...) for 1.9s (openai.RateLimitError: Error code: 429 - {'error': {'message': 'Rate limit reached for gpt-3.5-turbo in organization org-zq7Modopi4RhdMcJDgnrgDbv on requests per min (RPM): Limit 500, Used 500, Requested 1. Please try again in 120ms. Visit https://platform.openai.com/account/rate-limits to learn more.', 'type': 'requests', 'param': None, 'code': 'rate_limit_exceeded'}})\n",
            "INFO:backoff:Backing off classify_hostility(...) for 0.5s (openai.RateLimitError: Error code: 429 - {'error': {'message': 'Rate limit reached for gpt-3.5-turbo in organization org-zq7Modopi4RhdMcJDgnrgDbv on requests per min (RPM): Limit 500, Used 500, Requested 1. Please try again in 120ms. Visit https://platform.openai.com/account/rate-limits to learn more.', 'type': 'requests', 'param': None, 'code': 'rate_limit_exceeded'}})\n",
            "INFO:backoff:Backing off classify_hostility(...) for 0.2s (openai.RateLimitError: Error code: 429 - {'error': {'message': 'Rate limit reached for gpt-3.5-turbo in organization org-zq7Modopi4RhdMcJDgnrgDbv on tokens per min (TPM): Limit 200000, Used 199715, Requested 396. Please try again in 33ms. Visit https://platform.openai.com/account/rate-limits to learn more.', 'type': 'tokens', 'param': None, 'code': 'rate_limit_exceeded'}})\n",
            "INFO:backoff:Backing off classify_hostility(...) for 2.0s (openai.RateLimitError: Error code: 429 - {'error': {'message': 'Rate limit reached for gpt-3.5-turbo in organization org-zq7Modopi4RhdMcJDgnrgDbv on tokens per min (TPM): Limit 200000, Used 199698, Requested 365. Please try again in 18ms. Visit https://platform.openai.com/account/rate-limits to learn more.', 'type': 'tokens', 'param': None, 'code': 'rate_limit_exceeded'}})\n",
            "INFO:backoff:Backing off classify_hostility(...) for 1.6s (openai.RateLimitError: Error code: 429 - {'error': {'message': 'Rate limit reached for gpt-3.5-turbo in organization org-zq7Modopi4RhdMcJDgnrgDbv on tokens per min (TPM): Limit 200000, Used 199702, Requested 326. Please try again in 8ms. Visit https://platform.openai.com/account/rate-limits to learn more.', 'type': 'tokens', 'param': None, 'code': 'rate_limit_exceeded'}})\n",
            "INFO:backoff:Backing off classify_hostility(...) for 0.6s (openai.RateLimitError: Error code: 429 - {'error': {'message': 'Rate limit reached for gpt-3.5-turbo in organization org-zq7Modopi4RhdMcJDgnrgDbv on tokens per min (TPM): Limit 200000, Used 199953, Requested 322. Please try again in 82ms. Visit https://platform.openai.com/account/rate-limits to learn more.', 'type': 'tokens', 'param': None, 'code': 'rate_limit_exceeded'}})\n",
            "INFO:backoff:Backing off classify_hostility(...) for 0.3s (openai.RateLimitError: Error code: 429 - {'error': {'message': 'Rate limit reached for gpt-3.5-turbo in organization org-zq7Modopi4RhdMcJDgnrgDbv on tokens per min (TPM): Limit 200000, Used 199690, Requested 324. Please try again in 4ms. Visit https://platform.openai.com/account/rate-limits to learn more.', 'type': 'tokens', 'param': None, 'code': 'rate_limit_exceeded'}})\n",
            "INFO:backoff:Backing off classify_hostility(...) for 0.8s (openai.RateLimitError: Error code: 429 - {'error': {'message': 'Rate limit reached for gpt-3.5-turbo in organization org-zq7Modopi4RhdMcJDgnrgDbv on requests per min (RPM): Limit 500, Used 500, Requested 1. Please try again in 120ms. Visit https://platform.openai.com/account/rate-limits to learn more.', 'type': 'requests', 'param': None, 'code': 'rate_limit_exceeded'}})\n"
          ]
        },
        {
          "output_type": "stream",
          "name": "stdout",
          "text": [
            "\n",
            "Batch 41/100 complete. Speed: 10.66 statements/sec. Est. remaining time: 4.6 minutes.\n"
          ]
        },
        {
          "output_type": "stream",
          "name": "stderr",
          "text": [
            "INFO:backoff:Backing off classify_hostility(...) for 1.5s (openai.RateLimitError: Error code: 429 - {'error': {'message': 'Rate limit reached for gpt-3.5-turbo in organization org-zq7Modopi4RhdMcJDgnrgDbv on requests per min (RPM): Limit 500, Used 500, Requested 1. Please try again in 120ms. Visit https://platform.openai.com/account/rate-limits to learn more.', 'type': 'requests', 'param': None, 'code': 'rate_limit_exceeded'}})\n",
            "INFO:backoff:Backing off classify_hostility(...) for 0.4s (openai.RateLimitError: Error code: 429 - {'error': {'message': 'Rate limit reached for gpt-3.5-turbo in organization org-zq7Modopi4RhdMcJDgnrgDbv on tokens per min (TPM): Limit 200000, Used 199673, Requested 368. Please try again in 12ms. Visit https://platform.openai.com/account/rate-limits to learn more.', 'type': 'tokens', 'param': None, 'code': 'rate_limit_exceeded'}})\n",
            "INFO:backoff:Backing off classify_hostility(...) for 0.2s (openai.RateLimitError: Error code: 429 - {'error': {'message': 'Rate limit reached for gpt-3.5-turbo in organization org-zq7Modopi4RhdMcJDgnrgDbv on tokens per min (TPM): Limit 200000, Used 199634, Requested 428. Please try again in 18ms. Visit https://platform.openai.com/account/rate-limits to learn more.', 'type': 'tokens', 'param': None, 'code': 'rate_limit_exceeded'}})\n",
            "INFO:backoff:Backing off classify_hostility(...) for 1.6s (openai.RateLimitError: Error code: 429 - {'error': {'message': 'Rate limit reached for gpt-3.5-turbo in organization org-zq7Modopi4RhdMcJDgnrgDbv on tokens per min (TPM): Limit 200000, Used 199709, Requested 324. Please try again in 9ms. Visit https://platform.openai.com/account/rate-limits to learn more.', 'type': 'tokens', 'param': None, 'code': 'rate_limit_exceeded'}})\n",
            "INFO:backoff:Backing off classify_hostility(...) for 0.1s (openai.RateLimitError: Error code: 429 - {'error': {'message': 'Rate limit reached for gpt-3.5-turbo in organization org-zq7Modopi4RhdMcJDgnrgDbv on tokens per min (TPM): Limit 200000, Used 199866, Requested 377. Please try again in 72ms. Visit https://platform.openai.com/account/rate-limits to learn more.', 'type': 'tokens', 'param': None, 'code': 'rate_limit_exceeded'}})\n",
            "INFO:backoff:Backing off classify_hostility(...) for 1.6s (openai.RateLimitError: Error code: 429 - {'error': {'message': 'Rate limit reached for gpt-3.5-turbo in organization org-zq7Modopi4RhdMcJDgnrgDbv on tokens per min (TPM): Limit 200000, Used 199664, Requested 384. Please try again in 14ms. Visit https://platform.openai.com/account/rate-limits to learn more.', 'type': 'tokens', 'param': None, 'code': 'rate_limit_exceeded'}})\n",
            "INFO:backoff:Backing off classify_hostility(...) for 2.9s (openai.RateLimitError: Error code: 429 - {'error': {'message': 'Rate limit reached for gpt-3.5-turbo in organization org-zq7Modopi4RhdMcJDgnrgDbv on tokens per min (TPM): Limit 200000, Used 199656, Requested 428. Please try again in 25ms. Visit https://platform.openai.com/account/rate-limits to learn more.', 'type': 'tokens', 'param': None, 'code': 'rate_limit_exceeded'}})\n",
            "INFO:backoff:Backing off classify_hostility(...) for 1.7s (openai.RateLimitError: Error code: 429 - {'error': {'message': 'Rate limit reached for gpt-3.5-turbo in organization org-zq7Modopi4RhdMcJDgnrgDbv on requests per min (RPM): Limit 500, Used 500, Requested 1. Please try again in 120ms. Visit https://platform.openai.com/account/rate-limits to learn more.', 'type': 'requests', 'param': None, 'code': 'rate_limit_exceeded'}})\n",
            "INFO:backoff:Backing off classify_hostility(...) for 0.1s (openai.RateLimitError: Error code: 429 - {'error': {'message': 'Rate limit reached for gpt-3.5-turbo in organization org-zq7Modopi4RhdMcJDgnrgDbv on tokens per min (TPM): Limit 200000, Used 199700, Requested 352. Please try again in 15ms. Visit https://platform.openai.com/account/rate-limits to learn more.', 'type': 'tokens', 'param': None, 'code': 'rate_limit_exceeded'}})\n",
            "INFO:backoff:Backing off classify_hostility(...) for 1.6s (openai.RateLimitError: Error code: 429 - {'error': {'message': 'Rate limit reached for gpt-3.5-turbo in organization org-zq7Modopi4RhdMcJDgnrgDbv on tokens per min (TPM): Limit 200000, Used 199681, Requested 368. Please try again in 14ms. Visit https://platform.openai.com/account/rate-limits to learn more.', 'type': 'tokens', 'param': None, 'code': 'rate_limit_exceeded'}})\n",
            "INFO:backoff:Backing off classify_hostility(...) for 1.1s (openai.RateLimitError: Error code: 429 - {'error': {'message': 'Rate limit reached for gpt-3.5-turbo in organization org-zq7Modopi4RhdMcJDgnrgDbv on tokens per min (TPM): Limit 200000, Used 199541, Requested 915. Please try again in 136ms. Visit https://platform.openai.com/account/rate-limits to learn more.', 'type': 'tokens', 'param': None, 'code': 'rate_limit_exceeded'}})\n",
            "INFO:backoff:Backing off classify_hostility(...) for 1.4s (openai.RateLimitError: Error code: 429 - {'error': {'message': 'Rate limit reached for gpt-3.5-turbo in organization org-zq7Modopi4RhdMcJDgnrgDbv on requests per min (RPM): Limit 500, Used 500, Requested 1. Please try again in 120ms. Visit https://platform.openai.com/account/rate-limits to learn more.', 'type': 'requests', 'param': None, 'code': 'rate_limit_exceeded'}})\n",
            "ERROR:backoff:Giving up classify_hostility(...) after 3 tries (openai.RateLimitError: Error code: 429 - {'error': {'message': 'Rate limit reached for gpt-3.5-turbo in organization org-zq7Modopi4RhdMcJDgnrgDbv on requests per min (RPM): Limit 500, Used 500, Requested 1. Please try again in 120ms. Visit https://platform.openai.com/account/rate-limits to learn more.', 'type': 'requests', 'param': None, 'code': 'rate_limit_exceeded'}})\n",
            "INFO:backoff:Backing off classify_hostility(...) for 0.3s (openai.RateLimitError: Error code: 429 - {'error': {'message': 'Rate limit reached for gpt-3.5-turbo in organization org-zq7Modopi4RhdMcJDgnrgDbv on tokens per min (TPM): Limit 200000, Used 199733, Requested 355. Please try again in 26ms. Visit https://platform.openai.com/account/rate-limits to learn more.', 'type': 'tokens', 'param': None, 'code': 'rate_limit_exceeded'}})\n",
            "INFO:backoff:Backing off classify_hostility(...) for 0.7s (openai.RateLimitError: Error code: 429 - {'error': {'message': 'Rate limit reached for gpt-3.5-turbo in organization org-zq7Modopi4RhdMcJDgnrgDbv on tokens per min (TPM): Limit 200000, Used 199678, Requested 331. Please try again in 2ms. Visit https://platform.openai.com/account/rate-limits to learn more.', 'type': 'tokens', 'param': None, 'code': 'rate_limit_exceeded'}})\n"
          ]
        },
        {
          "output_type": "stream",
          "name": "stdout",
          "text": [
            "Error on statement 3578: Error code: 429 - {'error': {'message': 'Rate limit reached for gpt-3.5-turbo in organization org-zq7Modopi4RhdMcJDgnrgDbv on requests per min (RPM): Limit 500, Used 500, Requested 1. Please try again in 120ms. Visit https://platform.openai.com/account/rate-limits to learn more.', 'type': 'requests', 'param': None, 'code': 'rate_limit_exceeded'}}\n"
          ]
        },
        {
          "output_type": "stream",
          "name": "stderr",
          "text": [
            "INFO:backoff:Backing off classify_hostility(...) for 0.5s (openai.RateLimitError: Error code: 429 - {'error': {'message': 'Rate limit reached for gpt-3.5-turbo in organization org-zq7Modopi4RhdMcJDgnrgDbv on tokens per min (TPM): Limit 200000, Used 199849, Requested 415. Please try again in 79ms. Visit https://platform.openai.com/account/rate-limits to learn more.', 'type': 'tokens', 'param': None, 'code': 'rate_limit_exceeded'}})\n",
            "INFO:backoff:Backing off classify_hostility(...) for 1.5s (openai.RateLimitError: Error code: 429 - {'error': {'message': 'Rate limit reached for gpt-3.5-turbo in organization org-zq7Modopi4RhdMcJDgnrgDbv on tokens per min (TPM): Limit 200000, Used 199903, Requested 324. Please try again in 68ms. Visit https://platform.openai.com/account/rate-limits to learn more.', 'type': 'tokens', 'param': None, 'code': 'rate_limit_exceeded'}})\n",
            "INFO:backoff:Backing off classify_hostility(...) for 2.0s (openai.RateLimitError: Error code: 429 - {'error': {'message': 'Rate limit reached for gpt-3.5-turbo in organization org-zq7Modopi4RhdMcJDgnrgDbv on requests per min (RPM): Limit 500, Used 500, Requested 1. Please try again in 120ms. Visit https://platform.openai.com/account/rate-limits to learn more.', 'type': 'requests', 'param': None, 'code': 'rate_limit_exceeded'}})\n",
            "INFO:backoff:Backing off classify_hostility(...) for 1.1s (openai.RateLimitError: Error code: 429 - {'error': {'message': 'Rate limit reached for gpt-3.5-turbo in organization org-zq7Modopi4RhdMcJDgnrgDbv on tokens per min (TPM): Limit 200000, Used 199843, Requested 323. Please try again in 49ms. Visit https://platform.openai.com/account/rate-limits to learn more.', 'type': 'tokens', 'param': None, 'code': 'rate_limit_exceeded'}})\n",
            "INFO:backoff:Backing off classify_hostility(...) for 0.6s (openai.RateLimitError: Error code: 429 - {'error': {'message': 'Rate limit reached for gpt-3.5-turbo in organization org-zq7Modopi4RhdMcJDgnrgDbv on requests per min (RPM): Limit 500, Used 500, Requested 1. Please try again in 120ms. Visit https://platform.openai.com/account/rate-limits to learn more.', 'type': 'requests', 'param': None, 'code': 'rate_limit_exceeded'}})\n",
            "INFO:backoff:Backing off classify_hostility(...) for 2.6s (openai.RateLimitError: Error code: 429 - {'error': {'message': 'Rate limit reached for gpt-3.5-turbo in organization org-zq7Modopi4RhdMcJDgnrgDbv on requests per min (RPM): Limit 500, Used 500, Requested 1. Please try again in 120ms. Visit https://platform.openai.com/account/rate-limits to learn more.', 'type': 'requests', 'param': None, 'code': 'rate_limit_exceeded'}})\n"
          ]
        },
        {
          "output_type": "stream",
          "name": "stdout",
          "text": [
            "\n",
            "Batch 42/100 complete. Speed: 10.39 statements/sec. Est. remaining time: 4.6 minutes.\n"
          ]
        },
        {
          "output_type": "stream",
          "name": "stderr",
          "text": [
            "INFO:backoff:Backing off classify_hostility(...) for 0.0s (openai.RateLimitError: Error code: 429 - {'error': {'message': 'Rate limit reached for gpt-3.5-turbo in organization org-zq7Modopi4RhdMcJDgnrgDbv on tokens per min (TPM): Limit 200000, Used 199693, Requested 359. Please try again in 15ms. Visit https://platform.openai.com/account/rate-limits to learn more.', 'type': 'tokens', 'param': None, 'code': 'rate_limit_exceeded'}})\n",
            "INFO:backoff:Backing off classify_hostility(...) for 0.2s (openai.RateLimitError: Error code: 429 - {'error': {'message': 'Rate limit reached for gpt-3.5-turbo in organization org-zq7Modopi4RhdMcJDgnrgDbv on requests per min (RPM): Limit 500, Used 500, Requested 1. Please try again in 120ms. Visit https://platform.openai.com/account/rate-limits to learn more.', 'type': 'requests', 'param': None, 'code': 'rate_limit_exceeded'}})\n",
            "INFO:backoff:Backing off classify_hostility(...) for 1.1s (openai.RateLimitError: Error code: 429 - {'error': {'message': 'Rate limit reached for gpt-3.5-turbo in organization org-zq7Modopi4RhdMcJDgnrgDbv on tokens per min (TPM): Limit 200000, Used 199616, Requested 390. Please try again in 1ms. Visit https://platform.openai.com/account/rate-limits to learn more.', 'type': 'tokens', 'param': None, 'code': 'rate_limit_exceeded'}})\n",
            "INFO:backoff:Backing off classify_hostility(...) for 1.6s (openai.RateLimitError: Error code: 429 - {'error': {'message': 'Rate limit reached for gpt-3.5-turbo in organization org-zq7Modopi4RhdMcJDgnrgDbv on requests per min (RPM): Limit 500, Used 500, Requested 1. Please try again in 120ms. Visit https://platform.openai.com/account/rate-limits to learn more.', 'type': 'requests', 'param': None, 'code': 'rate_limit_exceeded'}})\n",
            "INFO:backoff:Backing off classify_hostility(...) for 1.2s (openai.RateLimitError: Error code: 429 - {'error': {'message': 'Rate limit reached for gpt-3.5-turbo in organization org-zq7Modopi4RhdMcJDgnrgDbv on requests per min (RPM): Limit 500, Used 500, Requested 1. Please try again in 120ms. Visit https://platform.openai.com/account/rate-limits to learn more.', 'type': 'requests', 'param': None, 'code': 'rate_limit_exceeded'}})\n",
            "INFO:backoff:Backing off classify_hostility(...) for 0.7s (openai.RateLimitError: Error code: 429 - {'error': {'message': 'Rate limit reached for gpt-3.5-turbo in organization org-zq7Modopi4RhdMcJDgnrgDbv on requests per min (RPM): Limit 500, Used 500, Requested 1. Please try again in 120ms. Visit https://platform.openai.com/account/rate-limits to learn more.', 'type': 'requests', 'param': None, 'code': 'rate_limit_exceeded'}})\n",
            "INFO:backoff:Backing off classify_hostility(...) for 1.5s (openai.RateLimitError: Error code: 429 - {'error': {'message': 'Rate limit reached for gpt-3.5-turbo in organization org-zq7Modopi4RhdMcJDgnrgDbv on tokens per min (TPM): Limit 200000, Used 199973, Requested 359. Please try again in 99ms. Visit https://platform.openai.com/account/rate-limits to learn more.', 'type': 'tokens', 'param': None, 'code': 'rate_limit_exceeded'}})\n"
          ]
        },
        {
          "output_type": "stream",
          "name": "stdout",
          "text": [
            "\n",
            "Batch 43/100 complete. Speed: 10.36 statements/sec. Est. remaining time: 4.6 minutes.\n"
          ]
        },
        {
          "output_type": "stream",
          "name": "stderr",
          "text": [
            "INFO:backoff:Backing off classify_hostility(...) for 1.2s (openai.RateLimitError: Error code: 429 - {'error': {'message': 'Rate limit reached for gpt-3.5-turbo in organization org-zq7Modopi4RhdMcJDgnrgDbv on tokens per min (TPM): Limit 200000, Used 199971, Requested 373. Please try again in 103ms. Visit https://platform.openai.com/account/rate-limits to learn more.', 'type': 'tokens', 'param': None, 'code': 'rate_limit_exceeded'}})\n",
            "INFO:backoff:Backing off classify_hostility(...) for 1.8s (openai.RateLimitError: Error code: 429 - {'error': {'message': 'Rate limit reached for gpt-3.5-turbo in organization org-zq7Modopi4RhdMcJDgnrgDbv on tokens per min (TPM): Limit 200000, Used 199839, Requested 345. Please try again in 55ms. Visit https://platform.openai.com/account/rate-limits to learn more.', 'type': 'tokens', 'param': None, 'code': 'rate_limit_exceeded'}})\n",
            "INFO:backoff:Backing off classify_hostility(...) for 1.3s (openai.RateLimitError: Error code: 429 - {'error': {'message': 'Rate limit reached for gpt-3.5-turbo in organization org-zq7Modopi4RhdMcJDgnrgDbv on requests per min (RPM): Limit 500, Used 500, Requested 1. Please try again in 120ms. Visit https://platform.openai.com/account/rate-limits to learn more.', 'type': 'requests', 'param': None, 'code': 'rate_limit_exceeded'}})\n",
            "INFO:backoff:Backing off classify_hostility(...) for 2.0s (openai.RateLimitError: Error code: 429 - {'error': {'message': 'Rate limit reached for gpt-3.5-turbo in organization org-zq7Modopi4RhdMcJDgnrgDbv on tokens per min (TPM): Limit 200000, Used 199740, Requested 337. Please try again in 23ms. Visit https://platform.openai.com/account/rate-limits to learn more.', 'type': 'tokens', 'param': None, 'code': 'rate_limit_exceeded'}})\n",
            "INFO:backoff:Backing off classify_hostility(...) for 1.0s (openai.RateLimitError: Error code: 429 - {'error': {'message': 'Rate limit reached for gpt-3.5-turbo in organization org-zq7Modopi4RhdMcJDgnrgDbv on tokens per min (TPM): Limit 200000, Used 199657, Requested 382. Please try again in 11ms. Visit https://platform.openai.com/account/rate-limits to learn more.', 'type': 'tokens', 'param': None, 'code': 'rate_limit_exceeded'}})\n",
            "INFO:backoff:Backing off classify_hostility(...) for 2.0s (openai.RateLimitError: Error code: 429 - {'error': {'message': 'Rate limit reached for gpt-3.5-turbo in organization org-zq7Modopi4RhdMcJDgnrgDbv on tokens per min (TPM): Limit 200000, Used 199653, Requested 358. Please try again in 3ms. Visit https://platform.openai.com/account/rate-limits to learn more.', 'type': 'tokens', 'param': None, 'code': 'rate_limit_exceeded'}})\n",
            "INFO:backoff:Backing off classify_hostility(...) for 1.9s (openai.RateLimitError: Error code: 429 - {'error': {'message': 'Rate limit reached for gpt-3.5-turbo in organization org-zq7Modopi4RhdMcJDgnrgDbv on tokens per min (TPM): Limit 200000, Used 199678, Requested 371. Please try again in 14ms. Visit https://platform.openai.com/account/rate-limits to learn more.', 'type': 'tokens', 'param': None, 'code': 'rate_limit_exceeded'}})\n",
            "INFO:backoff:Backing off classify_hostility(...) for 1.2s (openai.RateLimitError: Error code: 429 - {'error': {'message': 'Rate limit reached for gpt-3.5-turbo in organization org-zq7Modopi4RhdMcJDgnrgDbv on tokens per min (TPM): Limit 200000, Used 199667, Requested 358. Please try again in 7ms. Visit https://platform.openai.com/account/rate-limits to learn more.', 'type': 'tokens', 'param': None, 'code': 'rate_limit_exceeded'}})\n"
          ]
        },
        {
          "output_type": "stream",
          "name": "stdout",
          "text": [
            "\n",
            "Batch 44/100 complete. Speed: 10.27 statements/sec. Est. remaining time: 4.5 minutes.\n"
          ]
        },
        {
          "output_type": "stream",
          "name": "stderr",
          "text": [
            "INFO:backoff:Backing off classify_hostility(...) for 1.5s (openai.RateLimitError: Error code: 429 - {'error': {'message': 'Rate limit reached for gpt-3.5-turbo in organization org-zq7Modopi4RhdMcJDgnrgDbv on tokens per min (TPM): Limit 200000, Used 199658, Requested 377. Please try again in 10ms. Visit https://platform.openai.com/account/rate-limits to learn more.', 'type': 'tokens', 'param': None, 'code': 'rate_limit_exceeded'}})\n",
            "INFO:backoff:Backing off classify_hostility(...) for 0.2s (openai.RateLimitError: Error code: 429 - {'error': {'message': 'Rate limit reached for gpt-3.5-turbo in organization org-zq7Modopi4RhdMcJDgnrgDbv on tokens per min (TPM): Limit 200000, Used 199677, Requested 352. Please try again in 8ms. Visit https://platform.openai.com/account/rate-limits to learn more.', 'type': 'tokens', 'param': None, 'code': 'rate_limit_exceeded'}})\n",
            "INFO:backoff:Backing off classify_hostility(...) for 1.6s (openai.RateLimitError: Error code: 429 - {'error': {'message': 'Rate limit reached for gpt-3.5-turbo in organization org-zq7Modopi4RhdMcJDgnrgDbv on requests per min (RPM): Limit 500, Used 500, Requested 1. Please try again in 120ms. Visit https://platform.openai.com/account/rate-limits to learn more.', 'type': 'requests', 'param': None, 'code': 'rate_limit_exceeded'}})\n",
            "INFO:backoff:Backing off classify_hostility(...) for 0.8s (openai.RateLimitError: Error code: 429 - {'error': {'message': 'Rate limit reached for gpt-3.5-turbo in organization org-zq7Modopi4RhdMcJDgnrgDbv on tokens per min (TPM): Limit 200000, Used 199958, Requested 355. Please try again in 93ms. Visit https://platform.openai.com/account/rate-limits to learn more.', 'type': 'tokens', 'param': None, 'code': 'rate_limit_exceeded'}})\n",
            "INFO:backoff:Backing off classify_hostility(...) for 0.3s (openai.RateLimitError: Error code: 429 - {'error': {'message': 'Rate limit reached for gpt-3.5-turbo in organization org-zq7Modopi4RhdMcJDgnrgDbv on requests per min (RPM): Limit 500, Used 500, Requested 1. Please try again in 120ms. Visit https://platform.openai.com/account/rate-limits to learn more.', 'type': 'requests', 'param': None, 'code': 'rate_limit_exceeded'}})\n",
            "INFO:backoff:Backing off classify_hostility(...) for 1.1s (openai.RateLimitError: Error code: 429 - {'error': {'message': 'Rate limit reached for gpt-3.5-turbo in organization org-zq7Modopi4RhdMcJDgnrgDbv on tokens per min (TPM): Limit 200000, Used 199734, Requested 418. Please try again in 45ms. Visit https://platform.openai.com/account/rate-limits to learn more.', 'type': 'tokens', 'param': None, 'code': 'rate_limit_exceeded'}})\n",
            "INFO:backoff:Backing off classify_hostility(...) for 1.0s (openai.RateLimitError: Error code: 429 - {'error': {'message': 'Rate limit reached for gpt-3.5-turbo in organization org-zq7Modopi4RhdMcJDgnrgDbv on requests per min (RPM): Limit 500, Used 500, Requested 1. Please try again in 120ms. Visit https://platform.openai.com/account/rate-limits to learn more.', 'type': 'requests', 'param': None, 'code': 'rate_limit_exceeded'}})\n",
            "INFO:backoff:Backing off classify_hostility(...) for 1.9s (openai.RateLimitError: Error code: 429 - {'error': {'message': 'Rate limit reached for gpt-3.5-turbo in organization org-zq7Modopi4RhdMcJDgnrgDbv on tokens per min (TPM): Limit 200000, Used 199589, Requested 418. Please try again in 2ms. Visit https://platform.openai.com/account/rate-limits to learn more.', 'type': 'tokens', 'param': None, 'code': 'rate_limit_exceeded'}})\n",
            "INFO:backoff:Backing off classify_hostility(...) for 0.5s (openai.RateLimitError: Error code: 429 - {'error': {'message': 'Rate limit reached for gpt-3.5-turbo in organization org-zq7Modopi4RhdMcJDgnrgDbv on requests per min (RPM): Limit 500, Used 500, Requested 1. Please try again in 120ms. Visit https://platform.openai.com/account/rate-limits to learn more.', 'type': 'requests', 'param': None, 'code': 'rate_limit_exceeded'}})\n",
            "INFO:backoff:Backing off classify_hostility(...) for 0.9s (openai.RateLimitError: Error code: 429 - {'error': {'message': 'Rate limit reached for gpt-3.5-turbo in organization org-zq7Modopi4RhdMcJDgnrgDbv on requests per min (RPM): Limit 500, Used 500, Requested 1. Please try again in 120ms. Visit https://platform.openai.com/account/rate-limits to learn more.', 'type': 'requests', 'param': None, 'code': 'rate_limit_exceeded'}})\n",
            "INFO:backoff:Backing off classify_hostility(...) for 1.4s (openai.RateLimitError: Error code: 429 - {'error': {'message': 'Request too large for gpt-3.5-turbo in organization org-zq7Modopi4RhdMcJDgnrgDbv on tokens per min (TPM): Limit 200000, Requested 353. The input or output tokens must be reduced in order to run successfully. Visit https://platform.openai.com/account/rate-limits to learn more.', 'type': 'tokens', 'param': None, 'code': 'rate_limit_exceeded'}})\n",
            "INFO:backoff:Backing off classify_hostility(...) for 0.3s (openai.RateLimitError: Error code: 429 - {'error': {'message': 'Rate limit reached for gpt-3.5-turbo in organization org-zq7Modopi4RhdMcJDgnrgDbv on tokens per min (TPM): Limit 200000, Used 199626, Requested 430. Please try again in 16ms. Visit https://platform.openai.com/account/rate-limits to learn more.', 'type': 'tokens', 'param': None, 'code': 'rate_limit_exceeded'}})\n"
          ]
        },
        {
          "output_type": "stream",
          "name": "stdout",
          "text": [
            "\n",
            "Batch 45/100 complete. Speed: 10.18 statements/sec. Est. remaining time: 4.5 minutes.\n"
          ]
        },
        {
          "output_type": "stream",
          "name": "stderr",
          "text": [
            "INFO:backoff:Backing off classify_hostility(...) for 1.3s (openai.RateLimitError: Error code: 429 - {'error': {'message': 'Rate limit reached for gpt-3.5-turbo in organization org-zq7Modopi4RhdMcJDgnrgDbv on requests per min (RPM): Limit 500, Used 500, Requested 1. Please try again in 120ms. Visit https://platform.openai.com/account/rate-limits to learn more.', 'type': 'requests', 'param': None, 'code': 'rate_limit_exceeded'}})\n",
            "INFO:backoff:Backing off classify_hostility(...) for 1.3s (openai.RateLimitError: Error code: 429 - {'error': {'message': 'Rate limit reached for gpt-3.5-turbo in organization org-zq7Modopi4RhdMcJDgnrgDbv on requests per min (RPM): Limit 500, Used 500, Requested 1. Please try again in 120ms. Visit https://platform.openai.com/account/rate-limits to learn more.', 'type': 'requests', 'param': None, 'code': 'rate_limit_exceeded'}})\n",
            "INFO:backoff:Backing off classify_hostility(...) for 0.6s (openai.RateLimitError: Error code: 429 - {'error': {'message': 'Rate limit reached for gpt-3.5-turbo in organization org-zq7Modopi4RhdMcJDgnrgDbv on requests per min (RPM): Limit 500, Used 500, Requested 1. Please try again in 120ms. Visit https://platform.openai.com/account/rate-limits to learn more.', 'type': 'requests', 'param': None, 'code': 'rate_limit_exceeded'}})\n",
            "INFO:backoff:Backing off classify_hostility(...) for 0.4s (openai.RateLimitError: Error code: 429 - {'error': {'message': 'Rate limit reached for gpt-3.5-turbo in organization org-zq7Modopi4RhdMcJDgnrgDbv on tokens per min (TPM): Limit 200000, Used 199668, Requested 386. Please try again in 16ms. Visit https://platform.openai.com/account/rate-limits to learn more.', 'type': 'tokens', 'param': None, 'code': 'rate_limit_exceeded'}})\n",
            "INFO:backoff:Backing off classify_hostility(...) for 0.7s (openai.RateLimitError: Error code: 429 - {'error': {'message': 'Rate limit reached for gpt-3.5-turbo in organization org-zq7Modopi4RhdMcJDgnrgDbv on tokens per min (TPM): Limit 200000, Used 199789, Requested 329. Please try again in 35ms. Visit https://platform.openai.com/account/rate-limits to learn more.', 'type': 'tokens', 'param': None, 'code': 'rate_limit_exceeded'}})\n",
            "INFO:backoff:Backing off classify_hostility(...) for 0.9s (openai.RateLimitError: Error code: 429 - {'error': {'message': 'Rate limit reached for gpt-3.5-turbo in organization org-zq7Modopi4RhdMcJDgnrgDbv on tokens per min (TPM): Limit 200000, Used 199641, Requested 405. Please try again in 13ms. Visit https://platform.openai.com/account/rate-limits to learn more.', 'type': 'tokens', 'param': None, 'code': 'rate_limit_exceeded'}})\n",
            "INFO:backoff:Backing off classify_hostility(...) for 3.3s (openai.RateLimitError: Error code: 429 - {'error': {'message': 'Request too large for gpt-3.5-turbo in organization org-zq7Modopi4RhdMcJDgnrgDbv on tokens per min (TPM): Limit 200000, Requested 329. The input or output tokens must be reduced in order to run successfully. Visit https://platform.openai.com/account/rate-limits to learn more.', 'type': 'tokens', 'param': None, 'code': 'rate_limit_exceeded'}})\n",
            "INFO:backoff:Backing off classify_hostility(...) for 0.3s (openai.RateLimitError: Error code: 429 - {'error': {'message': 'Rate limit reached for gpt-3.5-turbo in organization org-zq7Modopi4RhdMcJDgnrgDbv on tokens per min (TPM): Limit 200000, Used 199750, Requested 428. Please try again in 53ms. Visit https://platform.openai.com/account/rate-limits to learn more.', 'type': 'tokens', 'param': None, 'code': 'rate_limit_exceeded'}})\n",
            "INFO:backoff:Backing off classify_hostility(...) for 0.0s (openai.RateLimitError: Error code: 429 - {'error': {'message': 'Rate limit reached for gpt-3.5-turbo in organization org-zq7Modopi4RhdMcJDgnrgDbv on requests per min (RPM): Limit 500, Used 500, Requested 1. Please try again in 120ms. Visit https://platform.openai.com/account/rate-limits to learn more.', 'type': 'requests', 'param': None, 'code': 'rate_limit_exceeded'}})\n",
            "INFO:backoff:Backing off classify_hostility(...) for 0.9s (openai.RateLimitError: Error code: 429 - {'error': {'message': 'Rate limit reached for gpt-3.5-turbo in organization org-zq7Modopi4RhdMcJDgnrgDbv on requests per min (RPM): Limit 500, Used 500, Requested 1. Please try again in 120ms. Visit https://platform.openai.com/account/rate-limits to learn more.', 'type': 'requests', 'param': None, 'code': 'rate_limit_exceeded'}})\n",
            "INFO:backoff:Backing off classify_hostility(...) for 0.8s (openai.RateLimitError: Error code: 429 - {'error': {'message': 'Rate limit reached for gpt-3.5-turbo in organization org-zq7Modopi4RhdMcJDgnrgDbv on requests per min (RPM): Limit 500, Used 500, Requested 1. Please try again in 120ms. Visit https://platform.openai.com/account/rate-limits to learn more.', 'type': 'requests', 'param': None, 'code': 'rate_limit_exceeded'}})\n",
            "INFO:backoff:Backing off classify_hostility(...) for 1.6s (openai.RateLimitError: Error code: 429 - {'error': {'message': 'Rate limit reached for gpt-3.5-turbo in organization org-zq7Modopi4RhdMcJDgnrgDbv on tokens per min (TPM): Limit 200000, Used 199706, Requested 319. Please try again in 7ms. Visit https://platform.openai.com/account/rate-limits to learn more.', 'type': 'tokens', 'param': None, 'code': 'rate_limit_exceeded'}})\n",
            "INFO:backoff:Backing off classify_hostility(...) for 1.7s (openai.RateLimitError: Error code: 429 - {'error': {'message': 'Rate limit reached for gpt-3.5-turbo in organization org-zq7Modopi4RhdMcJDgnrgDbv on tokens per min (TPM): Limit 200000, Used 200000, Requested 326. Please try again in 97ms. Visit https://platform.openai.com/account/rate-limits to learn more.', 'type': 'tokens', 'param': None, 'code': 'rate_limit_exceeded'}})\n",
            "INFO:backoff:Backing off classify_hostility(...) for 2.6s (openai.RateLimitError: Error code: 429 - {'error': {'message': 'Rate limit reached for gpt-3.5-turbo in organization org-zq7Modopi4RhdMcJDgnrgDbv on tokens per min (TPM): Limit 200000, Used 199940, Requested 428. Please try again in 110ms. Visit https://platform.openai.com/account/rate-limits to learn more.', 'type': 'tokens', 'param': None, 'code': 'rate_limit_exceeded'}})\n",
            "INFO:backoff:Backing off classify_hostility(...) for 2.3s (openai.RateLimitError: Error code: 429 - {'error': {'message': 'Rate limit reached for gpt-3.5-turbo in organization org-zq7Modopi4RhdMcJDgnrgDbv on requests per min (RPM): Limit 500, Used 500, Requested 1. Please try again in 120ms. Visit https://platform.openai.com/account/rate-limits to learn more.', 'type': 'requests', 'param': None, 'code': 'rate_limit_exceeded'}})\n",
            "INFO:backoff:Backing off classify_hostility(...) for 1.7s (openai.RateLimitError: Error code: 429 - {'error': {'message': 'Rate limit reached for gpt-3.5-turbo in organization org-zq7Modopi4RhdMcJDgnrgDbv on tokens per min (TPM): Limit 200000, Used 199595, Requested 461. Please try again in 16ms. Visit https://platform.openai.com/account/rate-limits to learn more.', 'type': 'tokens', 'param': None, 'code': 'rate_limit_exceeded'}})\n"
          ]
        },
        {
          "output_type": "stream",
          "name": "stdout",
          "text": [
            "\n",
            "Batch 46/100 complete. Speed: 10.05 statements/sec. Est. remaining time: 4.5 minutes.\n"
          ]
        },
        {
          "output_type": "stream",
          "name": "stderr",
          "text": [
            "INFO:backoff:Backing off classify_hostility(...) for 1.8s (openai.RateLimitError: Error code: 429 - {'error': {'message': 'Rate limit reached for gpt-3.5-turbo in organization org-zq7Modopi4RhdMcJDgnrgDbv on tokens per min (TPM): Limit 200000, Used 199680, Requested 399. Please try again in 23ms. Visit https://platform.openai.com/account/rate-limits to learn more.', 'type': 'tokens', 'param': None, 'code': 'rate_limit_exceeded'}})\n",
            "INFO:backoff:Backing off classify_hostility(...) for 1.3s (openai.RateLimitError: Error code: 429 - {'error': {'message': 'Rate limit reached for gpt-3.5-turbo in organization org-zq7Modopi4RhdMcJDgnrgDbv on tokens per min (TPM): Limit 200000, Used 199769, Requested 427. Please try again in 58ms. Visit https://platform.openai.com/account/rate-limits to learn more.', 'type': 'tokens', 'param': None, 'code': 'rate_limit_exceeded'}})\n",
            "INFO:backoff:Backing off classify_hostility(...) for 0.8s (openai.RateLimitError: Error code: 429 - {'error': {'message': 'Rate limit reached for gpt-3.5-turbo in organization org-zq7Modopi4RhdMcJDgnrgDbv on requests per min (RPM): Limit 500, Used 500, Requested 1. Please try again in 120ms. Visit https://platform.openai.com/account/rate-limits to learn more.', 'type': 'requests', 'param': None, 'code': 'rate_limit_exceeded'}})\n",
            "INFO:backoff:Backing off classify_hostility(...) for 1.7s (openai.RateLimitError: Error code: 429 - {'error': {'message': 'Rate limit reached for gpt-3.5-turbo in organization org-zq7Modopi4RhdMcJDgnrgDbv on tokens per min (TPM): Limit 200000, Used 199646, Requested 361. Please try again in 2ms. Visit https://platform.openai.com/account/rate-limits to learn more.', 'type': 'tokens', 'param': None, 'code': 'rate_limit_exceeded'}})\n",
            "INFO:backoff:Backing off classify_hostility(...) for 1.7s (openai.RateLimitError: Error code: 429 - {'error': {'message': 'Rate limit reached for gpt-3.5-turbo in organization org-zq7Modopi4RhdMcJDgnrgDbv on tokens per min (TPM): Limit 200000, Used 199983, Requested 368. Please try again in 105ms. Visit https://platform.openai.com/account/rate-limits to learn more.', 'type': 'tokens', 'param': None, 'code': 'rate_limit_exceeded'}})\n",
            "INFO:backoff:Backing off classify_hostility(...) for 1.2s (openai.RateLimitError: Error code: 429 - {'error': {'message': 'Rate limit reached for gpt-3.5-turbo in organization org-zq7Modopi4RhdMcJDgnrgDbv on requests per min (RPM): Limit 500, Used 500, Requested 1. Please try again in 120ms. Visit https://platform.openai.com/account/rate-limits to learn more.', 'type': 'requests', 'param': None, 'code': 'rate_limit_exceeded'}})\n",
            "INFO:backoff:Backing off classify_hostility(...) for 1.2s (openai.RateLimitError: Error code: 429 - {'error': {'message': 'Rate limit reached for gpt-3.5-turbo in organization org-zq7Modopi4RhdMcJDgnrgDbv on tokens per min (TPM): Limit 200000, Used 199909, Requested 327. Please try again in 70ms. Visit https://platform.openai.com/account/rate-limits to learn more.', 'type': 'tokens', 'param': None, 'code': 'rate_limit_exceeded'}})\n",
            "INFO:backoff:Backing off classify_hostility(...) for 0.1s (openai.RateLimitError: Error code: 429 - {'error': {'message': 'Rate limit reached for gpt-3.5-turbo in organization org-zq7Modopi4RhdMcJDgnrgDbv on tokens per min (TPM): Limit 200000, Used 199684, Requested 373. Please try again in 17ms. Visit https://platform.openai.com/account/rate-limits to learn more.', 'type': 'tokens', 'param': None, 'code': 'rate_limit_exceeded'}})\n",
            "INFO:backoff:Backing off classify_hostility(...) for 1.5s (openai.RateLimitError: Error code: 429 - {'error': {'message': 'Rate limit reached for gpt-3.5-turbo in organization org-zq7Modopi4RhdMcJDgnrgDbv on requests per min (RPM): Limit 500, Used 500, Requested 1. Please try again in 120ms. Visit https://platform.openai.com/account/rate-limits to learn more.', 'type': 'requests', 'param': None, 'code': 'rate_limit_exceeded'}})\n"
          ]
        },
        {
          "output_type": "stream",
          "name": "stdout",
          "text": [
            "\n",
            "Batch 47/100 complete. Speed: 9.97 statements/sec. Est. remaining time: 4.4 minutes.\n"
          ]
        },
        {
          "output_type": "stream",
          "name": "stderr",
          "text": [
            "INFO:backoff:Backing off classify_hostility(...) for 0.5s (openai.RateLimitError: Error code: 429 - {'error': {'message': 'Rate limit reached for gpt-3.5-turbo in organization org-zq7Modopi4RhdMcJDgnrgDbv on tokens per min (TPM): Limit 200000, Used 199730, Requested 324. Please try again in 16ms. Visit https://platform.openai.com/account/rate-limits to learn more.', 'type': 'tokens', 'param': None, 'code': 'rate_limit_exceeded'}})\n",
            "INFO:backoff:Backing off classify_hostility(...) for 1.4s (openai.RateLimitError: Error code: 429 - {'error': {'message': 'Rate limit reached for gpt-3.5-turbo in organization org-zq7Modopi4RhdMcJDgnrgDbv on requests per min (RPM): Limit 500, Used 500, Requested 1. Please try again in 120ms. Visit https://platform.openai.com/account/rate-limits to learn more.', 'type': 'requests', 'param': None, 'code': 'rate_limit_exceeded'}})\n",
            "INFO:backoff:Backing off classify_hostility(...) for 1.8s (openai.RateLimitError: Error code: 429 - {'error': {'message': 'Rate limit reached for gpt-3.5-turbo in organization org-zq7Modopi4RhdMcJDgnrgDbv on tokens per min (TPM): Limit 200000, Used 199626, Requested 422. Please try again in 14ms. Visit https://platform.openai.com/account/rate-limits to learn more.', 'type': 'tokens', 'param': None, 'code': 'rate_limit_exceeded'}})\n",
            "INFO:backoff:Backing off classify_hostility(...) for 0.5s (openai.RateLimitError: Error code: 429 - {'error': {'message': 'Rate limit reached for gpt-3.5-turbo in organization org-zq7Modopi4RhdMcJDgnrgDbv on tokens per min (TPM): Limit 200000, Used 199906, Requested 409. Please try again in 94ms. Visit https://platform.openai.com/account/rate-limits to learn more.', 'type': 'tokens', 'param': None, 'code': 'rate_limit_exceeded'}})\n",
            "INFO:backoff:Backing off classify_hostility(...) for 1.1s (openai.RateLimitError: Error code: 429 - {'error': {'message': 'Rate limit reached for gpt-3.5-turbo in organization org-zq7Modopi4RhdMcJDgnrgDbv on requests per min (RPM): Limit 500, Used 500, Requested 1. Please try again in 120ms. Visit https://platform.openai.com/account/rate-limits to learn more.', 'type': 'requests', 'param': None, 'code': 'rate_limit_exceeded'}})\n",
            "INFO:backoff:Backing off classify_hostility(...) for 0.7s (openai.RateLimitError: Error code: 429 - {'error': {'message': 'Rate limit reached for gpt-3.5-turbo in organization org-zq7Modopi4RhdMcJDgnrgDbv on requests per min (RPM): Limit 500, Used 500, Requested 1. Please try again in 120ms. Visit https://platform.openai.com/account/rate-limits to learn more.', 'type': 'requests', 'param': None, 'code': 'rate_limit_exceeded'}})\n",
            "INFO:backoff:Backing off classify_hostility(...) for 0.1s (openai.RateLimitError: Error code: 429 - {'error': {'message': 'Rate limit reached for gpt-3.5-turbo in organization org-zq7Modopi4RhdMcJDgnrgDbv on requests per min (RPM): Limit 500, Used 500, Requested 1. Please try again in 120ms. Visit https://platform.openai.com/account/rate-limits to learn more.', 'type': 'requests', 'param': None, 'code': 'rate_limit_exceeded'}})\n",
            "INFO:backoff:Backing off classify_hostility(...) for 1.7s (openai.RateLimitError: Error code: 429 - {'error': {'message': 'Rate limit reached for gpt-3.5-turbo in organization org-zq7Modopi4RhdMcJDgnrgDbv on requests per min (RPM): Limit 500, Used 500, Requested 1. Please try again in 120ms. Visit https://platform.openai.com/account/rate-limits to learn more.', 'type': 'requests', 'param': None, 'code': 'rate_limit_exceeded'}})\n",
            "INFO:backoff:Backing off classify_hostility(...) for 0.2s (openai.RateLimitError: Error code: 429 - {'error': {'message': 'Rate limit reached for gpt-3.5-turbo in organization org-zq7Modopi4RhdMcJDgnrgDbv on tokens per min (TPM): Limit 200000, Used 199911, Requested 412. Please try again in 96ms. Visit https://platform.openai.com/account/rate-limits to learn more.', 'type': 'tokens', 'param': None, 'code': 'rate_limit_exceeded'}})\n",
            "INFO:backoff:Backing off classify_hostility(...) for 1.2s (openai.RateLimitError: Error code: 429 - {'error': {'message': 'Rate limit reached for gpt-3.5-turbo in organization org-zq7Modopi4RhdMcJDgnrgDbv on requests per min (RPM): Limit 500, Used 500, Requested 1. Please try again in 120ms. Visit https://platform.openai.com/account/rate-limits to learn more.', 'type': 'requests', 'param': None, 'code': 'rate_limit_exceeded'}})\n",
            "INFO:backoff:Backing off classify_hostility(...) for 1.2s (openai.RateLimitError: Error code: 429 - {'error': {'message': 'Rate limit reached for gpt-3.5-turbo in organization org-zq7Modopi4RhdMcJDgnrgDbv on tokens per min (TPM): Limit 200000, Used 199650, Requested 374. Please try again in 7ms. Visit https://platform.openai.com/account/rate-limits to learn more.', 'type': 'tokens', 'param': None, 'code': 'rate_limit_exceeded'}})\n",
            "INFO:backoff:Backing off classify_hostility(...) for 0.2s (openai.RateLimitError: Error code: 429 - {'error': {'message': 'Rate limit reached for gpt-3.5-turbo in organization org-zq7Modopi4RhdMcJDgnrgDbv on requests per min (RPM): Limit 500, Used 500, Requested 1. Please try again in 120ms. Visit https://platform.openai.com/account/rate-limits to learn more.', 'type': 'requests', 'param': None, 'code': 'rate_limit_exceeded'}})\n",
            "INFO:backoff:Backing off classify_hostility(...) for 2.6s (openai.RateLimitError: Error code: 429 - {'error': {'message': 'Rate limit reached for gpt-3.5-turbo in organization org-zq7Modopi4RhdMcJDgnrgDbv on requests per min (RPM): Limit 500, Used 500, Requested 1. Please try again in 120ms. Visit https://platform.openai.com/account/rate-limits to learn more.', 'type': 'requests', 'param': None, 'code': 'rate_limit_exceeded'}})\n"
          ]
        },
        {
          "output_type": "stream",
          "name": "stdout",
          "text": [
            "\n",
            "Batch 48/100 complete. Speed: 9.85 statements/sec. Est. remaining time: 4.4 minutes.\n"
          ]
        },
        {
          "output_type": "stream",
          "name": "stderr",
          "text": [
            "INFO:backoff:Backing off classify_hostility(...) for 1.2s (openai.RateLimitError: Error code: 429 - {'error': {'message': 'Rate limit reached for gpt-3.5-turbo in organization org-zq7Modopi4RhdMcJDgnrgDbv on requests per min (RPM): Limit 500, Used 500, Requested 1. Please try again in 120ms. Visit https://platform.openai.com/account/rate-limits to learn more.', 'type': 'requests', 'param': None, 'code': 'rate_limit_exceeded'}})\n",
            "INFO:backoff:Backing off classify_hostility(...) for 1.5s (openai.RateLimitError: Error code: 429 - {'error': {'message': 'Rate limit reached for gpt-3.5-turbo in organization org-zq7Modopi4RhdMcJDgnrgDbv on requests per min (RPM): Limit 500, Used 500, Requested 1. Please try again in 120ms. Visit https://platform.openai.com/account/rate-limits to learn more.', 'type': 'requests', 'param': None, 'code': 'rate_limit_exceeded'}})\n",
            "INFO:backoff:Backing off classify_hostility(...) for 0.3s (openai.RateLimitError: Error code: 429 - {'error': {'message': 'Rate limit reached for gpt-3.5-turbo in organization org-zq7Modopi4RhdMcJDgnrgDbv on tokens per min (TPM): Limit 200000, Used 199436, Requested 611. Please try again in 14ms. Visit https://platform.openai.com/account/rate-limits to learn more.', 'type': 'tokens', 'param': None, 'code': 'rate_limit_exceeded'}})\n",
            "INFO:backoff:Backing off classify_hostility(...) for 1.3s (openai.RateLimitError: Error code: 429 - {'error': {'message': 'Rate limit reached for gpt-3.5-turbo in organization org-zq7Modopi4RhdMcJDgnrgDbv on tokens per min (TPM): Limit 200000, Used 199677, Requested 343. Please try again in 6ms. Visit https://platform.openai.com/account/rate-limits to learn more.', 'type': 'tokens', 'param': None, 'code': 'rate_limit_exceeded'}})\n",
            "INFO:backoff:Backing off classify_hostility(...) for 0.6s (openai.RateLimitError: Error code: 429 - {'error': {'message': 'Request too large for gpt-3.5-turbo in organization org-zq7Modopi4RhdMcJDgnrgDbv on tokens per min (TPM): Limit 200000, Requested 325. The input or output tokens must be reduced in order to run successfully. Visit https://platform.openai.com/account/rate-limits to learn more.', 'type': 'tokens', 'param': None, 'code': 'rate_limit_exceeded'}})\n",
            "INFO:backoff:Backing off classify_hostility(...) for 1.8s (openai.RateLimitError: Error code: 429 - {'error': {'message': 'Rate limit reached for gpt-3.5-turbo in organization org-zq7Modopi4RhdMcJDgnrgDbv on requests per min (RPM): Limit 500, Used 500, Requested 1. Please try again in 120ms. Visit https://platform.openai.com/account/rate-limits to learn more.', 'type': 'requests', 'param': None, 'code': 'rate_limit_exceeded'}})\n"
          ]
        },
        {
          "output_type": "stream",
          "name": "stdout",
          "text": [
            "\n",
            "Batch 49/100 complete. Speed: 9.85 statements/sec. Est. remaining time: 4.3 minutes.\n"
          ]
        },
        {
          "output_type": "stream",
          "name": "stderr",
          "text": [
            "INFO:backoff:Backing off classify_hostility(...) for 1.3s (openai.RateLimitError: Error code: 429 - {'error': {'message': 'Rate limit reached for gpt-3.5-turbo in organization org-zq7Modopi4RhdMcJDgnrgDbv on requests per min (RPM): Limit 500, Used 500, Requested 1. Please try again in 120ms. Visit https://platform.openai.com/account/rate-limits to learn more.', 'type': 'requests', 'param': None, 'code': 'rate_limit_exceeded'}})\n",
            "INFO:backoff:Backing off classify_hostility(...) for 1.4s (openai.RateLimitError: Error code: 429 - {'error': {'message': 'Rate limit reached for gpt-3.5-turbo in organization org-zq7Modopi4RhdMcJDgnrgDbv on tokens per min (TPM): Limit 200000, Used 199684, Requested 403. Please try again in 26ms. Visit https://platform.openai.com/account/rate-limits to learn more.', 'type': 'tokens', 'param': None, 'code': 'rate_limit_exceeded'}})\n",
            "INFO:backoff:Backing off classify_hostility(...) for 1.4s (openai.RateLimitError: Error code: 429 - {'error': {'message': 'Rate limit reached for gpt-3.5-turbo in organization org-zq7Modopi4RhdMcJDgnrgDbv on tokens per min (TPM): Limit 200000, Used 199658, Requested 359. Please try again in 5ms. Visit https://platform.openai.com/account/rate-limits to learn more.', 'type': 'tokens', 'param': None, 'code': 'rate_limit_exceeded'}})\n",
            "INFO:backoff:Backing off classify_hostility(...) for 1.6s (openai.RateLimitError: Error code: 429 - {'error': {'message': 'Rate limit reached for gpt-3.5-turbo in organization org-zq7Modopi4RhdMcJDgnrgDbv on requests per min (RPM): Limit 500, Used 500, Requested 1. Please try again in 120ms. Visit https://platform.openai.com/account/rate-limits to learn more.', 'type': 'requests', 'param': None, 'code': 'rate_limit_exceeded'}})\n",
            "INFO:backoff:Backing off classify_hostility(...) for 1.4s (openai.RateLimitError: Error code: 429 - {'error': {'message': 'Rate limit reached for gpt-3.5-turbo in organization org-zq7Modopi4RhdMcJDgnrgDbv on tokens per min (TPM): Limit 200000, Used 199624, Requested 380. Please try again in 1ms. Visit https://platform.openai.com/account/rate-limits to learn more.', 'type': 'tokens', 'param': None, 'code': 'rate_limit_exceeded'}})\n",
            "INFO:backoff:Backing off classify_hostility(...) for 1.5s (openai.RateLimitError: Error code: 429 - {'error': {'message': 'Rate limit reached for gpt-3.5-turbo in organization org-zq7Modopi4RhdMcJDgnrgDbv on requests per min (RPM): Limit 500, Used 500, Requested 1. Please try again in 120ms. Visit https://platform.openai.com/account/rate-limits to learn more.', 'type': 'requests', 'param': None, 'code': 'rate_limit_exceeded'}})\n",
            "INFO:backoff:Backing off classify_hostility(...) for 0.8s (openai.RateLimitError: Error code: 429 - {'error': {'message': 'Rate limit reached for gpt-3.5-turbo in organization org-zq7Modopi4RhdMcJDgnrgDbv on requests per min (RPM): Limit 500, Used 500, Requested 1. Please try again in 120ms. Visit https://platform.openai.com/account/rate-limits to learn more.', 'type': 'requests', 'param': None, 'code': 'rate_limit_exceeded'}})\n",
            "INFO:backoff:Backing off classify_hostility(...) for 1.5s (openai.RateLimitError: Error code: 429 - {'error': {'message': 'Rate limit reached for gpt-3.5-turbo in organization org-zq7Modopi4RhdMcJDgnrgDbv on tokens per min (TPM): Limit 200000, Used 199751, Requested 389. Please try again in 42ms. Visit https://platform.openai.com/account/rate-limits to learn more.', 'type': 'tokens', 'param': None, 'code': 'rate_limit_exceeded'}})\n",
            "INFO:backoff:Backing off classify_hostility(...) for 1.9s (openai.RateLimitError: Error code: 429 - {'error': {'message': 'Rate limit reached for gpt-3.5-turbo in organization org-zq7Modopi4RhdMcJDgnrgDbv on tokens per min (TPM): Limit 200000, Used 199743, Requested 397. Please try again in 42ms. Visit https://platform.openai.com/account/rate-limits to learn more.', 'type': 'tokens', 'param': None, 'code': 'rate_limit_exceeded'}})\n",
            "INFO:backoff:Backing off classify_hostility(...) for 0.7s (openai.RateLimitError: Error code: 429 - {'error': {'message': 'Rate limit reached for gpt-3.5-turbo in organization org-zq7Modopi4RhdMcJDgnrgDbv on requests per min (RPM): Limit 500, Used 500, Requested 1. Please try again in 120ms. Visit https://platform.openai.com/account/rate-limits to learn more.', 'type': 'requests', 'param': None, 'code': 'rate_limit_exceeded'}})\n",
            "INFO:backoff:Backing off classify_hostility(...) for 1.0s (openai.RateLimitError: Error code: 429 - {'error': {'message': 'Rate limit reached for gpt-3.5-turbo in organization org-zq7Modopi4RhdMcJDgnrgDbv on requests per min (RPM): Limit 500, Used 500, Requested 1. Please try again in 120ms. Visit https://platform.openai.com/account/rate-limits to learn more.', 'type': 'requests', 'param': None, 'code': 'rate_limit_exceeded'}})\n"
          ]
        },
        {
          "output_type": "stream",
          "name": "stdout",
          "text": [
            "\n",
            "Batch 50/100 complete. Speed: 9.78 statements/sec. Est. remaining time: 4.3 minutes.\n"
          ]
        },
        {
          "output_type": "stream",
          "name": "stderr",
          "text": [
            "INFO:backoff:Backing off classify_hostility(...) for 1.5s (openai.RateLimitError: Error code: 429 - {'error': {'message': 'Rate limit reached for gpt-3.5-turbo in organization org-zq7Modopi4RhdMcJDgnrgDbv on tokens per min (TPM): Limit 200000, Used 199648, Requested 363. Please try again in 3ms. Visit https://platform.openai.com/account/rate-limits to learn more.', 'type': 'tokens', 'param': None, 'code': 'rate_limit_exceeded'}})\n",
            "INFO:backoff:Backing off classify_hostility(...) for 0.9s (openai.RateLimitError: Error code: 429 - {'error': {'message': 'Rate limit reached for gpt-3.5-turbo in organization org-zq7Modopi4RhdMcJDgnrgDbv on tokens per min (TPM): Limit 200000, Used 199562, Requested 465. Please try again in 8ms. Visit https://platform.openai.com/account/rate-limits to learn more.', 'type': 'tokens', 'param': None, 'code': 'rate_limit_exceeded'}})\n",
            "INFO:backoff:Backing off classify_hostility(...) for 0.7s (openai.RateLimitError: Error code: 429 - {'error': {'message': 'Rate limit reached for gpt-3.5-turbo in organization org-zq7Modopi4RhdMcJDgnrgDbv on requests per min (RPM): Limit 500, Used 500, Requested 1. Please try again in 120ms. Visit https://platform.openai.com/account/rate-limits to learn more.', 'type': 'requests', 'param': None, 'code': 'rate_limit_exceeded'}})\n",
            "INFO:backoff:Backing off classify_hostility(...) for 1.2s (openai.RateLimitError: Error code: 429 - {'error': {'message': 'Rate limit reached for gpt-3.5-turbo in organization org-zq7Modopi4RhdMcJDgnrgDbv on tokens per min (TPM): Limit 200000, Used 199812, Requested 416. Please try again in 68ms. Visit https://platform.openai.com/account/rate-limits to learn more.', 'type': 'tokens', 'param': None, 'code': 'rate_limit_exceeded'}})\n",
            "INFO:backoff:Backing off classify_hostility(...) for 0.6s (openai.RateLimitError: Error code: 429 - {'error': {'message': 'Rate limit reached for gpt-3.5-turbo in organization org-zq7Modopi4RhdMcJDgnrgDbv on tokens per min (TPM): Limit 200000, Used 199755, Requested 347. Please try again in 30ms. Visit https://platform.openai.com/account/rate-limits to learn more.', 'type': 'tokens', 'param': None, 'code': 'rate_limit_exceeded'}})\n",
            "INFO:backoff:Backing off classify_hostility(...) for 0.9s (openai.RateLimitError: Error code: 429 - {'error': {'message': 'Rate limit reached for gpt-3.5-turbo in organization org-zq7Modopi4RhdMcJDgnrgDbv on tokens per min (TPM): Limit 200000, Used 199909, Requested 405. Please try again in 94ms. Visit https://platform.openai.com/account/rate-limits to learn more.', 'type': 'tokens', 'param': None, 'code': 'rate_limit_exceeded'}})\n",
            "INFO:backoff:Backing off classify_hostility(...) for 0.5s (openai.RateLimitError: Error code: 429 - {'error': {'message': 'Rate limit reached for gpt-3.5-turbo in organization org-zq7Modopi4RhdMcJDgnrgDbv on requests per min (RPM): Limit 500, Used 500, Requested 1. Please try again in 120ms. Visit https://platform.openai.com/account/rate-limits to learn more.', 'type': 'requests', 'param': None, 'code': 'rate_limit_exceeded'}})\n",
            "INFO:backoff:Backing off classify_hostility(...) for 0.9s (openai.RateLimitError: Error code: 429 - {'error': {'message': 'Rate limit reached for gpt-3.5-turbo in organization org-zq7Modopi4RhdMcJDgnrgDbv on requests per min (RPM): Limit 500, Used 500, Requested 1. Please try again in 120ms. Visit https://platform.openai.com/account/rate-limits to learn more.', 'type': 'requests', 'param': None, 'code': 'rate_limit_exceeded'}})\n",
            "INFO:backoff:Backing off classify_hostility(...) for 1.3s (openai.RateLimitError: Error code: 429 - {'error': {'message': 'Rate limit reached for gpt-3.5-turbo in organization org-zq7Modopi4RhdMcJDgnrgDbv on requests per min (RPM): Limit 500, Used 500, Requested 1. Please try again in 120ms. Visit https://platform.openai.com/account/rate-limits to learn more.', 'type': 'requests', 'param': None, 'code': 'rate_limit_exceeded'}})\n",
            "INFO:backoff:Backing off classify_hostility(...) for 1.9s (openai.RateLimitError: Error code: 429 - {'error': {'message': 'Rate limit reached for gpt-3.5-turbo in organization org-zq7Modopi4RhdMcJDgnrgDbv on tokens per min (TPM): Limit 200000, Used 199709, Requested 342. Please try again in 15ms. Visit https://platform.openai.com/account/rate-limits to learn more.', 'type': 'tokens', 'param': None, 'code': 'rate_limit_exceeded'}})\n",
            "INFO:backoff:Backing off classify_hostility(...) for 0.9s (openai.RateLimitError: Error code: 429 - {'error': {'message': 'Rate limit reached for gpt-3.5-turbo in organization org-zq7Modopi4RhdMcJDgnrgDbv on requests per min (RPM): Limit 500, Used 500, Requested 1. Please try again in 120ms. Visit https://platform.openai.com/account/rate-limits to learn more.', 'type': 'requests', 'param': None, 'code': 'rate_limit_exceeded'}})\n",
            "INFO:backoff:Backing off classify_hostility(...) for 1.6s (openai.RateLimitError: Error code: 429 - {'error': {'message': 'Rate limit reached for gpt-3.5-turbo in organization org-zq7Modopi4RhdMcJDgnrgDbv on requests per min (RPM): Limit 500, Used 500, Requested 1. Please try again in 120ms. Visit https://platform.openai.com/account/rate-limits to learn more.', 'type': 'requests', 'param': None, 'code': 'rate_limit_exceeded'}})\n",
            "INFO:backoff:Backing off classify_hostility(...) for 0.5s (openai.RateLimitError: Error code: 429 - {'error': {'message': 'Rate limit reached for gpt-3.5-turbo in organization org-zq7Modopi4RhdMcJDgnrgDbv on tokens per min (TPM): Limit 200000, Used 199737, Requested 363. Please try again in 30ms. Visit https://platform.openai.com/account/rate-limits to learn more.', 'type': 'tokens', 'param': None, 'code': 'rate_limit_exceeded'}})\n",
            "INFO:backoff:Backing off classify_hostility(...) for 1.7s (openai.RateLimitError: Error code: 429 - {'error': {'message': 'Rate limit reached for gpt-3.5-turbo in organization org-zq7Modopi4RhdMcJDgnrgDbv on tokens per min (TPM): Limit 200000, Used 199940, Requested 420. Please try again in 108ms. Visit https://platform.openai.com/account/rate-limits to learn more.', 'type': 'tokens', 'param': None, 'code': 'rate_limit_exceeded'}})\n",
            "INFO:backoff:Backing off classify_hostility(...) for 3.0s (openai.RateLimitError: Error code: 429 - {'error': {'message': 'Rate limit reached for gpt-3.5-turbo in organization org-zq7Modopi4RhdMcJDgnrgDbv on requests per min (RPM): Limit 500, Used 500, Requested 1. Please try again in 120ms. Visit https://platform.openai.com/account/rate-limits to learn more.', 'type': 'requests', 'param': None, 'code': 'rate_limit_exceeded'}})\n"
          ]
        },
        {
          "output_type": "stream",
          "name": "stdout",
          "text": [
            "\n",
            "Batch 51/100 complete. Speed: 9.68 statements/sec. Est. remaining time: 4.2 minutes.\n"
          ]
        },
        {
          "output_type": "stream",
          "name": "stderr",
          "text": [
            "INFO:backoff:Backing off classify_hostility(...) for 0.4s (openai.RateLimitError: Error code: 429 - {'error': {'message': 'Rate limit reached for gpt-3.5-turbo in organization org-zq7Modopi4RhdMcJDgnrgDbv on tokens per min (TPM): Limit 200000, Used 199700, Requested 398. Please try again in 29ms. Visit https://platform.openai.com/account/rate-limits to learn more.', 'type': 'tokens', 'param': None, 'code': 'rate_limit_exceeded'}})\n",
            "INFO:backoff:Backing off classify_hostility(...) for 0.2s (openai.RateLimitError: Error code: 429 - {'error': {'message': 'Rate limit reached for gpt-3.5-turbo in organization org-zq7Modopi4RhdMcJDgnrgDbv on requests per min (RPM): Limit 500, Used 500, Requested 1. Please try again in 120ms. Visit https://platform.openai.com/account/rate-limits to learn more.', 'type': 'requests', 'param': None, 'code': 'rate_limit_exceeded'}})\n",
            "INFO:backoff:Backing off classify_hostility(...) for 1.8s (openai.RateLimitError: Error code: 429 - {'error': {'message': 'Rate limit reached for gpt-3.5-turbo in organization org-zq7Modopi4RhdMcJDgnrgDbv on tokens per min (TPM): Limit 200000, Used 199648, Requested 373. Please try again in 6ms. Visit https://platform.openai.com/account/rate-limits to learn more.', 'type': 'tokens', 'param': None, 'code': 'rate_limit_exceeded'}})\n",
            "INFO:backoff:Backing off classify_hostility(...) for 1.5s (openai.RateLimitError: Error code: 429 - {'error': {'message': 'Rate limit reached for gpt-3.5-turbo in organization org-zq7Modopi4RhdMcJDgnrgDbv on tokens per min (TPM): Limit 200000, Used 199809, Requested 322. Please try again in 39ms. Visit https://platform.openai.com/account/rate-limits to learn more.', 'type': 'tokens', 'param': None, 'code': 'rate_limit_exceeded'}})\n",
            "INFO:backoff:Backing off classify_hostility(...) for 1.3s (openai.RateLimitError: Error code: 429 - {'error': {'message': 'Rate limit reached for gpt-3.5-turbo in organization org-zq7Modopi4RhdMcJDgnrgDbv on requests per min (RPM): Limit 500, Used 500, Requested 1. Please try again in 120ms. Visit https://platform.openai.com/account/rate-limits to learn more.', 'type': 'requests', 'param': None, 'code': 'rate_limit_exceeded'}})\n",
            "INFO:backoff:Backing off classify_hostility(...) for 1.6s (openai.RateLimitError: Error code: 429 - {'error': {'message': 'Rate limit reached for gpt-3.5-turbo in organization org-zq7Modopi4RhdMcJDgnrgDbv on tokens per min (TPM): Limit 200000, Used 199707, Requested 332. Please try again in 11ms. Visit https://platform.openai.com/account/rate-limits to learn more.', 'type': 'tokens', 'param': None, 'code': 'rate_limit_exceeded'}})\n",
            "INFO:backoff:Backing off classify_hostility(...) for 0.9s (openai.RateLimitError: Error code: 429 - {'error': {'message': 'Rate limit reached for gpt-3.5-turbo in organization org-zq7Modopi4RhdMcJDgnrgDbv on requests per min (RPM): Limit 500, Used 500, Requested 1. Please try again in 120ms. Visit https://platform.openai.com/account/rate-limits to learn more.', 'type': 'requests', 'param': None, 'code': 'rate_limit_exceeded'}})\n",
            "INFO:backoff:Backing off classify_hostility(...) for 1.7s (openai.RateLimitError: Error code: 429 - {'error': {'message': 'Rate limit reached for gpt-3.5-turbo in organization org-zq7Modopi4RhdMcJDgnrgDbv on tokens per min (TPM): Limit 200000, Used 199697, Requested 398. Please try again in 28ms. Visit https://platform.openai.com/account/rate-limits to learn more.', 'type': 'tokens', 'param': None, 'code': 'rate_limit_exceeded'}})\n",
            "INFO:backoff:Backing off classify_hostility(...) for 0.7s (openai.RateLimitError: Error code: 429 - {'error': {'message': 'Rate limit reached for gpt-3.5-turbo in organization org-zq7Modopi4RhdMcJDgnrgDbv on requests per min (RPM): Limit 500, Used 500, Requested 1. Please try again in 120ms. Visit https://platform.openai.com/account/rate-limits to learn more.', 'type': 'requests', 'param': None, 'code': 'rate_limit_exceeded'}})\n"
          ]
        },
        {
          "output_type": "stream",
          "name": "stdout",
          "text": [
            "\n",
            "Batch 52/100 complete. Speed: 9.65 statements/sec. Est. remaining time: 4.1 minutes.\n"
          ]
        },
        {
          "output_type": "stream",
          "name": "stderr",
          "text": [
            "INFO:backoff:Backing off classify_hostility(...) for 0.5s (openai.RateLimitError: Error code: 429 - {'error': {'message': 'Rate limit reached for gpt-3.5-turbo in organization org-zq7Modopi4RhdMcJDgnrgDbv on tokens per min (TPM): Limit 200000, Used 199667, Requested 362. Please try again in 8ms. Visit https://platform.openai.com/account/rate-limits to learn more.', 'type': 'tokens', 'param': None, 'code': 'rate_limit_exceeded'}})\n",
            "INFO:backoff:Backing off classify_hostility(...) for 1.6s (openai.RateLimitError: Error code: 429 - {'error': {'message': 'Rate limit reached for gpt-3.5-turbo in organization org-zq7Modopi4RhdMcJDgnrgDbv on requests per min (RPM): Limit 500, Used 500, Requested 1. Please try again in 120ms. Visit https://platform.openai.com/account/rate-limits to learn more.', 'type': 'requests', 'param': None, 'code': 'rate_limit_exceeded'}})\n",
            "INFO:backoff:Backing off classify_hostility(...) for 0.1s (openai.RateLimitError: Error code: 429 - {'error': {'message': 'Rate limit reached for gpt-3.5-turbo in organization org-zq7Modopi4RhdMcJDgnrgDbv on tokens per min (TPM): Limit 200000, Used 199876, Requested 322. Please try again in 59ms. Visit https://platform.openai.com/account/rate-limits to learn more.', 'type': 'tokens', 'param': None, 'code': 'rate_limit_exceeded'}})\n",
            "INFO:backoff:Backing off classify_hostility(...) for 1.9s (openai.RateLimitError: Error code: 429 - {'error': {'message': 'Rate limit reached for gpt-3.5-turbo in organization org-zq7Modopi4RhdMcJDgnrgDbv on tokens per min (TPM): Limit 200000, Used 199645, Requested 374. Please try again in 5ms. Visit https://platform.openai.com/account/rate-limits to learn more.', 'type': 'tokens', 'param': None, 'code': 'rate_limit_exceeded'}})\n",
            "INFO:backoff:Backing off classify_hostility(...) for 1.8s (openai.RateLimitError: Error code: 429 - {'error': {'message': 'Rate limit reached for gpt-3.5-turbo in organization org-zq7Modopi4RhdMcJDgnrgDbv on requests per min (RPM): Limit 500, Used 500, Requested 1. Please try again in 120ms. Visit https://platform.openai.com/account/rate-limits to learn more.', 'type': 'requests', 'param': None, 'code': 'rate_limit_exceeded'}})\n",
            "INFO:backoff:Backing off classify_hostility(...) for 1.8s (openai.RateLimitError: Error code: 429 - {'error': {'message': 'Rate limit reached for gpt-3.5-turbo in organization org-zq7Modopi4RhdMcJDgnrgDbv on requests per min (RPM): Limit 500, Used 500, Requested 1. Please try again in 120ms. Visit https://platform.openai.com/account/rate-limits to learn more.', 'type': 'requests', 'param': None, 'code': 'rate_limit_exceeded'}})\n",
            "INFO:backoff:Backing off classify_hostility(...) for 0.7s (openai.RateLimitError: Error code: 429 - {'error': {'message': 'Rate limit reached for gpt-3.5-turbo in organization org-zq7Modopi4RhdMcJDgnrgDbv on tokens per min (TPM): Limit 200000, Used 199904, Requested 425. Please try again in 98ms. Visit https://platform.openai.com/account/rate-limits to learn more.', 'type': 'tokens', 'param': None, 'code': 'rate_limit_exceeded'}})\n",
            "INFO:backoff:Backing off classify_hostility(...) for 0.2s (openai.RateLimitError: Error code: 429 - {'error': {'message': 'Rate limit reached for gpt-3.5-turbo in organization org-zq7Modopi4RhdMcJDgnrgDbv on requests per min (RPM): Limit 500, Used 500, Requested 1. Please try again in 120ms. Visit https://platform.openai.com/account/rate-limits to learn more.', 'type': 'requests', 'param': None, 'code': 'rate_limit_exceeded'}})\n",
            "INFO:backoff:Backing off classify_hostility(...) for 1.5s (openai.RateLimitError: Error code: 429 - {'error': {'message': 'Rate limit reached for gpt-3.5-turbo in organization org-zq7Modopi4RhdMcJDgnrgDbv on tokens per min (TPM): Limit 200000, Used 199665, Requested 369. Please try again in 10ms. Visit https://platform.openai.com/account/rate-limits to learn more.', 'type': 'tokens', 'param': None, 'code': 'rate_limit_exceeded'}})\n",
            "INFO:backoff:Backing off classify_hostility(...) for 1.1s (openai.RateLimitError: Error code: 429 - {'error': {'message': 'Rate limit reached for gpt-3.5-turbo in organization org-zq7Modopi4RhdMcJDgnrgDbv on tokens per min (TPM): Limit 200000, Used 200000, Requested 361. Please try again in 108ms. Visit https://platform.openai.com/account/rate-limits to learn more.', 'type': 'tokens', 'param': None, 'code': 'rate_limit_exceeded'}})\n",
            "INFO:backoff:Backing off classify_hostility(...) for 1.2s (openai.RateLimitError: Error code: 429 - {'error': {'message': 'Rate limit reached for gpt-3.5-turbo in organization org-zq7Modopi4RhdMcJDgnrgDbv on requests per min (RPM): Limit 500, Used 500, Requested 1. Please try again in 120ms. Visit https://platform.openai.com/account/rate-limits to learn more.', 'type': 'requests', 'param': None, 'code': 'rate_limit_exceeded'}})\n",
            "INFO:backoff:Backing off classify_hostility(...) for 3.1s (openai.RateLimitError: Error code: 429 - {'error': {'message': 'Rate limit reached for gpt-3.5-turbo in organization org-zq7Modopi4RhdMcJDgnrgDbv on requests per min (RPM): Limit 500, Used 500, Requested 1. Please try again in 120ms. Visit https://platform.openai.com/account/rate-limits to learn more.', 'type': 'requests', 'param': None, 'code': 'rate_limit_exceeded'}})\n",
            "INFO:backoff:Backing off classify_hostility(...) for 1.1s (openai.RateLimitError: Error code: 429 - {'error': {'message': 'Rate limit reached for gpt-3.5-turbo in organization org-zq7Modopi4RhdMcJDgnrgDbv on tokens per min (TPM): Limit 200000, Used 199931, Requested 447. Please try again in 113ms. Visit https://platform.openai.com/account/rate-limits to learn more.', 'type': 'tokens', 'param': None, 'code': 'rate_limit_exceeded'}})\n",
            "INFO:backoff:Backing off classify_hostility(...) for 0.2s (openai.RateLimitError: Error code: 429 - {'error': {'message': 'Rate limit reached for gpt-3.5-turbo in organization org-zq7Modopi4RhdMcJDgnrgDbv on tokens per min (TPM): Limit 200000, Used 199669, Requested 351. Please try again in 6ms. Visit https://platform.openai.com/account/rate-limits to learn more.', 'type': 'tokens', 'param': None, 'code': 'rate_limit_exceeded'}})\n"
          ]
        },
        {
          "output_type": "stream",
          "name": "stdout",
          "text": [
            "\n",
            "Batch 53/100 complete. Speed: 9.52 statements/sec. Est. remaining time: 4.1 minutes.\n"
          ]
        },
        {
          "output_type": "stream",
          "name": "stderr",
          "text": [
            "INFO:backoff:Backing off classify_hostility(...) for 0.7s (openai.RateLimitError: Error code: 429 - {'error': {'message': 'Rate limit reached for gpt-3.5-turbo in organization org-zq7Modopi4RhdMcJDgnrgDbv on tokens per min (TPM): Limit 200000, Used 199633, Requested 403. Please try again in 10ms. Visit https://platform.openai.com/account/rate-limits to learn more.', 'type': 'tokens', 'param': None, 'code': 'rate_limit_exceeded'}})\n",
            "INFO:backoff:Backing off classify_hostility(...) for 0.9s (openai.RateLimitError: Error code: 429 - {'error': {'message': 'Rate limit reached for gpt-3.5-turbo in organization org-zq7Modopi4RhdMcJDgnrgDbv on requests per min (RPM): Limit 500, Used 500, Requested 1. Please try again in 120ms. Visit https://platform.openai.com/account/rate-limits to learn more.', 'type': 'requests', 'param': None, 'code': 'rate_limit_exceeded'}})\n",
            "INFO:backoff:Backing off classify_hostility(...) for 0.0s (openai.RateLimitError: Error code: 429 - {'error': {'message': 'Rate limit reached for gpt-3.5-turbo in organization org-zq7Modopi4RhdMcJDgnrgDbv on requests per min (RPM): Limit 500, Used 500, Requested 1. Please try again in 120ms. Visit https://platform.openai.com/account/rate-limits to learn more.', 'type': 'requests', 'param': None, 'code': 'rate_limit_exceeded'}})\n"
          ]
        },
        {
          "output_type": "stream",
          "name": "stdout",
          "text": [
            "\n",
            "Batch 54/100 complete. Speed: 9.56 statements/sec. Est. remaining time: 4.0 minutes.\n"
          ]
        },
        {
          "output_type": "stream",
          "name": "stderr",
          "text": [
            "INFO:backoff:Backing off classify_hostility(...) for 1.7s (openai.RateLimitError: Error code: 429 - {'error': {'message': 'Rate limit reached for gpt-3.5-turbo in organization org-zq7Modopi4RhdMcJDgnrgDbv on tokens per min (TPM): Limit 200000, Used 199887, Requested 450. Please try again in 101ms. Visit https://platform.openai.com/account/rate-limits to learn more.', 'type': 'tokens', 'param': None, 'code': 'rate_limit_exceeded'}})\n",
            "INFO:backoff:Backing off classify_hostility(...) for 0.1s (openai.RateLimitError: Error code: 429 - {'error': {'message': 'Rate limit reached for gpt-3.5-turbo in organization org-zq7Modopi4RhdMcJDgnrgDbv on tokens per min (TPM): Limit 200000, Used 199686, Requested 339. Please try again in 7ms. Visit https://platform.openai.com/account/rate-limits to learn more.', 'type': 'tokens', 'param': None, 'code': 'rate_limit_exceeded'}})\n",
            "INFO:backoff:Backing off classify_hostility(...) for 0.1s (openai.RateLimitError: Error code: 429 - {'error': {'message': 'Rate limit reached for gpt-3.5-turbo in organization org-zq7Modopi4RhdMcJDgnrgDbv on requests per min (RPM): Limit 500, Used 500, Requested 1. Please try again in 120ms. Visit https://platform.openai.com/account/rate-limits to learn more.', 'type': 'requests', 'param': None, 'code': 'rate_limit_exceeded'}})\n",
            "INFO:backoff:Backing off classify_hostility(...) for 0.9s (openai.RateLimitError: Error code: 429 - {'error': {'message': 'Rate limit reached for gpt-3.5-turbo in organization org-zq7Modopi4RhdMcJDgnrgDbv on tokens per min (TPM): Limit 200000, Used 199661, Requested 356. Please try again in 5ms. Visit https://platform.openai.com/account/rate-limits to learn more.', 'type': 'tokens', 'param': None, 'code': 'rate_limit_exceeded'}})\n",
            "INFO:backoff:Backing off classify_hostility(...) for 0.9s (openai.RateLimitError: Error code: 429 - {'error': {'message': 'Rate limit reached for gpt-3.5-turbo in organization org-zq7Modopi4RhdMcJDgnrgDbv on tokens per min (TPM): Limit 200000, Used 199643, Requested 403. Please try again in 13ms. Visit https://platform.openai.com/account/rate-limits to learn more.', 'type': 'tokens', 'param': None, 'code': 'rate_limit_exceeded'}})\n",
            "INFO:backoff:Backing off classify_hostility(...) for 1.9s (openai.RateLimitError: Error code: 429 - {'error': {'message': 'Rate limit reached for gpt-3.5-turbo in organization org-zq7Modopi4RhdMcJDgnrgDbv on tokens per min (TPM): Limit 200000, Used 199699, Requested 335. Please try again in 10ms. Visit https://platform.openai.com/account/rate-limits to learn more.', 'type': 'tokens', 'param': None, 'code': 'rate_limit_exceeded'}})\n",
            "INFO:backoff:Backing off classify_hostility(...) for 2.0s (openai.RateLimitError: Error code: 429 - {'error': {'message': 'Rate limit reached for gpt-3.5-turbo in organization org-zq7Modopi4RhdMcJDgnrgDbv on tokens per min (TPM): Limit 200000, Used 199730, Requested 321. Please try again in 15ms. Visit https://platform.openai.com/account/rate-limits to learn more.', 'type': 'tokens', 'param': None, 'code': 'rate_limit_exceeded'}})\n",
            "INFO:backoff:Backing off classify_hostility(...) for 3.3s (openai.RateLimitError: Error code: 429 - {'error': {'message': 'Rate limit reached for gpt-3.5-turbo in organization org-zq7Modopi4RhdMcJDgnrgDbv on tokens per min (TPM): Limit 200000, Used 199706, Requested 339. Please try again in 13ms. Visit https://platform.openai.com/account/rate-limits to learn more.', 'type': 'tokens', 'param': None, 'code': 'rate_limit_exceeded'}})\n",
            "INFO:backoff:Backing off classify_hostility(...) for 1.9s (openai.RateLimitError: Error code: 429 - {'error': {'message': 'Rate limit reached for gpt-3.5-turbo in organization org-zq7Modopi4RhdMcJDgnrgDbv on requests per min (RPM): Limit 500, Used 500, Requested 1. Please try again in 120ms. Visit https://platform.openai.com/account/rate-limits to learn more.', 'type': 'requests', 'param': None, 'code': 'rate_limit_exceeded'}})\n",
            "INFO:backoff:Backing off classify_hostility(...) for 1.4s (openai.RateLimitError: Error code: 429 - {'error': {'message': 'Rate limit reached for gpt-3.5-turbo in organization org-zq7Modopi4RhdMcJDgnrgDbv on tokens per min (TPM): Limit 200000, Used 199962, Requested 489. Please try again in 135ms. Visit https://platform.openai.com/account/rate-limits to learn more.', 'type': 'tokens', 'param': None, 'code': 'rate_limit_exceeded'}})\n",
            "INFO:backoff:Backing off classify_hostility(...) for 0.1s (openai.RateLimitError: Error code: 429 - {'error': {'message': 'Rate limit reached for gpt-3.5-turbo in organization org-zq7Modopi4RhdMcJDgnrgDbv on requests per min (RPM): Limit 500, Used 500, Requested 1. Please try again in 120ms. Visit https://platform.openai.com/account/rate-limits to learn more.', 'type': 'requests', 'param': None, 'code': 'rate_limit_exceeded'}})\n",
            "INFO:backoff:Backing off classify_hostility(...) for 1.8s (openai.RateLimitError: Error code: 429 - {'error': {'message': 'Rate limit reached for gpt-3.5-turbo in organization org-zq7Modopi4RhdMcJDgnrgDbv on tokens per min (TPM): Limit 200000, Used 199563, Requested 479. Please try again in 12ms. Visit https://platform.openai.com/account/rate-limits to learn more.', 'type': 'tokens', 'param': None, 'code': 'rate_limit_exceeded'}})\n",
            "INFO:backoff:Backing off classify_hostility(...) for 0.3s (openai.RateLimitError: Error code: 429 - {'error': {'message': 'Rate limit reached for gpt-3.5-turbo in organization org-zq7Modopi4RhdMcJDgnrgDbv on tokens per min (TPM): Limit 200000, Used 199662, Requested 366. Please try again in 8ms. Visit https://platform.openai.com/account/rate-limits to learn more.', 'type': 'tokens', 'param': None, 'code': 'rate_limit_exceeded'}})\n",
            "INFO:backoff:Backing off classify_hostility(...) for 1.6s (openai.RateLimitError: Error code: 429 - {'error': {'message': 'Rate limit reached for gpt-3.5-turbo in organization org-zq7Modopi4RhdMcJDgnrgDbv on requests per min (RPM): Limit 500, Used 500, Requested 1. Please try again in 120ms. Visit https://platform.openai.com/account/rate-limits to learn more.', 'type': 'requests', 'param': None, 'code': 'rate_limit_exceeded'}})\n"
          ]
        },
        {
          "output_type": "stream",
          "name": "stdout",
          "text": [
            "\n",
            "Batch 55/100 complete. Speed: 9.49 statements/sec. Est. remaining time: 3.9 minutes.\n"
          ]
        },
        {
          "output_type": "stream",
          "name": "stderr",
          "text": [
            "INFO:backoff:Backing off classify_hostility(...) for 0.7s (openai.RateLimitError: Error code: 429 - {'error': {'message': 'Rate limit reached for gpt-3.5-turbo in organization org-zq7Modopi4RhdMcJDgnrgDbv on requests per min (RPM): Limit 500, Used 500, Requested 1. Please try again in 120ms. Visit https://platform.openai.com/account/rate-limits to learn more.', 'type': 'requests', 'param': None, 'code': 'rate_limit_exceeded'}})\n",
            "INFO:backoff:Backing off classify_hostility(...) for 1.0s (openai.RateLimitError: Error code: 429 - {'error': {'message': 'Rate limit reached for gpt-3.5-turbo in organization org-zq7Modopi4RhdMcJDgnrgDbv on tokens per min (TPM): Limit 200000, Used 199907, Requested 388. Please try again in 88ms. Visit https://platform.openai.com/account/rate-limits to learn more.', 'type': 'tokens', 'param': None, 'code': 'rate_limit_exceeded'}})\n",
            "INFO:backoff:Backing off classify_hostility(...) for 1.6s (openai.RateLimitError: Error code: 429 - {'error': {'message': 'Rate limit reached for gpt-3.5-turbo in organization org-zq7Modopi4RhdMcJDgnrgDbv on tokens per min (TPM): Limit 200000, Used 199857, Requested 357. Please try again in 64ms. Visit https://platform.openai.com/account/rate-limits to learn more.', 'type': 'tokens', 'param': None, 'code': 'rate_limit_exceeded'}})\n",
            "INFO:backoff:Backing off classify_hostility(...) for 0.7s (openai.RateLimitError: Error code: 429 - {'error': {'message': 'Rate limit reached for gpt-3.5-turbo in organization org-zq7Modopi4RhdMcJDgnrgDbv on tokens per min (TPM): Limit 200000, Used 199644, Requested 376. Please try again in 6ms. Visit https://platform.openai.com/account/rate-limits to learn more.', 'type': 'tokens', 'param': None, 'code': 'rate_limit_exceeded'}})\n",
            "INFO:backoff:Backing off classify_hostility(...) for 0.8s (openai.RateLimitError: Error code: 429 - {'error': {'message': 'Rate limit reached for gpt-3.5-turbo in organization org-zq7Modopi4RhdMcJDgnrgDbv on tokens per min (TPM): Limit 200000, Used 199901, Requested 390. Please try again in 87ms. Visit https://platform.openai.com/account/rate-limits to learn more.', 'type': 'tokens', 'param': None, 'code': 'rate_limit_exceeded'}})\n",
            "INFO:backoff:Backing off classify_hostility(...) for 0.6s (openai.RateLimitError: Error code: 429 - {'error': {'message': 'Rate limit reached for gpt-3.5-turbo in organization org-zq7Modopi4RhdMcJDgnrgDbv on tokens per min (TPM): Limit 200000, Used 199768, Requested 330. Please try again in 29ms. Visit https://platform.openai.com/account/rate-limits to learn more.', 'type': 'tokens', 'param': None, 'code': 'rate_limit_exceeded'}})\n",
            "INFO:backoff:Backing off classify_hostility(...) for 1.1s (openai.RateLimitError: Error code: 429 - {'error': {'message': 'Rate limit reached for gpt-3.5-turbo in organization org-zq7Modopi4RhdMcJDgnrgDbv on requests per min (RPM): Limit 500, Used 500, Requested 1. Please try again in 120ms. Visit https://platform.openai.com/account/rate-limits to learn more.', 'type': 'requests', 'param': None, 'code': 'rate_limit_exceeded'}})\n",
            "INFO:backoff:Backing off classify_hostility(...) for 0.6s (openai.RateLimitError: Error code: 429 - {'error': {'message': 'Rate limit reached for gpt-3.5-turbo in organization org-zq7Modopi4RhdMcJDgnrgDbv on requests per min (RPM): Limit 500, Used 500, Requested 1. Please try again in 120ms. Visit https://platform.openai.com/account/rate-limits to learn more.', 'type': 'requests', 'param': None, 'code': 'rate_limit_exceeded'}})\n",
            "INFO:backoff:Backing off classify_hostility(...) for 0.8s (openai.RateLimitError: Error code: 429 - {'error': {'message': 'Rate limit reached for gpt-3.5-turbo in organization org-zq7Modopi4RhdMcJDgnrgDbv on requests per min (RPM): Limit 500, Used 500, Requested 1. Please try again in 120ms. Visit https://platform.openai.com/account/rate-limits to learn more.', 'type': 'requests', 'param': None, 'code': 'rate_limit_exceeded'}})\n",
            "INFO:backoff:Backing off classify_hostility(...) for 3.2s (openai.RateLimitError: Error code: 429 - {'error': {'message': 'Rate limit reached for gpt-3.5-turbo in organization org-zq7Modopi4RhdMcJDgnrgDbv on tokens per min (TPM): Limit 200000, Used 199697, Requested 388. Please try again in 25ms. Visit https://platform.openai.com/account/rate-limits to learn more.', 'type': 'tokens', 'param': None, 'code': 'rate_limit_exceeded'}})\n",
            "INFO:backoff:Backing off classify_hostility(...) for 1.0s (openai.RateLimitError: Error code: 429 - {'error': {'message': 'Rate limit reached for gpt-3.5-turbo in organization org-zq7Modopi4RhdMcJDgnrgDbv on requests per min (RPM): Limit 500, Used 500, Requested 1. Please try again in 120ms. Visit https://platform.openai.com/account/rate-limits to learn more.', 'type': 'requests', 'param': None, 'code': 'rate_limit_exceeded'}})\n",
            "INFO:backoff:Backing off classify_hostility(...) for 1.9s (openai.RateLimitError: Error code: 429 - {'error': {'message': 'Rate limit reached for gpt-3.5-turbo in organization org-zq7Modopi4RhdMcJDgnrgDbv on tokens per min (TPM): Limit 200000, Used 199909, Requested 323. Please try again in 69ms. Visit https://platform.openai.com/account/rate-limits to learn more.', 'type': 'tokens', 'param': None, 'code': 'rate_limit_exceeded'}})\n"
          ]
        },
        {
          "output_type": "stream",
          "name": "stdout",
          "text": [
            "\n",
            "Batch 56/100 complete. Speed: 9.40 statements/sec. Est. remaining time: 3.9 minutes.\n"
          ]
        },
        {
          "output_type": "stream",
          "name": "stderr",
          "text": [
            "INFO:backoff:Backing off classify_hostility(...) for 0.3s (openai.RateLimitError: Error code: 429 - {'error': {'message': 'Rate limit reached for gpt-3.5-turbo in organization org-zq7Modopi4RhdMcJDgnrgDbv on requests per min (RPM): Limit 500, Used 500, Requested 1. Please try again in 120ms. Visit https://platform.openai.com/account/rate-limits to learn more.', 'type': 'requests', 'param': None, 'code': 'rate_limit_exceeded'}})\n",
            "INFO:backoff:Backing off classify_hostility(...) for 1.6s (openai.RateLimitError: Error code: 429 - {'error': {'message': 'Rate limit reached for gpt-3.5-turbo in organization org-zq7Modopi4RhdMcJDgnrgDbv on tokens per min (TPM): Limit 200000, Used 199632, Requested 387. Please try again in 5ms. Visit https://platform.openai.com/account/rate-limits to learn more.', 'type': 'tokens', 'param': None, 'code': 'rate_limit_exceeded'}})\n",
            "INFO:backoff:Backing off classify_hostility(...) for 1.3s (openai.RateLimitError: Error code: 429 - {'error': {'message': 'Rate limit reached for gpt-3.5-turbo in organization org-zq7Modopi4RhdMcJDgnrgDbv on tokens per min (TPM): Limit 200000, Used 199894, Requested 320. Please try again in 64ms. Visit https://platform.openai.com/account/rate-limits to learn more.', 'type': 'tokens', 'param': None, 'code': 'rate_limit_exceeded'}})\n",
            "INFO:backoff:Backing off classify_hostility(...) for 0.7s (openai.RateLimitError: Error code: 429 - {'error': {'message': 'Rate limit reached for gpt-3.5-turbo in organization org-zq7Modopi4RhdMcJDgnrgDbv on tokens per min (TPM): Limit 200000, Used 199696, Requested 354. Please try again in 15ms. Visit https://platform.openai.com/account/rate-limits to learn more.', 'type': 'tokens', 'param': None, 'code': 'rate_limit_exceeded'}})\n"
          ]
        },
        {
          "output_type": "stream",
          "name": "stdout",
          "text": [
            "\n",
            "Batch 57/100 complete. Speed: 9.42 statements/sec. Est. remaining time: 3.8 minutes.\n"
          ]
        },
        {
          "output_type": "stream",
          "name": "stderr",
          "text": [
            "INFO:backoff:Backing off classify_hostility(...) for 1.0s (openai.RateLimitError: Error code: 429 - {'error': {'message': 'Rate limit reached for gpt-3.5-turbo in organization org-zq7Modopi4RhdMcJDgnrgDbv on requests per min (RPM): Limit 500, Used 500, Requested 1. Please try again in 120ms. Visit https://platform.openai.com/account/rate-limits to learn more.', 'type': 'requests', 'param': None, 'code': 'rate_limit_exceeded'}})\n",
            "INFO:backoff:Backing off classify_hostility(...) for 0.2s (openai.RateLimitError: Error code: 429 - {'error': {'message': 'Rate limit reached for gpt-3.5-turbo in organization org-zq7Modopi4RhdMcJDgnrgDbv on tokens per min (TPM): Limit 200000, Used 199747, Requested 319. Please try again in 19ms. Visit https://platform.openai.com/account/rate-limits to learn more.', 'type': 'tokens', 'param': None, 'code': 'rate_limit_exceeded'}})\n",
            "INFO:backoff:Backing off classify_hostility(...) for 0.5s (openai.RateLimitError: Error code: 429 - {'error': {'message': 'Rate limit reached for gpt-3.5-turbo in organization org-zq7Modopi4RhdMcJDgnrgDbv on tokens per min (TPM): Limit 200000, Used 199739, Requested 319. Please try again in 17ms. Visit https://platform.openai.com/account/rate-limits to learn more.', 'type': 'tokens', 'param': None, 'code': 'rate_limit_exceeded'}})\n",
            "INFO:backoff:Backing off classify_hostility(...) for 1.0s (openai.RateLimitError: Error code: 429 - {'error': {'message': 'Rate limit reached for gpt-3.5-turbo in organization org-zq7Modopi4RhdMcJDgnrgDbv on requests per min (RPM): Limit 500, Used 500, Requested 1. Please try again in 120ms. Visit https://platform.openai.com/account/rate-limits to learn more.', 'type': 'requests', 'param': None, 'code': 'rate_limit_exceeded'}})\n",
            "INFO:backoff:Backing off classify_hostility(...) for 0.7s (openai.RateLimitError: Error code: 429 - {'error': {'message': 'Rate limit reached for gpt-3.5-turbo in organization org-zq7Modopi4RhdMcJDgnrgDbv on requests per min (RPM): Limit 500, Used 500, Requested 1. Please try again in 120ms. Visit https://platform.openai.com/account/rate-limits to learn more.', 'type': 'requests', 'param': None, 'code': 'rate_limit_exceeded'}})\n",
            "INFO:backoff:Backing off classify_hostility(...) for 0.8s (openai.RateLimitError: Error code: 429 - {'error': {'message': 'Rate limit reached for gpt-3.5-turbo in organization org-zq7Modopi4RhdMcJDgnrgDbv on requests per min (RPM): Limit 500, Used 500, Requested 1. Please try again in 120ms. Visit https://platform.openai.com/account/rate-limits to learn more.', 'type': 'requests', 'param': None, 'code': 'rate_limit_exceeded'}})\n",
            "INFO:backoff:Backing off classify_hostility(...) for 0.4s (openai.RateLimitError: Error code: 429 - {'error': {'message': 'Rate limit reached for gpt-3.5-turbo in organization org-zq7Modopi4RhdMcJDgnrgDbv on requests per min (RPM): Limit 500, Used 500, Requested 1. Please try again in 120ms. Visit https://platform.openai.com/account/rate-limits to learn more.', 'type': 'requests', 'param': None, 'code': 'rate_limit_exceeded'}})\n",
            "INFO:backoff:Backing off classify_hostility(...) for 0.7s (openai.RateLimitError: Error code: 429 - {'error': {'message': 'Rate limit reached for gpt-3.5-turbo in organization org-zq7Modopi4RhdMcJDgnrgDbv on tokens per min (TPM): Limit 200000, Used 199689, Requested 318. Please try again in 2ms. Visit https://platform.openai.com/account/rate-limits to learn more.', 'type': 'tokens', 'param': None, 'code': 'rate_limit_exceeded'}})\n",
            "INFO:backoff:Backing off classify_hostility(...) for 1.2s (openai.RateLimitError: Error code: 429 - {'error': {'message': 'Rate limit reached for gpt-3.5-turbo in organization org-zq7Modopi4RhdMcJDgnrgDbv on requests per min (RPM): Limit 500, Used 500, Requested 1. Please try again in 120ms. Visit https://platform.openai.com/account/rate-limits to learn more.', 'type': 'requests', 'param': None, 'code': 'rate_limit_exceeded'}})\n",
            "INFO:backoff:Backing off classify_hostility(...) for 0.4s (openai.RateLimitError: Error code: 429 - {'error': {'message': 'Rate limit reached for gpt-3.5-turbo in organization org-zq7Modopi4RhdMcJDgnrgDbv on tokens per min (TPM): Limit 200000, Used 199710, Requested 320. Please try again in 9ms. Visit https://platform.openai.com/account/rate-limits to learn more.', 'type': 'tokens', 'param': None, 'code': 'rate_limit_exceeded'}})\n"
          ]
        },
        {
          "output_type": "stream",
          "name": "stdout",
          "text": [
            "\n",
            "Batch 58/100 complete. Speed: 9.31 statements/sec. Est. remaining time: 3.8 minutes.\n",
            "\n",
            "Batch 59/100 complete. Speed: 9.29 statements/sec. Est. remaining time: 3.7 minutes.\n",
            "\n",
            "Batch 60/100 complete. Speed: 9.30 statements/sec. Est. remaining time: 3.6 minutes.\n"
          ]
        },
        {
          "output_type": "stream",
          "name": "stderr",
          "text": [
            "INFO:backoff:Backing off classify_hostility(...) for 0.0s (openai.RateLimitError: Error code: 429 - {'error': {'message': 'Rate limit reached for gpt-3.5-turbo in organization org-zq7Modopi4RhdMcJDgnrgDbv on tokens per min (TPM): Limit 200000, Used 199725, Requested 327. Please try again in 15ms. Visit https://platform.openai.com/account/rate-limits to learn more.', 'type': 'tokens', 'param': None, 'code': 'rate_limit_exceeded'}})\n",
            "INFO:backoff:Backing off classify_hostility(...) for 1.2s (openai.RateLimitError: Error code: 429 - {'error': {'message': 'Rate limit reached for gpt-3.5-turbo in organization org-zq7Modopi4RhdMcJDgnrgDbv on tokens per min (TPM): Limit 200000, Used 199688, Requested 323. Please try again in 3ms. Visit https://platform.openai.com/account/rate-limits to learn more.', 'type': 'tokens', 'param': None, 'code': 'rate_limit_exceeded'}})\n",
            "INFO:backoff:Backing off classify_hostility(...) for 1.7s (openai.RateLimitError: Error code: 429 - {'error': {'message': 'Rate limit reached for gpt-3.5-turbo in organization org-zq7Modopi4RhdMcJDgnrgDbv on requests per min (RPM): Limit 500, Used 500, Requested 1. Please try again in 120ms. Visit https://platform.openai.com/account/rate-limits to learn more.', 'type': 'requests', 'param': None, 'code': 'rate_limit_exceeded'}})\n",
            "INFO:backoff:Backing off classify_hostility(...) for 1.9s (openai.RateLimitError: Error code: 429 - {'error': {'message': 'Rate limit reached for gpt-3.5-turbo in organization org-zq7Modopi4RhdMcJDgnrgDbv on requests per min (RPM): Limit 500, Used 500, Requested 1. Please try again in 120ms. Visit https://platform.openai.com/account/rate-limits to learn more.', 'type': 'requests', 'param': None, 'code': 'rate_limit_exceeded'}})\n",
            "INFO:backoff:Backing off classify_hostility(...) for 1.2s (openai.RateLimitError: Error code: 429 - {'error': {'message': 'Rate limit reached for gpt-3.5-turbo in organization org-zq7Modopi4RhdMcJDgnrgDbv on requests per min (RPM): Limit 500, Used 500, Requested 1. Please try again in 120ms. Visit https://platform.openai.com/account/rate-limits to learn more.', 'type': 'requests', 'param': None, 'code': 'rate_limit_exceeded'}})\n",
            "INFO:backoff:Backing off classify_hostility(...) for 1.5s (openai.RateLimitError: Error code: 429 - {'error': {'message': 'Rate limit reached for gpt-3.5-turbo in organization org-zq7Modopi4RhdMcJDgnrgDbv on tokens per min (TPM): Limit 200000, Used 199906, Requested 455. Please try again in 108ms. Visit https://platform.openai.com/account/rate-limits to learn more.', 'type': 'tokens', 'param': None, 'code': 'rate_limit_exceeded'}})\n",
            "INFO:backoff:Backing off classify_hostility(...) for 2.7s (openai.RateLimitError: Error code: 429 - {'error': {'message': 'Rate limit reached for gpt-3.5-turbo in organization org-zq7Modopi4RhdMcJDgnrgDbv on requests per min (RPM): Limit 500, Used 500, Requested 1. Please try again in 120ms. Visit https://platform.openai.com/account/rate-limits to learn more.', 'type': 'requests', 'param': None, 'code': 'rate_limit_exceeded'}})\n",
            "INFO:backoff:Backing off classify_hostility(...) for 1.7s (openai.RateLimitError: Error code: 429 - {'error': {'message': 'Rate limit reached for gpt-3.5-turbo in organization org-zq7Modopi4RhdMcJDgnrgDbv on tokens per min (TPM): Limit 200000, Used 199981, Requested 349. Please try again in 99ms. Visit https://platform.openai.com/account/rate-limits to learn more.', 'type': 'tokens', 'param': None, 'code': 'rate_limit_exceeded'}})\n",
            "INFO:backoff:Backing off classify_hostility(...) for 0.2s (openai.RateLimitError: Error code: 429 - {'error': {'message': 'Rate limit reached for gpt-3.5-turbo in organization org-zq7Modopi4RhdMcJDgnrgDbv on tokens per min (TPM): Limit 200000, Used 199882, Requested 433. Please try again in 94ms. Visit https://platform.openai.com/account/rate-limits to learn more.', 'type': 'tokens', 'param': None, 'code': 'rate_limit_exceeded'}})\n"
          ]
        },
        {
          "output_type": "stream",
          "name": "stdout",
          "text": [
            "\n",
            "Batch 61/100 complete. Speed: 9.27 statements/sec. Est. remaining time: 3.5 minutes.\n"
          ]
        },
        {
          "output_type": "stream",
          "name": "stderr",
          "text": [
            "INFO:backoff:Backing off classify_hostility(...) for 1.0s (openai.RateLimitError: Error code: 429 - {'error': {'message': 'Rate limit reached for gpt-3.5-turbo in organization org-zq7Modopi4RhdMcJDgnrgDbv on tokens per min (TPM): Limit 200000, Used 199836, Requested 365. Please try again in 60ms. Visit https://platform.openai.com/account/rate-limits to learn more.', 'type': 'tokens', 'param': None, 'code': 'rate_limit_exceeded'}})\n",
            "INFO:backoff:Backing off classify_hostility(...) for 1.2s (openai.RateLimitError: Error code: 429 - {'error': {'message': 'Rate limit reached for gpt-3.5-turbo in organization org-zq7Modopi4RhdMcJDgnrgDbv on tokens per min (TPM): Limit 200000, Used 199959, Requested 382. Please try again in 102ms. Visit https://platform.openai.com/account/rate-limits to learn more.', 'type': 'tokens', 'param': None, 'code': 'rate_limit_exceeded'}})\n",
            "INFO:backoff:Backing off classify_hostility(...) for 0.1s (openai.RateLimitError: Error code: 429 - {'error': {'message': 'Rate limit reached for gpt-3.5-turbo in organization org-zq7Modopi4RhdMcJDgnrgDbv on tokens per min (TPM): Limit 200000, Used 199696, Requested 319. Please try again in 4ms. Visit https://platform.openai.com/account/rate-limits to learn more.', 'type': 'tokens', 'param': None, 'code': 'rate_limit_exceeded'}})\n",
            "INFO:backoff:Backing off classify_hostility(...) for 0.5s (openai.RateLimitError: Error code: 429 - {'error': {'message': 'Rate limit reached for gpt-3.5-turbo in organization org-zq7Modopi4RhdMcJDgnrgDbv on requests per min (RPM): Limit 500, Used 500, Requested 1. Please try again in 120ms. Visit https://platform.openai.com/account/rate-limits to learn more.', 'type': 'requests', 'param': None, 'code': 'rate_limit_exceeded'}})\n",
            "INFO:backoff:Backing off classify_hostility(...) for 0.1s (openai.RateLimitError: Error code: 429 - {'error': {'message': 'Rate limit reached for gpt-3.5-turbo in organization org-zq7Modopi4RhdMcJDgnrgDbv on tokens per min (TPM): Limit 200000, Used 199899, Requested 352. Please try again in 75ms. Visit https://platform.openai.com/account/rate-limits to learn more.', 'type': 'tokens', 'param': None, 'code': 'rate_limit_exceeded'}})\n",
            "INFO:backoff:Backing off classify_hostility(...) for 0.2s (openai.RateLimitError: Error code: 429 - {'error': {'message': 'Rate limit reached for gpt-3.5-turbo in organization org-zq7Modopi4RhdMcJDgnrgDbv on tokens per min (TPM): Limit 200000, Used 199659, Requested 370. Please try again in 8ms. Visit https://platform.openai.com/account/rate-limits to learn more.', 'type': 'tokens', 'param': None, 'code': 'rate_limit_exceeded'}})\n",
            "INFO:backoff:Backing off classify_hostility(...) for 1.5s (openai.RateLimitError: Error code: 429 - {'error': {'message': 'Rate limit reached for gpt-3.5-turbo in organization org-zq7Modopi4RhdMcJDgnrgDbv on requests per min (RPM): Limit 500, Used 500, Requested 1. Please try again in 120ms. Visit https://platform.openai.com/account/rate-limits to learn more.', 'type': 'requests', 'param': None, 'code': 'rate_limit_exceeded'}})\n"
          ]
        },
        {
          "output_type": "stream",
          "name": "stdout",
          "text": [
            "\n",
            "Batch 62/100 complete. Speed: 9.27 statements/sec. Est. remaining time: 3.4 minutes.\n"
          ]
        },
        {
          "output_type": "stream",
          "name": "stderr",
          "text": [
            "INFO:backoff:Backing off classify_hostility(...) for 0.8s (openai.RateLimitError: Error code: 429 - {'error': {'message': 'Rate limit reached for gpt-3.5-turbo in organization org-zq7Modopi4RhdMcJDgnrgDbv on requests per min (RPM): Limit 500, Used 500, Requested 1. Please try again in 120ms. Visit https://platform.openai.com/account/rate-limits to learn more.', 'type': 'requests', 'param': None, 'code': 'rate_limit_exceeded'}})\n",
            "INFO:backoff:Backing off classify_hostility(...) for 1.5s (openai.RateLimitError: Error code: 429 - {'error': {'message': 'Rate limit reached for gpt-3.5-turbo in organization org-zq7Modopi4RhdMcJDgnrgDbv on tokens per min (TPM): Limit 200000, Used 200000, Requested 377. Please try again in 113ms. Visit https://platform.openai.com/account/rate-limits to learn more.', 'type': 'tokens', 'param': None, 'code': 'rate_limit_exceeded'}})\n",
            "INFO:backoff:Backing off classify_hostility(...) for 1.7s (openai.RateLimitError: Error code: 429 - {'error': {'message': 'Rate limit reached for gpt-3.5-turbo in organization org-zq7Modopi4RhdMcJDgnrgDbv on requests per min (RPM): Limit 500, Used 500, Requested 1. Please try again in 120ms. Visit https://platform.openai.com/account/rate-limits to learn more.', 'type': 'requests', 'param': None, 'code': 'rate_limit_exceeded'}})\n",
            "INFO:backoff:Backing off classify_hostility(...) for 1.2s (openai.RateLimitError: Error code: 429 - {'error': {'message': 'Rate limit reached for gpt-3.5-turbo in organization org-zq7Modopi4RhdMcJDgnrgDbv on tokens per min (TPM): Limit 200000, Used 199656, Requested 353. Please try again in 2ms. Visit https://platform.openai.com/account/rate-limits to learn more.', 'type': 'tokens', 'param': None, 'code': 'rate_limit_exceeded'}})\n",
            "INFO:backoff:Backing off classify_hostility(...) for 0.7s (openai.RateLimitError: Error code: 429 - {'error': {'message': 'Rate limit reached for gpt-3.5-turbo in organization org-zq7Modopi4RhdMcJDgnrgDbv on requests per min (RPM): Limit 500, Used 500, Requested 1. Please try again in 120ms. Visit https://platform.openai.com/account/rate-limits to learn more.', 'type': 'requests', 'param': None, 'code': 'rate_limit_exceeded'}})\n",
            "INFO:backoff:Backing off classify_hostility(...) for 1.2s (openai.RateLimitError: Error code: 429 - {'error': {'message': 'Rate limit reached for gpt-3.5-turbo in organization org-zq7Modopi4RhdMcJDgnrgDbv on requests per min (RPM): Limit 500, Used 500, Requested 1. Please try again in 120ms. Visit https://platform.openai.com/account/rate-limits to learn more.', 'type': 'requests', 'param': None, 'code': 'rate_limit_exceeded'}})\n",
            "INFO:backoff:Backing off classify_hostility(...) for 1.3s (openai.RateLimitError: Error code: 429 - {'error': {'message': 'Rate limit reached for gpt-3.5-turbo in organization org-zq7Modopi4RhdMcJDgnrgDbv on tokens per min (TPM): Limit 200000, Used 199899, Requested 427. Please try again in 97ms. Visit https://platform.openai.com/account/rate-limits to learn more.', 'type': 'tokens', 'param': None, 'code': 'rate_limit_exceeded'}})\n",
            "INFO:backoff:Backing off classify_hostility(...) for 1.1s (openai.RateLimitError: Error code: 429 - {'error': {'message': 'Rate limit reached for gpt-3.5-turbo in organization org-zq7Modopi4RhdMcJDgnrgDbv on requests per min (RPM): Limit 500, Used 500, Requested 1. Please try again in 120ms. Visit https://platform.openai.com/account/rate-limits to learn more.', 'type': 'requests', 'param': None, 'code': 'rate_limit_exceeded'}})\n"
          ]
        },
        {
          "output_type": "stream",
          "name": "stdout",
          "text": [
            "\n",
            "Batch 63/100 complete. Speed: 9.26 statements/sec. Est. remaining time: 3.3 minutes.\n"
          ]
        },
        {
          "output_type": "stream",
          "name": "stderr",
          "text": [
            "INFO:backoff:Backing off classify_hostility(...) for 0.1s (openai.RateLimitError: Error code: 429 - {'error': {'message': 'Rate limit reached for gpt-3.5-turbo in organization org-zq7Modopi4RhdMcJDgnrgDbv on requests per min (RPM): Limit 500, Used 500, Requested 1. Please try again in 120ms. Visit https://platform.openai.com/account/rate-limits to learn more.', 'type': 'requests', 'param': None, 'code': 'rate_limit_exceeded'}})\n",
            "INFO:backoff:Backing off classify_hostility(...) for 0.5s (openai.RateLimitError: Error code: 429 - {'error': {'message': 'Request too large for gpt-3.5-turbo in organization org-zq7Modopi4RhdMcJDgnrgDbv on tokens per min (TPM): Limit 200000, Requested 360. The input or output tokens must be reduced in order to run successfully. Visit https://platform.openai.com/account/rate-limits to learn more.', 'type': 'tokens', 'param': None, 'code': 'rate_limit_exceeded'}})\n",
            "INFO:backoff:Backing off classify_hostility(...) for 0.2s (openai.RateLimitError: Error code: 429 - {'error': {'message': 'Rate limit reached for gpt-3.5-turbo in organization org-zq7Modopi4RhdMcJDgnrgDbv on tokens per min (TPM): Limit 200000, Used 199768, Requested 329. Please try again in 29ms. Visit https://platform.openai.com/account/rate-limits to learn more.', 'type': 'tokens', 'param': None, 'code': 'rate_limit_exceeded'}})\n",
            "INFO:backoff:Backing off classify_hostility(...) for 0.5s (openai.RateLimitError: Error code: 429 - {'error': {'message': 'Rate limit reached for gpt-3.5-turbo in organization org-zq7Modopi4RhdMcJDgnrgDbv on tokens per min (TPM): Limit 200000, Used 199699, Requested 324. Please try again in 6ms. Visit https://platform.openai.com/account/rate-limits to learn more.', 'type': 'tokens', 'param': None, 'code': 'rate_limit_exceeded'}})\n",
            "INFO:backoff:Backing off classify_hostility(...) for 0.3s (openai.RateLimitError: Error code: 429 - {'error': {'message': 'Rate limit reached for gpt-3.5-turbo in organization org-zq7Modopi4RhdMcJDgnrgDbv on requests per min (RPM): Limit 500, Used 500, Requested 1. Please try again in 120ms. Visit https://platform.openai.com/account/rate-limits to learn more.', 'type': 'requests', 'param': None, 'code': 'rate_limit_exceeded'}})\n",
            "INFO:backoff:Backing off classify_hostility(...) for 0.0s (openai.RateLimitError: Error code: 429 - {'error': {'message': 'Rate limit reached for gpt-3.5-turbo in organization org-zq7Modopi4RhdMcJDgnrgDbv on requests per min (RPM): Limit 500, Used 500, Requested 1. Please try again in 120ms. Visit https://platform.openai.com/account/rate-limits to learn more.', 'type': 'requests', 'param': None, 'code': 'rate_limit_exceeded'}})\n",
            "INFO:backoff:Backing off classify_hostility(...) for 2.7s (openai.RateLimitError: Error code: 429 - {'error': {'message': 'Rate limit reached for gpt-3.5-turbo in organization org-zq7Modopi4RhdMcJDgnrgDbv on tokens per min (TPM): Limit 200000, Used 199676, Requested 356. Please try again in 9ms. Visit https://platform.openai.com/account/rate-limits to learn more.', 'type': 'tokens', 'param': None, 'code': 'rate_limit_exceeded'}})\n",
            "INFO:backoff:Backing off classify_hostility(...) for 0.7s (openai.RateLimitError: Error code: 429 - {'error': {'message': 'Rate limit reached for gpt-3.5-turbo in organization org-zq7Modopi4RhdMcJDgnrgDbv on requests per min (RPM): Limit 500, Used 500, Requested 1. Please try again in 120ms. Visit https://platform.openai.com/account/rate-limits to learn more.', 'type': 'requests', 'param': None, 'code': 'rate_limit_exceeded'}})\n",
            "INFO:backoff:Backing off classify_hostility(...) for 1.1s (openai.RateLimitError: Error code: 429 - {'error': {'message': 'Rate limit reached for gpt-3.5-turbo in organization org-zq7Modopi4RhdMcJDgnrgDbv on tokens per min (TPM): Limit 200000, Used 199746, Requested 331. Please try again in 23ms. Visit https://platform.openai.com/account/rate-limits to learn more.', 'type': 'tokens', 'param': None, 'code': 'rate_limit_exceeded'}})\n",
            "INFO:backoff:Backing off classify_hostility(...) for 2.2s (openai.RateLimitError: Error code: 429 - {'error': {'message': 'Rate limit reached for gpt-3.5-turbo in organization org-zq7Modopi4RhdMcJDgnrgDbv on requests per min (RPM): Limit 500, Used 500, Requested 1. Please try again in 120ms. Visit https://platform.openai.com/account/rate-limits to learn more.', 'type': 'requests', 'param': None, 'code': 'rate_limit_exceeded'}})\n",
            "INFO:backoff:Backing off classify_hostility(...) for 0.8s (openai.RateLimitError: Error code: 429 - {'error': {'message': 'Rate limit reached for gpt-3.5-turbo in organization org-zq7Modopi4RhdMcJDgnrgDbv on requests per min (RPM): Limit 500, Used 500, Requested 1. Please try again in 120ms. Visit https://platform.openai.com/account/rate-limits to learn more.', 'type': 'requests', 'param': None, 'code': 'rate_limit_exceeded'}})\n",
            "INFO:backoff:Backing off classify_hostility(...) for 0.6s (openai.RateLimitError: Error code: 429 - {'error': {'message': 'Rate limit reached for gpt-3.5-turbo in organization org-zq7Modopi4RhdMcJDgnrgDbv on tokens per min (TPM): Limit 200000, Used 199521, Requested 516. Please try again in 11ms. Visit https://platform.openai.com/account/rate-limits to learn more.', 'type': 'tokens', 'param': None, 'code': 'rate_limit_exceeded'}})\n",
            "INFO:backoff:Backing off classify_hostility(...) for 1.9s (openai.RateLimitError: Error code: 429 - {'error': {'message': 'Rate limit reached for gpt-3.5-turbo in organization org-zq7Modopi4RhdMcJDgnrgDbv on tokens per min (TPM): Limit 200000, Used 199828, Requested 516. Please try again in 103ms. Visit https://platform.openai.com/account/rate-limits to learn more.', 'type': 'tokens', 'param': None, 'code': 'rate_limit_exceeded'}})\n",
            "ERROR:backoff:Giving up classify_hostility(...) after 3 tries (openai.RateLimitError: Error code: 429 - {'error': {'message': 'Rate limit reached for gpt-3.5-turbo in organization org-zq7Modopi4RhdMcJDgnrgDbv on tokens per min (TPM): Limit 200000, Used 199871, Requested 331. Please try again in 60ms. Visit https://platform.openai.com/account/rate-limits to learn more.', 'type': 'tokens', 'param': None, 'code': 'rate_limit_exceeded'}})\n"
          ]
        },
        {
          "output_type": "stream",
          "name": "stdout",
          "text": [
            "Error on statement 27310: Error code: 429 - {'error': {'message': 'Rate limit reached for gpt-3.5-turbo in organization org-zq7Modopi4RhdMcJDgnrgDbv on tokens per min (TPM): Limit 200000, Used 199871, Requested 331. Please try again in 60ms. Visit https://platform.openai.com/account/rate-limits to learn more.', 'type': 'tokens', 'param': None, 'code': 'rate_limit_exceeded'}}\n"
          ]
        },
        {
          "output_type": "stream",
          "name": "stderr",
          "text": [
            "INFO:backoff:Backing off classify_hostility(...) for 0.0s (openai.RateLimitError: Error code: 429 - {'error': {'message': 'Rate limit reached for gpt-3.5-turbo in organization org-zq7Modopi4RhdMcJDgnrgDbv on requests per min (RPM): Limit 500, Used 500, Requested 1. Please try again in 120ms. Visit https://platform.openai.com/account/rate-limits to learn more.', 'type': 'requests', 'param': None, 'code': 'rate_limit_exceeded'}})\n",
            "INFO:backoff:Backing off classify_hostility(...) for 1.1s (openai.RateLimitError: Error code: 429 - {'error': {'message': 'Rate limit reached for gpt-3.5-turbo in organization org-zq7Modopi4RhdMcJDgnrgDbv on tokens per min (TPM): Limit 200000, Used 199670, Requested 343. Please try again in 3ms. Visit https://platform.openai.com/account/rate-limits to learn more.', 'type': 'tokens', 'param': None, 'code': 'rate_limit_exceeded'}})\n"
          ]
        },
        {
          "output_type": "stream",
          "name": "stdout",
          "text": [
            "\n",
            "Batch 64/100 complete. Speed: 9.21 statements/sec. Est. remaining time: 3.3 minutes.\n"
          ]
        },
        {
          "output_type": "stream",
          "name": "stderr",
          "text": [
            "INFO:backoff:Backing off classify_hostility(...) for 0.1s (openai.RateLimitError: Error code: 429 - {'error': {'message': 'Rate limit reached for gpt-3.5-turbo in organization org-zq7Modopi4RhdMcJDgnrgDbv on tokens per min (TPM): Limit 200000, Used 199760, Requested 393. Please try again in 45ms. Visit https://platform.openai.com/account/rate-limits to learn more.', 'type': 'tokens', 'param': None, 'code': 'rate_limit_exceeded'}})\n",
            "INFO:backoff:Backing off classify_hostility(...) for 1.6s (openai.RateLimitError: Error code: 429 - {'error': {'message': 'Rate limit reached for gpt-3.5-turbo in organization org-zq7Modopi4RhdMcJDgnrgDbv on tokens per min (TPM): Limit 200000, Used 199720, Requested 341. Please try again in 18ms. Visit https://platform.openai.com/account/rate-limits to learn more.', 'type': 'tokens', 'param': None, 'code': 'rate_limit_exceeded'}})\n",
            "INFO:backoff:Backing off classify_hostility(...) for 0.5s (openai.RateLimitError: Error code: 429 - {'error': {'message': 'Rate limit reached for gpt-3.5-turbo in organization org-zq7Modopi4RhdMcJDgnrgDbv on tokens per min (TPM): Limit 200000, Used 199592, Requested 484. Please try again in 22ms. Visit https://platform.openai.com/account/rate-limits to learn more.', 'type': 'tokens', 'param': None, 'code': 'rate_limit_exceeded'}})\n",
            "INFO:backoff:Backing off classify_hostility(...) for 1.3s (openai.RateLimitError: Error code: 429 - {'error': {'message': 'Rate limit reached for gpt-3.5-turbo in organization org-zq7Modopi4RhdMcJDgnrgDbv on requests per min (RPM): Limit 500, Used 500, Requested 1. Please try again in 120ms. Visit https://platform.openai.com/account/rate-limits to learn more.', 'type': 'requests', 'param': None, 'code': 'rate_limit_exceeded'}})\n",
            "INFO:backoff:Backing off classify_hostility(...) for 0.8s (openai.RateLimitError: Error code: 429 - {'error': {'message': 'Rate limit reached for gpt-3.5-turbo in organization org-zq7Modopi4RhdMcJDgnrgDbv on tokens per min (TPM): Limit 200000, Used 199577, Requested 469. Please try again in 13ms. Visit https://platform.openai.com/account/rate-limits to learn more.', 'type': 'tokens', 'param': None, 'code': 'rate_limit_exceeded'}})\n",
            "INFO:backoff:Backing off classify_hostility(...) for 1.6s (openai.RateLimitError: Error code: 429 - {'error': {'message': 'Rate limit reached for gpt-3.5-turbo in organization org-zq7Modopi4RhdMcJDgnrgDbv on requests per min (RPM): Limit 500, Used 500, Requested 1. Please try again in 120ms. Visit https://platform.openai.com/account/rate-limits to learn more.', 'type': 'requests', 'param': None, 'code': 'rate_limit_exceeded'}})\n",
            "INFO:backoff:Backing off classify_hostility(...) for 0.9s (openai.RateLimitError: Error code: 429 - {'error': {'message': 'Rate limit reached for gpt-3.5-turbo in organization org-zq7Modopi4RhdMcJDgnrgDbv on requests per min (RPM): Limit 500, Used 500, Requested 1. Please try again in 120ms. Visit https://platform.openai.com/account/rate-limits to learn more.', 'type': 'requests', 'param': None, 'code': 'rate_limit_exceeded'}})\n",
            "INFO:backoff:Backing off classify_hostility(...) for 1.3s (openai.RateLimitError: Error code: 429 - {'error': {'message': 'Rate limit reached for gpt-3.5-turbo in organization org-zq7Modopi4RhdMcJDgnrgDbv on tokens per min (TPM): Limit 200000, Used 199741, Requested 812. Please try again in 165ms. Visit https://platform.openai.com/account/rate-limits to learn more.', 'type': 'tokens', 'param': None, 'code': 'rate_limit_exceeded'}})\n",
            "INFO:backoff:Backing off classify_hostility(...) for 2.8s (openai.RateLimitError: Error code: 429 - {'error': {'message': 'Rate limit reached for gpt-3.5-turbo in organization org-zq7Modopi4RhdMcJDgnrgDbv on tokens per min (TPM): Limit 200000, Used 199541, Requested 484. Please try again in 7ms. Visit https://platform.openai.com/account/rate-limits to learn more.', 'type': 'tokens', 'param': None, 'code': 'rate_limit_exceeded'}})\n",
            "INFO:backoff:Backing off classify_hostility(...) for 0.2s (openai.RateLimitError: Error code: 429 - {'error': {'message': 'Rate limit reached for gpt-3.5-turbo in organization org-zq7Modopi4RhdMcJDgnrgDbv on tokens per min (TPM): Limit 200000, Used 199693, Requested 361. Please try again in 16ms. Visit https://platform.openai.com/account/rate-limits to learn more.', 'type': 'tokens', 'param': None, 'code': 'rate_limit_exceeded'}})\n",
            "INFO:backoff:Backing off classify_hostility(...) for 2.9s (openai.RateLimitError: Error code: 429 - {'error': {'message': 'Rate limit reached for gpt-3.5-turbo in organization org-zq7Modopi4RhdMcJDgnrgDbv on requests per min (RPM): Limit 500, Used 500, Requested 1. Please try again in 120ms. Visit https://platform.openai.com/account/rate-limits to learn more.', 'type': 'requests', 'param': None, 'code': 'rate_limit_exceeded'}})\n",
            "INFO:backoff:Backing off classify_hostility(...) for 0.7s (openai.RateLimitError: Error code: 429 - {'error': {'message': 'Rate limit reached for gpt-3.5-turbo in organization org-zq7Modopi4RhdMcJDgnrgDbv on requests per min (RPM): Limit 500, Used 500, Requested 1. Please try again in 120ms. Visit https://platform.openai.com/account/rate-limits to learn more.', 'type': 'requests', 'param': None, 'code': 'rate_limit_exceeded'}})\n",
            "INFO:backoff:Backing off classify_hostility(...) for 0.7s (openai.RateLimitError: Error code: 429 - {'error': {'message': 'Rate limit reached for gpt-3.5-turbo in organization org-zq7Modopi4RhdMcJDgnrgDbv on requests per min (RPM): Limit 500, Used 500, Requested 1. Please try again in 120ms. Visit https://platform.openai.com/account/rate-limits to learn more.', 'type': 'requests', 'param': None, 'code': 'rate_limit_exceeded'}})\n",
            "INFO:backoff:Backing off classify_hostility(...) for 0.4s (openai.RateLimitError: Error code: 429 - {'error': {'message': 'Rate limit reached for gpt-3.5-turbo in organization org-zq7Modopi4RhdMcJDgnrgDbv on requests per min (RPM): Limit 500, Used 500, Requested 1. Please try again in 120ms. Visit https://platform.openai.com/account/rate-limits to learn more.', 'type': 'requests', 'param': None, 'code': 'rate_limit_exceeded'}})\n",
            "INFO:backoff:Backing off classify_hostility(...) for 3.5s (openai.RateLimitError: Error code: 429 - {'error': {'message': 'Rate limit reached for gpt-3.5-turbo in organization org-zq7Modopi4RhdMcJDgnrgDbv on tokens per min (TPM): Limit 200000, Used 199738, Requested 341. Please try again in 23ms. Visit https://platform.openai.com/account/rate-limits to learn more.', 'type': 'tokens', 'param': None, 'code': 'rate_limit_exceeded'}})\n",
            "INFO:backoff:Backing off classify_hostility(...) for 3.8s (openai.RateLimitError: Error code: 429 - {'error': {'message': 'Rate limit reached for gpt-3.5-turbo in organization org-zq7Modopi4RhdMcJDgnrgDbv on requests per min (RPM): Limit 500, Used 500, Requested 1. Please try again in 120ms. Visit https://platform.openai.com/account/rate-limits to learn more.', 'type': 'requests', 'param': None, 'code': 'rate_limit_exceeded'}})\n",
            "ERROR:backoff:Giving up classify_hostility(...) after 3 tries (openai.RateLimitError: Error code: 429 - {'error': {'message': 'Rate limit reached for gpt-3.5-turbo in organization org-zq7Modopi4RhdMcJDgnrgDbv on tokens per min (TPM): Limit 200000, Used 199876, Requested 393. Please try again in 80ms. Visit https://platform.openai.com/account/rate-limits to learn more.', 'type': 'tokens', 'param': None, 'code': 'rate_limit_exceeded'}})\n"
          ]
        },
        {
          "output_type": "stream",
          "name": "stdout",
          "text": [
            "Error on statement 44892: Error code: 429 - {'error': {'message': 'Rate limit reached for gpt-3.5-turbo in organization org-zq7Modopi4RhdMcJDgnrgDbv on tokens per min (TPM): Limit 200000, Used 199876, Requested 393. Please try again in 80ms. Visit https://platform.openai.com/account/rate-limits to learn more.', 'type': 'tokens', 'param': None, 'code': 'rate_limit_exceeded'}}\n",
            "\n",
            "Batch 65/100 complete. Speed: 9.07 statements/sec. Est. remaining time: 3.2 minutes.\n",
            "\n",
            "Batch 66/100 complete. Speed: 9.07 statements/sec. Est. remaining time: 3.1 minutes.\n",
            "\n",
            "Batch 67/100 complete. Speed: 9.06 statements/sec. Est. remaining time: 3.0 minutes.\n",
            "\n",
            "Batch 68/100 complete. Speed: 9.08 statements/sec. Est. remaining time: 2.9 minutes.\n"
          ]
        },
        {
          "output_type": "stream",
          "name": "stderr",
          "text": [
            "INFO:backoff:Backing off classify_hostility(...) for 0.4s (openai.RateLimitError: Error code: 429 - {'error': {'message': 'Rate limit reached for gpt-3.5-turbo in organization org-zq7Modopi4RhdMcJDgnrgDbv on requests per min (RPM): Limit 500, Used 500, Requested 1. Please try again in 120ms. Visit https://platform.openai.com/account/rate-limits to learn more.', 'type': 'requests', 'param': None, 'code': 'rate_limit_exceeded'}})\n",
            "INFO:backoff:Backing off classify_hostility(...) for 0.2s (openai.RateLimitError: Error code: 429 - {'error': {'message': 'Rate limit reached for gpt-3.5-turbo in organization org-zq7Modopi4RhdMcJDgnrgDbv on requests per min (RPM): Limit 500, Used 500, Requested 1. Please try again in 120ms. Visit https://platform.openai.com/account/rate-limits to learn more.', 'type': 'requests', 'param': None, 'code': 'rate_limit_exceeded'}})\n",
            "INFO:backoff:Backing off classify_hostility(...) for 0.4s (openai.RateLimitError: Error code: 429 - {'error': {'message': 'Rate limit reached for gpt-3.5-turbo in organization org-zq7Modopi4RhdMcJDgnrgDbv on requests per min (RPM): Limit 500, Used 500, Requested 1. Please try again in 120ms. Visit https://platform.openai.com/account/rate-limits to learn more.', 'type': 'requests', 'param': None, 'code': 'rate_limit_exceeded'}})\n",
            "INFO:backoff:Backing off classify_hostility(...) for 0.7s (openai.RateLimitError: Error code: 429 - {'error': {'message': 'Rate limit reached for gpt-3.5-turbo in organization org-zq7Modopi4RhdMcJDgnrgDbv on requests per min (RPM): Limit 500, Used 500, Requested 1. Please try again in 120ms. Visit https://platform.openai.com/account/rate-limits to learn more.', 'type': 'requests', 'param': None, 'code': 'rate_limit_exceeded'}})\n",
            "INFO:backoff:Backing off classify_hostility(...) for 1.8s (openai.RateLimitError: Error code: 429 - {'error': {'message': 'Rate limit reached for gpt-3.5-turbo in organization org-zq7Modopi4RhdMcJDgnrgDbv on tokens per min (TPM): Limit 200000, Used 199619, Requested 483. Please try again in 30ms. Visit https://platform.openai.com/account/rate-limits to learn more.', 'type': 'tokens', 'param': None, 'code': 'rate_limit_exceeded'}})\n",
            "INFO:backoff:Backing off classify_hostility(...) for 1.0s (openai.RateLimitError: Error code: 429 - {'error': {'message': 'Rate limit reached for gpt-3.5-turbo in organization org-zq7Modopi4RhdMcJDgnrgDbv on tokens per min (TPM): Limit 200000, Used 199732, Requested 322. Please try again in 16ms. Visit https://platform.openai.com/account/rate-limits to learn more.', 'type': 'tokens', 'param': None, 'code': 'rate_limit_exceeded'}})\n",
            "INFO:backoff:Backing off classify_hostility(...) for 2.5s (openai.RateLimitError: Error code: 429 - {'error': {'message': 'Rate limit reached for gpt-3.5-turbo in organization org-zq7Modopi4RhdMcJDgnrgDbv on tokens per min (TPM): Limit 200000, Used 199585, Requested 460. Please try again in 13ms. Visit https://platform.openai.com/account/rate-limits to learn more.', 'type': 'tokens', 'param': None, 'code': 'rate_limit_exceeded'}})\n"
          ]
        },
        {
          "output_type": "stream",
          "name": "stdout",
          "text": [
            "\n",
            "Batch 69/100 complete. Speed: 8.97 statements/sec. Est. remaining time: 2.9 minutes.\n",
            "\n",
            "Batch 70/100 complete. Speed: 9.03 statements/sec. Est. remaining time: 2.8 minutes.\n"
          ]
        },
        {
          "output_type": "stream",
          "name": "stderr",
          "text": [
            "INFO:backoff:Backing off classify_hostility(...) for 1.8s (openai.RateLimitError: Error code: 429 - {'error': {'message': 'Rate limit reached for gpt-3.5-turbo in organization org-zq7Modopi4RhdMcJDgnrgDbv on requests per min (RPM): Limit 500, Used 500, Requested 1. Please try again in 120ms. Visit https://platform.openai.com/account/rate-limits to learn more.', 'type': 'requests', 'param': None, 'code': 'rate_limit_exceeded'}})\n",
            "INFO:backoff:Backing off classify_hostility(...) for 0.9s (openai.RateLimitError: Error code: 429 - {'error': {'message': 'Rate limit reached for gpt-3.5-turbo in organization org-zq7Modopi4RhdMcJDgnrgDbv on tokens per min (TPM): Limit 200000, Used 199710, Requested 329. Please try again in 11ms. Visit https://platform.openai.com/account/rate-limits to learn more.', 'type': 'tokens', 'param': None, 'code': 'rate_limit_exceeded'}})\n",
            "INFO:backoff:Backing off classify_hostility(...) for 1.5s (openai.RateLimitError: Error code: 429 - {'error': {'message': 'Rate limit reached for gpt-3.5-turbo in organization org-zq7Modopi4RhdMcJDgnrgDbv on requests per min (RPM): Limit 500, Used 500, Requested 1. Please try again in 120ms. Visit https://platform.openai.com/account/rate-limits to learn more.', 'type': 'requests', 'param': None, 'code': 'rate_limit_exceeded'}})\n",
            "INFO:backoff:Backing off classify_hostility(...) for 0.8s (openai.RateLimitError: Error code: 429 - {'error': {'message': 'Rate limit reached for gpt-3.5-turbo in organization org-zq7Modopi4RhdMcJDgnrgDbv on tokens per min (TPM): Limit 200000, Used 199725, Requested 378. Please try again in 30ms. Visit https://platform.openai.com/account/rate-limits to learn more.', 'type': 'tokens', 'param': None, 'code': 'rate_limit_exceeded'}})\n"
          ]
        },
        {
          "output_type": "stream",
          "name": "stdout",
          "text": [
            "\n",
            "Batch 71/100 complete. Speed: 9.03 statements/sec. Est. remaining time: 2.7 minutes.\n"
          ]
        },
        {
          "output_type": "stream",
          "name": "stderr",
          "text": [
            "INFO:backoff:Backing off classify_hostility(...) for 0.4s (openai.RateLimitError: Error code: 429 - {'error': {'message': 'Rate limit reached for gpt-3.5-turbo in organization org-zq7Modopi4RhdMcJDgnrgDbv on tokens per min (TPM): Limit 200000, Used 199730, Requested 340. Please try again in 21ms. Visit https://platform.openai.com/account/rate-limits to learn more.', 'type': 'tokens', 'param': None, 'code': 'rate_limit_exceeded'}})\n",
            "INFO:backoff:Backing off classify_hostility(...) for 0.5s (openai.RateLimitError: Error code: 429 - {'error': {'message': 'Rate limit reached for gpt-3.5-turbo in organization org-zq7Modopi4RhdMcJDgnrgDbv on requests per min (RPM): Limit 500, Used 500, Requested 1. Please try again in 120ms. Visit https://platform.openai.com/account/rate-limits to learn more.', 'type': 'requests', 'param': None, 'code': 'rate_limit_exceeded'}})\n",
            "INFO:backoff:Backing off classify_hostility(...) for 1.4s (openai.RateLimitError: Error code: 429 - {'error': {'message': 'Rate limit reached for gpt-3.5-turbo in organization org-zq7Modopi4RhdMcJDgnrgDbv on tokens per min (TPM): Limit 200000, Used 199954, Requested 392. Please try again in 103ms. Visit https://platform.openai.com/account/rate-limits to learn more.', 'type': 'tokens', 'param': None, 'code': 'rate_limit_exceeded'}})\n",
            "INFO:backoff:Backing off classify_hostility(...) for 0.4s (openai.RateLimitError: Error code: 429 - {'error': {'message': 'Rate limit reached for gpt-3.5-turbo in organization org-zq7Modopi4RhdMcJDgnrgDbv on tokens per min (TPM): Limit 200000, Used 199712, Requested 357. Please try again in 20ms. Visit https://platform.openai.com/account/rate-limits to learn more.', 'type': 'tokens', 'param': None, 'code': 'rate_limit_exceeded'}})\n",
            "INFO:backoff:Backing off classify_hostility(...) for 0.3s (openai.RateLimitError: Error code: 429 - {'error': {'message': 'Rate limit reached for gpt-3.5-turbo in organization org-zq7Modopi4RhdMcJDgnrgDbv on tokens per min (TPM): Limit 200000, Used 199938, Requested 375. Please try again in 93ms. Visit https://platform.openai.com/account/rate-limits to learn more.', 'type': 'tokens', 'param': None, 'code': 'rate_limit_exceeded'}})\n",
            "INFO:backoff:Backing off classify_hostility(...) for 1.7s (openai.RateLimitError: Error code: 429 - {'error': {'message': 'Rate limit reached for gpt-3.5-turbo in organization org-zq7Modopi4RhdMcJDgnrgDbv on requests per min (RPM): Limit 500, Used 500, Requested 1. Please try again in 120ms. Visit https://platform.openai.com/account/rate-limits to learn more.', 'type': 'requests', 'param': None, 'code': 'rate_limit_exceeded'}})\n",
            "INFO:backoff:Backing off classify_hostility(...) for 1.9s (openai.RateLimitError: Error code: 429 - {'error': {'message': 'Rate limit reached for gpt-3.5-turbo in organization org-zq7Modopi4RhdMcJDgnrgDbv on tokens per min (TPM): Limit 200000, Used 199901, Requested 340. Please try again in 72ms. Visit https://platform.openai.com/account/rate-limits to learn more.', 'type': 'tokens', 'param': None, 'code': 'rate_limit_exceeded'}})\n",
            "INFO:backoff:Backing off classify_hostility(...) for 2.1s (openai.RateLimitError: Error code: 429 - {'error': {'message': 'Rate limit reached for gpt-3.5-turbo in organization org-zq7Modopi4RhdMcJDgnrgDbv on requests per min (RPM): Limit 500, Used 500, Requested 1. Please try again in 120ms. Visit https://platform.openai.com/account/rate-limits to learn more.', 'type': 'requests', 'param': None, 'code': 'rate_limit_exceeded'}})\n",
            "INFO:backoff:Backing off classify_hostility(...) for 0.1s (openai.RateLimitError: Error code: 429 - {'error': {'message': 'Rate limit reached for gpt-3.5-turbo in organization org-zq7Modopi4RhdMcJDgnrgDbv on tokens per min (TPM): Limit 200000, Used 199644, Requested 384. Please try again in 8ms. Visit https://platform.openai.com/account/rate-limits to learn more.', 'type': 'tokens', 'param': None, 'code': 'rate_limit_exceeded'}})\n",
            "INFO:backoff:Backing off classify_hostility(...) for 0.8s (openai.RateLimitError: Error code: 429 - {'error': {'message': 'Rate limit reached for gpt-3.5-turbo in organization org-zq7Modopi4RhdMcJDgnrgDbv on requests per min (RPM): Limit 500, Used 500, Requested 1. Please try again in 120ms. Visit https://platform.openai.com/account/rate-limits to learn more.', 'type': 'requests', 'param': None, 'code': 'rate_limit_exceeded'}})\n",
            "INFO:backoff:Backing off classify_hostility(...) for 2.0s (openai.RateLimitError: Error code: 429 - {'error': {'message': 'Rate limit reached for gpt-3.5-turbo in organization org-zq7Modopi4RhdMcJDgnrgDbv on tokens per min (TPM): Limit 200000, Used 199707, Requested 340. Please try again in 14ms. Visit https://platform.openai.com/account/rate-limits to learn more.', 'type': 'tokens', 'param': None, 'code': 'rate_limit_exceeded'}})\n"
          ]
        },
        {
          "output_type": "stream",
          "name": "stdout",
          "text": [
            "\n",
            "Batch 72/100 complete. Speed: 9.02 statements/sec. Est. remaining time: 2.6 minutes.\n"
          ]
        },
        {
          "output_type": "stream",
          "name": "stderr",
          "text": [
            "INFO:backoff:Backing off classify_hostility(...) for 0.7s (openai.RateLimitError: Error code: 429 - {'error': {'message': 'Rate limit reached for gpt-3.5-turbo in organization org-zq7Modopi4RhdMcJDgnrgDbv on tokens per min (TPM): Limit 200000, Used 199846, Requested 322. Please try again in 50ms. Visit https://platform.openai.com/account/rate-limits to learn more.', 'type': 'tokens', 'param': None, 'code': 'rate_limit_exceeded'}})\n",
            "INFO:backoff:Backing off classify_hostility(...) for 0.2s (openai.RateLimitError: Error code: 429 - {'error': {'message': 'Rate limit reached for gpt-3.5-turbo in organization org-zq7Modopi4RhdMcJDgnrgDbv on requests per min (RPM): Limit 500, Used 500, Requested 1. Please try again in 120ms. Visit https://platform.openai.com/account/rate-limits to learn more.', 'type': 'requests', 'param': None, 'code': 'rate_limit_exceeded'}})\n",
            "INFO:backoff:Backing off classify_hostility(...) for 0.5s (openai.RateLimitError: Error code: 429 - {'error': {'message': 'Rate limit reached for gpt-3.5-turbo in organization org-zq7Modopi4RhdMcJDgnrgDbv on requests per min (RPM): Limit 500, Used 500, Requested 1. Please try again in 120ms. Visit https://platform.openai.com/account/rate-limits to learn more.', 'type': 'requests', 'param': None, 'code': 'rate_limit_exceeded'}})\n",
            "INFO:backoff:Backing off classify_hostility(...) for 1.8s (openai.RateLimitError: Error code: 429 - {'error': {'message': 'Rate limit reached for gpt-3.5-turbo in organization org-zq7Modopi4RhdMcJDgnrgDbv on tokens per min (TPM): Limit 200000, Used 199959, Requested 421. Please try again in 114ms. Visit https://platform.openai.com/account/rate-limits to learn more.', 'type': 'tokens', 'param': None, 'code': 'rate_limit_exceeded'}})\n",
            "INFO:backoff:Backing off classify_hostility(...) for 1.9s (openai.RateLimitError: Error code: 429 - {'error': {'message': 'Rate limit reached for gpt-3.5-turbo in organization org-zq7Modopi4RhdMcJDgnrgDbv on requests per min (RPM): Limit 500, Used 500, Requested 1. Please try again in 120ms. Visit https://platform.openai.com/account/rate-limits to learn more.', 'type': 'requests', 'param': None, 'code': 'rate_limit_exceeded'}})\n",
            "INFO:backoff:Backing off classify_hostility(...) for 0.8s (openai.RateLimitError: Error code: 429 - {'error': {'message': 'Rate limit reached for gpt-3.5-turbo in organization org-zq7Modopi4RhdMcJDgnrgDbv on requests per min (RPM): Limit 500, Used 500, Requested 1. Please try again in 120ms. Visit https://platform.openai.com/account/rate-limits to learn more.', 'type': 'requests', 'param': None, 'code': 'rate_limit_exceeded'}})\n",
            "INFO:backoff:Backing off classify_hostility(...) for 0.3s (openai.RateLimitError: Error code: 429 - {'error': {'message': 'Rate limit reached for gpt-3.5-turbo in organization org-zq7Modopi4RhdMcJDgnrgDbv on requests per min (RPM): Limit 500, Used 500, Requested 1. Please try again in 120ms. Visit https://platform.openai.com/account/rate-limits to learn more.', 'type': 'requests', 'param': None, 'code': 'rate_limit_exceeded'}})\n",
            "INFO:backoff:Backing off classify_hostility(...) for 1.9s (openai.RateLimitError: Error code: 429 - {'error': {'message': 'Rate limit reached for gpt-3.5-turbo in organization org-zq7Modopi4RhdMcJDgnrgDbv on tokens per min (TPM): Limit 200000, Used 199774, Requested 323. Please try again in 29ms. Visit https://platform.openai.com/account/rate-limits to learn more.', 'type': 'tokens', 'param': None, 'code': 'rate_limit_exceeded'}})\n",
            "INFO:backoff:Backing off classify_hostility(...) for 1.6s (openai.RateLimitError: Error code: 429 - {'error': {'message': 'Rate limit reached for gpt-3.5-turbo in organization org-zq7Modopi4RhdMcJDgnrgDbv on requests per min (RPM): Limit 500, Used 500, Requested 1. Please try again in 120ms. Visit https://platform.openai.com/account/rate-limits to learn more.', 'type': 'requests', 'param': None, 'code': 'rate_limit_exceeded'}})\n",
            "INFO:backoff:Backing off classify_hostility(...) for 2.0s (openai.RateLimitError: Error code: 429 - {'error': {'message': 'Rate limit reached for gpt-3.5-turbo in organization org-zq7Modopi4RhdMcJDgnrgDbv on tokens per min (TPM): Limit 200000, Used 199957, Requested 322. Please try again in 83ms. Visit https://platform.openai.com/account/rate-limits to learn more.', 'type': 'tokens', 'param': None, 'code': 'rate_limit_exceeded'}})\n"
          ]
        },
        {
          "output_type": "stream",
          "name": "stdout",
          "text": [
            "\n",
            "Batch 73/100 complete. Speed: 9.00 statements/sec. Est. remaining time: 2.5 minutes.\n"
          ]
        },
        {
          "output_type": "stream",
          "name": "stderr",
          "text": [
            "INFO:backoff:Backing off classify_hostility(...) for 1.6s (openai.RateLimitError: Error code: 429 - {'error': {'message': 'Request too large for gpt-3.5-turbo in organization org-zq7Modopi4RhdMcJDgnrgDbv on tokens per min (TPM): Limit 200000, Requested 349. The input or output tokens must be reduced in order to run successfully. Visit https://platform.openai.com/account/rate-limits to learn more.', 'type': 'tokens', 'param': None, 'code': 'rate_limit_exceeded'}})\n",
            "INFO:backoff:Backing off classify_hostility(...) for 0.4s (openai.RateLimitError: Error code: 429 - {'error': {'message': 'Rate limit reached for gpt-3.5-turbo in organization org-zq7Modopi4RhdMcJDgnrgDbv on requests per min (RPM): Limit 500, Used 500, Requested 1. Please try again in 120ms. Visit https://platform.openai.com/account/rate-limits to learn more.', 'type': 'requests', 'param': None, 'code': 'rate_limit_exceeded'}})\n",
            "INFO:backoff:Backing off classify_hostility(...) for 1.3s (openai.RateLimitError: Error code: 429 - {'error': {'message': 'Rate limit reached for gpt-3.5-turbo in organization org-zq7Modopi4RhdMcJDgnrgDbv on requests per min (RPM): Limit 500, Used 500, Requested 1. Please try again in 120ms. Visit https://platform.openai.com/account/rate-limits to learn more.', 'type': 'requests', 'param': None, 'code': 'rate_limit_exceeded'}})\n",
            "INFO:backoff:Backing off classify_hostility(...) for 1.7s (openai.RateLimitError: Error code: 429 - {'error': {'message': 'Rate limit reached for gpt-3.5-turbo in organization org-zq7Modopi4RhdMcJDgnrgDbv on requests per min (RPM): Limit 500, Used 500, Requested 1. Please try again in 120ms. Visit https://platform.openai.com/account/rate-limits to learn more.', 'type': 'requests', 'param': None, 'code': 'rate_limit_exceeded'}})\n",
            "INFO:backoff:Backing off classify_hostility(...) for 1.2s (openai.RateLimitError: Error code: 429 - {'error': {'message': 'Rate limit reached for gpt-3.5-turbo in organization org-zq7Modopi4RhdMcJDgnrgDbv on requests per min (RPM): Limit 500, Used 500, Requested 1. Please try again in 120ms. Visit https://platform.openai.com/account/rate-limits to learn more.', 'type': 'requests', 'param': None, 'code': 'rate_limit_exceeded'}})\n",
            "INFO:backoff:Backing off classify_hostility(...) for 0.5s (openai.RateLimitError: Error code: 429 - {'error': {'message': 'Rate limit reached for gpt-3.5-turbo in organization org-zq7Modopi4RhdMcJDgnrgDbv on requests per min (RPM): Limit 500, Used 500, Requested 1. Please try again in 120ms. Visit https://platform.openai.com/account/rate-limits to learn more.', 'type': 'requests', 'param': None, 'code': 'rate_limit_exceeded'}})\n",
            "INFO:backoff:Backing off classify_hostility(...) for 1.0s (openai.RateLimitError: Error code: 429 - {'error': {'message': 'Rate limit reached for gpt-3.5-turbo in organization org-zq7Modopi4RhdMcJDgnrgDbv on tokens per min (TPM): Limit 200000, Used 199705, Requested 343. Please try again in 14ms. Visit https://platform.openai.com/account/rate-limits to learn more.', 'type': 'tokens', 'param': None, 'code': 'rate_limit_exceeded'}})\n",
            "INFO:backoff:Backing off classify_hostility(...) for 1.7s (openai.RateLimitError: Error code: 429 - {'error': {'message': 'Rate limit reached for gpt-3.5-turbo in organization org-zq7Modopi4RhdMcJDgnrgDbv on requests per min (RPM): Limit 500, Used 500, Requested 1. Please try again in 120ms. Visit https://platform.openai.com/account/rate-limits to learn more.', 'type': 'requests', 'param': None, 'code': 'rate_limit_exceeded'}})\n",
            "INFO:backoff:Backing off classify_hostility(...) for 1.3s (openai.RateLimitError: Error code: 429 - {'error': {'message': 'Rate limit reached for gpt-3.5-turbo in organization org-zq7Modopi4RhdMcJDgnrgDbv on tokens per min (TPM): Limit 200000, Used 199711, Requested 338. Please try again in 14ms. Visit https://platform.openai.com/account/rate-limits to learn more.', 'type': 'tokens', 'param': None, 'code': 'rate_limit_exceeded'}})\n",
            "INFO:backoff:Backing off classify_hostility(...) for 0.9s (openai.RateLimitError: Error code: 429 - {'error': {'message': 'Rate limit reached for gpt-3.5-turbo in organization org-zq7Modopi4RhdMcJDgnrgDbv on tokens per min (TPM): Limit 200000, Used 199496, Requested 544. Please try again in 12ms. Visit https://platform.openai.com/account/rate-limits to learn more.', 'type': 'tokens', 'param': None, 'code': 'rate_limit_exceeded'}})\n",
            "INFO:backoff:Backing off classify_hostility(...) for 0.7s (openai.RateLimitError: Error code: 429 - {'error': {'message': 'Rate limit reached for gpt-3.5-turbo in organization org-zq7Modopi4RhdMcJDgnrgDbv on tokens per min (TPM): Limit 200000, Used 199808, Requested 349. Please try again in 47ms. Visit https://platform.openai.com/account/rate-limits to learn more.', 'type': 'tokens', 'param': None, 'code': 'rate_limit_exceeded'}})\n",
            "INFO:backoff:Backing off classify_hostility(...) for 1.5s (openai.RateLimitError: Error code: 429 - {'error': {'message': 'Rate limit reached for gpt-3.5-turbo in organization org-zq7Modopi4RhdMcJDgnrgDbv on tokens per min (TPM): Limit 200000, Used 199795, Requested 477. Please try again in 81ms. Visit https://platform.openai.com/account/rate-limits to learn more.', 'type': 'tokens', 'param': None, 'code': 'rate_limit_exceeded'}})\n",
            "INFO:backoff:Backing off classify_hostility(...) for 1.7s (openai.RateLimitError: Error code: 429 - {'error': {'message': 'Rate limit reached for gpt-3.5-turbo in organization org-zq7Modopi4RhdMcJDgnrgDbv on tokens per min (TPM): Limit 200000, Used 199518, Requested 544. Please try again in 18ms. Visit https://platform.openai.com/account/rate-limits to learn more.', 'type': 'tokens', 'param': None, 'code': 'rate_limit_exceeded'}})\n",
            "INFO:backoff:Backing off classify_hostility(...) for 0.4s (openai.RateLimitError: Error code: 429 - {'error': {'message': 'Rate limit reached for gpt-3.5-turbo in organization org-zq7Modopi4RhdMcJDgnrgDbv on requests per min (RPM): Limit 500, Used 500, Requested 1. Please try again in 120ms. Visit https://platform.openai.com/account/rate-limits to learn more.', 'type': 'requests', 'param': None, 'code': 'rate_limit_exceeded'}})\n",
            "INFO:backoff:Backing off classify_hostility(...) for 1.8s (openai.RateLimitError: Error code: 429 - {'error': {'message': 'Rate limit reached for gpt-3.5-turbo in organization org-zq7Modopi4RhdMcJDgnrgDbv on tokens per min (TPM): Limit 200000, Used 199660, Requested 358. Please try again in 5ms. Visit https://platform.openai.com/account/rate-limits to learn more.', 'type': 'tokens', 'param': None, 'code': 'rate_limit_exceeded'}})\n"
          ]
        },
        {
          "output_type": "stream",
          "name": "stdout",
          "text": [
            "\n",
            "Batch 74/100 complete. Speed: 8.96 statements/sec. Est. remaining time: 2.4 minutes.\n"
          ]
        },
        {
          "output_type": "stream",
          "name": "stderr",
          "text": [
            "INFO:backoff:Backing off classify_hostility(...) for 0.0s (openai.RateLimitError: Error code: 429 - {'error': {'message': 'Rate limit reached for gpt-3.5-turbo in organization org-zq7Modopi4RhdMcJDgnrgDbv on tokens per min (TPM): Limit 200000, Used 199668, Requested 361. Please try again in 8ms. Visit https://platform.openai.com/account/rate-limits to learn more.', 'type': 'tokens', 'param': None, 'code': 'rate_limit_exceeded'}})\n",
            "INFO:backoff:Backing off classify_hostility(...) for 0.5s (openai.RateLimitError: Error code: 429 - {'error': {'message': 'Rate limit reached for gpt-3.5-turbo in organization org-zq7Modopi4RhdMcJDgnrgDbv on requests per min (RPM): Limit 500, Used 500, Requested 1. Please try again in 120ms. Visit https://platform.openai.com/account/rate-limits to learn more.', 'type': 'requests', 'param': None, 'code': 'rate_limit_exceeded'}})\n",
            "INFO:backoff:Backing off classify_hostility(...) for 1.5s (openai.RateLimitError: Error code: 429 - {'error': {'message': 'Rate limit reached for gpt-3.5-turbo in organization org-zq7Modopi4RhdMcJDgnrgDbv on tokens per min (TPM): Limit 200000, Used 199980, Requested 451. Please try again in 129ms. Visit https://platform.openai.com/account/rate-limits to learn more.', 'type': 'tokens', 'param': None, 'code': 'rate_limit_exceeded'}})\n",
            "INFO:backoff:Backing off classify_hostility(...) for 0.3s (openai.RateLimitError: Error code: 429 - {'error': {'message': 'Rate limit reached for gpt-3.5-turbo in organization org-zq7Modopi4RhdMcJDgnrgDbv on tokens per min (TPM): Limit 200000, Used 199648, Requested 373. Please try again in 6ms. Visit https://platform.openai.com/account/rate-limits to learn more.', 'type': 'tokens', 'param': None, 'code': 'rate_limit_exceeded'}})\n",
            "INFO:backoff:Backing off classify_hostility(...) for 1.9s (openai.RateLimitError: Error code: 429 - {'error': {'message': 'Rate limit reached for gpt-3.5-turbo in organization org-zq7Modopi4RhdMcJDgnrgDbv on tokens per min (TPM): Limit 200000, Used 200000, Requested 324. Please try again in 97ms. Visit https://platform.openai.com/account/rate-limits to learn more.', 'type': 'tokens', 'param': None, 'code': 'rate_limit_exceeded'}})\n",
            "INFO:backoff:Backing off classify_hostility(...) for 1.0s (openai.RateLimitError: Error code: 429 - {'error': {'message': 'Rate limit reached for gpt-3.5-turbo in organization org-zq7Modopi4RhdMcJDgnrgDbv on tokens per min (TPM): Limit 200000, Used 199883, Requested 320. Please try again in 60ms. Visit https://platform.openai.com/account/rate-limits to learn more.', 'type': 'tokens', 'param': None, 'code': 'rate_limit_exceeded'}})\n",
            "INFO:backoff:Backing off classify_hostility(...) for 0.7s (openai.RateLimitError: Error code: 429 - {'error': {'message': 'Rate limit reached for gpt-3.5-turbo in organization org-zq7Modopi4RhdMcJDgnrgDbv on tokens per min (TPM): Limit 200000, Used 199912, Requested 419. Please try again in 99ms. Visit https://platform.openai.com/account/rate-limits to learn more.', 'type': 'tokens', 'param': None, 'code': 'rate_limit_exceeded'}})\n",
            "INFO:backoff:Backing off classify_hostility(...) for 2.5s (openai.RateLimitError: Error code: 429 - {'error': {'message': 'Rate limit reached for gpt-3.5-turbo in organization org-zq7Modopi4RhdMcJDgnrgDbv on tokens per min (TPM): Limit 200000, Used 199659, Requested 361. Please try again in 6ms. Visit https://platform.openai.com/account/rate-limits to learn more.', 'type': 'tokens', 'param': None, 'code': 'rate_limit_exceeded'}})\n",
            "INFO:backoff:Backing off classify_hostility(...) for 1.7s (openai.RateLimitError: Error code: 429 - {'error': {'message': 'Rate limit reached for gpt-3.5-turbo in organization org-zq7Modopi4RhdMcJDgnrgDbv on requests per min (RPM): Limit 500, Used 500, Requested 1. Please try again in 120ms. Visit https://platform.openai.com/account/rate-limits to learn more.', 'type': 'requests', 'param': None, 'code': 'rate_limit_exceeded'}})\n",
            "INFO:backoff:Backing off classify_hostility(...) for 1.3s (openai.RateLimitError: Error code: 429 - {'error': {'message': 'Rate limit reached for gpt-3.5-turbo in organization org-zq7Modopi4RhdMcJDgnrgDbv on tokens per min (TPM): Limit 200000, Used 199692, Requested 373. Please try again in 19ms. Visit https://platform.openai.com/account/rate-limits to learn more.', 'type': 'tokens', 'param': None, 'code': 'rate_limit_exceeded'}})\n"
          ]
        },
        {
          "output_type": "stream",
          "name": "stdout",
          "text": [
            "\n",
            "Batch 75/100 complete. Speed: 8.93 statements/sec. Est. remaining time: 2.3 minutes.\n"
          ]
        },
        {
          "output_type": "stream",
          "name": "stderr",
          "text": [
            "INFO:backoff:Backing off classify_hostility(...) for 0.8s (openai.RateLimitError: Error code: 429 - {'error': {'message': 'Rate limit reached for gpt-3.5-turbo in organization org-zq7Modopi4RhdMcJDgnrgDbv on tokens per min (TPM): Limit 200000, Used 199740, Requested 365. Please try again in 31ms. Visit https://platform.openai.com/account/rate-limits to learn more.', 'type': 'tokens', 'param': None, 'code': 'rate_limit_exceeded'}})\n",
            "INFO:backoff:Backing off classify_hostility(...) for 0.6s (openai.RateLimitError: Error code: 429 - {'error': {'message': 'Rate limit reached for gpt-3.5-turbo in organization org-zq7Modopi4RhdMcJDgnrgDbv on requests per min (RPM): Limit 500, Used 500, Requested 1. Please try again in 120ms. Visit https://platform.openai.com/account/rate-limits to learn more.', 'type': 'requests', 'param': None, 'code': 'rate_limit_exceeded'}})\n",
            "INFO:backoff:Backing off classify_hostility(...) for 0.5s (openai.RateLimitError: Error code: 429 - {'error': {'message': 'Rate limit reached for gpt-3.5-turbo in organization org-zq7Modopi4RhdMcJDgnrgDbv on tokens per min (TPM): Limit 200000, Used 199676, Requested 328. Please try again in 1ms. Visit https://platform.openai.com/account/rate-limits to learn more.', 'type': 'tokens', 'param': None, 'code': 'rate_limit_exceeded'}})\n",
            "INFO:backoff:Backing off classify_hostility(...) for 0.6s (openai.RateLimitError: Error code: 429 - {'error': {'message': 'Rate limit reached for gpt-3.5-turbo in organization org-zq7Modopi4RhdMcJDgnrgDbv on tokens per min (TPM): Limit 200000, Used 199665, Requested 353. Please try again in 5ms. Visit https://platform.openai.com/account/rate-limits to learn more.', 'type': 'tokens', 'param': None, 'code': 'rate_limit_exceeded'}})\n",
            "INFO:backoff:Backing off classify_hostility(...) for 1.7s (openai.RateLimitError: Error code: 429 - {'error': {'message': 'Rate limit reached for gpt-3.5-turbo in organization org-zq7Modopi4RhdMcJDgnrgDbv on tokens per min (TPM): Limit 200000, Used 199999, Requested 405. Please try again in 121ms. Visit https://platform.openai.com/account/rate-limits to learn more.', 'type': 'tokens', 'param': None, 'code': 'rate_limit_exceeded'}})\n",
            "INFO:backoff:Backing off classify_hostility(...) for 0.1s (openai.RateLimitError: Error code: 429 - {'error': {'message': 'Rate limit reached for gpt-3.5-turbo in organization org-zq7Modopi4RhdMcJDgnrgDbv on requests per min (RPM): Limit 500, Used 500, Requested 1. Please try again in 120ms. Visit https://platform.openai.com/account/rate-limits to learn more.', 'type': 'requests', 'param': None, 'code': 'rate_limit_exceeded'}})\n",
            "INFO:backoff:Backing off classify_hostility(...) for 1.1s (openai.RateLimitError: Error code: 429 - {'error': {'message': 'Rate limit reached for gpt-3.5-turbo in organization org-zq7Modopi4RhdMcJDgnrgDbv on tokens per min (TPM): Limit 200000, Used 199594, Requested 416. Please try again in 3ms. Visit https://platform.openai.com/account/rate-limits to learn more.', 'type': 'tokens', 'param': None, 'code': 'rate_limit_exceeded'}})\n",
            "INFO:backoff:Backing off classify_hostility(...) for 1.1s (openai.RateLimitError: Error code: 429 - {'error': {'message': 'Rate limit reached for gpt-3.5-turbo in organization org-zq7Modopi4RhdMcJDgnrgDbv on requests per min (RPM): Limit 500, Used 500, Requested 1. Please try again in 120ms. Visit https://platform.openai.com/account/rate-limits to learn more.', 'type': 'requests', 'param': None, 'code': 'rate_limit_exceeded'}})\n",
            "INFO:backoff:Backing off classify_hostility(...) for 0.4s (openai.RateLimitError: Error code: 429 - {'error': {'message': 'Rate limit reached for gpt-3.5-turbo in organization org-zq7Modopi4RhdMcJDgnrgDbv on tokens per min (TPM): Limit 200000, Used 199655, Requested 410. Please try again in 19ms. Visit https://platform.openai.com/account/rate-limits to learn more.', 'type': 'tokens', 'param': None, 'code': 'rate_limit_exceeded'}})\n",
            "INFO:backoff:Backing off classify_hostility(...) for 0.6s (openai.RateLimitError: Error code: 429 - {'error': {'message': 'Rate limit reached for gpt-3.5-turbo in organization org-zq7Modopi4RhdMcJDgnrgDbv on requests per min (RPM): Limit 500, Used 500, Requested 1. Please try again in 120ms. Visit https://platform.openai.com/account/rate-limits to learn more.', 'type': 'requests', 'param': None, 'code': 'rate_limit_exceeded'}})\n",
            "INFO:backoff:Backing off classify_hostility(...) for 0.2s (openai.RateLimitError: Error code: 429 - {'error': {'message': 'Rate limit reached for gpt-3.5-turbo in organization org-zq7Modopi4RhdMcJDgnrgDbv on tokens per min (TPM): Limit 200000, Used 199743, Requested 376. Please try again in 35ms. Visit https://platform.openai.com/account/rate-limits to learn more.', 'type': 'tokens', 'param': None, 'code': 'rate_limit_exceeded'}})\n",
            "INFO:backoff:Backing off classify_hostility(...) for 1.0s (openai.RateLimitError: Error code: 429 - {'error': {'message': 'Rate limit reached for gpt-3.5-turbo in organization org-zq7Modopi4RhdMcJDgnrgDbv on requests per min (RPM): Limit 500, Used 500, Requested 1. Please try again in 120ms. Visit https://platform.openai.com/account/rate-limits to learn more.', 'type': 'requests', 'param': None, 'code': 'rate_limit_exceeded'}})\n",
            "INFO:backoff:Backing off classify_hostility(...) for 0.7s (openai.RateLimitError: Error code: 429 - {'error': {'message': 'Rate limit reached for gpt-3.5-turbo in organization org-zq7Modopi4RhdMcJDgnrgDbv on tokens per min (TPM): Limit 200000, Used 199703, Requested 320. Please try again in 6ms. Visit https://platform.openai.com/account/rate-limits to learn more.', 'type': 'tokens', 'param': None, 'code': 'rate_limit_exceeded'}})\n",
            "INFO:backoff:Backing off classify_hostility(...) for 0.7s (openai.RateLimitError: Error code: 429 - {'error': {'message': 'Rate limit reached for gpt-3.5-turbo in organization org-zq7Modopi4RhdMcJDgnrgDbv on tokens per min (TPM): Limit 200000, Used 199671, Requested 360. Please try again in 9ms. Visit https://platform.openai.com/account/rate-limits to learn more.', 'type': 'tokens', 'param': None, 'code': 'rate_limit_exceeded'}})\n",
            "INFO:backoff:Backing off classify_hostility(...) for 0.2s (openai.RateLimitError: Error code: 429 - {'error': {'message': 'Rate limit reached for gpt-3.5-turbo in organization org-zq7Modopi4RhdMcJDgnrgDbv on tokens per min (TPM): Limit 200000, Used 199935, Requested 346. Please try again in 84ms. Visit https://platform.openai.com/account/rate-limits to learn more.', 'type': 'tokens', 'param': None, 'code': 'rate_limit_exceeded'}})\n",
            "INFO:backoff:Backing off classify_hostility(...) for 3.8s (openai.RateLimitError: Error code: 429 - {'error': {'message': 'Rate limit reached for gpt-3.5-turbo in organization org-zq7Modopi4RhdMcJDgnrgDbv on requests per min (RPM): Limit 500, Used 500, Requested 1. Please try again in 120ms. Visit https://platform.openai.com/account/rate-limits to learn more.', 'type': 'requests', 'param': None, 'code': 'rate_limit_exceeded'}})\n",
            "INFO:backoff:Backing off classify_hostility(...) for 1.1s (openai.RateLimitError: Error code: 429 - {'error': {'message': 'Rate limit reached for gpt-3.5-turbo in organization org-zq7Modopi4RhdMcJDgnrgDbv on requests per min (RPM): Limit 500, Used 500, Requested 1. Please try again in 120ms. Visit https://platform.openai.com/account/rate-limits to learn more.', 'type': 'requests', 'param': None, 'code': 'rate_limit_exceeded'}})\n",
            "INFO:backoff:Backing off classify_hostility(...) for 3.6s (openai.RateLimitError: Error code: 429 - {'error': {'message': 'Rate limit reached for gpt-3.5-turbo in organization org-zq7Modopi4RhdMcJDgnrgDbv on tokens per min (TPM): Limit 200000, Used 199696, Requested 346. Please try again in 12ms. Visit https://platform.openai.com/account/rate-limits to learn more.', 'type': 'tokens', 'param': None, 'code': 'rate_limit_exceeded'}})\n",
            "INFO:backoff:Backing off classify_hostility(...) for 3.3s (openai.RateLimitError: Error code: 429 - {'error': {'message': 'Rate limit reached for gpt-3.5-turbo in organization org-zq7Modopi4RhdMcJDgnrgDbv on requests per min (RPM): Limit 500, Used 500, Requested 1. Please try again in 120ms. Visit https://platform.openai.com/account/rate-limits to learn more.', 'type': 'requests', 'param': None, 'code': 'rate_limit_exceeded'}})\n",
            "ERROR:backoff:Giving up classify_hostility(...) after 3 tries (openai.RateLimitError: Error code: 429 - {'error': {'message': 'Rate limit reached for gpt-3.5-turbo in organization org-zq7Modopi4RhdMcJDgnrgDbv on requests per min (RPM): Limit 500, Used 500, Requested 1. Please try again in 120ms. Visit https://platform.openai.com/account/rate-limits to learn more.', 'type': 'requests', 'param': None, 'code': 'rate_limit_exceeded'}})\n"
          ]
        },
        {
          "output_type": "stream",
          "name": "stdout",
          "text": [
            "Error on statement 15747: Error code: 429 - {'error': {'message': 'Rate limit reached for gpt-3.5-turbo in organization org-zq7Modopi4RhdMcJDgnrgDbv on requests per min (RPM): Limit 500, Used 500, Requested 1. Please try again in 120ms. Visit https://platform.openai.com/account/rate-limits to learn more.', 'type': 'requests', 'param': None, 'code': 'rate_limit_exceeded'}}\n"
          ]
        },
        {
          "output_type": "stream",
          "name": "stderr",
          "text": [
            "INFO:backoff:Backing off classify_hostility(...) for 1.7s (openai.RateLimitError: Error code: 429 - {'error': {'message': 'Rate limit reached for gpt-3.5-turbo in organization org-zq7Modopi4RhdMcJDgnrgDbv on tokens per min (TPM): Limit 200000, Used 199834, Requested 369. Please try again in 60ms. Visit https://platform.openai.com/account/rate-limits to learn more.', 'type': 'tokens', 'param': None, 'code': 'rate_limit_exceeded'}})\n",
            "INFO:backoff:Backing off classify_hostility(...) for 1.1s (openai.RateLimitError: Error code: 429 - {'error': {'message': 'Rate limit reached for gpt-3.5-turbo in organization org-zq7Modopi4RhdMcJDgnrgDbv on tokens per min (TPM): Limit 200000, Used 199654, Requested 374. Please try again in 8ms. Visit https://platform.openai.com/account/rate-limits to learn more.', 'type': 'tokens', 'param': None, 'code': 'rate_limit_exceeded'}})\n"
          ]
        },
        {
          "output_type": "stream",
          "name": "stdout",
          "text": [
            "\n",
            "Batch 76/100 complete. Speed: 8.86 statements/sec. Est. remaining time: 2.3 minutes.\n"
          ]
        },
        {
          "output_type": "stream",
          "name": "stderr",
          "text": [
            "INFO:backoff:Backing off classify_hostility(...) for 1.2s (openai.RateLimitError: Error code: 429 - {'error': {'message': 'Rate limit reached for gpt-3.5-turbo in organization org-zq7Modopi4RhdMcJDgnrgDbv on requests per min (RPM): Limit 500, Used 500, Requested 1. Please try again in 120ms. Visit https://platform.openai.com/account/rate-limits to learn more.', 'type': 'requests', 'param': None, 'code': 'rate_limit_exceeded'}})\n",
            "INFO:backoff:Backing off classify_hostility(...) for 0.3s (openai.RateLimitError: Error code: 429 - {'error': {'message': 'Rate limit reached for gpt-3.5-turbo in organization org-zq7Modopi4RhdMcJDgnrgDbv on requests per min (RPM): Limit 500, Used 500, Requested 1. Please try again in 120ms. Visit https://platform.openai.com/account/rate-limits to learn more.', 'type': 'requests', 'param': None, 'code': 'rate_limit_exceeded'}})\n",
            "INFO:backoff:Backing off classify_hostility(...) for 1.6s (openai.RateLimitError: Error code: 429 - {'error': {'message': 'Rate limit reached for gpt-3.5-turbo in organization org-zq7Modopi4RhdMcJDgnrgDbv on tokens per min (TPM): Limit 200000, Used 199663, Requested 356. Please try again in 5ms. Visit https://platform.openai.com/account/rate-limits to learn more.', 'type': 'tokens', 'param': None, 'code': 'rate_limit_exceeded'}})\n",
            "INFO:backoff:Backing off classify_hostility(...) for 1.8s (openai.RateLimitError: Error code: 429 - {'error': {'message': 'Rate limit reached for gpt-3.5-turbo in organization org-zq7Modopi4RhdMcJDgnrgDbv on tokens per min (TPM): Limit 200000, Used 199648, Requested 425. Please try again in 21ms. Visit https://platform.openai.com/account/rate-limits to learn more.', 'type': 'tokens', 'param': None, 'code': 'rate_limit_exceeded'}})\n",
            "INFO:backoff:Backing off classify_hostility(...) for 0.1s (openai.RateLimitError: Error code: 429 - {'error': {'message': 'Rate limit reached for gpt-3.5-turbo in organization org-zq7Modopi4RhdMcJDgnrgDbv on tokens per min (TPM): Limit 200000, Used 199815, Requested 385. Please try again in 60ms. Visit https://platform.openai.com/account/rate-limits to learn more.', 'type': 'tokens', 'param': None, 'code': 'rate_limit_exceeded'}})\n",
            "INFO:backoff:Backing off classify_hostility(...) for 1.4s (openai.RateLimitError: Error code: 429 - {'error': {'message': 'Rate limit reached for gpt-3.5-turbo in organization org-zq7Modopi4RhdMcJDgnrgDbv on requests per min (RPM): Limit 500, Used 500, Requested 1. Please try again in 120ms. Visit https://platform.openai.com/account/rate-limits to learn more.', 'type': 'requests', 'param': None, 'code': 'rate_limit_exceeded'}})\n",
            "INFO:backoff:Backing off classify_hostility(...) for 1.5s (openai.RateLimitError: Error code: 429 - {'error': {'message': 'Rate limit reached for gpt-3.5-turbo in organization org-zq7Modopi4RhdMcJDgnrgDbv on requests per min (RPM): Limit 500, Used 500, Requested 1. Please try again in 120ms. Visit https://platform.openai.com/account/rate-limits to learn more.', 'type': 'requests', 'param': None, 'code': 'rate_limit_exceeded'}})\n"
          ]
        },
        {
          "output_type": "stream",
          "name": "stdout",
          "text": [
            "\n",
            "Batch 77/100 complete. Speed: 8.87 statements/sec. Est. remaining time: 2.2 minutes.\n"
          ]
        },
        {
          "output_type": "stream",
          "name": "stderr",
          "text": [
            "INFO:backoff:Backing off classify_hostility(...) for 0.5s (openai.RateLimitError: Error code: 429 - {'error': {'message': 'Rate limit reached for gpt-3.5-turbo in organization org-zq7Modopi4RhdMcJDgnrgDbv on tokens per min (TPM): Limit 200000, Used 199812, Requested 674. Please try again in 145ms. Visit https://platform.openai.com/account/rate-limits to learn more.', 'type': 'tokens', 'param': None, 'code': 'rate_limit_exceeded'}})\n",
            "INFO:backoff:Backing off classify_hostility(...) for 1.7s (openai.RateLimitError: Error code: 429 - {'error': {'message': 'Rate limit reached for gpt-3.5-turbo in organization org-zq7Modopi4RhdMcJDgnrgDbv on tokens per min (TPM): Limit 200000, Used 199814, Requested 372. Please try again in 55ms. Visit https://platform.openai.com/account/rate-limits to learn more.', 'type': 'tokens', 'param': None, 'code': 'rate_limit_exceeded'}})\n",
            "INFO:backoff:Backing off classify_hostility(...) for 1.0s (openai.RateLimitError: Error code: 429 - {'error': {'message': 'Rate limit reached for gpt-3.5-turbo in organization org-zq7Modopi4RhdMcJDgnrgDbv on requests per min (RPM): Limit 500, Used 500, Requested 1. Please try again in 120ms. Visit https://platform.openai.com/account/rate-limits to learn more.', 'type': 'requests', 'param': None, 'code': 'rate_limit_exceeded'}})\n",
            "INFO:backoff:Backing off classify_hostility(...) for 0.6s (openai.RateLimitError: Error code: 429 - {'error': {'message': 'Rate limit reached for gpt-3.5-turbo in organization org-zq7Modopi4RhdMcJDgnrgDbv on tokens per min (TPM): Limit 200000, Used 199896, Requested 457. Please try again in 105ms. Visit https://platform.openai.com/account/rate-limits to learn more.', 'type': 'tokens', 'param': None, 'code': 'rate_limit_exceeded'}})\n",
            "INFO:backoff:Backing off classify_hostility(...) for 0.2s (openai.RateLimitError: Error code: 429 - {'error': {'message': 'Rate limit reached for gpt-3.5-turbo in organization org-zq7Modopi4RhdMcJDgnrgDbv on tokens per min (TPM): Limit 200000, Used 199616, Requested 434. Please try again in 15ms. Visit https://platform.openai.com/account/rate-limits to learn more.', 'type': 'tokens', 'param': None, 'code': 'rate_limit_exceeded'}})\n",
            "INFO:backoff:Backing off classify_hostility(...) for 0.1s (openai.RateLimitError: Error code: 429 - {'error': {'message': 'Rate limit reached for gpt-3.5-turbo in organization org-zq7Modopi4RhdMcJDgnrgDbv on requests per min (RPM): Limit 500, Used 500, Requested 1. Please try again in 120ms. Visit https://platform.openai.com/account/rate-limits to learn more.', 'type': 'requests', 'param': None, 'code': 'rate_limit_exceeded'}})\n",
            "INFO:backoff:Backing off classify_hostility(...) for 0.2s (openai.RateLimitError: Error code: 429 - {'error': {'message': 'Rate limit reached for gpt-3.5-turbo in organization org-zq7Modopi4RhdMcJDgnrgDbv on tokens per min (TPM): Limit 200000, Used 199650, Requested 365. Please try again in 4ms. Visit https://platform.openai.com/account/rate-limits to learn more.', 'type': 'tokens', 'param': None, 'code': 'rate_limit_exceeded'}})\n",
            "INFO:backoff:Backing off classify_hostility(...) for 2.0s (openai.RateLimitError: Error code: 429 - {'error': {'message': 'Rate limit reached for gpt-3.5-turbo in organization org-zq7Modopi4RhdMcJDgnrgDbv on requests per min (RPM): Limit 500, Used 500, Requested 1. Please try again in 120ms. Visit https://platform.openai.com/account/rate-limits to learn more.', 'type': 'requests', 'param': None, 'code': 'rate_limit_exceeded'}})\n",
            "INFO:backoff:Backing off classify_hostility(...) for 3.3s (openai.RateLimitError: Error code: 429 - {'error': {'message': 'Rate limit reached for gpt-3.5-turbo in organization org-zq7Modopi4RhdMcJDgnrgDbv on requests per min (RPM): Limit 500, Used 500, Requested 1. Please try again in 120ms. Visit https://platform.openai.com/account/rate-limits to learn more.', 'type': 'requests', 'param': None, 'code': 'rate_limit_exceeded'}})\n",
            "INFO:backoff:Backing off classify_hostility(...) for 2.4s (openai.RateLimitError: Error code: 429 - {'error': {'message': 'Rate limit reached for gpt-3.5-turbo in organization org-zq7Modopi4RhdMcJDgnrgDbv on tokens per min (TPM): Limit 200000, Used 199912, Requested 424. Please try again in 100ms. Visit https://platform.openai.com/account/rate-limits to learn more.', 'type': 'tokens', 'param': None, 'code': 'rate_limit_exceeded'}})\n",
            "INFO:backoff:Backing off classify_hostility(...) for 0.9s (openai.RateLimitError: Error code: 429 - {'error': {'message': 'Rate limit reached for gpt-3.5-turbo in organization org-zq7Modopi4RhdMcJDgnrgDbv on tokens per min (TPM): Limit 200000, Used 199797, Requested 362. Please try again in 47ms. Visit https://platform.openai.com/account/rate-limits to learn more.', 'type': 'tokens', 'param': None, 'code': 'rate_limit_exceeded'}})\n",
            "INFO:backoff:Backing off classify_hostility(...) for 2.5s (openai.RateLimitError: Error code: 429 - {'error': {'message': 'Rate limit reached for gpt-3.5-turbo in organization org-zq7Modopi4RhdMcJDgnrgDbv on tokens per min (TPM): Limit 200000, Used 199647, Requested 674. Please try again in 96ms. Visit https://platform.openai.com/account/rate-limits to learn more.', 'type': 'tokens', 'param': None, 'code': 'rate_limit_exceeded'}})\n",
            "INFO:backoff:Backing off classify_hostility(...) for 0.6s (openai.RateLimitError: Error code: 429 - {'error': {'message': 'Rate limit reached for gpt-3.5-turbo in organization org-zq7Modopi4RhdMcJDgnrgDbv on requests per min (RPM): Limit 500, Used 500, Requested 1. Please try again in 120ms. Visit https://platform.openai.com/account/rate-limits to learn more.', 'type': 'requests', 'param': None, 'code': 'rate_limit_exceeded'}})\n"
          ]
        },
        {
          "output_type": "stream",
          "name": "stdout",
          "text": [
            "\n",
            "Batch 78/100 complete. Speed: 8.84 statements/sec. Est. remaining time: 2.1 minutes.\n"
          ]
        },
        {
          "output_type": "stream",
          "name": "stderr",
          "text": [
            "INFO:backoff:Backing off classify_hostility(...) for 0.8s (openai.RateLimitError: Error code: 429 - {'error': {'message': 'Rate limit reached for gpt-3.5-turbo in organization org-zq7Modopi4RhdMcJDgnrgDbv on tokens per min (TPM): Limit 200000, Used 199723, Requested 325. Please try again in 14ms. Visit https://platform.openai.com/account/rate-limits to learn more.', 'type': 'tokens', 'param': None, 'code': 'rate_limit_exceeded'}})\n",
            "INFO:backoff:Backing off classify_hostility(...) for 2.0s (openai.RateLimitError: Error code: 429 - {'error': {'message': 'Rate limit reached for gpt-3.5-turbo in organization org-zq7Modopi4RhdMcJDgnrgDbv on tokens per min (TPM): Limit 200000, Used 199716, Requested 323. Please try again in 11ms. Visit https://platform.openai.com/account/rate-limits to learn more.', 'type': 'tokens', 'param': None, 'code': 'rate_limit_exceeded'}})\n",
            "INFO:backoff:Backing off classify_hostility(...) for 1.8s (openai.RateLimitError: Error code: 429 - {'error': {'message': 'Rate limit reached for gpt-3.5-turbo in organization org-zq7Modopi4RhdMcJDgnrgDbv on tokens per min (TPM): Limit 200000, Used 199688, Requested 349. Please try again in 11ms. Visit https://platform.openai.com/account/rate-limits to learn more.', 'type': 'tokens', 'param': None, 'code': 'rate_limit_exceeded'}})\n",
            "INFO:backoff:Backing off classify_hostility(...) for 1.2s (openai.RateLimitError: Error code: 429 - {'error': {'message': 'Rate limit reached for gpt-3.5-turbo in organization org-zq7Modopi4RhdMcJDgnrgDbv on requests per min (RPM): Limit 500, Used 500, Requested 1. Please try again in 120ms. Visit https://platform.openai.com/account/rate-limits to learn more.', 'type': 'requests', 'param': None, 'code': 'rate_limit_exceeded'}})\n",
            "INFO:backoff:Backing off classify_hostility(...) for 1.6s (openai.RateLimitError: Error code: 429 - {'error': {'message': 'Rate limit reached for gpt-3.5-turbo in organization org-zq7Modopi4RhdMcJDgnrgDbv on requests per min (RPM): Limit 500, Used 500, Requested 1. Please try again in 120ms. Visit https://platform.openai.com/account/rate-limits to learn more.', 'type': 'requests', 'param': None, 'code': 'rate_limit_exceeded'}})\n",
            "INFO:backoff:Backing off classify_hostility(...) for 0.1s (openai.RateLimitError: Error code: 429 - {'error': {'message': 'Rate limit reached for gpt-3.5-turbo in organization org-zq7Modopi4RhdMcJDgnrgDbv on tokens per min (TPM): Limit 200000, Used 199783, Requested 601. Please try again in 115ms. Visit https://platform.openai.com/account/rate-limits to learn more.', 'type': 'tokens', 'param': None, 'code': 'rate_limit_exceeded'}})\n",
            "INFO:backoff:Backing off classify_hostility(...) for 2.0s (openai.RateLimitError: Error code: 429 - {'error': {'message': 'Rate limit reached for gpt-3.5-turbo in organization org-zq7Modopi4RhdMcJDgnrgDbv on requests per min (RPM): Limit 500, Used 500, Requested 1. Please try again in 120ms. Visit https://platform.openai.com/account/rate-limits to learn more.', 'type': 'requests', 'param': None, 'code': 'rate_limit_exceeded'}})\n",
            "INFO:backoff:Backing off classify_hostility(...) for 0.9s (openai.RateLimitError: Error code: 429 - {'error': {'message': 'Rate limit reached for gpt-3.5-turbo in organization org-zq7Modopi4RhdMcJDgnrgDbv on tokens per min (TPM): Limit 200000, Used 199470, Requested 570. Please try again in 12ms. Visit https://platform.openai.com/account/rate-limits to learn more.', 'type': 'tokens', 'param': None, 'code': 'rate_limit_exceeded'}})\n",
            "INFO:backoff:Backing off classify_hostility(...) for 3.1s (openai.RateLimitError: Error code: 429 - {'error': {'message': 'Rate limit reached for gpt-3.5-turbo in organization org-zq7Modopi4RhdMcJDgnrgDbv on tokens per min (TPM): Limit 200000, Used 199888, Requested 570. Please try again in 137ms. Visit https://platform.openai.com/account/rate-limits to learn more.', 'type': 'tokens', 'param': None, 'code': 'rate_limit_exceeded'}})\n",
            "INFO:backoff:Backing off classify_hostility(...) for 1.3s (openai.RateLimitError: Error code: 429 - {'error': {'message': 'Rate limit reached for gpt-3.5-turbo in organization org-zq7Modopi4RhdMcJDgnrgDbv on requests per min (RPM): Limit 500, Used 500, Requested 1. Please try again in 120ms. Visit https://platform.openai.com/account/rate-limits to learn more.', 'type': 'requests', 'param': None, 'code': 'rate_limit_exceeded'}})\n"
          ]
        },
        {
          "output_type": "stream",
          "name": "stdout",
          "text": [
            "\n",
            "Batch 79/100 complete. Speed: 8.78 statements/sec. Est. remaining time: 2.0 minutes.\n",
            "\n",
            "Batch 80/100 complete. Speed: 8.82 statements/sec. Est. remaining time: 1.9 minutes.\n"
          ]
        },
        {
          "output_type": "stream",
          "name": "stderr",
          "text": [
            "INFO:backoff:Backing off classify_hostility(...) for 1.6s (openai.RateLimitError: Error code: 429 - {'error': {'message': 'Rate limit reached for gpt-3.5-turbo in organization org-zq7Modopi4RhdMcJDgnrgDbv on tokens per min (TPM): Limit 200000, Used 199733, Requested 365. Please try again in 29ms. Visit https://platform.openai.com/account/rate-limits to learn more.', 'type': 'tokens', 'param': None, 'code': 'rate_limit_exceeded'}})\n",
            "INFO:backoff:Backing off classify_hostility(...) for 0.9s (openai.RateLimitError: Error code: 429 - {'error': {'message': 'Rate limit reached for gpt-3.5-turbo in organization org-zq7Modopi4RhdMcJDgnrgDbv on tokens per min (TPM): Limit 200000, Used 199773, Requested 364. Please try again in 41ms. Visit https://platform.openai.com/account/rate-limits to learn more.', 'type': 'tokens', 'param': None, 'code': 'rate_limit_exceeded'}})\n",
            "INFO:backoff:Backing off classify_hostility(...) for 0.6s (openai.RateLimitError: Error code: 429 - {'error': {'message': 'Rate limit reached for gpt-3.5-turbo in organization org-zq7Modopi4RhdMcJDgnrgDbv on tokens per min (TPM): Limit 200000, Used 199627, Requested 380. Please try again in 2ms. Visit https://platform.openai.com/account/rate-limits to learn more.', 'type': 'tokens', 'param': None, 'code': 'rate_limit_exceeded'}})\n",
            "INFO:backoff:Backing off classify_hostility(...) for 1.6s (openai.RateLimitError: Error code: 429 - {'error': {'message': 'Rate limit reached for gpt-3.5-turbo in organization org-zq7Modopi4RhdMcJDgnrgDbv on requests per min (RPM): Limit 500, Used 500, Requested 1. Please try again in 120ms. Visit https://platform.openai.com/account/rate-limits to learn more.', 'type': 'requests', 'param': None, 'code': 'rate_limit_exceeded'}})\n",
            "INFO:backoff:Backing off classify_hostility(...) for 1.9s (openai.RateLimitError: Error code: 429 - {'error': {'message': 'Rate limit reached for gpt-3.5-turbo in organization org-zq7Modopi4RhdMcJDgnrgDbv on tokens per min (TPM): Limit 200000, Used 199802, Requested 361. Please try again in 48ms. Visit https://platform.openai.com/account/rate-limits to learn more.', 'type': 'tokens', 'param': None, 'code': 'rate_limit_exceeded'}})\n",
            "INFO:backoff:Backing off classify_hostility(...) for 1.0s (openai.RateLimitError: Error code: 429 - {'error': {'message': 'Rate limit reached for gpt-3.5-turbo in organization org-zq7Modopi4RhdMcJDgnrgDbv on requests per min (RPM): Limit 500, Used 500, Requested 1. Please try again in 120ms. Visit https://platform.openai.com/account/rate-limits to learn more.', 'type': 'requests', 'param': None, 'code': 'rate_limit_exceeded'}})\n",
            "INFO:backoff:Backing off classify_hostility(...) for 1.2s (openai.RateLimitError: Error code: 429 - {'error': {'message': 'Rate limit reached for gpt-3.5-turbo in organization org-zq7Modopi4RhdMcJDgnrgDbv on requests per min (RPM): Limit 500, Used 500, Requested 1. Please try again in 120ms. Visit https://platform.openai.com/account/rate-limits to learn more.', 'type': 'requests', 'param': None, 'code': 'rate_limit_exceeded'}})\n",
            "INFO:backoff:Backing off classify_hostility(...) for 0.2s (openai.RateLimitError: Error code: 429 - {'error': {'message': 'Rate limit reached for gpt-3.5-turbo in organization org-zq7Modopi4RhdMcJDgnrgDbv on requests per min (RPM): Limit 500, Used 500, Requested 1. Please try again in 120ms. Visit https://platform.openai.com/account/rate-limits to learn more.', 'type': 'requests', 'param': None, 'code': 'rate_limit_exceeded'}})\n",
            "INFO:backoff:Backing off classify_hostility(...) for 0.5s (openai.RateLimitError: Error code: 429 - {'error': {'message': 'Rate limit reached for gpt-3.5-turbo in organization org-zq7Modopi4RhdMcJDgnrgDbv on requests per min (RPM): Limit 500, Used 500, Requested 1. Please try again in 120ms. Visit https://platform.openai.com/account/rate-limits to learn more.', 'type': 'requests', 'param': None, 'code': 'rate_limit_exceeded'}})\n",
            "INFO:backoff:Backing off classify_hostility(...) for 0.2s (openai.RateLimitError: Error code: 429 - {'error': {'message': 'Rate limit reached for gpt-3.5-turbo in organization org-zq7Modopi4RhdMcJDgnrgDbv on requests per min (RPM): Limit 500, Used 500, Requested 1. Please try again in 120ms. Visit https://platform.openai.com/account/rate-limits to learn more.', 'type': 'requests', 'param': None, 'code': 'rate_limit_exceeded'}})\n",
            "INFO:backoff:Backing off classify_hostility(...) for 0.8s (openai.RateLimitError: Error code: 429 - {'error': {'message': 'Rate limit reached for gpt-3.5-turbo in organization org-zq7Modopi4RhdMcJDgnrgDbv on tokens per min (TPM): Limit 200000, Used 199730, Requested 318. Please try again in 14ms. Visit https://platform.openai.com/account/rate-limits to learn more.', 'type': 'tokens', 'param': None, 'code': 'rate_limit_exceeded'}})\n",
            "INFO:backoff:Backing off classify_hostility(...) for 1.8s (openai.RateLimitError: Error code: 429 - {'error': {'message': 'Rate limit reached for gpt-3.5-turbo in organization org-zq7Modopi4RhdMcJDgnrgDbv on requests per min (RPM): Limit 500, Used 500, Requested 1. Please try again in 120ms. Visit https://platform.openai.com/account/rate-limits to learn more.', 'type': 'requests', 'param': None, 'code': 'rate_limit_exceeded'}})\n",
            "INFO:backoff:Backing off classify_hostility(...) for 1.9s (openai.RateLimitError: Error code: 429 - {'error': {'message': 'Rate limit reached for gpt-3.5-turbo in organization org-zq7Modopi4RhdMcJDgnrgDbv on tokens per min (TPM): Limit 200000, Used 199653, Requested 428. Please try again in 24ms. Visit https://platform.openai.com/account/rate-limits to learn more.', 'type': 'tokens', 'param': None, 'code': 'rate_limit_exceeded'}})\n",
            "INFO:backoff:Backing off classify_hostility(...) for 1.0s (openai.RateLimitError: Error code: 429 - {'error': {'message': 'Rate limit reached for gpt-3.5-turbo in organization org-zq7Modopi4RhdMcJDgnrgDbv on tokens per min (TPM): Limit 200000, Used 199594, Requested 415. Please try again in 2ms. Visit https://platform.openai.com/account/rate-limits to learn more.', 'type': 'tokens', 'param': None, 'code': 'rate_limit_exceeded'}})\n",
            "ERROR:backoff:Giving up classify_hostility(...) after 3 tries (openai.RateLimitError: Error code: 429 - {'error': {'message': 'Rate limit reached for gpt-3.5-turbo in organization org-zq7Modopi4RhdMcJDgnrgDbv on requests per min (RPM): Limit 500, Used 500, Requested 1. Please try again in 120ms. Visit https://platform.openai.com/account/rate-limits to learn more.', 'type': 'requests', 'param': None, 'code': 'rate_limit_exceeded'}})\n"
          ]
        },
        {
          "output_type": "stream",
          "name": "stdout",
          "text": [
            "Error on statement 31478: Error code: 429 - {'error': {'message': 'Rate limit reached for gpt-3.5-turbo in organization org-zq7Modopi4RhdMcJDgnrgDbv on requests per min (RPM): Limit 500, Used 500, Requested 1. Please try again in 120ms. Visit https://platform.openai.com/account/rate-limits to learn more.', 'type': 'requests', 'param': None, 'code': 'rate_limit_exceeded'}}\n"
          ]
        },
        {
          "output_type": "stream",
          "name": "stderr",
          "text": [
            "INFO:backoff:Backing off classify_hostility(...) for 0.8s (openai.RateLimitError: Error code: 429 - {'error': {'message': 'Rate limit reached for gpt-3.5-turbo in organization org-zq7Modopi4RhdMcJDgnrgDbv on requests per min (RPM): Limit 500, Used 500, Requested 1. Please try again in 120ms. Visit https://platform.openai.com/account/rate-limits to learn more.', 'type': 'requests', 'param': None, 'code': 'rate_limit_exceeded'}})\n",
            "INFO:backoff:Backing off classify_hostility(...) for 1.9s (openai.RateLimitError: Error code: 429 - {'error': {'message': 'Rate limit reached for gpt-3.5-turbo in organization org-zq7Modopi4RhdMcJDgnrgDbv on tokens per min (TPM): Limit 200000, Used 199764, Requested 360. Please try again in 37ms. Visit https://platform.openai.com/account/rate-limits to learn more.', 'type': 'tokens', 'param': None, 'code': 'rate_limit_exceeded'}})\n"
          ]
        },
        {
          "output_type": "stream",
          "name": "stdout",
          "text": [
            "\n",
            "Batch 81/100 complete. Speed: 8.76 statements/sec. Est. remaining time: 1.8 minutes.\n"
          ]
        },
        {
          "output_type": "stream",
          "name": "stderr",
          "text": [
            "INFO:backoff:Backing off classify_hostility(...) for 1.1s (openai.RateLimitError: Error code: 429 - {'error': {'message': 'Rate limit reached for gpt-3.5-turbo in organization org-zq7Modopi4RhdMcJDgnrgDbv on tokens per min (TPM): Limit 200000, Used 199718, Requested 341. Please try again in 17ms. Visit https://platform.openai.com/account/rate-limits to learn more.', 'type': 'tokens', 'param': None, 'code': 'rate_limit_exceeded'}})\n",
            "INFO:backoff:Backing off classify_hostility(...) for 1.9s (openai.RateLimitError: Error code: 429 - {'error': {'message': 'Rate limit reached for gpt-3.5-turbo in organization org-zq7Modopi4RhdMcJDgnrgDbv on requests per min (RPM): Limit 500, Used 500, Requested 1. Please try again in 120ms. Visit https://platform.openai.com/account/rate-limits to learn more.', 'type': 'requests', 'param': None, 'code': 'rate_limit_exceeded'}})\n",
            "INFO:backoff:Backing off classify_hostility(...) for 1.2s (openai.RateLimitError: Error code: 429 - {'error': {'message': 'Rate limit reached for gpt-3.5-turbo in organization org-zq7Modopi4RhdMcJDgnrgDbv on tokens per min (TPM): Limit 200000, Used 199719, Requested 320. Please try again in 11ms. Visit https://platform.openai.com/account/rate-limits to learn more.', 'type': 'tokens', 'param': None, 'code': 'rate_limit_exceeded'}})\n",
            "INFO:backoff:Backing off classify_hostility(...) for 0.6s (openai.RateLimitError: Error code: 429 - {'error': {'message': 'Rate limit reached for gpt-3.5-turbo in organization org-zq7Modopi4RhdMcJDgnrgDbv on tokens per min (TPM): Limit 200000, Used 199822, Requested 327. Please try again in 44ms. Visit https://platform.openai.com/account/rate-limits to learn more.', 'type': 'tokens', 'param': None, 'code': 'rate_limit_exceeded'}})\n"
          ]
        },
        {
          "output_type": "stream",
          "name": "stdout",
          "text": [
            "\n",
            "Batch 82/100 complete. Speed: 8.77 statements/sec. Est. remaining time: 1.7 minutes.\n"
          ]
        },
        {
          "output_type": "stream",
          "name": "stderr",
          "text": [
            "INFO:backoff:Backing off classify_hostility(...) for 0.2s (openai.RateLimitError: Error code: 429 - {'error': {'message': 'Rate limit reached for gpt-3.5-turbo in organization org-zq7Modopi4RhdMcJDgnrgDbv on tokens per min (TPM): Limit 200000, Used 199712, Requested 321. Please try again in 9ms. Visit https://platform.openai.com/account/rate-limits to learn more.', 'type': 'tokens', 'param': None, 'code': 'rate_limit_exceeded'}})\n",
            "INFO:backoff:Backing off classify_hostility(...) for 0.8s (openai.RateLimitError: Error code: 429 - {'error': {'message': 'Rate limit reached for gpt-3.5-turbo in organization org-zq7Modopi4RhdMcJDgnrgDbv on requests per min (RPM): Limit 500, Used 500, Requested 1. Please try again in 120ms. Visit https://platform.openai.com/account/rate-limits to learn more.', 'type': 'requests', 'param': None, 'code': 'rate_limit_exceeded'}})\n",
            "INFO:backoff:Backing off classify_hostility(...) for 0.5s (openai.RateLimitError: Error code: 429 - {'error': {'message': 'Rate limit reached for gpt-3.5-turbo in organization org-zq7Modopi4RhdMcJDgnrgDbv on requests per min (RPM): Limit 500, Used 500, Requested 1. Please try again in 120ms. Visit https://platform.openai.com/account/rate-limits to learn more.', 'type': 'requests', 'param': None, 'code': 'rate_limit_exceeded'}})\n",
            "INFO:backoff:Backing off classify_hostility(...) for 1.9s (openai.RateLimitError: Error code: 429 - {'error': {'message': 'Rate limit reached for gpt-3.5-turbo in organization org-zq7Modopi4RhdMcJDgnrgDbv on requests per min (RPM): Limit 500, Used 500, Requested 1. Please try again in 120ms. Visit https://platform.openai.com/account/rate-limits to learn more.', 'type': 'requests', 'param': None, 'code': 'rate_limit_exceeded'}})\n",
            "INFO:backoff:Backing off classify_hostility(...) for 1.8s (openai.RateLimitError: Error code: 429 - {'error': {'message': 'Rate limit reached for gpt-3.5-turbo in organization org-zq7Modopi4RhdMcJDgnrgDbv on tokens per min (TPM): Limit 200000, Used 199656, Requested 365. Please try again in 6ms. Visit https://platform.openai.com/account/rate-limits to learn more.', 'type': 'tokens', 'param': None, 'code': 'rate_limit_exceeded'}})\n",
            "INFO:backoff:Backing off classify_hostility(...) for 1.1s (openai.RateLimitError: Error code: 429 - {'error': {'message': 'Rate limit reached for gpt-3.5-turbo in organization org-zq7Modopi4RhdMcJDgnrgDbv on requests per min (RPM): Limit 500, Used 500, Requested 1. Please try again in 120ms. Visit https://platform.openai.com/account/rate-limits to learn more.', 'type': 'requests', 'param': None, 'code': 'rate_limit_exceeded'}})\n",
            "INFO:backoff:Backing off classify_hostility(...) for 1.7s (openai.RateLimitError: Error code: 429 - {'error': {'message': 'Rate limit reached for gpt-3.5-turbo in organization org-zq7Modopi4RhdMcJDgnrgDbv on tokens per min (TPM): Limit 200000, Used 199907, Requested 325. Please try again in 69ms. Visit https://platform.openai.com/account/rate-limits to learn more.', 'type': 'tokens', 'param': None, 'code': 'rate_limit_exceeded'}})\n",
            "INFO:backoff:Backing off classify_hostility(...) for 0.7s (openai.RateLimitError: Error code: 429 - {'error': {'message': 'Rate limit reached for gpt-3.5-turbo in organization org-zq7Modopi4RhdMcJDgnrgDbv on tokens per min (TPM): Limit 200000, Used 199891, Requested 327. Please try again in 65ms. Visit https://platform.openai.com/account/rate-limits to learn more.', 'type': 'tokens', 'param': None, 'code': 'rate_limit_exceeded'}})\n",
            "INFO:backoff:Backing off classify_hostility(...) for 0.4s (openai.RateLimitError: Error code: 429 - {'error': {'message': 'Rate limit reached for gpt-3.5-turbo in organization org-zq7Modopi4RhdMcJDgnrgDbv on tokens per min (TPM): Limit 200000, Used 199880, Requested 351. Please try again in 69ms. Visit https://platform.openai.com/account/rate-limits to learn more.', 'type': 'tokens', 'param': None, 'code': 'rate_limit_exceeded'}})\n",
            "INFO:backoff:Backing off classify_hostility(...) for 4.0s (openai.RateLimitError: Error code: 429 - {'error': {'message': 'Rate limit reached for gpt-3.5-turbo in organization org-zq7Modopi4RhdMcJDgnrgDbv on tokens per min (TPM): Limit 200000, Used 199761, Requested 329. Please try again in 27ms. Visit https://platform.openai.com/account/rate-limits to learn more.', 'type': 'tokens', 'param': None, 'code': 'rate_limit_exceeded'}})\n"
          ]
        },
        {
          "output_type": "stream",
          "name": "stdout",
          "text": [
            "\n",
            "Batch 83/100 complete. Speed: 8.71 statements/sec. Est. remaining time: 1.6 minutes.\n",
            "\n",
            "Batch 84/100 complete. Speed: 8.71 statements/sec. Est. remaining time: 1.5 minutes.\n",
            "\n",
            "Batch 85/100 complete. Speed: 8.76 statements/sec. Est. remaining time: 1.4 minutes.\n"
          ]
        },
        {
          "output_type": "stream",
          "name": "stderr",
          "text": [
            "INFO:backoff:Backing off classify_hostility(...) for 1.6s (openai.RateLimitError: Error code: 429 - {'error': {'message': 'Rate limit reached for gpt-3.5-turbo in organization org-zq7Modopi4RhdMcJDgnrgDbv on tokens per min (TPM): Limit 200000, Used 199741, Requested 802. Please try again in 162ms. Visit https://platform.openai.com/account/rate-limits to learn more.', 'type': 'tokens', 'param': None, 'code': 'rate_limit_exceeded'}})\n",
            "INFO:backoff:Backing off classify_hostility(...) for 1.8s (openai.RateLimitError: Error code: 429 - {'error': {'message': 'Rate limit reached for gpt-3.5-turbo in organization org-zq7Modopi4RhdMcJDgnrgDbv on requests per min (RPM): Limit 500, Used 500, Requested 1. Please try again in 120ms. Visit https://platform.openai.com/account/rate-limits to learn more.', 'type': 'requests', 'param': None, 'code': 'rate_limit_exceeded'}})\n",
            "INFO:backoff:Backing off classify_hostility(...) for 0.0s (openai.RateLimitError: Error code: 429 - {'error': {'message': 'Rate limit reached for gpt-3.5-turbo in organization org-zq7Modopi4RhdMcJDgnrgDbv on tokens per min (TPM): Limit 200000, Used 199696, Requested 323. Please try again in 5ms. Visit https://platform.openai.com/account/rate-limits to learn more.', 'type': 'tokens', 'param': None, 'code': 'rate_limit_exceeded'}})\n",
            "INFO:backoff:Backing off classify_hostility(...) for 1.7s (openai.RateLimitError: Error code: 429 - {'error': {'message': 'Rate limit reached for gpt-3.5-turbo in organization org-zq7Modopi4RhdMcJDgnrgDbv on tokens per min (TPM): Limit 200000, Used 199770, Requested 347. Please try again in 35ms. Visit https://platform.openai.com/account/rate-limits to learn more.', 'type': 'tokens', 'param': None, 'code': 'rate_limit_exceeded'}})\n",
            "INFO:backoff:Backing off classify_hostility(...) for 3.8s (openai.RateLimitError: Error code: 429 - {'error': {'message': 'Rate limit reached for gpt-3.5-turbo in organization org-zq7Modopi4RhdMcJDgnrgDbv on requests per min (RPM): Limit 500, Used 500, Requested 1. Please try again in 120ms. Visit https://platform.openai.com/account/rate-limits to learn more.', 'type': 'requests', 'param': None, 'code': 'rate_limit_exceeded'}})\n",
            "INFO:backoff:Backing off classify_hostility(...) for 1.4s (openai.RateLimitError: Error code: 429 - {'error': {'message': 'Rate limit reached for gpt-3.5-turbo in organization org-zq7Modopi4RhdMcJDgnrgDbv on requests per min (RPM): Limit 500, Used 500, Requested 1. Please try again in 120ms. Visit https://platform.openai.com/account/rate-limits to learn more.', 'type': 'requests', 'param': None, 'code': 'rate_limit_exceeded'}})\n",
            "INFO:backoff:Backing off classify_hostility(...) for 0.9s (openai.RateLimitError: Error code: 429 - {'error': {'message': 'Rate limit reached for gpt-3.5-turbo in organization org-zq7Modopi4RhdMcJDgnrgDbv on tokens per min (TPM): Limit 200000, Used 199722, Requested 392. Please try again in 34ms. Visit https://platform.openai.com/account/rate-limits to learn more.', 'type': 'tokens', 'param': None, 'code': 'rate_limit_exceeded'}})\n",
            "INFO:backoff:Backing off classify_hostility(...) for 0.3s (openai.RateLimitError: Error code: 429 - {'error': {'message': 'Rate limit reached for gpt-3.5-turbo in organization org-zq7Modopi4RhdMcJDgnrgDbv on requests per min (RPM): Limit 500, Used 500, Requested 1. Please try again in 120ms. Visit https://platform.openai.com/account/rate-limits to learn more.', 'type': 'requests', 'param': None, 'code': 'rate_limit_exceeded'}})\n",
            "INFO:backoff:Backing off classify_hostility(...) for 1.7s (openai.RateLimitError: Error code: 429 - {'error': {'message': 'Rate limit reached for gpt-3.5-turbo in organization org-zq7Modopi4RhdMcJDgnrgDbv on requests per min (RPM): Limit 500, Used 500, Requested 1. Please try again in 120ms. Visit https://platform.openai.com/account/rate-limits to learn more.', 'type': 'requests', 'param': None, 'code': 'rate_limit_exceeded'}})\n",
            "INFO:backoff:Backing off classify_hostility(...) for 1.9s (openai.RateLimitError: Error code: 429 - {'error': {'message': 'Rate limit reached for gpt-3.5-turbo in organization org-zq7Modopi4RhdMcJDgnrgDbv on tokens per min (TPM): Limit 200000, Used 199675, Requested 330. Please try again in 1ms. Visit https://platform.openai.com/account/rate-limits to learn more.', 'type': 'tokens', 'param': None, 'code': 'rate_limit_exceeded'}})\n",
            "INFO:backoff:Backing off classify_hostility(...) for 1.8s (openai.RateLimitError: Error code: 429 - {'error': {'message': 'Rate limit reached for gpt-3.5-turbo in organization org-zq7Modopi4RhdMcJDgnrgDbv on tokens per min (TPM): Limit 200000, Used 199693, Requested 503. Please try again in 58ms. Visit https://platform.openai.com/account/rate-limits to learn more.', 'type': 'tokens', 'param': None, 'code': 'rate_limit_exceeded'}})\n"
          ]
        },
        {
          "output_type": "stream",
          "name": "stdout",
          "text": [
            "\n",
            "Batch 86/100 complete. Speed: 8.68 statements/sec. Est. remaining time: 1.3 minutes.\n",
            "\n",
            "Batch 87/100 complete. Speed: 8.72 statements/sec. Est. remaining time: 1.2 minutes.\n"
          ]
        },
        {
          "output_type": "stream",
          "name": "stderr",
          "text": [
            "INFO:backoff:Backing off classify_hostility(...) for 1.7s (openai.RateLimitError: Error code: 429 - {'error': {'message': 'Rate limit reached for gpt-3.5-turbo in organization org-zq7Modopi4RhdMcJDgnrgDbv on requests per min (RPM): Limit 500, Used 500, Requested 1. Please try again in 120ms. Visit https://platform.openai.com/account/rate-limits to learn more.', 'type': 'requests', 'param': None, 'code': 'rate_limit_exceeded'}})\n",
            "INFO:backoff:Backing off classify_hostility(...) for 1.7s (openai.RateLimitError: Error code: 429 - {'error': {'message': 'Rate limit reached for gpt-3.5-turbo in organization org-zq7Modopi4RhdMcJDgnrgDbv on tokens per min (TPM): Limit 200000, Used 199918, Requested 371. Please try again in 86ms. Visit https://platform.openai.com/account/rate-limits to learn more.', 'type': 'tokens', 'param': None, 'code': 'rate_limit_exceeded'}})\n",
            "INFO:backoff:Backing off classify_hostility(...) for 1.3s (openai.RateLimitError: Error code: 429 - {'error': {'message': 'Rate limit reached for gpt-3.5-turbo in organization org-zq7Modopi4RhdMcJDgnrgDbv on tokens per min (TPM): Limit 200000, Used 199909, Requested 462. Please try again in 111ms. Visit https://platform.openai.com/account/rate-limits to learn more.', 'type': 'tokens', 'param': None, 'code': 'rate_limit_exceeded'}})\n",
            "INFO:backoff:Backing off classify_hostility(...) for 1.9s (openai.RateLimitError: Error code: 429 - {'error': {'message': 'Rate limit reached for gpt-3.5-turbo in organization org-zq7Modopi4RhdMcJDgnrgDbv on tokens per min (TPM): Limit 200000, Used 199968, Requested 340. Please try again in 92ms. Visit https://platform.openai.com/account/rate-limits to learn more.', 'type': 'tokens', 'param': None, 'code': 'rate_limit_exceeded'}})\n",
            "INFO:backoff:Backing off classify_hostility(...) for 0.0s (openai.RateLimitError: Error code: 429 - {'error': {'message': 'Rate limit reached for gpt-3.5-turbo in organization org-zq7Modopi4RhdMcJDgnrgDbv on tokens per min (TPM): Limit 200000, Used 199861, Requested 331. Please try again in 57ms. Visit https://platform.openai.com/account/rate-limits to learn more.', 'type': 'tokens', 'param': None, 'code': 'rate_limit_exceeded'}})\n",
            "INFO:backoff:Backing off classify_hostility(...) for 1.4s (openai.RateLimitError: Error code: 429 - {'error': {'message': 'Rate limit reached for gpt-3.5-turbo in organization org-zq7Modopi4RhdMcJDgnrgDbv on tokens per min (TPM): Limit 200000, Used 199828, Requested 473. Please try again in 90ms. Visit https://platform.openai.com/account/rate-limits to learn more.', 'type': 'tokens', 'param': None, 'code': 'rate_limit_exceeded'}})\n",
            "INFO:backoff:Backing off classify_hostility(...) for 1.1s (openai.RateLimitError: Error code: 429 - {'error': {'message': 'Rate limit reached for gpt-3.5-turbo in organization org-zq7Modopi4RhdMcJDgnrgDbv on requests per min (RPM): Limit 500, Used 500, Requested 1. Please try again in 120ms. Visit https://platform.openai.com/account/rate-limits to learn more.', 'type': 'requests', 'param': None, 'code': 'rate_limit_exceeded'}})\n",
            "INFO:backoff:Backing off classify_hostility(...) for 0.5s (openai.RateLimitError: Error code: 429 - {'error': {'message': 'Rate limit reached for gpt-3.5-turbo in organization org-zq7Modopi4RhdMcJDgnrgDbv on requests per min (RPM): Limit 500, Used 500, Requested 1. Please try again in 120ms. Visit https://platform.openai.com/account/rate-limits to learn more.', 'type': 'requests', 'param': None, 'code': 'rate_limit_exceeded'}})\n",
            "INFO:backoff:Backing off classify_hostility(...) for 2.6s (openai.RateLimitError: Error code: 429 - {'error': {'message': 'Rate limit reached for gpt-3.5-turbo in organization org-zq7Modopi4RhdMcJDgnrgDbv on tokens per min (TPM): Limit 200000, Used 199741, Requested 331. Please try again in 21ms. Visit https://platform.openai.com/account/rate-limits to learn more.', 'type': 'tokens', 'param': None, 'code': 'rate_limit_exceeded'}})\n",
            "INFO:backoff:Backing off classify_hostility(...) for 0.5s (openai.RateLimitError: Error code: 429 - {'error': {'message': 'Rate limit reached for gpt-3.5-turbo in organization org-zq7Modopi4RhdMcJDgnrgDbv on tokens per min (TPM): Limit 200000, Used 199678, Requested 334. Please try again in 3ms. Visit https://platform.openai.com/account/rate-limits to learn more.', 'type': 'tokens', 'param': None, 'code': 'rate_limit_exceeded'}})\n",
            "INFO:backoff:Backing off classify_hostility(...) for 0.0s (openai.RateLimitError: Error code: 429 - {'error': {'message': 'Rate limit reached for gpt-3.5-turbo in organization org-zq7Modopi4RhdMcJDgnrgDbv on tokens per min (TPM): Limit 200000, Used 199909, Requested 353. Please try again in 78ms. Visit https://platform.openai.com/account/rate-limits to learn more.', 'type': 'tokens', 'param': None, 'code': 'rate_limit_exceeded'}})\n",
            "INFO:backoff:Backing off classify_hostility(...) for 0.8s (openai.RateLimitError: Error code: 429 - {'error': {'message': 'Rate limit reached for gpt-3.5-turbo in organization org-zq7Modopi4RhdMcJDgnrgDbv on requests per min (RPM): Limit 500, Used 500, Requested 1. Please try again in 120ms. Visit https://platform.openai.com/account/rate-limits to learn more.', 'type': 'requests', 'param': None, 'code': 'rate_limit_exceeded'}})\n",
            "INFO:backoff:Backing off classify_hostility(...) for 0.6s (openai.RateLimitError: Error code: 429 - {'error': {'message': 'Rate limit reached for gpt-3.5-turbo in organization org-zq7Modopi4RhdMcJDgnrgDbv on tokens per min (TPM): Limit 200000, Used 199715, Requested 362. Please try again in 23ms. Visit https://platform.openai.com/account/rate-limits to learn more.', 'type': 'tokens', 'param': None, 'code': 'rate_limit_exceeded'}})\n",
            "INFO:backoff:Backing off classify_hostility(...) for 1.4s (openai.RateLimitError: Error code: 429 - {'error': {'message': 'Rate limit reached for gpt-3.5-turbo in organization org-zq7Modopi4RhdMcJDgnrgDbv on requests per min (RPM): Limit 500, Used 500, Requested 1. Please try again in 120ms. Visit https://platform.openai.com/account/rate-limits to learn more.', 'type': 'requests', 'param': None, 'code': 'rate_limit_exceeded'}})\n"
          ]
        },
        {
          "output_type": "stream",
          "name": "stdout",
          "text": [
            "\n",
            "Batch 88/100 complete. Speed: 8.67 statements/sec. Est. remaining time: 1.2 minutes.\n"
          ]
        },
        {
          "output_type": "stream",
          "name": "stderr",
          "text": [
            "INFO:backoff:Backing off classify_hostility(...) for 0.3s (openai.RateLimitError: Error code: 429 - {'error': {'message': 'Rate limit reached for gpt-3.5-turbo in organization org-zq7Modopi4RhdMcJDgnrgDbv on tokens per min (TPM): Limit 200000, Used 199687, Requested 323. Please try again in 3ms. Visit https://platform.openai.com/account/rate-limits to learn more.', 'type': 'tokens', 'param': None, 'code': 'rate_limit_exceeded'}})\n",
            "INFO:backoff:Backing off classify_hostility(...) for 0.3s (openai.RateLimitError: Error code: 429 - {'error': {'message': 'Rate limit reached for gpt-3.5-turbo in organization org-zq7Modopi4RhdMcJDgnrgDbv on tokens per min (TPM): Limit 200000, Used 199664, Requested 372. Please try again in 10ms. Visit https://platform.openai.com/account/rate-limits to learn more.', 'type': 'tokens', 'param': None, 'code': 'rate_limit_exceeded'}})\n",
            "INFO:backoff:Backing off classify_hostility(...) for 1.1s (openai.RateLimitError: Error code: 429 - {'error': {'message': 'Rate limit reached for gpt-3.5-turbo in organization org-zq7Modopi4RhdMcJDgnrgDbv on requests per min (RPM): Limit 500, Used 500, Requested 1. Please try again in 120ms. Visit https://platform.openai.com/account/rate-limits to learn more.', 'type': 'requests', 'param': None, 'code': 'rate_limit_exceeded'}})\n"
          ]
        },
        {
          "output_type": "stream",
          "name": "stdout",
          "text": [
            "\n",
            "Batch 89/100 complete. Speed: 8.69 statements/sec. Est. remaining time: 1.1 minutes.\n"
          ]
        },
        {
          "output_type": "stream",
          "name": "stderr",
          "text": [
            "INFO:backoff:Backing off classify_hostility(...) for 1.9s (openai.RateLimitError: Error code: 429 - {'error': {'message': 'Rate limit reached for gpt-3.5-turbo in organization org-zq7Modopi4RhdMcJDgnrgDbv on tokens per min (TPM): Limit 200000, Used 199709, Requested 322. Please try again in 9ms. Visit https://platform.openai.com/account/rate-limits to learn more.', 'type': 'tokens', 'param': None, 'code': 'rate_limit_exceeded'}})\n",
            "INFO:backoff:Backing off classify_hostility(...) for 1.0s (openai.RateLimitError: Error code: 429 - {'error': {'message': 'Rate limit reached for gpt-3.5-turbo in organization org-zq7Modopi4RhdMcJDgnrgDbv on tokens per min (TPM): Limit 200000, Used 199947, Requested 384. Please try again in 99ms. Visit https://platform.openai.com/account/rate-limits to learn more.', 'type': 'tokens', 'param': None, 'code': 'rate_limit_exceeded'}})\n",
            "INFO:backoff:Backing off classify_hostility(...) for 1.0s (openai.RateLimitError: Error code: 429 - {'error': {'message': 'Rate limit reached for gpt-3.5-turbo in organization org-zq7Modopi4RhdMcJDgnrgDbv on tokens per min (TPM): Limit 200000, Used 199856, Requested 379. Please try again in 70ms. Visit https://platform.openai.com/account/rate-limits to learn more.', 'type': 'tokens', 'param': None, 'code': 'rate_limit_exceeded'}})\n",
            "INFO:backoff:Backing off classify_hostility(...) for 1.4s (openai.RateLimitError: Error code: 429 - {'error': {'message': 'Rate limit reached for gpt-3.5-turbo in organization org-zq7Modopi4RhdMcJDgnrgDbv on tokens per min (TPM): Limit 200000, Used 199835, Requested 351. Please try again in 55ms. Visit https://platform.openai.com/account/rate-limits to learn more.', 'type': 'tokens', 'param': None, 'code': 'rate_limit_exceeded'}})\n",
            "INFO:backoff:Backing off classify_hostility(...) for 0.7s (openai.RateLimitError: Error code: 429 - {'error': {'message': 'Rate limit reached for gpt-3.5-turbo in organization org-zq7Modopi4RhdMcJDgnrgDbv on tokens per min (TPM): Limit 200000, Used 199675, Requested 371. Please try again in 13ms. Visit https://platform.openai.com/account/rate-limits to learn more.', 'type': 'tokens', 'param': None, 'code': 'rate_limit_exceeded'}})\n",
            "INFO:backoff:Backing off classify_hostility(...) for 0.3s (openai.RateLimitError: Error code: 429 - {'error': {'message': 'Rate limit reached for gpt-3.5-turbo in organization org-zq7Modopi4RhdMcJDgnrgDbv on requests per min (RPM): Limit 500, Used 500, Requested 1. Please try again in 120ms. Visit https://platform.openai.com/account/rate-limits to learn more.', 'type': 'requests', 'param': None, 'code': 'rate_limit_exceeded'}})\n",
            "INFO:backoff:Backing off classify_hostility(...) for 0.6s (openai.RateLimitError: Error code: 429 - {'error': {'message': 'Rate limit reached for gpt-3.5-turbo in organization org-zq7Modopi4RhdMcJDgnrgDbv on tokens per min (TPM): Limit 200000, Used 199720, Requested 319. Please try again in 11ms. Visit https://platform.openai.com/account/rate-limits to learn more.', 'type': 'tokens', 'param': None, 'code': 'rate_limit_exceeded'}})\n",
            "INFO:backoff:Backing off classify_hostility(...) for 0.0s (openai.RateLimitError: Error code: 429 - {'error': {'message': 'Rate limit reached for gpt-3.5-turbo in organization org-zq7Modopi4RhdMcJDgnrgDbv on tokens per min (TPM): Limit 200000, Used 199636, Requested 404. Please try again in 12ms. Visit https://platform.openai.com/account/rate-limits to learn more.', 'type': 'tokens', 'param': None, 'code': 'rate_limit_exceeded'}})\n",
            "INFO:backoff:Backing off classify_hostility(...) for 1.7s (openai.RateLimitError: Error code: 429 - {'error': {'message': 'Rate limit reached for gpt-3.5-turbo in organization org-zq7Modopi4RhdMcJDgnrgDbv on requests per min (RPM): Limit 500, Used 500, Requested 1. Please try again in 120ms. Visit https://platform.openai.com/account/rate-limits to learn more.', 'type': 'requests', 'param': None, 'code': 'rate_limit_exceeded'}})\n",
            "INFO:backoff:Backing off classify_hostility(...) for 1.3s (openai.RateLimitError: Error code: 429 - {'error': {'message': 'Rate limit reached for gpt-3.5-turbo in organization org-zq7Modopi4RhdMcJDgnrgDbv on tokens per min (TPM): Limit 200000, Used 199697, Requested 321. Please try again in 5ms. Visit https://platform.openai.com/account/rate-limits to learn more.', 'type': 'tokens', 'param': None, 'code': 'rate_limit_exceeded'}})\n",
            "INFO:backoff:Backing off classify_hostility(...) for 0.3s (openai.RateLimitError: Error code: 429 - {'error': {'message': 'Rate limit reached for gpt-3.5-turbo in organization org-zq7Modopi4RhdMcJDgnrgDbv on requests per min (RPM): Limit 500, Used 500, Requested 1. Please try again in 120ms. Visit https://platform.openai.com/account/rate-limits to learn more.', 'type': 'requests', 'param': None, 'code': 'rate_limit_exceeded'}})\n",
            "INFO:backoff:Backing off classify_hostility(...) for 1.5s (openai.RateLimitError: Error code: 429 - {'error': {'message': 'Rate limit reached for gpt-3.5-turbo in organization org-zq7Modopi4RhdMcJDgnrgDbv on requests per min (RPM): Limit 500, Used 500, Requested 1. Please try again in 120ms. Visit https://platform.openai.com/account/rate-limits to learn more.', 'type': 'requests', 'param': None, 'code': 'rate_limit_exceeded'}})\n",
            "INFO:backoff:Backing off classify_hostility(...) for 2.7s (openai.RateLimitError: Error code: 429 - {'error': {'message': 'Rate limit reached for gpt-3.5-turbo in organization org-zq7Modopi4RhdMcJDgnrgDbv on tokens per min (TPM): Limit 200000, Used 199808, Requested 322. Please try again in 39ms. Visit https://platform.openai.com/account/rate-limits to learn more.', 'type': 'tokens', 'param': None, 'code': 'rate_limit_exceeded'}})\n",
            "INFO:backoff:Backing off classify_hostility(...) for 0.1s (openai.RateLimitError: Error code: 429 - {'error': {'message': 'Rate limit reached for gpt-3.5-turbo in organization org-zq7Modopi4RhdMcJDgnrgDbv on tokens per min (TPM): Limit 200000, Used 199730, Requested 324. Please try again in 16ms. Visit https://platform.openai.com/account/rate-limits to learn more.', 'type': 'tokens', 'param': None, 'code': 'rate_limit_exceeded'}})\n"
          ]
        },
        {
          "output_type": "stream",
          "name": "stdout",
          "text": [
            "\n",
            "Batch 90/100 complete. Speed: 8.64 statements/sec. Est. remaining time: 1.0 minutes.\n",
            "\n",
            "Batch 91/100 complete. Speed: 8.65 statements/sec. Est. remaining time: 0.9 minutes.\n"
          ]
        },
        {
          "output_type": "stream",
          "name": "stderr",
          "text": [
            "INFO:backoff:Backing off classify_hostility(...) for 0.4s (openai.RateLimitError: Error code: 429 - {'error': {'message': 'Rate limit reached for gpt-3.5-turbo in organization org-zq7Modopi4RhdMcJDgnrgDbv on requests per min (RPM): Limit 500, Used 500, Requested 1. Please try again in 120ms. Visit https://platform.openai.com/account/rate-limits to learn more.', 'type': 'requests', 'param': None, 'code': 'rate_limit_exceeded'}})\n",
            "INFO:backoff:Backing off classify_hostility(...) for 1.0s (openai.RateLimitError: Error code: 429 - {'error': {'message': 'Rate limit reached for gpt-3.5-turbo in organization org-zq7Modopi4RhdMcJDgnrgDbv on requests per min (RPM): Limit 500, Used 500, Requested 1. Please try again in 120ms. Visit https://platform.openai.com/account/rate-limits to learn more.', 'type': 'requests', 'param': None, 'code': 'rate_limit_exceeded'}})\n",
            "INFO:backoff:Backing off classify_hostility(...) for 1.4s (openai.RateLimitError: Error code: 429 - {'error': {'message': 'Rate limit reached for gpt-3.5-turbo in organization org-zq7Modopi4RhdMcJDgnrgDbv on tokens per min (TPM): Limit 200000, Used 199905, Requested 451. Please try again in 106ms. Visit https://platform.openai.com/account/rate-limits to learn more.', 'type': 'tokens', 'param': None, 'code': 'rate_limit_exceeded'}})\n",
            "INFO:backoff:Backing off classify_hostility(...) for 0.9s (openai.RateLimitError: Error code: 429 - {'error': {'message': 'Rate limit reached for gpt-3.5-turbo in organization org-zq7Modopi4RhdMcJDgnrgDbv on tokens per min (TPM): Limit 200000, Used 199653, Requested 373. Please try again in 7ms. Visit https://platform.openai.com/account/rate-limits to learn more.', 'type': 'tokens', 'param': None, 'code': 'rate_limit_exceeded'}})\n",
            "INFO:backoff:Backing off classify_hostility(...) for 1.6s (openai.RateLimitError: Error code: 429 - {'error': {'message': 'Rate limit reached for gpt-3.5-turbo in organization org-zq7Modopi4RhdMcJDgnrgDbv on tokens per min (TPM): Limit 200000, Used 199643, Requested 466. Please try again in 32ms. Visit https://platform.openai.com/account/rate-limits to learn more.', 'type': 'tokens', 'param': None, 'code': 'rate_limit_exceeded'}})\n",
            "INFO:backoff:Backing off classify_hostility(...) for 0.2s (openai.RateLimitError: Error code: 429 - {'error': {'message': 'Rate limit reached for gpt-3.5-turbo in organization org-zq7Modopi4RhdMcJDgnrgDbv on tokens per min (TPM): Limit 200000, Used 199626, Requested 394. Please try again in 6ms. Visit https://platform.openai.com/account/rate-limits to learn more.', 'type': 'tokens', 'param': None, 'code': 'rate_limit_exceeded'}})\n",
            "INFO:backoff:Backing off classify_hostility(...) for 0.9s (openai.RateLimitError: Error code: 429 - {'error': {'message': 'Rate limit reached for gpt-3.5-turbo in organization org-zq7Modopi4RhdMcJDgnrgDbv on tokens per min (TPM): Limit 200000, Used 199886, Requested 372. Please try again in 77ms. Visit https://platform.openai.com/account/rate-limits to learn more.', 'type': 'tokens', 'param': None, 'code': 'rate_limit_exceeded'}})\n",
            "INFO:backoff:Backing off classify_hostility(...) for 1.8s (openai.RateLimitError: Error code: 429 - {'error': {'message': 'Rate limit reached for gpt-3.5-turbo in organization org-zq7Modopi4RhdMcJDgnrgDbv on requests per min (RPM): Limit 500, Used 500, Requested 1. Please try again in 120ms. Visit https://platform.openai.com/account/rate-limits to learn more.', 'type': 'requests', 'param': None, 'code': 'rate_limit_exceeded'}})\n",
            "INFO:backoff:Backing off classify_hostility(...) for 2.7s (openai.RateLimitError: Error code: 429 - {'error': {'message': 'Rate limit reached for gpt-3.5-turbo in organization org-zq7Modopi4RhdMcJDgnrgDbv on requests per min (RPM): Limit 500, Used 500, Requested 1. Please try again in 120ms. Visit https://platform.openai.com/account/rate-limits to learn more.', 'type': 'requests', 'param': None, 'code': 'rate_limit_exceeded'}})\n",
            "INFO:backoff:Backing off classify_hostility(...) for 1.1s (openai.RateLimitError: Error code: 429 - {'error': {'message': 'Rate limit reached for gpt-3.5-turbo in organization org-zq7Modopi4RhdMcJDgnrgDbv on tokens per min (TPM): Limit 200000, Used 199600, Requested 451. Please try again in 15ms. Visit https://platform.openai.com/account/rate-limits to learn more.', 'type': 'tokens', 'param': None, 'code': 'rate_limit_exceeded'}})\n",
            "INFO:backoff:Backing off classify_hostility(...) for 1.6s (openai.RateLimitError: Error code: 429 - {'error': {'message': 'Rate limit reached for gpt-3.5-turbo in organization org-zq7Modopi4RhdMcJDgnrgDbv on requests per min (RPM): Limit 500, Used 500, Requested 1. Please try again in 120ms. Visit https://platform.openai.com/account/rate-limits to learn more.', 'type': 'requests', 'param': None, 'code': 'rate_limit_exceeded'}})\n"
          ]
        },
        {
          "output_type": "stream",
          "name": "stdout",
          "text": [
            "\n",
            "Batch 92/100 complete. Speed: 8.64 statements/sec. Est. remaining time: 0.8 minutes.\n"
          ]
        },
        {
          "output_type": "stream",
          "name": "stderr",
          "text": [
            "INFO:backoff:Backing off classify_hostility(...) for 1.8s (openai.RateLimitError: Error code: 429 - {'error': {'message': 'Rate limit reached for gpt-3.5-turbo in organization org-zq7Modopi4RhdMcJDgnrgDbv on tokens per min (TPM): Limit 200000, Used 199693, Requested 372. Please try again in 19ms. Visit https://platform.openai.com/account/rate-limits to learn more.', 'type': 'tokens', 'param': None, 'code': 'rate_limit_exceeded'}})\n",
            "INFO:backoff:Backing off classify_hostility(...) for 0.7s (openai.RateLimitError: Error code: 429 - {'error': {'message': 'Rate limit reached for gpt-3.5-turbo in organization org-zq7Modopi4RhdMcJDgnrgDbv on tokens per min (TPM): Limit 200000, Used 199804, Requested 607. Please try again in 123ms. Visit https://platform.openai.com/account/rate-limits to learn more.', 'type': 'tokens', 'param': None, 'code': 'rate_limit_exceeded'}})\n",
            "INFO:backoff:Backing off classify_hostility(...) for 1.2s (openai.RateLimitError: Error code: 429 - {'error': {'message': 'Rate limit reached for gpt-3.5-turbo in organization org-zq7Modopi4RhdMcJDgnrgDbv on tokens per min (TPM): Limit 200000, Used 199796, Requested 418. Please try again in 64ms. Visit https://platform.openai.com/account/rate-limits to learn more.', 'type': 'tokens', 'param': None, 'code': 'rate_limit_exceeded'}})\n",
            "INFO:backoff:Backing off classify_hostility(...) for 1.4s (openai.RateLimitError: Error code: 429 - {'error': {'message': 'Rate limit reached for gpt-3.5-turbo in organization org-zq7Modopi4RhdMcJDgnrgDbv on tokens per min (TPM): Limit 200000, Used 199644, Requested 376. Please try again in 6ms. Visit https://platform.openai.com/account/rate-limits to learn more.', 'type': 'tokens', 'param': None, 'code': 'rate_limit_exceeded'}})\n",
            "INFO:backoff:Backing off classify_hostility(...) for 1.5s (openai.RateLimitError: Error code: 429 - {'error': {'message': 'Rate limit reached for gpt-3.5-turbo in organization org-zq7Modopi4RhdMcJDgnrgDbv on tokens per min (TPM): Limit 200000, Used 199615, Requested 401. Please try again in 4ms. Visit https://platform.openai.com/account/rate-limits to learn more.', 'type': 'tokens', 'param': None, 'code': 'rate_limit_exceeded'}})\n",
            "INFO:backoff:Backing off classify_hostility(...) for 0.1s (openai.RateLimitError: Error code: 429 - {'error': {'message': 'Rate limit reached for gpt-3.5-turbo in organization org-zq7Modopi4RhdMcJDgnrgDbv on requests per min (RPM): Limit 500, Used 500, Requested 1. Please try again in 120ms. Visit https://platform.openai.com/account/rate-limits to learn more.', 'type': 'requests', 'param': None, 'code': 'rate_limit_exceeded'}})\n",
            "INFO:backoff:Backing off classify_hostility(...) for 1.0s (openai.RateLimitError: Error code: 429 - {'error': {'message': 'Rate limit reached for gpt-3.5-turbo in organization org-zq7Modopi4RhdMcJDgnrgDbv on tokens per min (TPM): Limit 200000, Used 199659, Requested 360. Please try again in 5ms. Visit https://platform.openai.com/account/rate-limits to learn more.', 'type': 'tokens', 'param': None, 'code': 'rate_limit_exceeded'}})\n",
            "INFO:backoff:Backing off classify_hostility(...) for 0.9s (openai.RateLimitError: Error code: 429 - {'error': {'message': 'Rate limit reached for gpt-3.5-turbo in organization org-zq7Modopi4RhdMcJDgnrgDbv on tokens per min (TPM): Limit 200000, Used 199592, Requested 464. Please try again in 16ms. Visit https://platform.openai.com/account/rate-limits to learn more.', 'type': 'tokens', 'param': None, 'code': 'rate_limit_exceeded'}})\n",
            "INFO:backoff:Backing off classify_hostility(...) for 1.6s (openai.RateLimitError: Error code: 429 - {'error': {'message': 'Rate limit reached for gpt-3.5-turbo in organization org-zq7Modopi4RhdMcJDgnrgDbv on tokens per min (TPM): Limit 200000, Used 199682, Requested 401. Please try again in 24ms. Visit https://platform.openai.com/account/rate-limits to learn more.', 'type': 'tokens', 'param': None, 'code': 'rate_limit_exceeded'}})\n",
            "INFO:backoff:Backing off classify_hostility(...) for 1.0s (openai.RateLimitError: Error code: 429 - {'error': {'message': 'Rate limit reached for gpt-3.5-turbo in organization org-zq7Modopi4RhdMcJDgnrgDbv on tokens per min (TPM): Limit 200000, Used 199690, Requested 385. Please try again in 22ms. Visit https://platform.openai.com/account/rate-limits to learn more.', 'type': 'tokens', 'param': None, 'code': 'rate_limit_exceeded'}})\n"
          ]
        },
        {
          "output_type": "stream",
          "name": "stdout",
          "text": [
            "\n",
            "Batch 93/100 complete. Speed: 8.62 statements/sec. Est. remaining time: 0.7 minutes.\n"
          ]
        },
        {
          "output_type": "stream",
          "name": "stderr",
          "text": [
            "INFO:backoff:Backing off classify_hostility(...) for 1.1s (openai.RateLimitError: Error code: 429 - {'error': {'message': 'Rate limit reached for gpt-3.5-turbo in organization org-zq7Modopi4RhdMcJDgnrgDbv on tokens per min (TPM): Limit 200000, Used 199754, Requested 323. Please try again in 23ms. Visit https://platform.openai.com/account/rate-limits to learn more.', 'type': 'tokens', 'param': None, 'code': 'rate_limit_exceeded'}})\n",
            "INFO:backoff:Backing off classify_hostility(...) for 1.6s (openai.RateLimitError: Error code: 429 - {'error': {'message': 'Rate limit reached for gpt-3.5-turbo in organization org-zq7Modopi4RhdMcJDgnrgDbv on requests per min (RPM): Limit 500, Used 500, Requested 1. Please try again in 120ms. Visit https://platform.openai.com/account/rate-limits to learn more.', 'type': 'requests', 'param': None, 'code': 'rate_limit_exceeded'}})\n",
            "INFO:backoff:Backing off classify_hostility(...) for 0.2s (openai.RateLimitError: Error code: 429 - {'error': {'message': 'Rate limit reached for gpt-3.5-turbo in organization org-zq7Modopi4RhdMcJDgnrgDbv on tokens per min (TPM): Limit 200000, Used 199619, Requested 395. Please try again in 4ms. Visit https://platform.openai.com/account/rate-limits to learn more.', 'type': 'tokens', 'param': None, 'code': 'rate_limit_exceeded'}})\n",
            "INFO:backoff:Backing off classify_hostility(...) for 0.0s (openai.RateLimitError: Error code: 429 - {'error': {'message': 'Rate limit reached for gpt-3.5-turbo in organization org-zq7Modopi4RhdMcJDgnrgDbv on requests per min (RPM): Limit 500, Used 500, Requested 1. Please try again in 120ms. Visit https://platform.openai.com/account/rate-limits to learn more.', 'type': 'requests', 'param': None, 'code': 'rate_limit_exceeded'}})\n",
            "INFO:backoff:Backing off classify_hostility(...) for 1.9s (openai.RateLimitError: Error code: 429 - {'error': {'message': 'Rate limit reached for gpt-3.5-turbo in organization org-zq7Modopi4RhdMcJDgnrgDbv on tokens per min (TPM): Limit 200000, Used 199878, Requested 472. Please try again in 105ms. Visit https://platform.openai.com/account/rate-limits to learn more.', 'type': 'tokens', 'param': None, 'code': 'rate_limit_exceeded'}})\n",
            "INFO:backoff:Backing off classify_hostility(...) for 1.5s (openai.RateLimitError: Error code: 429 - {'error': {'message': 'Rate limit reached for gpt-3.5-turbo in organization org-zq7Modopi4RhdMcJDgnrgDbv on tokens per min (TPM): Limit 200000, Used 199728, Requested 331. Please try again in 17ms. Visit https://platform.openai.com/account/rate-limits to learn more.', 'type': 'tokens', 'param': None, 'code': 'rate_limit_exceeded'}})\n",
            "INFO:backoff:Backing off classify_hostility(...) for 0.5s (openai.RateLimitError: Error code: 429 - {'error': {'message': 'Rate limit reached for gpt-3.5-turbo in organization org-zq7Modopi4RhdMcJDgnrgDbv on tokens per min (TPM): Limit 200000, Used 199789, Requested 503. Please try again in 87ms. Visit https://platform.openai.com/account/rate-limits to learn more.', 'type': 'tokens', 'param': None, 'code': 'rate_limit_exceeded'}})\n"
          ]
        },
        {
          "output_type": "stream",
          "name": "stdout",
          "text": [
            "\n",
            "Batch 94/100 complete. Speed: 8.63 statements/sec. Est. remaining time: 0.6 minutes.\n"
          ]
        },
        {
          "output_type": "stream",
          "name": "stderr",
          "text": [
            "INFO:backoff:Backing off classify_hostility(...) for 1.7s (openai.RateLimitError: Error code: 429 - {'error': {'message': 'Rate limit reached for gpt-3.5-turbo in organization org-zq7Modopi4RhdMcJDgnrgDbv on tokens per min (TPM): Limit 200000, Used 199895, Requested 400. Please try again in 88ms. Visit https://platform.openai.com/account/rate-limits to learn more.', 'type': 'tokens', 'param': None, 'code': 'rate_limit_exceeded'}})\n",
            "INFO:backoff:Backing off classify_hostility(...) for 0.5s (openai.RateLimitError: Error code: 429 - {'error': {'message': 'Rate limit reached for gpt-3.5-turbo in organization org-zq7Modopi4RhdMcJDgnrgDbv on tokens per min (TPM): Limit 200000, Used 199725, Requested 371. Please try again in 28ms. Visit https://platform.openai.com/account/rate-limits to learn more.', 'type': 'tokens', 'param': None, 'code': 'rate_limit_exceeded'}})\n",
            "INFO:backoff:Backing off classify_hostility(...) for 1.3s (openai.RateLimitError: Error code: 429 - {'error': {'message': 'Rate limit reached for gpt-3.5-turbo in organization org-zq7Modopi4RhdMcJDgnrgDbv on tokens per min (TPM): Limit 200000, Used 199667, Requested 349. Please try again in 4ms. Visit https://platform.openai.com/account/rate-limits to learn more.', 'type': 'tokens', 'param': None, 'code': 'rate_limit_exceeded'}})\n",
            "INFO:backoff:Backing off classify_hostility(...) for 0.1s (openai.RateLimitError: Error code: 429 - {'error': {'message': 'Rate limit reached for gpt-3.5-turbo in organization org-zq7Modopi4RhdMcJDgnrgDbv on tokens per min (TPM): Limit 200000, Used 199840, Requested 388. Please try again in 68ms. Visit https://platform.openai.com/account/rate-limits to learn more.', 'type': 'tokens', 'param': None, 'code': 'rate_limit_exceeded'}})\n",
            "INFO:backoff:Backing off classify_hostility(...) for 0.5s (openai.RateLimitError: Error code: 429 - {'error': {'message': 'Rate limit reached for gpt-3.5-turbo in organization org-zq7Modopi4RhdMcJDgnrgDbv on requests per min (RPM): Limit 500, Used 500, Requested 1. Please try again in 120ms. Visit https://platform.openai.com/account/rate-limits to learn more.', 'type': 'requests', 'param': None, 'code': 'rate_limit_exceeded'}})\n",
            "INFO:backoff:Backing off classify_hostility(...) for 0.2s (openai.RateLimitError: Error code: 429 - {'error': {'message': 'Rate limit reached for gpt-3.5-turbo in organization org-zq7Modopi4RhdMcJDgnrgDbv on tokens per min (TPM): Limit 200000, Used 199603, Requested 409. Please try again in 3ms. Visit https://platform.openai.com/account/rate-limits to learn more.', 'type': 'tokens', 'param': None, 'code': 'rate_limit_exceeded'}})\n",
            "INFO:backoff:Backing off classify_hostility(...) for 0.8s (openai.RateLimitError: Error code: 429 - {'error': {'message': 'Rate limit reached for gpt-3.5-turbo in organization org-zq7Modopi4RhdMcJDgnrgDbv on requests per min (RPM): Limit 500, Used 500, Requested 1. Please try again in 120ms. Visit https://platform.openai.com/account/rate-limits to learn more.', 'type': 'requests', 'param': None, 'code': 'rate_limit_exceeded'}})\n",
            "INFO:backoff:Backing off classify_hostility(...) for 1.4s (openai.RateLimitError: Error code: 429 - {'error': {'message': 'Rate limit reached for gpt-3.5-turbo in organization org-zq7Modopi4RhdMcJDgnrgDbv on requests per min (RPM): Limit 500, Used 500, Requested 1. Please try again in 120ms. Visit https://platform.openai.com/account/rate-limits to learn more.', 'type': 'requests', 'param': None, 'code': 'rate_limit_exceeded'}})\n",
            "INFO:backoff:Backing off classify_hostility(...) for 1.0s (openai.RateLimitError: Error code: 429 - {'error': {'message': 'Rate limit reached for gpt-3.5-turbo in organization org-zq7Modopi4RhdMcJDgnrgDbv on requests per min (RPM): Limit 500, Used 500, Requested 1. Please try again in 120ms. Visit https://platform.openai.com/account/rate-limits to learn more.', 'type': 'requests', 'param': None, 'code': 'rate_limit_exceeded'}})\n",
            "INFO:backoff:Backing off classify_hostility(...) for 0.1s (openai.RateLimitError: Error code: 429 - {'error': {'message': 'Rate limit reached for gpt-3.5-turbo in organization org-zq7Modopi4RhdMcJDgnrgDbv on tokens per min (TPM): Limit 200000, Used 199584, Requested 453. Please try again in 11ms. Visit https://platform.openai.com/account/rate-limits to learn more.', 'type': 'tokens', 'param': None, 'code': 'rate_limit_exceeded'}})\n",
            "INFO:backoff:Backing off classify_hostility(...) for 0.9s (openai.RateLimitError: Error code: 429 - {'error': {'message': 'Rate limit reached for gpt-3.5-turbo in organization org-zq7Modopi4RhdMcJDgnrgDbv on requests per min (RPM): Limit 500, Used 500, Requested 1. Please try again in 120ms. Visit https://platform.openai.com/account/rate-limits to learn more.', 'type': 'requests', 'param': None, 'code': 'rate_limit_exceeded'}})\n",
            "INFO:backoff:Backing off classify_hostility(...) for 1.8s (openai.RateLimitError: Error code: 429 - {'error': {'message': 'Rate limit reached for gpt-3.5-turbo in organization org-zq7Modopi4RhdMcJDgnrgDbv on tokens per min (TPM): Limit 200000, Used 199626, Requested 417. Please try again in 12ms. Visit https://platform.openai.com/account/rate-limits to learn more.', 'type': 'tokens', 'param': None, 'code': 'rate_limit_exceeded'}})\n",
            "ERROR:backoff:Giving up classify_hostility(...) after 3 tries (openai.RateLimitError: Error code: 429 - {'error': {'message': 'Rate limit reached for gpt-3.5-turbo in organization org-zq7Modopi4RhdMcJDgnrgDbv on tokens per min (TPM): Limit 200000, Used 199656, Requested 388. Please try again in 13ms. Visit https://platform.openai.com/account/rate-limits to learn more.', 'type': 'tokens', 'param': None, 'code': 'rate_limit_exceeded'}})\n",
            "INFO:backoff:Backing off classify_hostility(...) for 1.2s (openai.RateLimitError: Error code: 429 - {'error': {'message': 'Rate limit reached for gpt-3.5-turbo in organization org-zq7Modopi4RhdMcJDgnrgDbv on tokens per min (TPM): Limit 200000, Used 199597, Requested 439. Please try again in 10ms. Visit https://platform.openai.com/account/rate-limits to learn more.', 'type': 'tokens', 'param': None, 'code': 'rate_limit_exceeded'}})\n"
          ]
        },
        {
          "output_type": "stream",
          "name": "stdout",
          "text": [
            "Error on statement 11639: Error code: 429 - {'error': {'message': 'Rate limit reached for gpt-3.5-turbo in organization org-zq7Modopi4RhdMcJDgnrgDbv on tokens per min (TPM): Limit 200000, Used 199656, Requested 388. Please try again in 13ms. Visit https://platform.openai.com/account/rate-limits to learn more.', 'type': 'tokens', 'param': None, 'code': 'rate_limit_exceeded'}}\n"
          ]
        },
        {
          "output_type": "stream",
          "name": "stderr",
          "text": [
            "INFO:backoff:Backing off classify_hostility(...) for 0.3s (openai.RateLimitError: Error code: 429 - {'error': {'message': 'Rate limit reached for gpt-3.5-turbo in organization org-zq7Modopi4RhdMcJDgnrgDbv on tokens per min (TPM): Limit 200000, Used 199697, Requested 387. Please try again in 25ms. Visit https://platform.openai.com/account/rate-limits to learn more.', 'type': 'tokens', 'param': None, 'code': 'rate_limit_exceeded'}})\n",
            "INFO:backoff:Backing off classify_hostility(...) for 0.8s (openai.RateLimitError: Error code: 429 - {'error': {'message': 'Rate limit reached for gpt-3.5-turbo in organization org-zq7Modopi4RhdMcJDgnrgDbv on tokens per min (TPM): Limit 200000, Used 199668, Requested 365. Please try again in 9ms. Visit https://platform.openai.com/account/rate-limits to learn more.', 'type': 'tokens', 'param': None, 'code': 'rate_limit_exceeded'}})\n",
            "INFO:backoff:Backing off classify_hostility(...) for 1.9s (openai.RateLimitError: Error code: 429 - {'error': {'message': 'Rate limit reached for gpt-3.5-turbo in organization org-zq7Modopi4RhdMcJDgnrgDbv on tokens per min (TPM): Limit 200000, Used 199613, Requested 396. Please try again in 2ms. Visit https://platform.openai.com/account/rate-limits to learn more.', 'type': 'tokens', 'param': None, 'code': 'rate_limit_exceeded'}})\n",
            "ERROR:backoff:Giving up classify_hostility(...) after 3 tries (openai.RateLimitError: Error code: 429 - {'error': {'message': 'Rate limit reached for gpt-3.5-turbo in organization org-zq7Modopi4RhdMcJDgnrgDbv on tokens per min (TPM): Limit 200000, Used 199732, Requested 371. Please try again in 30ms. Visit https://platform.openai.com/account/rate-limits to learn more.', 'type': 'tokens', 'param': None, 'code': 'rate_limit_exceeded'}})\n",
            "INFO:backoff:Backing off classify_hostility(...) for 0.2s (openai.RateLimitError: Error code: 429 - {'error': {'message': 'Rate limit reached for gpt-3.5-turbo in organization org-zq7Modopi4RhdMcJDgnrgDbv on requests per min (RPM): Limit 500, Used 500, Requested 1. Please try again in 120ms. Visit https://platform.openai.com/account/rate-limits to learn more.', 'type': 'requests', 'param': None, 'code': 'rate_limit_exceeded'}})\n"
          ]
        },
        {
          "output_type": "stream",
          "name": "stdout",
          "text": [
            "Error on statement 39440: Error code: 429 - {'error': {'message': 'Rate limit reached for gpt-3.5-turbo in organization org-zq7Modopi4RhdMcJDgnrgDbv on tokens per min (TPM): Limit 200000, Used 199732, Requested 371. Please try again in 30ms. Visit https://platform.openai.com/account/rate-limits to learn more.', 'type': 'tokens', 'param': None, 'code': 'rate_limit_exceeded'}}\n"
          ]
        },
        {
          "output_type": "stream",
          "name": "stderr",
          "text": [
            "INFO:backoff:Backing off classify_hostility(...) for 0.4s (openai.RateLimitError: Error code: 429 - {'error': {'message': 'Rate limit reached for gpt-3.5-turbo in organization org-zq7Modopi4RhdMcJDgnrgDbv on tokens per min (TPM): Limit 200000, Used 199559, Requested 445. Please try again in 1ms. Visit https://platform.openai.com/account/rate-limits to learn more.', 'type': 'tokens', 'param': None, 'code': 'rate_limit_exceeded'}})\n",
            "INFO:backoff:Backing off classify_hostility(...) for 1.4s (openai.RateLimitError: Error code: 429 - {'error': {'message': 'Rate limit reached for gpt-3.5-turbo in organization org-zq7Modopi4RhdMcJDgnrgDbv on tokens per min (TPM): Limit 200000, Used 199599, Requested 482. Please try again in 24ms. Visit https://platform.openai.com/account/rate-limits to learn more.', 'type': 'tokens', 'param': None, 'code': 'rate_limit_exceeded'}})\n"
          ]
        },
        {
          "output_type": "stream",
          "name": "stdout",
          "text": [
            "\n",
            "Batch 95/100 complete. Speed: 8.58 statements/sec. Est. remaining time: 0.5 minutes.\n"
          ]
        },
        {
          "output_type": "stream",
          "name": "stderr",
          "text": [
            "INFO:backoff:Backing off classify_hostility(...) for 0.2s (openai.RateLimitError: Error code: 429 - {'error': {'message': 'Rate limit reached for gpt-3.5-turbo in organization org-zq7Modopi4RhdMcJDgnrgDbv on requests per min (RPM): Limit 500, Used 500, Requested 1. Please try again in 120ms. Visit https://platform.openai.com/account/rate-limits to learn more.', 'type': 'requests', 'param': None, 'code': 'rate_limit_exceeded'}})\n",
            "INFO:backoff:Backing off classify_hostility(...) for 1.6s (openai.RateLimitError: Error code: 429 - {'error': {'message': 'Rate limit reached for gpt-3.5-turbo in organization org-zq7Modopi4RhdMcJDgnrgDbv on requests per min (RPM): Limit 500, Used 500, Requested 1. Please try again in 120ms. Visit https://platform.openai.com/account/rate-limits to learn more.', 'type': 'requests', 'param': None, 'code': 'rate_limit_exceeded'}})\n",
            "INFO:backoff:Backing off classify_hostility(...) for 0.6s (openai.RateLimitError: Error code: 429 - {'error': {'message': 'Rate limit reached for gpt-3.5-turbo in organization org-zq7Modopi4RhdMcJDgnrgDbv on requests per min (RPM): Limit 500, Used 500, Requested 1. Please try again in 120ms. Visit https://platform.openai.com/account/rate-limits to learn more.', 'type': 'requests', 'param': None, 'code': 'rate_limit_exceeded'}})\n",
            "INFO:backoff:Backing off classify_hostility(...) for 0.2s (openai.RateLimitError: Error code: 429 - {'error': {'message': 'Rate limit reached for gpt-3.5-turbo in organization org-zq7Modopi4RhdMcJDgnrgDbv on tokens per min (TPM): Limit 200000, Used 199909, Requested 318. Please try again in 68ms. Visit https://platform.openai.com/account/rate-limits to learn more.', 'type': 'tokens', 'param': None, 'code': 'rate_limit_exceeded'}})\n",
            "INFO:backoff:Backing off classify_hostility(...) for 0.3s (openai.RateLimitError: Error code: 429 - {'error': {'message': 'Rate limit reached for gpt-3.5-turbo in organization org-zq7Modopi4RhdMcJDgnrgDbv on tokens per min (TPM): Limit 200000, Used 199872, Requested 327. Please try again in 59ms. Visit https://platform.openai.com/account/rate-limits to learn more.', 'type': 'tokens', 'param': None, 'code': 'rate_limit_exceeded'}})\n",
            "INFO:backoff:Backing off classify_hostility(...) for 1.0s (openai.RateLimitError: Error code: 429 - {'error': {'message': 'Rate limit reached for gpt-3.5-turbo in organization org-zq7Modopi4RhdMcJDgnrgDbv on tokens per min (TPM): Limit 200000, Used 199820, Requested 366. Please try again in 55ms. Visit https://platform.openai.com/account/rate-limits to learn more.', 'type': 'tokens', 'param': None, 'code': 'rate_limit_exceeded'}})\n",
            "INFO:backoff:Backing off classify_hostility(...) for 2.7s (openai.RateLimitError: Error code: 429 - {'error': {'message': 'Rate limit reached for gpt-3.5-turbo in organization org-zq7Modopi4RhdMcJDgnrgDbv on tokens per min (TPM): Limit 200000, Used 199699, Requested 318. Please try again in 5ms. Visit https://platform.openai.com/account/rate-limits to learn more.', 'type': 'tokens', 'param': None, 'code': 'rate_limit_exceeded'}})\n",
            "INFO:backoff:Backing off classify_hostility(...) for 3.4s (openai.RateLimitError: Error code: 429 - {'error': {'message': 'Rate limit reached for gpt-3.5-turbo in organization org-zq7Modopi4RhdMcJDgnrgDbv on tokens per min (TPM): Limit 200000, Used 199653, Requested 377. Please try again in 9ms. Visit https://platform.openai.com/account/rate-limits to learn more.', 'type': 'tokens', 'param': None, 'code': 'rate_limit_exceeded'}})\n",
            "INFO:backoff:Backing off classify_hostility(...) for 0.8s (openai.RateLimitError: Error code: 429 - {'error': {'message': 'Rate limit reached for gpt-3.5-turbo in organization org-zq7Modopi4RhdMcJDgnrgDbv on requests per min (RPM): Limit 500, Used 500, Requested 1. Please try again in 120ms. Visit https://platform.openai.com/account/rate-limits to learn more.', 'type': 'requests', 'param': None, 'code': 'rate_limit_exceeded'}})\n"
          ]
        },
        {
          "output_type": "stream",
          "name": "stdout",
          "text": [
            "\n",
            "Batch 96/100 complete. Speed: 8.56 statements/sec. Est. remaining time: 0.4 minutes.\n"
          ]
        },
        {
          "output_type": "stream",
          "name": "stderr",
          "text": [
            "INFO:backoff:Backing off classify_hostility(...) for 1.6s (openai.RateLimitError: Error code: 429 - {'error': {'message': 'Rate limit reached for gpt-3.5-turbo in organization org-zq7Modopi4RhdMcJDgnrgDbv on tokens per min (TPM): Limit 200000, Used 199702, Requested 365. Please try again in 20ms. Visit https://platform.openai.com/account/rate-limits to learn more.', 'type': 'tokens', 'param': None, 'code': 'rate_limit_exceeded'}})\n",
            "INFO:backoff:Backing off classify_hostility(...) for 0.9s (openai.RateLimitError: Error code: 429 - {'error': {'message': 'Rate limit reached for gpt-3.5-turbo in organization org-zq7Modopi4RhdMcJDgnrgDbv on tokens per min (TPM): Limit 200000, Used 199666, Requested 372. Please try again in 11ms. Visit https://platform.openai.com/account/rate-limits to learn more.', 'type': 'tokens', 'param': None, 'code': 'rate_limit_exceeded'}})\n",
            "INFO:backoff:Backing off classify_hostility(...) for 1.1s (openai.RateLimitError: Error code: 429 - {'error': {'message': 'Rate limit reached for gpt-3.5-turbo in organization org-zq7Modopi4RhdMcJDgnrgDbv on requests per min (RPM): Limit 500, Used 500, Requested 1. Please try again in 120ms. Visit https://platform.openai.com/account/rate-limits to learn more.', 'type': 'requests', 'param': None, 'code': 'rate_limit_exceeded'}})\n",
            "INFO:backoff:Backing off classify_hostility(...) for 0.7s (openai.RateLimitError: Error code: 429 - {'error': {'message': 'Rate limit reached for gpt-3.5-turbo in organization org-zq7Modopi4RhdMcJDgnrgDbv on tokens per min (TPM): Limit 200000, Used 199718, Requested 350. Please try again in 20ms. Visit https://platform.openai.com/account/rate-limits to learn more.', 'type': 'tokens', 'param': None, 'code': 'rate_limit_exceeded'}})\n",
            "INFO:backoff:Backing off classify_hostility(...) for 1.8s (openai.RateLimitError: Error code: 429 - {'error': {'message': 'Rate limit reached for gpt-3.5-turbo in organization org-zq7Modopi4RhdMcJDgnrgDbv on tokens per min (TPM): Limit 200000, Used 199697, Requested 322. Please try again in 5ms. Visit https://platform.openai.com/account/rate-limits to learn more.', 'type': 'tokens', 'param': None, 'code': 'rate_limit_exceeded'}})\n",
            "INFO:backoff:Backing off classify_hostility(...) for 0.6s (openai.RateLimitError: Error code: 429 - {'error': {'message': 'Rate limit reached for gpt-3.5-turbo in organization org-zq7Modopi4RhdMcJDgnrgDbv on tokens per min (TPM): Limit 200000, Used 199676, Requested 351. Please try again in 8ms. Visit https://platform.openai.com/account/rate-limits to learn more.', 'type': 'tokens', 'param': None, 'code': 'rate_limit_exceeded'}})\n",
            "INFO:backoff:Backing off classify_hostility(...) for 1.0s (openai.RateLimitError: Error code: 429 - {'error': {'message': 'Rate limit reached for gpt-3.5-turbo in organization org-zq7Modopi4RhdMcJDgnrgDbv on tokens per min (TPM): Limit 200000, Used 199951, Requested 454. Please try again in 121ms. Visit https://platform.openai.com/account/rate-limits to learn more.', 'type': 'tokens', 'param': None, 'code': 'rate_limit_exceeded'}})\n",
            "INFO:backoff:Backing off classify_hostility(...) for 2.0s (openai.RateLimitError: Error code: 429 - {'error': {'message': 'Rate limit reached for gpt-3.5-turbo in organization org-zq7Modopi4RhdMcJDgnrgDbv on requests per min (RPM): Limit 500, Used 500, Requested 1. Please try again in 120ms. Visit https://platform.openai.com/account/rate-limits to learn more.', 'type': 'requests', 'param': None, 'code': 'rate_limit_exceeded'}})\n"
          ]
        },
        {
          "output_type": "stream",
          "name": "stdout",
          "text": [
            "\n",
            "Batch 97/100 complete. Speed: 8.57 statements/sec. Est. remaining time: 0.3 minutes.\n"
          ]
        },
        {
          "output_type": "stream",
          "name": "stderr",
          "text": [
            "INFO:backoff:Backing off classify_hostility(...) for 1.1s (openai.RateLimitError: Error code: 429 - {'error': {'message': 'Rate limit reached for gpt-3.5-turbo in organization org-zq7Modopi4RhdMcJDgnrgDbv on requests per min (RPM): Limit 500, Used 500, Requested 1. Please try again in 120ms. Visit https://platform.openai.com/account/rate-limits to learn more.', 'type': 'requests', 'param': None, 'code': 'rate_limit_exceeded'}})\n",
            "INFO:backoff:Backing off classify_hostility(...) for 1.4s (openai.RateLimitError: Error code: 429 - {'error': {'message': 'Rate limit reached for gpt-3.5-turbo in organization org-zq7Modopi4RhdMcJDgnrgDbv on tokens per min (TPM): Limit 200000, Used 199771, Requested 365. Please try again in 40ms. Visit https://platform.openai.com/account/rate-limits to learn more.', 'type': 'tokens', 'param': None, 'code': 'rate_limit_exceeded'}})\n",
            "INFO:backoff:Backing off classify_hostility(...) for 1.0s (openai.RateLimitError: Error code: 429 - {'error': {'message': 'Rate limit reached for gpt-3.5-turbo in organization org-zq7Modopi4RhdMcJDgnrgDbv on tokens per min (TPM): Limit 200000, Used 199695, Requested 319. Please try again in 4ms. Visit https://platform.openai.com/account/rate-limits to learn more.', 'type': 'tokens', 'param': None, 'code': 'rate_limit_exceeded'}})\n",
            "INFO:backoff:Backing off classify_hostility(...) for 0.2s (openai.RateLimitError: Error code: 429 - {'error': {'message': 'Rate limit reached for gpt-3.5-turbo in organization org-zq7Modopi4RhdMcJDgnrgDbv on requests per min (RPM): Limit 500, Used 500, Requested 1. Please try again in 120ms. Visit https://platform.openai.com/account/rate-limits to learn more.', 'type': 'requests', 'param': None, 'code': 'rate_limit_exceeded'}})\n",
            "INFO:backoff:Backing off classify_hostility(...) for 0.4s (openai.RateLimitError: Error code: 429 - {'error': {'message': 'Rate limit reached for gpt-3.5-turbo in organization org-zq7Modopi4RhdMcJDgnrgDbv on tokens per min (TPM): Limit 200000, Used 199732, Requested 372. Please try again in 31ms. Visit https://platform.openai.com/account/rate-limits to learn more.', 'type': 'tokens', 'param': None, 'code': 'rate_limit_exceeded'}})\n",
            "INFO:backoff:Backing off classify_hostility(...) for 1.6s (openai.RateLimitError: Error code: 429 - {'error': {'message': 'Rate limit reached for gpt-3.5-turbo in organization org-zq7Modopi4RhdMcJDgnrgDbv on requests per min (RPM): Limit 500, Used 500, Requested 1. Please try again in 120ms. Visit https://platform.openai.com/account/rate-limits to learn more.', 'type': 'requests', 'param': None, 'code': 'rate_limit_exceeded'}})\n",
            "INFO:backoff:Backing off classify_hostility(...) for 1.4s (openai.RateLimitError: Error code: 429 - {'error': {'message': 'Rate limit reached for gpt-3.5-turbo in organization org-zq7Modopi4RhdMcJDgnrgDbv on tokens per min (TPM): Limit 200000, Used 199823, Requested 427. Please try again in 75ms. Visit https://platform.openai.com/account/rate-limits to learn more.', 'type': 'tokens', 'param': None, 'code': 'rate_limit_exceeded'}})\n",
            "INFO:backoff:Backing off classify_hostility(...) for 0.8s (openai.RateLimitError: Error code: 429 - {'error': {'message': 'Rate limit reached for gpt-3.5-turbo in organization org-zq7Modopi4RhdMcJDgnrgDbv on requests per min (RPM): Limit 500, Used 500, Requested 1. Please try again in 120ms. Visit https://platform.openai.com/account/rate-limits to learn more.', 'type': 'requests', 'param': None, 'code': 'rate_limit_exceeded'}})\n",
            "INFO:backoff:Backing off classify_hostility(...) for 2.7s (openai.RateLimitError: Error code: 429 - {'error': {'message': 'Rate limit reached for gpt-3.5-turbo in organization org-zq7Modopi4RhdMcJDgnrgDbv on tokens per min (TPM): Limit 200000, Used 199636, Requested 399. Please try again in 10ms. Visit https://platform.openai.com/account/rate-limits to learn more.', 'type': 'tokens', 'param': None, 'code': 'rate_limit_exceeded'}})\n",
            "INFO:backoff:Backing off classify_hostility(...) for 0.8s (openai.RateLimitError: Error code: 429 - {'error': {'message': 'Rate limit reached for gpt-3.5-turbo in organization org-zq7Modopi4RhdMcJDgnrgDbv on tokens per min (TPM): Limit 200000, Used 199895, Requested 372. Please try again in 80ms. Visit https://platform.openai.com/account/rate-limits to learn more.', 'type': 'tokens', 'param': None, 'code': 'rate_limit_exceeded'}})\n",
            "INFO:backoff:Backing off classify_hostility(...) for 0.1s (openai.RateLimitError: Error code: 429 - {'error': {'message': 'Rate limit reached for gpt-3.5-turbo in organization org-zq7Modopi4RhdMcJDgnrgDbv on requests per min (RPM): Limit 500, Used 500, Requested 1. Please try again in 120ms. Visit https://platform.openai.com/account/rate-limits to learn more.', 'type': 'requests', 'param': None, 'code': 'rate_limit_exceeded'}})\n",
            "INFO:backoff:Backing off classify_hostility(...) for 1.1s (openai.RateLimitError: Error code: 429 - {'error': {'message': 'Rate limit reached for gpt-3.5-turbo in organization org-zq7Modopi4RhdMcJDgnrgDbv on tokens per min (TPM): Limit 200000, Used 199665, Requested 365. Please try again in 9ms. Visit https://platform.openai.com/account/rate-limits to learn more.', 'type': 'tokens', 'param': None, 'code': 'rate_limit_exceeded'}})\n",
            "INFO:backoff:Backing off classify_hostility(...) for 2.3s (openai.RateLimitError: Error code: 429 - {'error': {'message': 'Rate limit reached for gpt-3.5-turbo in organization org-zq7Modopi4RhdMcJDgnrgDbv on tokens per min (TPM): Limit 200000, Used 199748, Requested 321. Please try again in 20ms. Visit https://platform.openai.com/account/rate-limits to learn more.', 'type': 'tokens', 'param': None, 'code': 'rate_limit_exceeded'}})\n",
            "INFO:backoff:Backing off classify_hostility(...) for 0.7s (openai.RateLimitError: Error code: 429 - {'error': {'message': 'Rate limit reached for gpt-3.5-turbo in organization org-zq7Modopi4RhdMcJDgnrgDbv on requests per min (RPM): Limit 500, Used 500, Requested 1. Please try again in 120ms. Visit https://platform.openai.com/account/rate-limits to learn more.', 'type': 'requests', 'param': None, 'code': 'rate_limit_exceeded'}})\n",
            "INFO:backoff:Backing off classify_hostility(...) for 2.3s (openai.RateLimitError: Error code: 429 - {'error': {'message': 'Rate limit reached for gpt-3.5-turbo in organization org-zq7Modopi4RhdMcJDgnrgDbv on tokens per min (TPM): Limit 200000, Used 199617, Requested 427. Please try again in 13ms. Visit https://platform.openai.com/account/rate-limits to learn more.', 'type': 'tokens', 'param': None, 'code': 'rate_limit_exceeded'}})\n"
          ]
        },
        {
          "output_type": "stream",
          "name": "stdout",
          "text": [
            "\n",
            "Batch 98/100 complete. Speed: 8.50 statements/sec. Est. remaining time: 0.2 minutes.\n",
            "\n",
            "Batch 99/100 complete. Speed: 8.52 statements/sec. Est. remaining time: 0.1 minutes.\n",
            "\n",
            "Batch 100/100 complete. Speed: 8.49 statements/sec. Est. remaining time: 0.0 minutes.\n",
            "\n",
            "Hostility label distribution for newly labeled statements:\n",
            "hostility_label_revised\n",
            "0    3897\n",
            "1    1036\n",
            "2      60\n",
            "Name: count, dtype: int64\n",
            "\n",
            "Total statements in dataset: 45009\n",
            "Total labeled statements (across all methods): 9005\n",
            "Percentage of dataset now labeled: 20.01%\n",
            "\n",
            "Statements labeled by original algorithm: 4002\n",
            "Statements manually labeled by you: 10\n",
            "Statements newly labeled in this run: 4993\n"
          ]
        },
        {
          "output_type": "error",
          "ename": "NameError",
          "evalue": "name 'total_compared' is not defined",
          "traceback": [
            "\u001b[0;31m---------------------------------------------------------------------------\u001b[0m",
            "\u001b[0;31mNameError\u001b[0m                                 Traceback (most recent call last)",
            "\u001b[0;32m<ipython-input-3-32855a477702>\u001b[0m in \u001b[0;36m<cell line: 0>\u001b[0;34m()\u001b[0m\n\u001b[1;32m    253\u001b[0m \u001b[0;34m\u001b[0m\u001b[0m\n\u001b[1;32m    254\u001b[0m \u001b[0;32mif\u001b[0m \u001b[0m__name__\u001b[0m \u001b[0;34m==\u001b[0m \u001b[0;34m\"__main__\"\u001b[0m\u001b[0;34m:\u001b[0m\u001b[0;34m\u001b[0m\u001b[0;34m\u001b[0m\u001b[0m\n\u001b[0;32m--> 255\u001b[0;31m     \u001b[0mmain\u001b[0m\u001b[0;34m(\u001b[0m\u001b[0;34m)\u001b[0m\u001b[0;34m\u001b[0m\u001b[0;34m\u001b[0m\u001b[0m\n\u001b[0m",
            "\u001b[0;32m<ipython-input-3-32855a477702>\u001b[0m in \u001b[0;36mmain\u001b[0;34m()\u001b[0m\n\u001b[1;32m    233\u001b[0m \u001b[0;34m\u001b[0m\u001b[0m\n\u001b[1;32m    234\u001b[0m     \u001b[0;31m# Display confusion matrix\u001b[0m\u001b[0;34m\u001b[0m\u001b[0;34m\u001b[0m\u001b[0m\n\u001b[0;32m--> 235\u001b[0;31m     \u001b[0;32mif\u001b[0m \u001b[0mtotal_compared\u001b[0m \u001b[0;34m>\u001b[0m \u001b[0;36m0\u001b[0m\u001b[0;34m:\u001b[0m\u001b[0;34m\u001b[0m\u001b[0;34m\u001b[0m\u001b[0m\n\u001b[0m\u001b[1;32m    236\u001b[0m         \u001b[0mprint\u001b[0m\u001b[0;34m(\u001b[0m\u001b[0;34m\"\\nConfusion matrix (original vs revised):\"\u001b[0m\u001b[0;34m)\u001b[0m\u001b[0;34m\u001b[0m\u001b[0;34m\u001b[0m\u001b[0m\n\u001b[1;32m    237\u001b[0m         confusion = pd.crosstab(\n",
            "\u001b[0;31mNameError\u001b[0m: name 'total_compared' is not defined"
          ]
        }
      ],
      "source": [
        "import pandas as pd\n",
        "import time\n",
        "import re\n",
        "import random\n",
        "import os\n",
        "from tqdm.auto import tqdm\n",
        "import openai\n",
        "import backoff\n",
        "import concurrent.futures\n",
        "from getpass import getpass\n",
        "\n",
        "# Configure batch processing\n",
        "MAX_WORKERS = 10  # Number of parallel requests - adjust based on your API limits\n",
        "BATCH_SIZE = 50   # Process results in batches for saving\n",
        "SAMPLE_SIZE = 5000  # Updated to process 5,000 statements\n",
        "\n",
        "# Configure file paths\n",
        "INPUT_FILE = \"vp_primary_debates_with_hostility.csv\"  # Updated input file with existing labels\n",
        "OUTPUT_FILE = \"vp_primary_debates_with_hostility_updated.csv\"  # New output file\n",
        "CHECKPOINT_FILE = \"hostility_annotation_progress_updated.csv\"  # Updated checkpoint file\n",
        "\n",
        "# Function with exponential backoff for handling rate limits\n",
        "@backoff.on_exception(backoff.expo,\n",
        "                     Exception,  # Catch all exceptions\n",
        "                     max_tries=3,\n",
        "                     factor=2)\n",
        "def classify_hostility(statement, demonstrations, client):\n",
        "    \"\"\"Classify hostility with retry logic for rate limits, using demonstrations\"\"\"\n",
        "\n",
        "    # Create a prompt that includes your manual examples as demonstrations\n",
        "    demo_text = \"\"\n",
        "    for demo in demonstrations:\n",
        "        demo_text += f\"Statement: \\\"{demo['statement']}\\\"\\n\"\n",
        "        demo_text += f\"Hostility label: {demo['label']}\\n\\n\"\n",
        "\n",
        "    prompt = (\n",
        "        \"You are a political analyst. Label the following political debate statement for hostility.\\\\n\\\\n\"\n",
        "        \"Label definitions:\\\\n\"\n",
        "        \"2 = Very hostile (clearly attacking, highly negative, aggressive)\\\\n\"\n",
        "        \"1 = Somewhat or maybe hostile (mildly negative, critically questioning, passive-aggressive)\\\\n\"\n",
        "        \"0 = Not hostile at all (neutral, informative, collaborative)\\\\n\\\\n\"\n",
        "        \"Here are some examples of labeled statements:\\\\n\\\\n\"\n",
        "        f\"{demo_text}\"\n",
        "        f\"Statement: \\\"{statement}\\\"\\\\n\"\n",
        "        \"Hostility label (just a number):\"\n",
        "    )\n",
        "\n",
        "    response = client.chat.completions.create(\n",
        "        model=\"gpt-3.5-turbo\",  # Faster than GPT-4\n",
        "        messages=[{\"role\": \"user\", \"content\": prompt}],\n",
        "        temperature=0,\n",
        "        max_tokens=10  # We only need a short response\n",
        "    )\n",
        "\n",
        "    # Extract the first digit 0, 1, or 2 from the response\n",
        "    output = response.choices[0].message.content.strip()\n",
        "    match = re.search(r\"\\b[012]\\b\", output)\n",
        "    if match:\n",
        "        return int(match.group(0))\n",
        "    else:\n",
        "        print(f\"Could not parse label from response: {output}\")\n",
        "        return None\n",
        "\n",
        "def process_statements(statements, indices, demonstrations, client):\n",
        "    \"\"\"Process a batch of statements and return results\"\"\"\n",
        "    results = []\n",
        "    for idx, statement in zip(indices, statements):\n",
        "        try:\n",
        "            label = classify_hostility(statement, demonstrations, client)\n",
        "            results.append((idx, label))\n",
        "            # Small delay to avoid clustering requests too closely\n",
        "            time.sleep(0.1)\n",
        "        except Exception as e:\n",
        "            print(f\"Error on statement {idx}: {str(e)}\")\n",
        "            results.append((idx, None))\n",
        "    return results\n",
        "\n",
        "def main():\n",
        "    # Get API key\n",
        "    api_key = getpass(\"Enter your OpenAI API key: \")\n",
        "    client = openai.OpenAI(api_key=api_key)\n",
        "\n",
        "    # Load the dataset\n",
        "    print(f\"Loading dataset from {INPUT_FILE}...\")\n",
        "    try:\n",
        "        df = pd.read_csv(INPUT_FILE)\n",
        "        print(f\"Loaded {len(df)} statements.\")\n",
        "    except FileNotFoundError:\n",
        "        print(f\"Error: {INPUT_FILE} not found.\")\n",
        "        return\n",
        "    except Exception as e:\n",
        "        print(f\"Error loading CSV: {str(e)}\")\n",
        "        return\n",
        "\n",
        "    # Extract your manual demonstrations\n",
        "    print(\"Extracting manual demonstrations...\")\n",
        "    manual_demos = []\n",
        "    for idx, row in df[df['My Hostile Rating'].notna()].iterrows():\n",
        "        manual_demos.append({\n",
        "            'statement': row['statement'],\n",
        "            'label': int(row['My Hostile Rating'])\n",
        "        })\n",
        "\n",
        "    print(f\"Found {len(manual_demos)} manual demonstrations\")\n",
        "\n",
        "    if not manual_demos:\n",
        "        print(\"No manual demonstrations found. Please add some manual ratings in the 'My Hostile Rating' column.\")\n",
        "        return\n",
        "\n",
        "    # Display the demonstrations for verification\n",
        "    print(\"\\nDemonstrations that will be used:\")\n",
        "    for i, demo in enumerate(manual_demos):\n",
        "        print(f\"{i+1}. Statement: '{demo['statement'][:50]}...' Label: {demo['label']}\")\n",
        "\n",
        "    # Test API connection\n",
        "    print(\"\\nTesting API connection...\")\n",
        "    try:\n",
        "        test_result = classify_hostility(\"This is a test statement.\", manual_demos, client)\n",
        "        print(f\"API test successful. Result: {test_result}\")\n",
        "    except Exception as e:\n",
        "        print(f\"API test failed: {str(e)}\")\n",
        "        print(\"Please check your API key and try again.\")\n",
        "        return\n",
        "\n",
        "    # Try to load previous progress if available\n",
        "    try:\n",
        "        df_annotated = pd.read_csv(CHECKPOINT_FILE)\n",
        "        print(f\"Loaded previous progress with {df_annotated['hostility_label_revised'].notna().sum()} labeled statements\")\n",
        "    except FileNotFoundError:\n",
        "        print(\"Starting fresh annotation\")\n",
        "        df_annotated = df.copy()\n",
        "        if 'hostility_label_revised' not in df_annotated.columns:\n",
        "            df_annotated['hostility_label_revised'] = None\n",
        "\n",
        "    # Create a list of indices that still need processing\n",
        "    # Filter out statements that already have original hostility_label or your manual rating\n",
        "    unlabeled_mask = (\n",
        "        (df_annotated['hostility_label'].isna()) &  # No previous algorithm label\n",
        "        (df_annotated['My Hostile Rating'].isna()) &  # No manual label by you\n",
        "        (df_annotated['hostility_label_revised'].isna())  # No revised label yet\n",
        "    )\n",
        "    remaining_indices = df_annotated[unlabeled_mask].index.tolist()\n",
        "\n",
        "    # Sample statements if requested\n",
        "    total_remaining = len(remaining_indices)\n",
        "    SAMPLE_SIZE = 5000  # Updated to process 5,000 statements\n",
        "\n",
        "    if total_remaining > SAMPLE_SIZE:\n",
        "        print(f\"Randomly sampling {SAMPLE_SIZE} statements from {total_remaining} completely unlabeled statements\")\n",
        "        selected_indices = random.sample(remaining_indices, SAMPLE_SIZE)\n",
        "    else:\n",
        "        print(f\"Processing all {total_remaining} remaining unlabeled statements\")\n",
        "        selected_indices = remaining_indices\n",
        "\n",
        "    # Create batches for processing\n",
        "    batches = [selected_indices[i:i + BATCH_SIZE] for i in range(0, len(selected_indices), BATCH_SIZE)]\n",
        "    print(f\"Created {len(batches)} batches of up to {BATCH_SIZE} statements each\")\n",
        "\n",
        "    # Process all batches with progress bar\n",
        "    start_time = time.time()\n",
        "    processed_count = 0\n",
        "\n",
        "    with tqdm(total=len(selected_indices), desc=\"Labeling statements\") as pbar:\n",
        "        for batch_idx, batch_indices in enumerate(batches):\n",
        "            batch_statements = [df.loc[idx, 'statement'] for idx in batch_indices]\n",
        "\n",
        "            # Process this batch using parallel workers\n",
        "            with concurrent.futures.ThreadPoolExecutor(max_workers=MAX_WORKERS) as executor:\n",
        "                # Split the batch into smaller chunks for parallel processing\n",
        "                chunk_size = max(1, len(batch_indices) // MAX_WORKERS)\n",
        "                chunks_indices = [batch_indices[i:i + chunk_size] for i in range(0, len(batch_indices), chunk_size)]\n",
        "                chunks_statements = [batch_statements[i:i + chunk_size] for i in range(0, len(batch_statements), chunk_size)]\n",
        "\n",
        "                # Submit all chunks for parallel processing\n",
        "                futures = [\n",
        "                    executor.submit(process_statements, chunk_statements, chunk_indices, manual_demos, client)\n",
        "                    for chunk_indices, chunk_statements in zip(chunks_indices, chunks_statements)\n",
        "                ]\n",
        "\n",
        "                # Collect results as they complete\n",
        "                batch_results = []\n",
        "                for future in concurrent.futures.as_completed(futures):\n",
        "                    batch_results.extend(future.result())\n",
        "\n",
        "            # Update dataframe with results\n",
        "            for idx, label in batch_results:\n",
        "                if label is not None:\n",
        "                    df_annotated.loc[idx, 'hostility_label_revised'] = label\n",
        "                    processed_count += 1\n",
        "\n",
        "            # Save progress after each batch\n",
        "            df_annotated.to_csv(CHECKPOINT_FILE, index=False)\n",
        "\n",
        "            # Update progress bar\n",
        "            pbar.update(len(batch_indices))\n",
        "\n",
        "            # Calculate and display time statistics\n",
        "            elapsed_time = time.time() - start_time\n",
        "            statements_per_second = processed_count / elapsed_time if elapsed_time > 0 else 0\n",
        "            remaining_batches = len(batches) - (batch_idx + 1)\n",
        "            estimated_remaining_time = remaining_batches * (elapsed_time / (batch_idx + 1)) if batch_idx > 0 else 0\n",
        "\n",
        "            print(f\"\\nBatch {batch_idx+1}/{len(batches)} complete. \"\n",
        "                  f\"Speed: {statements_per_second:.2f} statements/sec. \"\n",
        "                  f\"Est. remaining time: {estimated_remaining_time/60:.1f} minutes.\")\n",
        "\n",
        "    # Final save\n",
        "    df_annotated.to_csv(OUTPUT_FILE, index=False)\n",
        "\n",
        "    # Show summary statistics\n",
        "    print(\"\\nHostility label distribution for newly labeled statements:\")\n",
        "    hostility_new = df_annotated['hostility_label_revised'].value_counts().sort_index()\n",
        "    print(hostility_new)\n",
        "\n",
        "    # Calculate total labeled statements across all methods\n",
        "    total_labeled = (\n",
        "        df_annotated['hostility_label'].notna() |\n",
        "        df_annotated['My Hostile Rating'].notna() |\n",
        "        df_annotated['hostility_label_revised'].notna()\n",
        "    ).sum()\n",
        "\n",
        "    total_statements = len(df_annotated)\n",
        "    labeled_percent = (total_labeled / total_statements) * 100\n",
        "\n",
        "    print(f\"\\nTotal statements in dataset: {total_statements}\")\n",
        "    print(f\"Total labeled statements (across all methods): {total_labeled}\")\n",
        "    print(f\"Percentage of dataset now labeled: {labeled_percent:.2f}%\")\n",
        "\n",
        "    # Show counts for each labeling method\n",
        "    print(f\"\\nStatements labeled by original algorithm: {df_annotated['hostility_label'].notna().sum()}\")\n",
        "    print(f\"Statements manually labeled by you: {df_annotated['My Hostile Rating'].notna().sum()}\")\n",
        "    print(f\"Statements newly labeled in this run: {df_annotated['hostility_label_revised'].notna().sum()}\")\n",
        "\n",
        "    # Display confusion matrix\n",
        "    if total_compared > 0:\n",
        "        print(\"\\nConfusion matrix (original vs revised):\")\n",
        "        confusion = pd.crosstab(\n",
        "            df_annotated['hostility_label'],\n",
        "            df_annotated['hostility_label_revised'],\n",
        "            rownames=['Original'],\n",
        "            colnames=['Revised'],\n",
        "            margins=True\n",
        "        )\n",
        "        print(confusion)\n",
        "\n",
        "    labeled_percent = df_annotated['hostility_label_revised'].notna().mean() * 100\n",
        "    print(f\"\\nPercentage labeled with revised approach: {labeled_percent:.2f}%\")\n",
        "\n",
        "    total_time = time.time() - start_time\n",
        "    print(f\"\\nTotal processing time: {total_time/60:.2f} minutes\")\n",
        "    print(f\"Average speed: {processed_count/total_time:.2f} statements per second\")\n",
        "    print(f\"Final output saved to: {OUTPUT_FILE}\")\n",
        "\n",
        "if __name__ == \"__main__\":\n",
        "    main()"
      ]
    },
    {
      "cell_type": "code",
      "source": [
        "pip install backoff"
      ],
      "metadata": {
        "colab": {
          "base_uri": "https://localhost:8080/"
        },
        "id": "hMlrhpyE4k-V",
        "outputId": "5dc6d498-05ce-4aae-f14e-55d7e0a18b97"
      },
      "execution_count": 2,
      "outputs": [
        {
          "output_type": "stream",
          "name": "stdout",
          "text": [
            "Collecting backoff\n",
            "  Downloading backoff-2.2.1-py3-none-any.whl.metadata (14 kB)\n",
            "Downloading backoff-2.2.1-py3-none-any.whl (15 kB)\n",
            "Installing collected packages: backoff\n",
            "Successfully installed backoff-2.2.1\n"
          ]
        }
      ]
    }
  ]
}