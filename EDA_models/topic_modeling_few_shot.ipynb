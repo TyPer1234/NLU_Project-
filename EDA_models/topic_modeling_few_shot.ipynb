{
 "cells": [
  {
   "cell_type": "code",
   "execution_count": 1,
   "id": "5d7ad487",
   "metadata": {},
   "outputs": [
    {
     "name": "stderr",
     "output_type": "stream",
     "text": [
      "/Users/alex/.pyenv/versions/3.10.7/lib/python3.10/site-packages/tqdm/auto.py:21: TqdmWarning: IProgress not found. Please update jupyter and ipywidgets. See https://ipywidgets.readthedocs.io/en/stable/user_install.html\n",
      "  from .autonotebook import tqdm as notebook_tqdm\n"
     ]
    }
   ],
   "source": [
    "import pandas as pd\n",
    "from transformers import AutoModelForSequenceClassification, AutoTokenizer\n",
    "import torch"
   ]
  },
  {
   "cell_type": "markdown",
   "id": "e72e0e4d",
   "metadata": {},
   "source": [
    "### Lets create 300 examples at random based on pv debates"
   ]
  },
  {
   "cell_type": "code",
   "execution_count": 4,
   "id": "9a733387",
   "metadata": {},
   "outputs": [
    {
     "data": {
      "text/html": [
       "<div>\n",
       "<style scoped>\n",
       "    .dataframe tbody tr th:only-of-type {\n",
       "        vertical-align: middle;\n",
       "    }\n",
       "\n",
       "    .dataframe tbody tr th {\n",
       "        vertical-align: top;\n",
       "    }\n",
       "\n",
       "    .dataframe thead th {\n",
       "        text-align: right;\n",
       "    }\n",
       "</style>\n",
       "<table border=\"1\" class=\"dataframe\">\n",
       "  <thead>\n",
       "    <tr style=\"text-align: right;\">\n",
       "      <th></th>\n",
       "      <th>statement</th>\n",
       "    </tr>\n",
       "  </thead>\n",
       "  <tbody>\n",
       "    <tr>\n",
       "      <th>0</th>\n",
       "      <td>Thank you, Mr. Vice President.</td>\n",
       "    </tr>\n",
       "    <tr>\n",
       "      <th>1</th>\n",
       "      <td>He got paid $1.6 million to do that. He said h...</td>\n",
       "    </tr>\n",
       "    <tr>\n",
       "      <th>2</th>\n",
       "      <td>So this was simply a question of endorsement p...</td>\n",
       "    </tr>\n",
       "    <tr>\n",
       "      <th>3</th>\n",
       "      <td>And so I did everything I could, including bri...</td>\n",
       "    </tr>\n",
       "    <tr>\n",
       "      <th>4</th>\n",
       "      <td>But on Iran -- on Iran -- on Iran what she sai...</td>\n",
       "    </tr>\n",
       "  </tbody>\n",
       "</table>\n",
       "</div>"
      ],
      "text/plain": [
       "                                           statement\n",
       "0                     Thank you, Mr. Vice President.\n",
       "1  He got paid $1.6 million to do that. He said h...\n",
       "2  So this was simply a question of endorsement p...\n",
       "3  And so I did everything I could, including bri...\n",
       "4  But on Iran -- on Iran -- on Iran what she sai..."
      ]
     },
     "execution_count": 4,
     "metadata": {},
     "output_type": "execute_result"
    }
   ],
   "source": [
    "df = pd.read_csv('sampled_statements.csv')\n",
    "\n",
    "df.head()"
   ]
  },
  {
   "cell_type": "code",
   "execution_count": 5,
   "id": "5068f199",
   "metadata": {},
   "outputs": [
    {
     "data": {
      "text/plain": [
       "DebertaV2ForSequenceClassification(\n",
       "  (deberta): DebertaV2Model(\n",
       "    (embeddings): DebertaV2Embeddings(\n",
       "      (word_embeddings): Embedding(128100, 1024, padding_idx=0)\n",
       "      (LayerNorm): LayerNorm((1024,), eps=1e-07, elementwise_affine=True)\n",
       "      (dropout): Dropout(p=0.1, inplace=False)\n",
       "    )\n",
       "    (encoder): DebertaV2Encoder(\n",
       "      (layer): ModuleList(\n",
       "        (0-23): 24 x DebertaV2Layer(\n",
       "          (attention): DebertaV2Attention(\n",
       "            (self): DisentangledSelfAttention(\n",
       "              (query_proj): Linear(in_features=1024, out_features=1024, bias=True)\n",
       "              (key_proj): Linear(in_features=1024, out_features=1024, bias=True)\n",
       "              (value_proj): Linear(in_features=1024, out_features=1024, bias=True)\n",
       "              (pos_dropout): Dropout(p=0.1, inplace=False)\n",
       "              (dropout): Dropout(p=0.1, inplace=False)\n",
       "            )\n",
       "            (output): DebertaV2SelfOutput(\n",
       "              (dense): Linear(in_features=1024, out_features=1024, bias=True)\n",
       "              (LayerNorm): LayerNorm((1024,), eps=1e-07, elementwise_affine=True)\n",
       "              (dropout): Dropout(p=0.1, inplace=False)\n",
       "            )\n",
       "          )\n",
       "          (intermediate): DebertaV2Intermediate(\n",
       "            (dense): Linear(in_features=1024, out_features=4096, bias=True)\n",
       "            (intermediate_act_fn): GELUActivation()\n",
       "          )\n",
       "          (output): DebertaV2Output(\n",
       "            (dense): Linear(in_features=4096, out_features=1024, bias=True)\n",
       "            (LayerNorm): LayerNorm((1024,), eps=1e-07, elementwise_affine=True)\n",
       "            (dropout): Dropout(p=0.1, inplace=False)\n",
       "          )\n",
       "        )\n",
       "      )\n",
       "      (rel_embeddings): Embedding(512, 1024)\n",
       "      (LayerNorm): LayerNorm((1024,), eps=1e-07, elementwise_affine=True)\n",
       "    )\n",
       "  )\n",
       "  (pooler): ContextPooler(\n",
       "    (dense): Linear(in_features=1024, out_features=1024, bias=True)\n",
       "    (dropout): Dropout(p=0, inplace=False)\n",
       "  )\n",
       "  (classifier): Linear(in_features=1024, out_features=2, bias=True)\n",
       "  (dropout): Dropout(p=0.1, inplace=False)\n",
       ")"
      ]
     },
     "execution_count": 5,
     "metadata": {},
     "output_type": "execute_result"
    }
   ],
   "source": [
    "tokenizer = AutoTokenizer.from_pretrained(\"mlburnham/Political_DEBATE_large_v1.0\")\n",
    "model = AutoModelForSequenceClassification.from_pretrained(\"mlburnham/Political_DEBATE_large_v1.0\")\n",
    "model.eval()"
   ]
  },
  {
   "cell_type": "code",
   "execution_count": 10,
   "id": "6f0ac71c",
   "metadata": {},
   "outputs": [],
   "source": [
    "labels = [\n",
    "    \"Foreign Policy and National Security\",\n",
    "    \"Economy (jobs, growth, trade)\",\n",
    "    \"Healthcare (health insurance, hospitals, medical care)\",\n",
    "    \"Civil Rights and Social Issues (equality, voting rights, race, gender)\",\n",
    "    \"Education (schools, universities, student loans)\",\n",
    "    \"Environment and Energy (climate change, renewable energy, pollution)\",\n",
    "    \"Supreme Court and Judicial Appointments\",\n",
    "    \"Gun Control (firearm laws, background checks)\",\n",
    "    \"National Infrastructure (roads, bridges, transportation)\",\n",
    "    \"Social Welfare Programs (social security, unemployment benefits)\",\n",
    "    \"Other (e.g., greetings, procedural statements, moderator acknowledgments, transitions)\"\n",
    "]"
   ]
  },
  {
   "cell_type": "code",
   "execution_count": 11,
   "id": "86fbe009",
   "metadata": {},
   "outputs": [],
   "source": [
    "def classify_single_statement(statement, labels, model, tokenizer, top_k=2):\n",
    "    hypotheses = [f\"This statement is about {label}.\" for label in labels]\n",
    "    \n",
    "    inputs = tokenizer(\n",
    "        [statement] * len(hypotheses), \n",
    "        hypotheses, \n",
    "        return_tensors='pt', \n",
    "        truncation=True, \n",
    "        padding=True\n",
    "    )\n",
    "\n",
    "    with torch.no_grad():\n",
    "        outputs = model(**inputs)\n",
    "    \n",
    "    # Assume entailment is class 0\n",
    "    entailment_scores = outputs.logits[:, 0]\n",
    "    top_indices = entailment_scores.topk(top_k).indices.tolist()\n",
    "    \n",
    "    return [labels[i] for i in top_indices]"
   ]
  },
  {
   "cell_type": "code",
   "execution_count": 12,
   "id": "cd3e1ff5",
   "metadata": {},
   "outputs": [
    {
     "name": "stdout",
     "output_type": "stream",
     "text": [
      "['Economy (jobs, growth, trade)', 'Civil Rights and Social Issues (equality, voting rights, race, gender)']\n"
     ]
    }
   ],
   "source": [
    "example = \"We need to bring back American jobs and support small businesses.\"\n",
    "predicted_topics = classify_single_statement(example, labels, model, tokenizer)\n",
    "print(predicted_topics)"
   ]
  },
  {
   "cell_type": "code",
   "execution_count": 13,
   "id": "c6bfae52",
   "metadata": {},
   "outputs": [
    {
     "name": "stdout",
     "output_type": "stream",
     "text": [
      "['Foreign Policy and National Security', 'Other (e.g., greetings, procedural statements, moderator acknowledgments, transitions)']\n"
     ]
    }
   ],
   "source": [
    "example = \"Thank you, Mr. Vice President.\"\n",
    "predicted_topics = classify_single_statement(example, labels, model, tokenizer)\n",
    "print(predicted_topics)"
   ]
  },
  {
   "cell_type": "code",
   "execution_count": null,
   "id": "0b91bc78",
   "metadata": {},
   "outputs": [],
   "source": []
  }
 ],
 "metadata": {
  "kernelspec": {
   "display_name": "3.10.7",
   "language": "python",
   "name": "python3"
  },
  "language_info": {
   "codemirror_mode": {
    "name": "ipython",
    "version": 3
   },
   "file_extension": ".py",
   "mimetype": "text/x-python",
   "name": "python",
   "nbconvert_exporter": "python",
   "pygments_lexer": "ipython3",
   "version": "3.10.7"
  }
 },
 "nbformat": 4,
 "nbformat_minor": 5
}
